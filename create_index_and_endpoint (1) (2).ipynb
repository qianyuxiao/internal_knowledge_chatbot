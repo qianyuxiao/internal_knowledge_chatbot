{
  "cells": [
    {
      "cell_type": "code",
      "source": [
        "#https://console.cloud.google.com/vertex-ai/matching-engine/indexes?project=ecg-ai-416210"
      ],
      "metadata": {
        "id": "JHbmY7yGjbjN"
      },
      "id": "JHbmY7yGjbjN",
      "execution_count": null,
      "outputs": []
    },
    {
      "cell_type": "code",
      "execution_count": 1,
      "id": "a4620bdc-30df-4041-8834-55652fb8857d",
      "metadata": {
        "tags": [],
        "id": "a4620bdc-30df-4041-8834-55652fb8857d",
        "executionInfo": {
          "status": "ok",
          "timestamp": 1713533736750,
          "user_tz": -120,
          "elapsed": 594,
          "user": {
            "displayName": "",
            "userId": ""
          }
        }
      },
      "outputs": [],
      "source": [
        "import os\n",
        "import urllib.request\n",
        "\n",
        "if not os.path.exists(\"utils\"):\n",
        "    os.makedirs(\"utils\")\n",
        "\n",
        "url_prefix = \"https://raw.githubusercontent.com/GoogleCloudPlatform/generative-ai/main/language/use-cases/document-qa/utils\"\n",
        "files = [\"__init__.py\", \"matching_engine.py\", \"matching_engine_utils.py\"]\n",
        "\n",
        "for fname in files:\n",
        "    urllib.request.urlretrieve(f\"{url_prefix}/{fname}\", filename=f\"utils/{fname}\")"
      ]
    },
    {
      "cell_type": "code",
      "execution_count": 2,
      "id": "fee98f2f-fe21-4932-9829-eb617c2ac06d",
      "metadata": {
        "tags": [],
        "id": "fee98f2f-fe21-4932-9829-eb617c2ac06d",
        "executionInfo": {
          "status": "ok",
          "timestamp": 1713533739111,
          "user_tz": -120,
          "elapsed": 2365,
          "user": {
            "displayName": "",
            "userId": ""
          }
        }
      },
      "outputs": [],
      "source": [
        "import uuid\n",
        "import numpy as np\n",
        "import json\n",
        "from utils.matching_engine_utils import MatchingEngineUtils"
      ]
    },
    {
      "cell_type": "code",
      "execution_count": 3,
      "id": "146f18c5-62ac-4363-9b08-4644c071f0d2",
      "metadata": {
        "tags": [],
        "id": "146f18c5-62ac-4363-9b08-4644c071f0d2",
        "executionInfo": {
          "status": "ok",
          "timestamp": 1713533739114,
          "user_tz": -120,
          "elapsed": 10,
          "user": {
            "displayName": "",
            "userId": ""
          }
        }
      },
      "outputs": [],
      "source": [
        "\n",
        "def create_index_and_endpoint(\n",
        "    CHATBOT_ID: str,\n",
        "    PROJECT_ID: str = \"ecg-ai-416210\",\n",
        "    REGION: str = \"europe-west1\" ,\n",
        "    ME_DIMENSIONS: int = 768\n",
        "    )->dict:\n",
        "\n",
        "    ME_INDEX_NAME = f\"{CHATBOT_ID}-me-index\"  # @param {type:\"string\"}\n",
        "    ME_EMBEDDING_DIR = f\"{CHATBOT_ID}/me-bucket\"  # @param {type:\"string\"}\n",
        "\n",
        "\n",
        "    # dummy embedding\n",
        "    init_embedding = {\"id\": str(uuid.uuid4()), \"embedding\": list(np.zeros(ME_DIMENSIONS))}\n",
        "\n",
        "    # dump embedding to a local file\n",
        "    with open(\"embeddings_0.json\", \"w\") as f:\n",
        "        json.dump(init_embedding, f)\n",
        "\n",
        "    # write embedding to Cloud Storage\n",
        "    ! set -x && gsutil cp embeddings_0.json gs://{ME_EMBEDDING_DIR}/init_index/embeddings_0.json\n",
        "\n",
        "    mengine = MatchingEngineUtils(PROJECT_ID, REGION, ME_INDEX_NAME)\n",
        "\n",
        "    # Create index\n",
        "    index = mengine.create_index(\n",
        "        embedding_gcs_uri=f\"gs://{ME_EMBEDDING_DIR}/init_index\",\n",
        "        dimensions=ME_DIMENSIONS,\n",
        "        index_update_method=\"streaming\",\n",
        "        index_algorithm=\"tree-ah\",\n",
        "    )\n",
        "    if index:\n",
        "        print(index.name)\n",
        "\n",
        "    # Deploy index to endpoint\n",
        "    index_endpoint = mengine.deploy_index()\n",
        "    if index_endpoint:\n",
        "        print(f\"Index endpoint resource name: {index_endpoint.name}\")\n",
        "        print(\n",
        "            f\"Index endpoint public domain name: {index_endpoint.public_endpoint_domain_name}\"\n",
        "        )\n",
        "        print(\"Deployed indexes on the index endpoint:\")\n",
        "        for d in index_endpoint.deployed_indexes:\n",
        "            print(f\" {d.id}\")\n",
        "\n",
        "    ME_INDEX_ID, ME_INDEX_ENDPOINT_ID = mengine.get_index_and_endpoint()\n",
        "\n",
        "    ME_INDEX_ID, ME_INDEX_ENDPOINT_ID\n",
        "\n",
        "    me_dict = {\n",
        "        \"PROJECT_ID\": PROJECT_ID,\n",
        "        \"LOCATION\": REGION,\n",
        "        \"CHATBOT_NAME\": CHATBOT_ID,\n",
        "        \"ME_INDEX_ID\": ME_INDEX_ID,\n",
        "        \"ME_INDEX_ENDPOINT_ID\": ME_INDEX_ENDPOINT_ID,\n",
        "        \"ME_INDEX_NAME\": ME_INDEX_NAME,\n",
        "        \"ME_EMBEDDING_DIR\": ME_EMBEDDING_DIR,\n",
        "        \"ME_DIMENSIONS\": 768\n",
        "    }\n",
        "\n",
        "    file_path = f\"{CHATBOT_ID}_me.json\"\n",
        "\n",
        "    # Open the file in write mode\n",
        "    with open(file_path, \"w\") as json_file:\n",
        "        # Dump the dictionary to the file\n",
        "        json.dump(me_dict, json_file)\n",
        "\n",
        "    print(f\"Index and Endpoint created, you can find its parameters under {file_path}\")\n",
        "\n",
        "    return me_dict"
      ]
    },
    {
      "cell_type": "code",
      "source": [
        "chatbot_id = \"ecg_dpo\""
      ],
      "metadata": {
        "id": "U4FXfKmHtTnI",
        "executionInfo": {
          "status": "ok",
          "timestamp": 1713536069532,
          "user_tz": -120,
          "elapsed": 90,
          "user": {
            "displayName": "",
            "userId": ""
          }
        }
      },
      "id": "U4FXfKmHtTnI",
      "execution_count": 9,
      "outputs": []
    },
    {
      "cell_type": "code",
      "execution_count": 4,
      "id": "b083fcc9-3905-4ccd-8649-36914e7fa351",
      "metadata": {
        "tags": [],
        "colab": {
          "base_uri": "https://localhost:8080/"
        },
        "id": "b083fcc9-3905-4ccd-8649-36914e7fa351",
        "executionInfo": {
          "status": "ok",
          "timestamp": 1713535431797,
          "user_tz": -120,
          "elapsed": 1692692,
          "user": {
            "displayName": "",
            "userId": ""
          }
        },
        "outputId": "3091b389-f9f4-4f9b-bad0-fbb8d9bfce08"
      },
      "outputs": [
        {
          "output_type": "stream",
          "name": "stdout",
          "text": [
            "+ gsutil cp embeddings_0.json gs://ecg_dpo/me-bucket/init_index/embeddings_0.json\n",
            "Copying file://embeddings_0.json [Content-Type=application/json]...\n",
            "/ [1 files][  3.8 KiB/  3.8 KiB]                                                \n",
            "Operation completed over 1 objects/3.8 KiB.                                      \n",
            "projects/500033913879/locations/europe-west1/indexes/2613759041549107200\n",
            "............................Index endpoint resource name: projects/500033913879/locations/europe-west1/indexEndpoints/9136475433888382976\n",
            "Index endpoint public domain name: \n",
            "Deployed indexes on the index endpoint:\n",
            "Index and Endpoint created, you can find its parameters under ecg_dpo_me.json\n"
          ]
        },
        {
          "output_type": "execute_result",
          "data": {
            "text/plain": [
              "{'PROJECT_ID': 'ecg-ai-416210',\n",
              " 'LOCATION': 'europe-west1',\n",
              " 'CHATBOT_NAME': 'ecg_dpo',\n",
              " 'ME_INDEX_ID': 'projects/500033913879/locations/europe-west1/indexes/2613759041549107200',\n",
              " 'ME_INDEX_ENDPOINT_ID': 'projects/500033913879/locations/europe-west1/indexEndpoints/9136475433888382976',\n",
              " 'ME_INDEX_NAME': 'ecg_dpo-me-index',\n",
              " 'ME_EMBEDDING_DIR': 'ecg_dpo/me-bucket',\n",
              " 'ME_DIMENSIONS': 768}"
            ]
          },
          "metadata": {},
          "execution_count": 4
        }
      ],
      "source": [
        "create_index_and_endpoint(chatbot_id)"
      ]
    },
    {
      "cell_type": "code",
      "source": [
        "print(f\"gsutil cp {chatbot_id}_me.json gs://{chatbot_id}/me_parameters/{chatbot_id}_me.json\")"
      ],
      "metadata": {
        "colab": {
          "base_uri": "https://localhost:8080/"
        },
        "id": "254llGLTtGxV",
        "executionInfo": {
          "status": "ok",
          "timestamp": 1713536072329,
          "user_tz": -120,
          "elapsed": 156,
          "user": {
            "displayName": "",
            "userId": ""
          }
        },
        "outputId": "c7b54cdf-0eb8-4951-bc2f-6063d6822ef4"
      },
      "id": "254llGLTtGxV",
      "execution_count": 10,
      "outputs": [
        {
          "output_type": "stream",
          "name": "stdout",
          "text": [
            "gsutil cp ecg_dpo_me.json gs://ecg_dpo/me_parameters/ecg_dpo_me.json\n"
          ]
        }
      ]
    },
    {
      "cell_type": "code",
      "source": [
        "!gsutil cp ecg_dpo_me.json gs://ecg_dpo/me_parameters/ecg_dpo_me.json"
      ],
      "metadata": {
        "colab": {
          "base_uri": "https://localhost:8080/"
        },
        "id": "NXI18YgSrUXb",
        "executionInfo": {
          "status": "ok",
          "timestamp": 1713536088028,
          "user_tz": -120,
          "elapsed": 2706,
          "user": {
            "displayName": "",
            "userId": ""
          }
        },
        "outputId": "2b6fed1f-f62d-4e86-8f17-acc48449ba77"
      },
      "id": "NXI18YgSrUXb",
      "execution_count": 11,
      "outputs": [
        {
          "output_type": "stream",
          "name": "stdout",
          "text": [
            "Copying file://ecg_dpo_me.json [Content-Type=application/json]...\n",
            "/ [0 files][    0.0 B/  384.0 B]                                                \r/ [1 files][  384.0 B/  384.0 B]                                                \r\n",
            "Operation completed over 1 objects/384.0 B.                                      \n"
          ]
        }
      ]
    },
    {
      "cell_type": "code",
      "source": [
        "print(f\"gsutil cp gs://{chatbot_id}/me_parameters/{chatbot_id}_me.json ../vector_store_me_parameters/\")"
      ],
      "metadata": {
        "id": "Ji9UuSHVtovx"
      },
      "id": "Ji9UuSHVtovx",
      "execution_count": null,
      "outputs": []
    }
  ],
  "metadata": {
    "environment": {
      "kernel": "conda-root-py",
      "name": "workbench-notebooks.m119",
      "type": "gcloud",
      "uri": "us-docker.pkg.dev/deeplearning-platform-release/gcr.io/workbench-notebooks:m119"
    },
    "kernelspec": {
      "display_name": "Python 3 (ipykernel) (Local) (Local)",
      "language": "python",
      "name": "conda-root-py"
    },
    "language_info": {
      "codemirror_mode": {
        "name": "ipython",
        "version": 3
      },
      "file_extension": ".py",
      "mimetype": "text/x-python",
      "name": "python",
      "nbconvert_exporter": "python",
      "pygments_lexer": "ipython3",
      "version": "3.10.14"
    },
    "colab": {
      "provenance": [],
      "name": "create_index_and_endpoint (1).ipynb"
    }
  },
  "nbformat": 4,
  "nbformat_minor": 5
}