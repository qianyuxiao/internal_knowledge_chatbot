{
 "cells": [
  {
   "cell_type": "code",
   "execution_count": 4,
   "metadata": {},
   "outputs": [],
   "source": [
    "from google.cloud import bigquery"
   ]
  },
  {
   "cell_type": "code",
   "execution_count": 5,
   "metadata": {},
   "outputs": [],
   "source": [
    "import datetime"
   ]
  },
  {
   "cell_type": "code",
   "execution_count": 6,
   "metadata": {},
   "outputs": [],
   "source": [
    "import json"
   ]
  },
  {
   "cell_type": "code",
   "execution_count": 7,
   "metadata": {},
   "outputs": [],
   "source": [
    "bigquery_client = bigquery.Client()"
   ]
  },
  {
   "cell_type": "code",
   "execution_count": 8,
   "metadata": {},
   "outputs": [],
   "source": [
    "output_table_name =\"ecg-big-data-sandbox.qianyu_test.chatbot_evaluation\""
   ]
  },
  {
   "cell_type": "code",
   "execution_count": 9,
   "metadata": {},
   "outputs": [],
   "source": [
    "timenow = datetime.datetime.now()"
   ]
  },
  {
   "cell_type": "code",
   "execution_count": 10,
   "metadata": {},
   "outputs": [],
   "source": [
    "schema = [\n",
    "    bigquery.SchemaField(\"uuid\", \"STRING\"),\n",
    "    bigquery.SchemaField(\"run_id\", \"INT64\"),\n",
    "    bigquery.SchemaField(\"app_type\", \"STRING\"),\n",
    "    bigquery.SchemaField(\"model_id\", \"STRING\"),\n",
    "    bigquery.SchemaField(\"feedback_time\", \"TIMESTAMP\"),\n",
    "    bigquery.SchemaField(\"response_time_s\", \"INT64\"),\n",
    "    bigquery.SchemaField(\"score\", \"FLOAT64\")\n",
    "]"
   ]
  },
  {
   "cell_type": "code",
   "execution_count": 18,
   "metadata": {},
   "outputs": [
    {
     "data": {
      "text/plain": [
       "'2024-05-24 13:36:59'"
      ]
     },
     "execution_count": 18,
     "metadata": {},
     "output_type": "execute_result"
    }
   ],
   "source": [
    "import datetime as dt\n",
    "dt.datetime.now().strftime(\"%Y-%m-%d %H:%M:%S\")"
   ]
  },
  {
   "cell_type": "code",
   "execution_count": 12,
   "metadata": {},
   "outputs": [],
   "source": [
    "feedback_dict = {\n",
    "    \"uuid\": \"123\",\n",
    "    \"run_id\":1,\n",
    "    \"app_type\":\"general\",\n",
    "    \"model_id\":\"llamma\",\n",
    "    \"feedback_time\":timenow.strftime(\"%Y-%m-%d %H:%M:%S\"),\n",
    "    \"response_time_s\":30,\n",
    "    \"score\":0.2\n",
    "}"
   ]
  },
  {
   "cell_type": "code",
   "execution_count": 16,
   "metadata": {},
   "outputs": [],
   "source": [
    "from io import StringIO"
   ]
  },
  {
   "cell_type": "code",
   "execution_count": 54,
   "metadata": {},
   "outputs": [
    {
     "name": "stdout",
     "output_type": "stream",
     "text": [
      "Appending {'uuid': '123', 'run_id': 1, 'app_type': 'general', 'model_id': 'llamma', 'feedback_time': '2024-05-24 12:40:02', 'response_time_s': 30, 'score': 0.2} to ecg-big-data-sandbox.qianyu_test.chatbot_evaluation\n"
     ]
    }
   ],
   "source": [
    "job_config = bigquery.LoadJobConfig()\n",
    "job_config.autodetect = False\n",
    "job_config.write_disposition = \"WRITE_APPEND\"\n",
    "job_config.source_format = bigquery.SourceFormat.NEWLINE_DELIMITED_JSON\n",
    "\n",
    "# ref_table = bigquery_client.get_table(output_table_name)\n",
    "job_config.schema = schema\n",
    "\n",
    "# set buffer\n",
    "buffer = StringIO()\n",
    "json.dump(feedback_dict, buffer)\n",
    "buffer.seek(0) \n",
    "\n",
    "# write to big query\n",
    "print(f\"Appending {feedback_dict} to {output_table_name}\")\n",
    "job = bigquery_client.load_table_from_file(buffer,output_table_name,job_config=job_config)"
   ]
  },
  {
   "cell_type": "code",
   "execution_count": 55,
   "metadata": {},
   "outputs": [
    {
     "data": {
      "text/plain": [
       "LoadJob<project=ecg-big-data-sandbox, location=EU, id=20b722a6-dd3f-466a-b8c7-bdd7c383b7fe>"
      ]
     },
     "execution_count": 55,
     "metadata": {},
     "output_type": "execute_result"
    }
   ],
   "source": [
    "job.result()"
   ]
  },
  {
   "cell_type": "code",
   "execution_count": 1,
   "metadata": {},
   "outputs": [],
   "source": [
    "import sys\n",
    "\n",
    "# Add the directory to sys.path\n",
    "sys.path.append('/home/qianyucazelles/internal_knowledge_chatbot/src/utils')"
   ]
  },
  {
   "cell_type": "code",
   "execution_count": 2,
   "metadata": {},
   "outputs": [],
   "source": [
    "from bq_utils import *"
   ]
  },
  {
   "cell_type": "code",
   "execution_count": 13,
   "metadata": {},
   "outputs": [
    {
     "name": "stdout",
     "output_type": "stream",
     "text": [
      "Appending {'uuid': '123', 'run_id': 1, 'app_type': 'general', 'model_id': 'llamma', 'feedback_time': '2024-05-24 13:24:06', 'response_time_s': 30, 'score': 0.2} to ecg-big-data-sandbox.qianyu_test.chatbot_evaluation\n"
     ]
    },
    {
     "data": {
      "text/plain": [
       "LoadJob<project=ecg-big-data-sandbox, location=EU, id=085292e4-3f50-4691-8739-f99278dfb02a>"
      ]
     },
     "execution_count": 13,
     "metadata": {},
     "output_type": "execute_result"
    }
   ],
   "source": [
    "load_json_to_bq(feedback_dict, schema,output_table_name)"
   ]
  }
 ],
 "metadata": {
  "kernelspec": {
   "display_name": "venv",
   "language": "python",
   "name": "python3"
  },
  "language_info": {
   "codemirror_mode": {
    "name": "ipython",
    "version": 3
   },
   "file_extension": ".py",
   "mimetype": "text/x-python",
   "name": "python",
   "nbconvert_exporter": "python",
   "pygments_lexer": "ipython3",
   "version": "3.10.13"
  }
 },
 "nbformat": 4,
 "nbformat_minor": 2
}
