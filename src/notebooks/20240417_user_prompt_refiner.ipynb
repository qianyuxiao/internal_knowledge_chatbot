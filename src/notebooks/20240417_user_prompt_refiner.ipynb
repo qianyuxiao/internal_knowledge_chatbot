{
 "cells": [
  {
   "cell_type": "code",
   "execution_count": 1,
   "metadata": {},
   "outputs": [],
   "source": [
    "from vertexai.language_models import TextGenerationModel\n",
    "from vertexai.language_models import TextEmbeddingModel"
   ]
  },
  {
   "cell_type": "code",
   "execution_count": 5,
   "metadata": {},
   "outputs": [],
   "source": [
    "def query_refiner(conversation, query,text_model = \"text-bison@002\"):\n",
    "    model = TextGenerationModel.from_pretrained(text_model)\n",
    "    response = model.predict(\n",
    "    prompt=f\"Given the following user query and conversation log, formulate a question that would be the most relevant to provide the user with an answer from a knowledge base specifying the subject if it's mentioned.\\n\\nCONVERSATION LOG: \\n{conversation}\\n\\nQuery: {query}\\n\\nRefined Query:\",\n",
    "    temperature=0,\n",
    "    max_output_tokens=256,\n",
    "    top_p=0.7,\n",
    "    top_k=20\n",
    "    )\n",
    "    return response.text"
   ]
  },
  {
   "cell_type": "code",
   "execution_count": 3,
   "metadata": {},
   "outputs": [],
   "source": [
    "conversation_string = \"\"\n",
    "query = \"can i bring my dog?\"\n",
    "response = \"Yes.\"\n",
    "conversation_string += \"Human: \"+query+ \"\\n\"\n",
    "conversation_string += \"Bot: \"+ response + \"\\n\"\n"
   ]
  },
  {
   "cell_type": "code",
   "execution_count": 6,
   "metadata": {},
   "outputs": [
    {
     "data": {
      "text/plain": [
       "' Are all kinds of dogs allowed?'"
      ]
     },
     "execution_count": 6,
     "metadata": {},
     "output_type": "execute_result"
    }
   ],
   "source": [
    "query_refiner(conversation_string, \"all kinds?\")"
   ]
  },
  {
   "cell_type": "code",
   "execution_count": 27,
   "metadata": {},
   "outputs": [
    {
     "data": {
      "text/plain": [
       "' Puis-je amener mon chien ?'"
      ]
     },
     "execution_count": 27,
     "metadata": {},
     "output_type": "execute_result"
    }
   ],
   "source": [
    "query_refiner(conversation_string, \"can you reply in french\")"
   ]
  },
  {
   "cell_type": "code",
   "execution_count": 28,
   "metadata": {},
   "outputs": [
    {
     "data": {
      "text/plain": [
       "' what if my dog is red'"
      ]
     },
     "execution_count": 28,
     "metadata": {},
     "output_type": "execute_result"
    }
   ],
   "source": [
    "query_refiner(conversation_string, \"what if it's red\")"
   ]
  },
  {
   "cell_type": "code",
   "execution_count": 29,
   "metadata": {},
   "outputs": [
    {
     "data": {
      "text/plain": [
       "' how can i bring my dog'"
      ]
     },
     "execution_count": 29,
     "metadata": {},
     "output_type": "execute_result"
    }
   ],
   "source": [
    "query_refiner(conversation_string, \"how\")"
   ]
  },
  {
   "cell_type": "code",
   "execution_count": 30,
   "metadata": {},
   "outputs": [],
   "source": [
    "conversation_string = \"\"\n",
    "query = \"what if i have an accident\"\n",
    "response = '''According to the article \"Service vehicles are for professional use only\", any accident or incident that occurs must be reported within 24 hours. This applies to all employees who are involved in an accident or incident while using a company vehicle.'''\n",
    "conversation_string += \"Human: \"+query+ \"\\n\"\n",
    "conversation_string += \"Bot: \"+ response + \"\\n\""
   ]
  },
  {
   "cell_type": "code",
   "execution_count": 31,
   "metadata": {},
   "outputs": [
    {
     "data": {
      "text/plain": [
       "' What should I do if I break my arm while camping?'"
      ]
     },
     "execution_count": 31,
     "metadata": {},
     "output_type": "execute_result"
    }
   ],
   "source": [
    "query_refiner(conversation_string, \"it's not car accident i break my arm at camping\")"
   ]
  },
  {
   "cell_type": "code",
   "execution_count": 34,
   "metadata": {},
   "outputs": [
    {
     "data": {
      "text/plain": [
       "' What is the procedure for reporting an accident or incident in French?'"
      ]
     },
     "execution_count": 34,
     "metadata": {},
     "output_type": "execute_result"
    }
   ],
   "source": [
    "query_refiner(conversation_string, \"can you reply above in french?\")"
   ]
  },
  {
   "cell_type": "code",
   "execution_count": 48,
   "metadata": {},
   "outputs": [],
   "source": [
    "conversation_string = \"\"\n",
    "query = '''Je n'aurai pas le temps de traiter la demande de droit à l'oubli d'un utilisateur dans le mois règlementaire imposé par la CNIL. Ai-je un recours ?'''\n",
    "response = '''1 month'''\n",
    "conversation_string += \"Human: \"+query+ \"\\n\"\n",
    "conversation_string += \"Bot: \"+ response + \"\\n\""
   ]
  },
  {
   "cell_type": "code",
   "execution_count": 49,
   "metadata": {},
   "outputs": [
    {
     "data": {
      "text/plain": [
       "\" What is the procedure to follow if I am unable to process a user's right to be forgotten request within the regulatory period specified by the CNIL?\""
      ]
     },
     "execution_count": 49,
     "metadata": {},
     "output_type": "execute_result"
    }
   ],
   "source": [
    "query_refiner(conversation_string, \"are you referring CNIL document?\")"
   ]
  },
  {
   "cell_type": "code",
   "execution_count": 47,
   "metadata": {},
   "outputs": [
    {
     "data": {
      "text/plain": [
       "\" Quel est le délai de traitement d'une demande de droit à l'oubli par la CNIL ?\""
      ]
     },
     "execution_count": 47,
     "metadata": {},
     "output_type": "execute_result"
    }
   ],
   "source": [
    "conversation_string = \"\"\n",
    "query_refiner(conversation_string, query)"
   ]
  }
 ],
 "metadata": {
  "kernelspec": {
   "display_name": "Python 3 (ipykernel)",
   "language": "python",
   "name": "python3"
  },
  "language_info": {
   "codemirror_mode": {
    "name": "ipython",
    "version": 3
   },
   "file_extension": ".py",
   "mimetype": "text/x-python",
   "name": "python",
   "nbconvert_exporter": "python",
   "pygments_lexer": "ipython3",
   "version": "3.10.13"
  }
 },
 "nbformat": 4,
 "nbformat_minor": 4
}
