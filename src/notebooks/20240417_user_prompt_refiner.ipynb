{
 "cells": [
  {
   "cell_type": "code",
   "execution_count": 1,
   "metadata": {},
   "outputs": [],
   "source": [
    "from vertexai.language_models import TextGenerationModel\n",
    "from vertexai.language_models import TextEmbeddingModel"
   ]
  },
  {
   "cell_type": "code",
   "execution_count": 2,
   "metadata": {},
   "outputs": [],
   "source": [
    "emb_model= TextEmbeddingModel.from_pretrained(\"textembedding-gecko@001\")"
   ]
  },
  {
   "cell_type": "code",
   "execution_count": 3,
   "metadata": {},
   "outputs": [],
   "source": [
    "def query_refiner(conversation, query,text_model = \"text-bison@002\"):\n",
    "    model = TextGenerationModel.from_pretrained(text_model)\n",
    "    response = model.predict(\n",
    "    prompt=f\"Given the following user query and conversation log, formulate a question that would be the most relevant to provide the user with an answer from a knowledge base.\\n\\nCONVERSATION LOG: \\n{conversation}\\n\\nQuery: {query}\\n\\nRefined Query:\",\n",
    "    temperature=0,\n",
    "    max_output_tokens=256,\n",
    "    top_p=0.7,\n",
    "    top_k=20\n",
    "    )\n",
    "    return response.text"
   ]
  },
  {
   "cell_type": "code",
   "execution_count": 4,
   "metadata": {},
   "outputs": [],
   "source": [
    "import streamlit as st"
   ]
  },
  {
   "cell_type": "code",
   "execution_count": 5,
   "metadata": {},
   "outputs": [],
   "source": [
    "def get_conversation_history():\n",
    "    conversation_string = \"\"\n",
    "    for i in range(len(st.session_state['responses'])-1):\n",
    "        \n",
    "        conversation_string += \"Human: \"+st.session_state['requests'][i] + \"\\n\"\n",
    "        conversation_string += \"Bot: \"+ st.session_state['responses'][i+1] + \"\\n\"\n",
    "    return conversation_string"
   ]
  },
  {
   "cell_type": "code",
   "execution_count": 6,
   "metadata": {},
   "outputs": [],
   "source": [
    "from streamlit_jupyter import StreamlitPatcher, tqdm\n",
    "\n",
    "StreamlitPatcher().jupyter() "
   ]
  },
  {
   "cell_type": "code",
   "execution_count": 7,
   "metadata": {},
   "outputs": [],
   "source": [
    "# if 'responses' not in st.session_state:\n",
    "#     st.session_state['responses'] = [\"How can I help you today?\"]\n",
    "\n",
    "# if 'requests' not in st.session_state:\n",
    "#     st.session_state['requests'] = []\n",
    "\n",
    "# query = \"How can I pay?\"\n",
    "# response = \"You can pay by credit card and cash.\"\n",
    "# st.session_state.requests.append(query)\n",
    "# st.session_state.responses.append(response)"
   ]
  },
  {
   "cell_type": "code",
   "execution_count": 8,
   "metadata": {},
   "outputs": [],
   "source": [
    "conversation_string = \"\"\n",
    "query = \"can i bring my dog?\"\n",
    "response = \"Yes.\"\n",
    "conversation_string += \"Human: \"+query+ \"\\n\"\n",
    "conversation_string += \"Bot: \"+ response + \"\\n\"\n"
   ]
  },
  {
   "cell_type": "code",
   "execution_count": 9,
   "metadata": {},
   "outputs": [
    {
     "data": {
      "text/plain": [
       "' Are all kinds of dogs allowed?'"
      ]
     },
     "execution_count": 9,
     "metadata": {},
     "output_type": "execute_result"
    }
   ],
   "source": [
    "query_refiner(conversation_string, \"all kinds?\")"
   ]
  },
  {
   "cell_type": "code",
   "execution_count": 10,
   "metadata": {},
   "outputs": [
    {
     "data": {
      "text/plain": [
       "' Puis-je amener mon chien\\xa0?'"
      ]
     },
     "execution_count": 10,
     "metadata": {},
     "output_type": "execute_result"
    }
   ],
   "source": [
    "query_refiner(conversation_string, \"can you reply in french\")"
   ]
  },
  {
   "cell_type": "code",
   "execution_count": 11,
   "metadata": {},
   "outputs": [
    {
     "data": {
      "text/plain": [
       "' what if my dog is red'"
      ]
     },
     "execution_count": 11,
     "metadata": {},
     "output_type": "execute_result"
    }
   ],
   "source": [
    "query_refiner(conversation_string, \"what if it's red\")"
   ]
  },
  {
   "cell_type": "code",
   "execution_count": 12,
   "metadata": {},
   "outputs": [
    {
     "data": {
      "text/plain": [
       "' How can I bring my dog?'"
      ]
     },
     "execution_count": 12,
     "metadata": {},
     "output_type": "execute_result"
    }
   ],
   "source": [
    "query_refiner(conversation_string, \"how\")"
   ]
  },
  {
   "cell_type": "code",
   "execution_count": 22,
   "metadata": {},
   "outputs": [],
   "source": [
    "conversation_string = \"\"\n",
    "query = \"what if i have an accident\"\n",
    "response = '''According to the article \"Service vehicles are for professional use only\", any accident or incident that occurs must be reported within 24 hours. This applies to all employees who are involved in an accident or incident while using a company vehicle.'''\n",
    "conversation_string += \"Human: \"+query+ \"\\n\"\n",
    "conversation_string += \"Bot: \"+ response + \"\\n\""
   ]
  },
  {
   "cell_type": "code",
   "execution_count": 23,
   "metadata": {},
   "outputs": [
    {
     "data": {
      "text/plain": [
       "' What should I do if I have an accident while camping and break my arm?'"
      ]
     },
     "execution_count": 23,
     "metadata": {},
     "output_type": "execute_result"
    }
   ],
   "source": [
    "query_refiner(conversation_string, \"it's not car accident i break my arm at camping\")"
   ]
  },
  {
   "cell_type": "code",
   "execution_count": 24,
   "metadata": {},
   "outputs": [
    {
     "data": {
      "text/plain": [
       "\" Que dois-je faire en cas d'accident avec un véhicule de service ?\""
      ]
     },
     "execution_count": 24,
     "metadata": {},
     "output_type": "execute_result"
    }
   ],
   "source": [
    "query_refiner(conversation_string, \"can you reply above in french?\")"
   ]
  },
  {
   "cell_type": "code",
   "execution_count": 20,
   "metadata": {},
   "outputs": [],
   "source": [
    "list_ = []\n",
    "list_.append({\"role\": \"user\", \"content\": query})\n",
    "list_.append({\"role\": \"assistant\", \"content\": response})\n",
    "# list_.append({\"role\": \"assistant\", \"content\": f\"can you reply in french?\"})"
   ]
  },
  {
   "cell_type": "code",
   "execution_count": 25,
   "metadata": {},
   "outputs": [
    {
     "data": {
      "text/plain": [
       "\" Que dois-je faire en cas d'accident avec un véhicule de service ?\""
      ]
     },
     "execution_count": 25,
     "metadata": {},
     "output_type": "execute_result"
    },
    {
     "ename": "",
     "evalue": "",
     "output_type": "error",
     "traceback": [
      "\u001b[1;31mThe Kernel crashed while executing code in the current cell or a previous cell. \n",
      "\u001b[1;31mPlease review the code in the cell(s) to identify a possible cause of the failure. \n",
      "\u001b[1;31mClick <a href='https://aka.ms/vscodeJupyterKernelCrash'>here</a> for more info. \n",
      "\u001b[1;31mView Jupyter <a href='command:jupyter.viewOutput'>log</a> for further details."
     ]
    }
   ],
   "source": [
    "query_refiner(list_, \"can you reply above in french?\")"
   ]
  },
  {
   "cell_type": "code",
   "execution_count": 18,
   "metadata": {},
   "outputs": [],
   "source": [
    "conversation_string += \"Human: \"+'how can i pay'+ \"\\n\"\n",
    "conversation_string += \"Bot: \"+ \"you can pay by credit card\" + \"\\n\""
   ]
  },
  {
   "cell_type": "code",
   "execution_count": 19,
   "metadata": {},
   "outputs": [
    {
     "data": {
      "text/plain": [
       "' comment puis-je payer en français ?'"
      ]
     },
     "execution_count": 19,
     "metadata": {},
     "output_type": "execute_result"
    }
   ],
   "source": [
    "query_refiner(conversation_string, \"can you reply in french\")"
   ]
  }
 ],
 "metadata": {
  "kernelspec": {
   "display_name": "venv",
   "language": "python",
   "name": "python3"
  },
  "language_info": {
   "codemirror_mode": {
    "name": "ipython",
    "version": 3
   },
   "file_extension": ".py",
   "mimetype": "text/x-python",
   "name": "python",
   "nbconvert_exporter": "python",
   "pygments_lexer": "ipython3",
   "version": "3.10.13"
  }
 },
 "nbformat": 4,
 "nbformat_minor": 2
}
