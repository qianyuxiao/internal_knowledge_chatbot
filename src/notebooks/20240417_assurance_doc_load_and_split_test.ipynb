{
 "cells": [
  {
   "cell_type": "markdown",
   "metadata": {},
   "source": [
    "# pdf loaderTest"
   ]
  },
  {
   "cell_type": "markdown",
   "metadata": {},
   "source": [
    "### - PyPDFLoader"
   ]
  },
  {
   "cell_type": "code",
   "execution_count": 1,
   "metadata": {},
   "outputs": [],
   "source": [
    "from langchain_community.document_loaders import PyPDFLoader"
   ]
  },
  {
   "cell_type": "code",
   "execution_count": 44,
   "metadata": {},
   "outputs": [],
   "source": [
    "pdfs= [\"../documents/ecg_assurance/Contrats 2024/CAMPINGS/ALLIANZ/Avenant 2024 Police campings Allianz.pdf\",\n",
    "              \"../documents/ecg_assurance/Contrats 2024/CAMPINGS/ALLIANZ/Avenant LPS 2024 Police campings Allianz.pdf\",\n",
    "              \"../documents/ecg_assurance/Contrats 2024/SIEGES/Generali - Si\\u00e8ge Montpellier.pdf\"]"
   ]
  },
  {
   "cell_type": "code",
   "execution_count": 45,
   "metadata": {},
   "outputs": [
    {
     "name": "stdout",
     "output_type": "stream",
     "text": [
      "False\n",
      "False\n",
      "True\n"
     ]
    }
   ],
   "source": [
    "doc_list = []\n",
    "for pdf_path in pdfs:\n",
    "    loader = PyPDFLoader(pdf_path)\n",
    "    docs = loader.load()\n",
    "    doc_list.append(docs)\n",
    "    all_empty = all(not doc.page_content for doc in docs)\n",
    "    print(all_empty)\n",
    "    if all_empty:\n",
    "        loader =PyPDFLoader(pdf_path , extract_images=True)\n",
    "        docs = loader.load()\n",
    "        doc_list.append(docs)\n",
    "    "
   ]
  },
  {
   "cell_type": "code",
   "execution_count": 53,
   "metadata": {},
   "outputs": [],
   "source": [
    "# doc_ = doc_list[0]\n",
    "# page_ = doc_[0]\n",
    "# print(page_.metadata.get('source'))\n",
    "# print(page_.page_content)\n",
    "# print(\"*\"100)"
   ]
  },
  {
   "cell_type": "code",
   "execution_count": 52,
   "metadata": {},
   "outputs": [],
   "source": [
    "# doc_ = doc_list[1]\n",
    "# page_ = doc_[0]\n",
    "# print(page_.metadata.get('source'))\n",
    "# print(page_.page_content)\n",
    "# print(\"*\"*100)"
   ]
  },
  {
   "cell_type": "code",
   "execution_count": 51,
   "metadata": {},
   "outputs": [],
   "source": [
    "# doc_ = doc_list[3]\n",
    "# page_ = doc_[0]\n",
    "# print(page_.metadata.get('source'))\n",
    "# print(page_.page_content)\n",
    "# print(\"*\"*100)"
   ]
  },
  {
   "cell_type": "markdown",
   "metadata": {},
   "source": [
    "### UnstructuredPDFLoader"
   ]
  },
  {
   "cell_type": "code",
   "execution_count": 2,
   "metadata": {},
   "outputs": [],
   "source": [
    "from langchain_community.document_loaders import UnstructuredPDFLoader"
   ]
  },
  {
   "cell_type": "code",
   "execution_count": 2,
   "metadata": {},
   "outputs": [],
   "source": [
    "# u_loader = UnstructuredPDFLoader(\"../documents/ecg_assurance/Contrats 2024/CAMPINGS/ALLIANZ/Avenant 2024 Police campings Allianz.pdf\")\n",
    "# pages = u_loader.load()\n",
    "# print(pages[0].page_content)"
   ]
  },
  {
   "cell_type": "code",
   "execution_count": 55,
   "metadata": {},
   "outputs": [
    {
     "data": {
      "text/plain": [
       "{'source': '../documents/ecg_assurance/Contrats 2024/SIEGES/Generali - Siège Montpellier.pdf'}"
      ]
     },
     "execution_count": 55,
     "metadata": {},
     "output_type": "execute_result"
    }
   ],
   "source": [
    "# u_pages[0].metadata"
   ]
  },
  {
   "cell_type": "code",
   "execution_count": 3,
   "metadata": {},
   "outputs": [],
   "source": [
    "# u_loader = UnstructuredPDFLoader(\"../documents/ecg_assurance/Contrats 2024/LOCAUX DE STOCKAGE/NEW Contratto polizza magazzino Manerba.pdf\")\n",
    "# u_pages = u_loader.load()\n",
    "# print(u_pages[0].page_content)"
   ]
  },
  {
   "cell_type": "code",
   "execution_count": 4,
   "metadata": {},
   "outputs": [],
   "source": [
    "# u_loader = UnstructuredPDFLoader(pdfs[2])\n",
    "# u_pages = u_loader.load()\n",
    "# print(u_pages[0].page_content)"
   ]
  },
  {
   "cell_type": "code",
   "execution_count": 5,
   "metadata": {},
   "outputs": [],
   "source": [
    "# pdf_path = \"../documents/ecg_assurance/Contrats 2024/ECG ITALIA - véhicules/polizza ECG Italia Srl n. 533662573 _ copia per direzione firmata.pdf\"\n",
    "# u_loader = UnstructuredPDFLoader(pdf_path)\n",
    "# u_pages = u_loader.load()\n",
    "# print(u_pages[0].page_content)"
   ]
  },
  {
   "cell_type": "markdown",
   "metadata": {},
   "source": [
    "### Google loader"
   ]
  },
  {
   "cell_type": "code",
   "execution_count": 6,
   "metadata": {},
   "outputs": [],
   "source": [
    "# from langchain.document_loaders import GCSDirectoryLoader\n",
    "# PROJECT_ID = 'ecg-ai-416210'\n",
    "# GCS_BUCKET_DOCS = 'ecg_assurance'\n",
    "# g_loader = GCSDirectoryLoader(\n",
    "#     project_name=PROJECT_ID, bucket=GCS_BUCKET_DOCS, prefix=\"test_docs\")\n",
    "# g_pages = g_loader.load()\n",
    "# print(g_pages[0].page_content)"
   ]
  },
  {
   "cell_type": "code",
   "execution_count": 7,
   "metadata": {},
   "outputs": [],
   "source": [
    "# print(g_pages[1].page_content)"
   ]
  },
  {
   "cell_type": "code",
   "execution_count": 8,
   "metadata": {},
   "outputs": [],
   "source": [
    "# print(g_pages[2].page_content)"
   ]
  },
  {
   "cell_type": "code",
   "execution_count": 9,
   "metadata": {},
   "outputs": [],
   "source": [
    "# g_loader = GCSDirectoryLoader(\n",
    "#     project_name=PROJECT_ID, bucket=GCS_BUCKET_DOCS, prefix=\"test_docs/unscanned_pdfs\")\n",
    "# g_pages = g_loader.load()\n",
    "# print(g_pages[0].page_content)"
   ]
  }
 ],
 "metadata": {
  "kernelspec": {
   "display_name": "venv",
   "language": "python",
   "name": "python3"
  },
  "language_info": {
   "codemirror_mode": {
    "name": "ipython",
    "version": 3
   },
   "file_extension": ".py",
   "mimetype": "text/x-python",
   "name": "python",
   "nbconvert_exporter": "python",
   "pygments_lexer": "ipython3",
   "version": "3.10.13"
  }
 },
 "nbformat": 4,
 "nbformat_minor": 2
}
