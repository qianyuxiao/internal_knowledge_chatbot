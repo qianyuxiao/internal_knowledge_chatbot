{
 "cells": [
  {
   "cell_type": "code",
   "execution_count": 1,
   "metadata": {},
   "outputs": [],
   "source": [
    "import sys\n",
    "\n",
    "# Add the directory to sys.path\n",
    "sys.path.append('/home/qianyucazelles/internal_knowledge_chatbot/src/utils')\n",
    "from doc_to_vertex_search import *"
   ]
  },
  {
   "cell_type": "markdown",
   "metadata": {},
   "source": [
    "Get Vector Store"
   ]
  },
  {
   "cell_type": "code",
   "execution_count": 2,
   "metadata": {},
   "outputs": [],
   "source": [
    "parameters = get_me_parameters('../vector_store_me_parameters/ecg_all_me.json')"
   ]
  },
  {
   "cell_type": "code",
   "execution_count": 3,
   "metadata": {},
   "outputs": [],
   "source": [
    "embeddings = get_embeddings()"
   ]
  },
  {
   "cell_type": "code",
   "execution_count": 4,
   "metadata": {},
   "outputs": [],
   "source": [
    "db = get_vector_store(parameters, embeddings)"
   ]
  },
  {
   "cell_type": "code",
   "execution_count": 6,
   "metadata": {},
   "outputs": [
    {
     "data": {
      "text/plain": [
       "[Document(page_content='-3- \\nRISQUE SOUSCRIT AUPR ES DE LLOYD ’S INSURANCE COMPANY SA \\nBastien Tower, 5 Place du champ de Mars, B-1050 BRUSSELS, BELGIUM  PRIME  annuel le, (en  €) \\nPrime Nette  174 068. 21 € \\nSurprime Catastrophes Naturelles  20 640. 50 € \\nFrais et Taxes Y compris FGTI  34 135. 39 € \\nPrime TTC  228 844. 09 € \\nPRIME au comptant du  01/10/2023 au 31/03/2024 , (en €)', metadata={'source': '../documents/ecg_assurance/Contrats 2024/MH/LLOYDS/HOMAIR VACANCES - Conditions Particulières au 01.10.2023.pdf', 'page': 4, 'document_name': 'HOMAIR VACANCES - Conditions Particulières au 01.10.2023.pdf', 'chunk': '1/6', 'department': 'insurance', 'category': 'mh', 'loader_method': 'structured', 'chunk_size': 500}),\n",
       " Document(page_content='ALESCO D.A EUROPE\\n\\nPRIME annuelle, (en €)\\n\\nPrime Nette Surprime Catastrophes Naturelles Frais et Taxes Y compris FGTI Prime TTC\\n\\n174 068.21 € 20 640.50 € 34 135.39 € 228 844.09 €\\n\\nPRIME au comptant du 01/10/2023 au 31/03/2024, (en €)\\n\\nPrime Nette Surprime Catastrophes Naturelles Frais et Taxes Y compris FGTI Prime TTC\\n\\n87 034,12 € 10 320,25 € 17 070,64 € 114 425,01 €\\n\\nLe prix indiqué dans la prime annuelle tient compte des frais et taxes composés ainsi : • • •', metadata={'source': '../documents/ecg_assurance/Contrats 2024/MH/LLOYDS/HOMAIR VACANCES - Conditions Particulières au 01.10.2023.pdf', 'document_name': 'HOMAIR VACANCES - Conditions Particulières au 01.10.2023.pdf', 'chunk': '13/137', 'department': 'insurance', 'category': 'mh', 'loader_method': 'unstructured', 'chunk_size': 500})]"
      ]
     },
     "execution_count": 6,
     "metadata": {},
     "output_type": "execute_result"
    }
   ],
   "source": [
    "db.similarity_search(\"prime\", k=2, search_distance=0.4)"
   ]
  },
  {
   "cell_type": "markdown",
   "metadata": {},
   "source": [
    "# Test filter"
   ]
  },
  {
   "cell_type": "code",
   "execution_count": 36,
   "metadata": {},
   "outputs": [],
   "source": [
    "#https://python.langchain.com/v0.1/docs/integrations/vectorstores/google_vertex_ai_vector_search/\n",
    "from google.cloud.aiplatform.matching_engine.matching_engine_index_endpoint import (\n",
    "    Namespace,\n",
    "    NumericNamespace,\n",
    ")"
   ]
  },
  {
   "cell_type": "code",
   "execution_count": 65,
   "metadata": {},
   "outputs": [],
   "source": [
    "filters = [Namespace(name=\"department\", allow_tokens=[\"insurance\"]),\n",
    "           Namespace(name=\"loader_method\", allow_tokens=[\"unstructured\"])\n",
    "          ]\n",
    "\n",
    "\n",
    "numeric_filters = [NumericNamespace(name=\"chunk_size\", value_float=2000.0, op=\"EQUAL\")]\n",
    "retriever.search_kwargs = {\"filter\": filters, \"numeric_filter\": numeric_filters}"
   ]
  },
  {
   "cell_type": "code",
   "execution_count": 67,
   "metadata": {},
   "outputs": [
    {
     "data": {
      "text/plain": [
       "[Document(page_content='Sol Formation naturelle superficielle, résultant de l’altération des couches géologiques sous-jacentes. Par extension, il faut entendre également par sol, le sous-sol constitué des couches géologiques profondes.\\n\\nSouscripteur La personne physique ou morale ayant conclu le contrat avec l’assureur.\\n\\n7 - AMY Underwriting Agence de Souscription Garantie Financière et Assurance de Responsabilité Civile Professionnelle conformes aux articles L530-1 et L530-2 du Code des Assurances Orias : 10054915 Registre du Commerce de Lyon : 514 056 373 - Siège social 29 Rue Saint Simon 69009 Lyon TEL +33 (0) 4 72 82 22 82 - FAX + 33 (0) 4 72 82 22 83 Référence : CG-MAMS-MDE-RI-04/2021\\n\\nSurface totale des locaux La surface du ou des bâtiments s’obtient comme suit : superficie additionnée des différents niveaux, calculée à partir de l’extérieur des murs ou à l’aplomb de la goutte d’eau si l’avancée dépasse 2 mètres. Les greniers et combles non aménagés ainsi que les caves enterrées sont décomptés pour 50 % de leur surface. Une erreur de 10% sera tolérée dans ce calcul.\\n\\nTiers Toute personne autre que : • Vous-même,\\n\\nDans l’exercice de leurs fonctions :\\n\\nVos représentants légaux lorsque vous êtes une personne morale, • Vos associés, • Vos préposés, stagiaires, candidats à l’embauche et aides bénévoles lorsqu’ils remplissent les conditions leur permettant de bénéficier de la législation sur les accidents du travail.\\n\\nValeur réelle Valeur de remplacement à neuf au jour du sinistre, vétusté déduite.\\n\\nValeur de remplacement à neuf Montant nécessaire à la réparation ou à la reconstruction des biens endommagés au jour du sinistre.\\n\\nValeur de sauvetage Valeur au jour et au lieu du sinistre des débris et pièces encore utilisables d’une manière quelconque ou considérés comme vieilles matières.\\n\\nValeur vénale d’un bâtiment Valeur de vente au jour du sinistre majorée des frais de déblai et de démolition et diminuée de la valeur du terrain nu.', metadata={'source': '../documents/ecg_assurance/Contrats 2024/MH/LLOYDS/Conditions Générales MAMS RI 04.2021.pdf', 'document_name': 'Conditions Générales MAMS RI 04.2021.pdf', 'chunk': '11/116', 'department': 'insurance', 'category': 'mh', 'loader_method': 'unstructured', 'chunk_size': 2000}),\n",
       " Document(page_content=\"ALESCO D.A EUROPE\\n\\nD\\n\\nLloyd’s Insurance Company S.A. Contrat d’assurance\\n\\nCe contrat d'assurance est garanti par Lloyd’s Insurance Company S.A.\\n\\nCe contrat est délivré par le courtier mandataire, agissant en vertu de l’accord de désignation portant le numéro de référence unique du marché figurant sur ce contrat. Les coordonnés du courtier mandataire sont indiquées dans ce contrat.\\n\\nLloyd’s Insurance Company S.A. est une société anonyme belge (naamloze vennootschap) dont le siège est sis Bastion Tower, Marsveldplein 5, 1050 Bruxelles et enregistrée à la Banque-Carrefour des entreprises (Kruispuntbank van Ondernemingen) sous le numéro 682.594.839 RPM (Bruxelles). Il s’agit d’une compagnie d’assurance soumise à la supervision de la Banque nationale de Belgique. Son ou ses numéros de référence de société et autres renseignements figurent sur le site www.nbb.be. Adresse du site web : www.lloyds.com/brussels E-mail : enquiries.lloydsbrussels@lloyds.com Coordonnées bancaires : Citibank Europe plc Succursale belge, Boulevard General Jacques 263G, Bruxelles 1050, Belgique - BE46570135225536.\\n\\nALESCO D.A EUROPE\\n\\nDISPOSITIONS PARTICULIERES DOMMAGES DIRECTS / PERTES D’EXPLOITATION\\n\\nCe Contrat est constitué d’une page de garde, des conditions particulières (Page des déclarations), des conditions générales et de toutes les autres dispositions, conditions et garanties jointes ainsi que tous avenants émis.\\n\\nCe contrat d'assurance est garanti par Lloyd’s Insurance Company S.A.\\n\\nCe contrat est délivré par l’intermédiaire du courtier mandataire :\\n\\nAMY UNDERWRITING - Agence de Souscription Garantie Financière et Assurance de Responsabilité Civile Professionnelle conformes aux articles L530-1 et L530-2 du Code des Assurances – Orias : 10054915 www.orias.fr Registre du Commerce de Lyon : 514 056 373 Siège social 29 Rue Saint Simon 69009 Lyon -TEL +33 (0) 4 72 82 22 82 - FAX + 33 (0) 4 72 82 22 83\", metadata={'source': '../documents/ecg_assurance/Contrats 2024/MH/LLOYDS/HOMAIR VACANCES - Conditions Particulières au 01.10.2023.pdf', 'document_name': 'HOMAIR VACANCES - Conditions Particulières au 01.10.2023.pdf', 'chunk': '2/31', 'department': 'insurance', 'category': 'mh', 'loader_method': 'unstructured', 'chunk_size': 2000}),\n",
       " Document(page_content='Franchise Part du dommage indemnisable restant dans tous les cas à votre charge.\\n\\nIndice R.I. Indice « Risques industriels » publié tous les trimestres par la Fédération Française de l’Assurances (FFA).\\n\\nLitige Opposition d’intérêts, désaccord ou refus opposé à une réclamation dont vous êtes l’auteur ou le destinataire et, vous conduisant à faire valoir des prétentions en demande ou en défense, que ce soit à l’amiable ou devant une juridiction.\\n\\n6 - AMY Underwriting Agence de Souscription Garantie Financière et Assurance de Responsabilité Civile Professionnelle conformes aux articles L530-1 et L530-2 du Code des Assurances Orias : 10054915 Registre du Commerce de Lyon : 514 056 373 - Siège social 29 Rue Saint Simon 69009 Lyon TEL +33 (0) 4 72 82 22 82 - FAX + 33 (0) 4 72 82 22 83 Référence : CG-MAMS-MDE-RI-04/2021\\n\\nMatériaux durs : • En construction : maçonnerie c’est-à-dire béton, briques, pierre, parpaing unis par un liant (un isolant de tout type peut être noyé dans la maçonnerie), pisé de ciment et de mâchefer, pisé de terre, vitrages en verres minéral, panneaux de métal, fibre ciment, panneaux composites constitués d’un isolant minéral (fibre de roche ou de verre) pris en sandwich entre deux plaques de métal ou de fibre ciment. • En couverture : ardoises, tuiles, vitrages en verre minéral, plaques simples de métal, fibre-ciment, panneaux composites constitués d’un isolant minéral (fibre de roche ou de verre) pris en sandwich entre deux plaques de métal ou de fibre-ciment, bacs métalliques nus ou isolés par des fibres de verre ou de roche, béton ou sans revêtement d’étanchéité et avec ou sans isolant de tout type intégré dans le béton ou placé au-dessus.', metadata={'source': '../documents/ecg_assurance/Contrats 2024/MH/LLOYDS/Conditions Générales MAMS RI 04.2021.pdf', 'document_name': 'Conditions Générales MAMS RI 04.2021.pdf', 'chunk': '9/116', 'department': 'insurance', 'category': 'mh', 'loader_method': 'unstructured', 'chunk_size': 2000}),\n",
       " Document(page_content=\"DELAI DE PAIEMENT DE L’INDEMNITE\\n\\nSi, dans les trois mois à compter de la remise de l’état des pertes, l’expertise n’est pas terminée, le Souscripteur ou l’Assuré aura le droit de faire courir les intérêts par sommation. Si elle n’est pas terminée dans les six mois, chacune des parties pourra procéder judiciairement. Le paiement des indemnités doit être effectué dans les trente jours, soit de l’accord amiable, soit de la décision judiciaire exécutoire. Ce délai, en cas d’opposition, ne court que du jour de la mainlevée.\\n\\nSUBROGATION – RECOURS APRES SINISTRE\\n\\nLa Société est subrogée dans les termes de l’article L 121-12 du Code des Assurances jusqu’à concurrence de l’indemnité payée par elle, dans les droits et actions de l’Assuré contre tout responsable du sinistre. Si la subrogation ne peut plus, du fait de l’Assuré, s’opérer en faveur de la Société, celle-ci est déchargée de ses obligations envers l’Assuré dans la mesure où cette subrogation aurait pu s’exercer.\\n\\n60 - AMY Underwriting Agence de Souscription Garantie Financière et Assurance de Responsabilité Civile Professionnelle conformes aux articles L530-1 et L530-2 du Code des Assurances Orias : 10054915 Registre du Commerce de Lyon : 514 056 373 - Siège social 29 Rue Saint Simon 69009 Lyon TEL +33 (0) 4 72 82 22 82 - FAX + 33 (0) 4 72 82 22 83 CG AMY PRO .5 2021\\n\\nENGAGEMENTS DIVERS\\n\\nRENONCIATIONS\\n\\nLes assureurs renoncent à tous recours qu'en cas de sinistre, ils seraient fondés à exercer, le cas de malveillance excepté, contre :\", metadata={'source': '../documents/ecg_assurance/Contrats 2024/MH/LLOYDS/Conditions Générales MAMS RI 04.2021.pdf', 'document_name': 'Conditions Générales MAMS RI 04.2021.pdf', 'chunk': '107/116', 'department': 'insurance', 'category': 'mh', 'loader_method': 'unstructured', 'chunk_size': 2000})]"
      ]
     },
     "execution_count": 67,
     "metadata": {},
     "output_type": "execute_result"
    }
   ],
   "source": [
    "db.similarity_search(\"sous-traitant\", k=4, search_distance=0.4, filter=filters, numeric_filter=numeric_filters)"
   ]
  },
  {
   "cell_type": "markdown",
   "metadata": {},
   "source": [
    "# Retriever"
   ]
  },
  {
   "cell_type": "code",
   "execution_count": 42,
   "metadata": {},
   "outputs": [],
   "source": [
    "retriever = db.as_retriever()"
   ]
  },
  {
   "cell_type": "code",
   "execution_count": 43,
   "metadata": {},
   "outputs": [
    {
     "data": {
      "text/plain": [
       "[Document(page_content='ALESCO D.A EUROPE\\n\\nPRIME annuelle, (en €)\\n\\nPrime Nette Surprime Catastrophes Naturelles Frais et Taxes Y compris FGTI Prime TTC\\n\\n174 068.21 € 20 640.50 € 34 135.39 € 228 844.09 €\\n\\nPRIME au comptant du 01/10/2023 au 31/03/2024, (en €)\\n\\nPrime Nette Surprime Catastrophes Naturelles Frais et Taxes Y compris FGTI Prime TTC\\n\\n87 034,12 € 10 320,25 € 17 070,64 € 114 425,01 €\\n\\nLe prix indiqué dans la prime annuelle tient compte des frais et taxes composés ainsi : • • •', metadata={'source': '../documents/ecg_assurance/Contrats 2024/MH/LLOYDS/HOMAIR VACANCES - Conditions Particulières au 01.10.2023.pdf', 'document_name': 'HOMAIR VACANCES - Conditions Particulières au 01.10.2023.pdf', 'chunk': '13/137', 'department': 'insurance', 'category': 'mh', 'loader_method': 'unstructured', 'chunk_size': 500}),\n",
       " Document(page_content=\"Référence : CG-MAMS-MDE-RI-04/2021   Si la prime qui a été perçue est supérieure à la prime réellement due, une ristourne égale à la différence \\nest versée à l'Assuré. Dans le cas contraire, un rappel de prime est payé par l'Assuré. La ristourne ou \\nle rappel ne sont soumis à aucune limitation.\", metadata={'source': '../documents/ecg_assurance/Contrats 2024/MH/LLOYDS/Conditions Générales MAMS RI 04.2021.pdf', 'page': 35, 'document_name': 'Conditions Générales MAMS RI 04.2021.pdf', 'chunk': '2/12', 'department': 'insurance', 'category': 'mh', 'loader_method': 'structured', 'chunk_size': 500}),\n",
       " Document(page_content='Prime Nette  87 034,12  € \\nSurprime Catastrophes Naturelles  10 320,25  € \\nFrais et Taxes Y compris FGTI  17 070,64  € \\nPrime TTC  114 425,01  € \\nLe prix indiqué dans la prime annuelle tient comp te des frais  et taxes composés ainsi :', metadata={'source': '../documents/ecg_assurance/Contrats 2024/MH/LLOYDS/HOMAIR VACANCES - Conditions Particulières au 01.10.2023.pdf', 'page': 4, 'document_name': 'HOMAIR VACANCES - Conditions Particulières au 01.10.2023.pdf', 'chunk': '2/6', 'department': 'insurance', 'category': 'mh', 'loader_method': 'structured', 'chunk_size': 500}),\n",
       " Document(page_content=\"Si la prime qui a été perçue est supérieure à la prime réellement due, une ristourne égale à la différence est versée à l'Assuré. Dans le cas contraire, un rappel de prime est payé par l'Assuré. La ristourne ou le rappel ne sont soumis à aucune limitation. Afin de régulariser la prime due pour le dernier exercice d'assurance et de déterminer le montant de la garantie de l'exercice à venir et de la prime en découlant, l'Assuré s'engage à :\", metadata={'source': '../documents/ecg_assurance/Contrats 2024/MH/LLOYDS/Conditions Générales MAMS RI 04.2021.pdf', 'document_name': 'Conditions Générales MAMS RI 04.2021.pdf', 'chunk': '278/515', 'department': 'insurance', 'category': 'mh', 'loader_method': 'unstructured', 'chunk_size': 500})]"
      ]
     },
     "execution_count": 43,
     "metadata": {},
     "output_type": "execute_result"
    }
   ],
   "source": [
    "retriever.invoke(\"what's max prime\")"
   ]
  },
  {
   "cell_type": "code",
   "execution_count": 66,
   "metadata": {},
   "outputs": [
    {
     "data": {
      "text/plain": [
       "[Document(page_content=\"DELAI DE PAIEMENT DE L’INDEMNITE\\n\\nSi, dans les trois mois à compter de la remise de l’état des pertes, l’expertise n’est pas terminée, le Souscripteur ou l’Assuré aura le droit de faire courir les intérêts par sommation. Si elle n’est pas terminée dans les six mois, chacune des parties pourra procéder judiciairement. Le paiement des indemnités doit être effectué dans les trente jours, soit de l’accord amiable, soit de la décision judiciaire exécutoire. Ce délai, en cas d’opposition, ne court que du jour de la mainlevée.\\n\\nSUBROGATION – RECOURS APRES SINISTRE\\n\\nLa Société est subrogée dans les termes de l’article L 121-12 du Code des Assurances jusqu’à concurrence de l’indemnité payée par elle, dans les droits et actions de l’Assuré contre tout responsable du sinistre. Si la subrogation ne peut plus, du fait de l’Assuré, s’opérer en faveur de la Société, celle-ci est déchargée de ses obligations envers l’Assuré dans la mesure où cette subrogation aurait pu s’exercer.\\n\\n60 - AMY Underwriting Agence de Souscription Garantie Financière et Assurance de Responsabilité Civile Professionnelle conformes aux articles L530-1 et L530-2 du Code des Assurances Orias : 10054915 Registre du Commerce de Lyon : 514 056 373 - Siège social 29 Rue Saint Simon 69009 Lyon TEL +33 (0) 4 72 82 22 82 - FAX + 33 (0) 4 72 82 22 83 CG AMY PRO .5 2021\\n\\nENGAGEMENTS DIVERS\\n\\nRENONCIATIONS\\n\\nLes assureurs renoncent à tous recours qu'en cas de sinistre, ils seraient fondés à exercer, le cas de malveillance excepté, contre :\", metadata={'source': '../documents/ecg_assurance/Contrats 2024/MH/LLOYDS/Conditions Générales MAMS RI 04.2021.pdf', 'document_name': 'Conditions Générales MAMS RI 04.2021.pdf', 'chunk': '107/116', 'department': 'insurance', 'category': 'mh', 'loader_method': 'unstructured', 'chunk_size': 2000}),\n",
       " Document(page_content='que barrages, batardeaux, digues, ponts routiers ou ferroviaires,\\n\\no Travaux de construction ou entretien d’engins de remontées mécaniques, de bateaux ou navires, fabrication de produits exclusivement destinés à l’industrie aéronautique ou aérospatiale,\\n\\no Travaux de recherche, forage, extraction, fabrication, raffinage, stockage de\\n\\n\\n\\ncombustibles gazeux, liquides ou solides, o Travaux nécessitant l’utilisation d’explosifs, Les conséquences pécuniaires de la violation délibérée des règles particulières de sécurité et de prudence imposées par une Loi ou un Règlement quand celle-ci : o Constitue une faute d’une gravité exceptionnelle dérivant d’un acte ou d’une omission volontaire, de la conscience du danger que devait en avoir son auteur, de l’absence de toute cause justificative,\\n\\no Et était connue ou ne pouvait être ignorée par les représentants légaux de l’entreprise,\\n\\nL’assureur ne garantit pas\\n\\n\\n\\nLes dommages subis par : o L’assuré, son conjoint, leurs ascendants et descendants, o Les préposés de l’assuré dans l’exercice de leurs fonctions, o Les associés de l’assuré ou ses représentants légaux s’il s’agit d’une personne morale,\\n\\net survenus au cours de l’exercice de l’activité professionnelle déclarée,\\n\\n44 - AMY Underwriting Agence de Souscription Garantie Financière et Assurance de Responsabilité Civile Professionnelle conformes aux articles L530-1 et L530-2 du Code des Assurances Orias : 10054915 Registre du Commerce de Lyon : 514 056 373 - Siège social 29 Rue Saint Simon 69009 Lyon TEL +33 (0) 4 72 82 22 82 - FAX + 33 (0) 4 72 82 22 83 Référence : CG-MAMS-MDE-RI-04/2021\\n\\no Les biens meubles et immeubles, y compris les véhicules, animaux, choses ou substances dont l’assuré ou les personnes dont il est civilement responsable, sont propriétaires ou qui leur sont confiés à quelque titre que ce soit,\\n\\n•', metadata={'source': '../documents/ecg_assurance/Contrats 2024/MH/LLOYDS/Conditions Générales MAMS RI 04.2021.pdf', 'document_name': 'Conditions Générales MAMS RI 04.2021.pdf', 'chunk': '80/116', 'department': 'insurance', 'category': 'mh', 'loader_method': 'unstructured', 'chunk_size': 2000}),\n",
       " Document(page_content='FAUTE PAR LE SOUSCRIPTEUR OU L’ASSURE DE SE CONFORMER AUX OBLIGATIONS PREVUES AUX ARTICLES 11,111 A 11,115, SAUF CAS FORTUIT OU DE FORCE MAJEURE, LA SOCIETE PEUT RECLAMER UNE INDEMNITE PROPORTIONNEE AU PREJUDICE QUE CE MANQUEMENT PEUT LUI CAUSER.\\n\\nSi, de mauvaise foi, le souscripteur ou l’assuré : Fait de fausses déclarations ; Exagère le montant des dommages ; Prétend détruits ou disparus des objets n’existant pas lors du sinistre ; Dissimule ou soustrait tout ou partie des objets Assurés ; Ne déclare pas l’existence d’autres assurances portant sur les mêmes risques ; • emploie comme justification des documents inexacts ou use de moyens frauduleux.\\n\\n\\n\\n\\n\\n\\n\\n\\n\\n\\n\\nIL EST DECHU DE TOUT DROIT A L’INDEMNITE SUR L’ENSEMBLE DES RISQUES SINISTRES, LA DECHEANCE ETANT INDIVISIBLE ENTRE LES DIFFERENTS ARTICLES DU CONTRAT.\\n\\n59 - AMY Underwriting Agence de Souscription Garantie Financière et Assurance de Responsabilité Civile Professionnelle conformes aux articles L530-1 et L530-2 du Code des Assurances Orias : 10054915 Registre du Commerce de Lyon : 514 056 373 - Siège social 29 Rue Saint Simon 69009 Lyon TEL +33 (0) 4 72 82 22 82 - FAX + 33 (0) 4 72 82 22 83 CG AMY PRO .5 2021\\n\\nESTIMATION DES BIENS ASSURES APRES SINISTRE\\n\\nL’assurance ne peut être une cause de bénéfice pour l’Assuré ; elle ne lui garantit que la réparation de ses pertes réelles ou de celles dont il est responsable.\\n\\nEXPERTISE - SAUVETAGE', metadata={'source': '../documents/ecg_assurance/Contrats 2024/MH/LLOYDS/Conditions Générales MAMS RI 04.2021.pdf', 'document_name': 'Conditions Générales MAMS RI 04.2021.pdf', 'chunk': '105/116', 'department': 'insurance', 'category': 'mh', 'loader_method': 'unstructured', 'chunk_size': 2000}),\n",
       " Document(page_content='LE SINISTRE\\n\\nDECLARATION DU SINISTRE PAR LE SOUSCRIPTEUR\\n\\nEn cas de sinistre, l’assuré, ou à défaut, le souscripteur doit :\\n\\n\\n\\n\\n\\n\\n\\nDonner, sous peine de déchéance, sauf cas fortuit ou de force majeure, dès qu’il en a eu connaissance et au plus tard dans les cinq jours ouvrés, avis du sinistre à la Société, par écrit - de préférence par lettre recommandée - ou verbalement contre récépissé. Toute déclaration tardive entraînera la déchéance de la garantie dès lors que la Société aura établi que le retard dans la déclaration lui a causé un préjudice. Toutefois, la déchéance ne pourra s’appliquer dans tous les cas où le retard est dû à un cas fortuit ou de force majeure ; Prendre immédiatement toutes les mesures nécessaires pour en limiter l’importance et sauvegarder les biens garantis ; Indiquer dans la déclaration du sinistre ou sinon, dans les plus brefs délais : -\\n\\n\\n\\nLa date et les circonstances du sinistre, ses causes connues ou présumées, la nature et le montant approximatif des dommages ; S’il en a connaissance, le nom et l’adresse de l’auteur du sinistre ou de la personne civilement responsable et des témoins, s’il y en a ;\\n\\n\\n\\n\\n\\nCommuniquer, à la demande de la Société, tous documents nécessaires à l’instruction et au règlement du sinistre ; Transmettre à la Société, dès réception, tous avis, lettres, convocations, assignations, actes extrajudiciaires et pièces de procédure qui seraient adressés, remis ou signifiés à lui-même ou à ses préposés concernant un sinistre susceptible d’engager sa responsabilité.\\n\\nFAUTE PAR LE SOUSCRIPTEUR OU L’ASSURE DE SE CONFORMER AUX OBLIGATIONS PREVUES AUX ARTICLES 11,111 A 11,115, SAUF CAS FORTUIT OU DE FORCE MAJEURE, LA SOCIETE PEUT RECLAMER UNE INDEMNITE PROPORTIONNEE AU PREJUDICE QUE CE MANQUEMENT PEUT LUI CAUSER.', metadata={'source': '../documents/ecg_assurance/Contrats 2024/MH/LLOYDS/Conditions Générales MAMS RI 04.2021.pdf', 'document_name': 'Conditions Générales MAMS RI 04.2021.pdf', 'chunk': '104/116', 'department': 'insurance', 'category': 'mh', 'loader_method': 'unstructured', 'chunk_size': 2000})]"
      ]
     },
     "execution_count": 66,
     "metadata": {},
     "output_type": "execute_result"
    }
   ],
   "source": [
    "retriever.invoke(\"what is my obligation for soustraitant\")"
   ]
  }
 ],
 "metadata": {
  "kernelspec": {
   "display_name": "Python 3 (ipykernel)",
   "language": "python",
   "name": "python3"
  },
  "language_info": {
   "codemirror_mode": {
    "name": "ipython",
    "version": 3
   },
   "file_extension": ".py",
   "mimetype": "text/x-python",
   "name": "python",
   "nbconvert_exporter": "python",
   "pygments_lexer": "ipython3",
   "version": "3.10.13"
  }
 },
 "nbformat": 4,
 "nbformat_minor": 4
}
