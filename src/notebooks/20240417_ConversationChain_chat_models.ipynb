{
 "cells": [
  {
   "cell_type": "code",
   "execution_count": 1,
   "metadata": {},
   "outputs": [
    {
     "name": "stderr",
     "output_type": "stream",
     "text": [
      "2024-04-19 12:40:16.321666: I tensorflow/core/platform/cpu_feature_guard.cc:210] This TensorFlow binary is optimized to use available CPU instructions in performance-critical operations.\n",
      "To enable the following instructions: AVX2 FMA, in other operations, rebuild TensorFlow with the appropriate compiler flags.\n"
     ]
    }
   ],
   "source": [
    "from vertexai.language_models import TextGenerationModel\n",
    "from vertexai.language_models import TextEmbeddingModel\n",
    "import vertexai"
   ]
  },
  {
   "cell_type": "code",
   "execution_count": 2,
   "metadata": {},
   "outputs": [],
   "source": [
    "from langchain.chat_models import ChatVertexAI"
   ]
  },
  {
   "cell_type": "code",
   "execution_count": 4,
   "metadata": {},
   "outputs": [],
   "source": [
    "from langchain.chat_models import ChatVertexAI\n",
    "from langchain.chains import ConversationChain\n",
    "from langchain.chains.conversation.memory import ConversationBufferWindowMemory\n",
    "from langchain.prompts import (\n",
    "    SystemMessagePromptTemplate,\n",
    "    HumanMessagePromptTemplate,\n",
    "    ChatPromptTemplate,\n",
    "    MessagesPlaceholder\n",
    ")"
   ]
  },
  {
   "cell_type": "code",
   "execution_count": 5,
   "metadata": {},
   "outputs": [],
   "source": [
    "import sys\n",
    "\n",
    "# Add the directory to sys.path\n",
    "sys.path.append('/home/qianyucazelles/chatbot_rag/src')"
   ]
  },
  {
   "cell_type": "markdown",
   "metadata": {},
   "source": [
    "# Vector store"
   ]
  },
  {
   "cell_type": "code",
   "execution_count": 6,
   "metadata": {},
   "outputs": [
    {
     "name": "stderr",
     "output_type": "stream",
     "text": [
      "Model_name will become a required arg for VertexAIEmbeddings starting from Feb-01-2024. Currently the default is set to textembedding-gecko@001\n"
     ]
    }
   ],
   "source": [
    "from utils.chatbot import get_vector_store_by_topic\n",
    "me = get_vector_store_by_topic(topic=\"DPO\")"
   ]
  },
  {
   "cell_type": "code",
   "execution_count": 7,
   "metadata": {},
   "outputs": [],
   "source": [
    "q1= '''Je n'aurai pas le temps de traiter la demande de droit à l'oubli d'un utilisateur dans le mois règlementaire imposé par la CNIL. Ai-je un recours ?'''\n",
    "q2 = '''J'ai des difficultés à comprendre les différentes obligations que j'ai vis-à-vis des sous-traitants qui travaillent pour moi. Pourrais-tu me faire un résumé ?'''\n",
    "q3 = '''Je ne sais pas quand est-ce qu'une analyse d'impact est indispensable ou non pour un traitement. Peux-tu m'expliquer clairement quand est-ce que je dois les réaliser et de manière simple ?'''"
   ]
  },
  {
   "cell_type": "code",
   "execution_count": 8,
   "metadata": {},
   "outputs": [
    {
     "name": "stdout",
     "output_type": "stream",
     "text": [
      "Waiting\n"
     ]
    }
   ],
   "source": [
    "question = q3\n",
    "context = me.similarity_search(question, k=5)"
   ]
  },
  {
   "cell_type": "code",
   "execution_count": 9,
   "metadata": {},
   "outputs": [
    {
     "data": {
      "text/plain": [
       "[Document(page_content=\".\\nLorsqu'il effectue une analyse d'impact relative à la protection des données, le responsable du traitement\\ndemande conseil au délégué à la protection des données, si un tel délégué a été désigné.\\nL'analyse d'impact relative à la protection des données visée au paragraphe 1 est, en particulier, requise\\ndans les cas suivants:\\na) l'évaluation systématique et approfondie d'aspects personnels concernant des\\npersonnes physiques, qui est fondée sur un traitement automatisé, y compris le\\nprofilage, et sur la base de laquelle sont prises des décisions produisant des effets\\njuridiques à l'égard d'une personne physique ou l'affectant de manière\\nsignificative de façon similaire;\\nL'autorité de contrôle établit et publie une liste des types d'opérations de traitement pour lesquelles une\\nanalyse d'impact relative à la protection des données est requise conformément au paragraphe 1. L'autorité de\\ncontrôle communique ces listes au comité visé à l'article 68\", metadata={'source': '../documents/ecg_dpo/CNIL/CHAPITRE IV - Responsable du traitement et sous-traitant _ CNIL.pdf', 'page': '11', 'chunk': '1', 'score': 0.80046546459198}),\n",
       " Document(page_content=\".\\nL'analyse contient au moins:\\na) une description systématique des opérations de traitement envisagées et des\\nfinalités du traitement, y compris, le cas échéant, l'intérêt légitime poursuivi par\\nle responsable du traitement;\\nLe respect, par les responsables du traitement ou sous-traitants concernés, de codes de conduite\\napprouvés visés à l'article 40 est dûment pris en compte lors de l'évaluation de l'impact des opérations de\\ntraitement effectuées par lesdits responsables du traitement ou sous-traitants, en particulier aux fins d'une\\nanalyse d'impact relative à la protection des données.\\nLe cas échéant, le responsable du traitement demande l'avis des personnes concernées ou de leurs\\nreprésentants au sujet du traitement prévu, sans préjudice de la protection des intérêts généraux ou\\ncommerciaux ou de la sécurité des opérations de traitement\", metadata={'source': '../documents/ecg_dpo/CNIL/CHAPITRE IV - Responsable du traitement et sous-traitant _ CNIL.pdf', 'page': '12', 'chunk': '1', 'score': 0.7911128997802734}),\n",
       " Document(page_content=\"4/15/24, 9:57 AM CHAPITRE IV - Responsable du traitement et sous-traitant | CNIL\\nhttps://www.cnil.fr/fr/reglement-europeen-protection-donnees/chapitre4 12/231.\\n2.\\n3.\\n4.\\n5.Section 3 - Analyse d'impact relative à la protection des données et\\nconsultation préalable\\nArticle 35 - Analyse d'impact relative à la protection des données\\nLorsqu'un type de traitement, en particulier par le recours à de nouvelles technologies, et compte tenu de\\nla nature, de la portée, du contexte et des finalités du traitement, est susceptible d'engendrer un risque élevé\\npour les droits et libertés des personnes physiques, le responsable du traitement effectue, avant le traitement,\\nune analyse de l'impact des opérations de traitement envisagées sur la protection des données à caractère\\npersonnel. Une seule et même analyse peut porter sur un ensemble d'opérations de traitement similaires qui\\nprésentent des risques élevés similaires\", metadata={'source': '../documents/ecg_dpo/CNIL/CHAPITRE IV - Responsable du traitement et sous-traitant _ CNIL.pdf', 'page': '11', 'chunk': '0', 'score': 0.783067524433136}),\n",
       " Document(page_content=\".\\n \\n4. Il y a lieu de distinguer la demande de confirmation fermée par laquelle il est demandé au tiers de donner\\nson accord sur l'information fournie de la demande de confirmation ouverte par laquelle il est demandé au\\ntiers de fournir lui-même l'information.\\n \\n5. Cette technique de contrôle est généralement utilisée pour confirmer un solde de compte et les éléments le\\ncomposant, mais elle peut aussi permettre de confirmer :\\n \\n- les termes d'un contrat ou l'absence d'accords particuliers susceptibles d'avoir une incidence sur la\\ncomptabilisation de produits ;\\n \\n- ou encore l'absence d'engagements hors bilan.\\n \\n6. Le commissaire aux comptes utilise cette technique de contrôle lorsqu'il l'estime nécessaire à la collecte\\nd'éléments suffisants et appropriés pour vérifier une assertion.\\n \\nPour ce faire, il prend en compte le risque d'anomalies significatives au niveau de l'assertion et ce qui est\\nattendu des autres procédures d'audit planifiées en terme de réduction de ce risque.\\n \\n7\", metadata={'source': '../documents/ecg_dpo/LEGITEXT000005634379.pdf', 'page': '3369', 'chunk': '92', 'title': 'ARTICLE L. 821-63 DU', 'score': 0.7828149795532227}),\n",
       " Document(page_content=\".\\nLorsque le traitement effectué en application de l'article 6, paragraphe 1, point c) ou e), a une base\\njuridique dans le droit de l'Union ou dans le droit de l'État membre auquel le responsable du traitement est\\nsoumis, que ce droit règlemente l'opération de traitement spécifique ou l'ensemble des opérations de\\ntraitement en question et qu'une analyse d'impact relative à la protection des données a déjà été effectuée\\ndans le cadre d'une analyse d'impact générale réalisée dans le cadre de l'adoption de la base juridique en\\nquestion, les paragraphes 1 à 7 ne s'appliquent pas, à moins que les États membres n'estiment qu'il est\\nnécessaire d'effectuer une telle analyse avant les activités de traitement.\\nSi nécessaire, le responsable du traitement procède à un examen afin d'évaluer si le traitement est\\neffectué conformément à l'analyse d'impact relative à la protection des données, au moins quand il se produit\\nune modification du risque présenté par les opérations de traitement\", metadata={'source': '../documents/ecg_dpo/CNIL/CHAPITRE IV - Responsable du traitement et sous-traitant _ CNIL.pdf', 'page': '12', 'chunk': '2', 'score': 0.7818951606750488})]"
      ]
     },
     "execution_count": 9,
     "metadata": {},
     "output_type": "execute_result"
    }
   ],
   "source": [
    "context"
   ]
  },
  {
   "cell_type": "markdown",
   "metadata": {},
   "source": [
    "# llm"
   ]
  },
  {
   "cell_type": "markdown",
   "metadata": {},
   "source": [
    "##### - Chatvertex AI LLM"
   ]
  },
  {
   "cell_type": "code",
   "execution_count": 10,
   "metadata": {},
   "outputs": [],
   "source": [
    "model_option =\"chat-bison\" #\"gemini-pro\" #"
   ]
  },
  {
   "cell_type": "code",
   "execution_count": 11,
   "metadata": {},
   "outputs": [
    {
     "name": "stderr",
     "output_type": "stream",
     "text": [
      "/home/qianyucazelles/internal_knowledge_chatbot/venv/lib/python3.10/site-packages/langchain_core/_api/deprecation.py:117: LangChainDeprecationWarning: The class `langchain_community.chat_models.vertexai.ChatVertexAI` was deprecated in langchain-community 0.0.12 and will be removed in 0.2.0. An updated version of the class exists in the langchain-google-vertexai package and should be used instead. To use it run `pip install -U langchain-google-vertexai` and import as `from langchain_google_vertexai import ChatVertexAI`.\n",
      "  warn_deprecated(\n"
     ]
    }
   ],
   "source": [
    "llm = ChatVertexAI(model_name=model_option,\n",
    "                max_output_tokens=1024,\n",
    "                temperature=0.2,\n",
    "                top_p=0.75,\n",
    "                top_k=40,\n",
    "                verbose=True\n",
    "            )"
   ]
  },
  {
   "cell_type": "markdown",
   "metadata": {},
   "source": [
    "#### - local model"
   ]
  },
  {
   "cell_type": "code",
   "execution_count": 10,
   "metadata": {},
   "outputs": [],
   "source": [
    "# import torch\n",
    "# from transformers import pipeline, AutoTokenizer, AutoModelForCausalLM,BitsAndBytesConfig, BitsAndBytesConfig\n",
    "# from transformers import TextStreamer\n",
    "\n",
    "# torch_dtype = torch.float16\n",
    "# quantization_config = BitsAndBytesConfig(load_in_8bit=True)\n",
    "\n",
    "# device = torch.device(\"cuda:1\" if torch.cuda.is_available() else \"cpu\")\n",
    "# torch.cuda.set_device(device)\n",
    "\n",
    "# model_id = \"HuggingFaceH4/zephyr-7b-beta\" #\"google/gemma-2b-it\""
   ]
  },
  {
   "cell_type": "code",
   "execution_count": 11,
   "metadata": {},
   "outputs": [],
   "source": [
    "# device"
   ]
  },
  {
   "cell_type": "code",
   "execution_count": 12,
   "metadata": {},
   "outputs": [],
   "source": [
    "# tokenizer = AutoTokenizer.from_pretrained(model_id,torch_dtype=torch_dtype)\n",
    "# model = AutoModelForCausalLM.from_pretrained(model_id, low_cpu_mem_usage=True, torch_dtype=torch_dtype,quantization_config= quantization_config)\n",
    "# streamer = TextStreamer(tokenizer, skip_prompt=True)"
   ]
  },
  {
   "cell_type": "code",
   "execution_count": 13,
   "metadata": {},
   "outputs": [],
   "source": [
    "# from langchain.llms import HuggingFacePipeline\n",
    "# pipe = pipeline(\n",
    "#     \"text-generation\",\n",
    "#     model=model,\n",
    "#     tokenizer=tokenizer,\n",
    "#     max_new_tokens=1024,\n",
    "#     do_sample= True,\n",
    "#     temperature=0.2,\n",
    "#     top_p=0.75,\n",
    "#     top_k=40,\n",
    "#     repetition_penalty=1.2,\n",
    "#     streamer=streamer\n",
    "# )\n",
    "\n",
    "# llm = HuggingFacePipeline(pipeline=pipe)"
   ]
  },
  {
   "cell_type": "markdown",
   "metadata": {},
   "source": [
    "# Conversation Chain"
   ]
  },
  {
   "cell_type": "code",
   "execution_count": 23,
   "metadata": {},
   "outputs": [],
   "source": [
    "def get_template(model_option):\n",
    "    '''\n",
    "    Generate prompt template for ConversationChain based on model.\n",
    "    '''\n",
    "    human_msg_template = HumanMessagePromptTemplate.from_template(template=\"{input}\")\n",
    "    if model_option == \"chat-bison\":\n",
    "        system_msg_template = SystemMessagePromptTemplate.from_template(\n",
    "            template=\"\"\"\n",
    "            You are an intelligent assistant helping the users with their questions.\n",
    "            \n",
    "            Answer the question as truthfully as possible using the provided context below. Think step-by-step and then answer.\n",
    "        \n",
    "            Response style:\n",
    "            - Always citing the document title that you are generating answer from.\n",
    "            \n",
    "            Do not try to make up an answer:\n",
    "            - If the answer to the question cannot be determined from the context alone, say \"I cannot determine the answer to that.\"\n",
    "            - If the context is empty, just say \"I do not know the answer to that.\"\n",
    "            - If it's not a question, just say \"Do you want to ask a question?\"\n",
    "            \"\"\"\n",
    "        )\n",
    "        prompt_template = ChatPromptTemplate.from_messages(\n",
    "            [system_msg_template, MessagesPlaceholder(variable_name=\"history\"), human_msg_template]\n",
    "            )\n",
    "    else:\n",
    "        prompt_template = ChatPromptTemplate.from_messages(\n",
    "            [ MessagesPlaceholder(variable_name=\"history\"), human_msg_template]\n",
    "            )\n",
    "    return prompt_template\n",
    "\n",
    "prompt_template = get_template(model_option)\n",
    "conversation = ConversationChain(memory=buffer_memory, prompt=prompt_template, llm=llm, verbose=True)\n"
   ]
  },
  {
   "cell_type": "code",
   "execution_count": 26,
   "metadata": {},
   "outputs": [
    {
     "name": "stdout",
     "output_type": "stream",
     "text": [
      "Waiting\n"
     ]
    }
   ],
   "source": [
    "question = q1\n",
    "context = me.similarity_search(question, k=5)"
   ]
  },
  {
   "cell_type": "code",
   "execution_count": 21,
   "metadata": {},
   "outputs": [],
   "source": [
    "buffer_memory=ConversationBufferWindowMemory(k=0,return_messages=True)\n",
    "buffer_memory.clear()"
   ]
  },
  {
   "cell_type": "code",
   "execution_count": 27,
   "metadata": {},
   "outputs": [
    {
     "name": "stdout",
     "output_type": "stream",
     "text": [
      "\n",
      "\n",
      "\u001b[1m> Entering new ConversationChain chain...\u001b[0m\n",
      "Prompt after formatting:\n",
      "\u001b[32;1m\u001b[1;3mSystem: \n",
      "            You are an intelligent assistant helping the users with their questions.\n",
      "            \n",
      "            Answer the question as truthfully as possible using the provided context below. Think step-by-step and then answer.\n",
      "        \n",
      "            Response style:\n",
      "            - Always citing the document title that you are generating answer from.\n",
      "            \n",
      "            Do not try to make up an answer:\n",
      "            - If the answer to the question cannot be determined from the context alone, say \"I cannot determine the answer to that.\"\n",
      "            - If the context is empty, just say \"I do not know the answer to that.\"\n",
      "            - If it's not a question, just say \"Do you want to ask a question?\"\n",
      "            \n",
      "Human: Context:\n",
      " [Document(page_content=\"réception et l'entend dans un délai de deux mois. L'intéressé peut se faire assister par un commissaire aux\\ncomptes ou un avocat ou représenter par un avocat.\\n \\nEn l'absence de motif légitime, la Haute autorité retire le commissaire aux comptes de la liste mentionnée au\\nI de l'article L. 821-13.\\n \\nII.-Lorsqu'un commissaire aux comptes inscrit sur la liste mentionnée au I de l'article L. 821-13 n'a pas\\npayé à leur échéance les cotisations dont il est redevable envers la Compagnie nationale ou les compagnies\\nrégionales au titre de l'article L. 821-12, le conseil régional met en demeure l'intéressé de respecter ses\\nobligations dans un délai de trente jours à compter de la réception de l'acte.\\n \\nFaute de régularisation dans ce délai, il saisit la Haute autorité de l'audit, qui procède conformément aux\\ndeuxième et troisième alinéas du I du présent article.\\n \\nIII.-Le retrait de la liste mentionnée au I de l'article L\", metadata={'source': '../documents/ecg_dpo/LEGITEXT000005634379.pdf', 'page': '2693', 'chunk': '233', 'title': 'ARTICLE R. 814-58-6 DU CODE DE COMMERCE', 'score': 0.8135704398155212}), Document(page_content=\".\\nCe délai est porté à un an, prorogeable de six mois au plus, en cas de décès ou d'incapacité physique ou\\nlégale de la personne titulaire de l'attestation de capacité, conformément au premier alinéa de l'article R.\\n4421-5 du code des transports. La déclaration est accompagnée de l'attestation prévue à l'article R. 4421-4 du\\nmême code.\\n \\nArticle R123-281\\n \\nLorsque la personne immatriculée au Registre national des entreprises en tant qu'entreprise du secteur des\\nmétiers et de l'artisanat ne remplit plus les conditions pour bénéficier des mentions prévues à l'article L.\\n123-46, elle en demande la suppression dans le délai d'un mois auprès du président de la chambre de métiers\\net de l'artisanat de région ou, par délégation, du président de la chambre de métiers et de l'artisanat de niveau\\ndépartemental, par l'intermédiaire de l'organisme unique mentionné à l'article R. 123-1, dans les conditions\\nprévues aux articles R. 123-6 et R. 123-7\", metadata={'source': '../documents/ecg_dpo/LEGITEXT000005634379.pdf', 'page': '2436', 'chunk': '3799', 'title': 'ARTICLE', 'score': 0.8034860491752625}), Document(page_content=\". 235-4, aucune décision n'a été prise, le tribunal statue à la\\ndemande de la partie la plus diligente.\\n \\n \\nArticle L235-6\\n \\nEn cas de nullité d'une société ou d'actes et délibérations postérieurs à sa constitution, fondée sur un vice du\\nconsentement ou l'incapacité d'un associé, et lorsque la régularisation peut intervenir, toute personne y ayant\\nintérêt peut mettre en demeure celui qui est susceptible de l'opérer, soit de régulariser, soit d'agir en nullité\\ndans un délai de six mois à peine de forclusion. Cette mise en demeure est dénoncée à la société.\\n \\n \\nLa société ou un associé peut soumettre au tribunal saisi dans le délai prévu à l'alinéa précédent, toute\\nmesure susceptible de supprimer l'intérêt du demandeur, notamment par le rachat de ses droits sociaux. En ce\\ncas, le tribunal peut, soit prononcer la nullité, soit rendre obligatoires les mesures proposées, si celles-ci ont\\nété préalablement adoptées par la société aux conditions prévues pour les modifications statutaires\", metadata={'source': '../documents/ecg_dpo/LEGITEXT000005634379.pdf', 'page': '2436', 'chunk': '1241', 'title': 'ARTICLE', 'score': 0.8016882538795471}), Document(page_content=\"Lorsqu'un professionnel soumis aux dispositions du chapitre Ier du titre II du livre II est dans l'incapacité\\nmanifeste de respecter ses obligations prévues à l'article L. 221-15, l'autorité administrative chargée de la\\nconcurrence et de la consommation peut lui enjoindre, pour une durée initiale ne pouvant excéder deux mois\\net susceptible d'être renouvelée par période d'au plus un mois : \\n1° De ne plus prendre aucun paiement avant la livraison intégrale du bien ou l'exécution effective du\\nservice ; \\n2° D'informer le consommateur de l'injonction dont il fait l'objet et, s'il y a lieu, des biens ou services visés\\npar cette mesure, selon des modalités fixées par l'injonction. \\nLorsque le professionnel n'a pas déféré à cette injonction dans le délai prescrit, l'autorité administrative\\nchargée de la concurrence et de la consommation peut demander à la juridiction civile d'ordonner, sous\\nastreinte, la suspension de la prise des paiements\", metadata={'source': '../documents/ecg_dpo/LEGITEXT000006069565.pdf', 'page': '292', 'chunk': '89', 'title': 'ARTICLES APPLICABLES ', 'score': 0.8010320663452148}), Document(page_content=\".\\n \\nLa décision est communiquée au Trésor public et signifiée à la diligence du greffier au représentant légal de\\nla personne morale ou à l'entrepreneur individuel à responsabilité limitée. L'appel est formé, instruit et jugé\\nselon les règles applicables à la procédure sans représentation obligatoire. Les voies de recours sont ouvertes\\nau ministère public.\\nArticle R611-17\\n \\nLa demande de renseignements prévue au dernier alinéa de l'article L. 611-2 est adressée à compter de\\nl'expiration du délai prévu au premier alinéa de l'article R. 611-13. Elle est écrite et accompagnée de la copie\\nde l'ordonnance mentionnée à l'article R. 611-13 ainsi que du procès-verbal mentionné à l'article R. 611-15.\\n \\n \\nSi la demande a été présentée dans les formes et délai prescrits au premier alinéa, les personnes et\\norganismes interrogés communiquent les renseignements réclamés dans le délai d'un mois. Dans le cas\\ncontraire, ils ne sont pas tenus d'y répondre\", metadata={'source': '../documents/ecg_dpo/LEGITEXT000005634379.pdf', 'page': '2436', 'chunk': '5085', 'title': 'ARTICLE', 'score': 0.8007760047912598})] \n",
      "\n",
      " Query:\n",
      "Je n'aurai pas le temps de traiter la demande de droit à l'oubli d'un utilisateur dans le mois règlementaire imposé par la CNIL. Ai-je un recours ?\u001b[0m\n",
      "\n",
      "\u001b[1m> Finished chain.\u001b[0m\n"
     ]
    },
    {
     "data": {
      "text/plain": [
       "\" Selon l'article R. 814-58-6 du Code de commerce, le délai de deux mois pour traiter une demande de droit à l'oubli peut être prorogé d'un an, prorogeable de six mois au plus, en cas de décès ou d'incapacité physique ou légale de la personne titulaire de l'attestation de capacité.\""
      ]
     },
     "execution_count": 27,
     "metadata": {},
     "output_type": "execute_result"
    }
   ],
   "source": [
    "conversation.predict(input=f\"Context:\\n {context} \\n\\n Query:\\n{question}\")"
   ]
  },
  {
   "cell_type": "code",
   "execution_count": 28,
   "metadata": {},
   "outputs": [
    {
     "name": "stdout",
     "output_type": "stream",
     "text": [
      "\n",
      "\n",
      "\u001b[1m> Entering new ConversationChain chain...\u001b[0m\n",
      "Prompt after formatting:\n",
      "\u001b[32;1m\u001b[1;3mSystem: \n",
      "            You are an intelligent assistant helping the users with their questions.\n",
      "            \n",
      "            Answer the question as truthfully as possible using the provided context below. Think step-by-step and then answer.\n",
      "        \n",
      "            Response style:\n",
      "            - Always citing the document title that you are generating answer from.\n",
      "            \n",
      "            Do not try to make up an answer:\n",
      "            - If the answer to the question cannot be determined from the context alone, say \"I cannot determine the answer to that.\"\n",
      "            - If the context is empty, just say \"I do not know the answer to that.\"\n",
      "            - If it's not a question, just say \"Do you want to ask a question?\"\n",
      "            \n",
      "Human: Context:\n",
      " [Document(page_content=\"réception et l'entend dans un délai de deux mois. L'intéressé peut se faire assister par un commissaire aux\\ncomptes ou un avocat ou représenter par un avocat.\\n \\nEn l'absence de motif légitime, la Haute autorité retire le commissaire aux comptes de la liste mentionnée au\\nI de l'article L. 821-13.\\n \\nII.-Lorsqu'un commissaire aux comptes inscrit sur la liste mentionnée au I de l'article L. 821-13 n'a pas\\npayé à leur échéance les cotisations dont il est redevable envers la Compagnie nationale ou les compagnies\\nrégionales au titre de l'article L. 821-12, le conseil régional met en demeure l'intéressé de respecter ses\\nobligations dans un délai de trente jours à compter de la réception de l'acte.\\n \\nFaute de régularisation dans ce délai, il saisit la Haute autorité de l'audit, qui procède conformément aux\\ndeuxième et troisième alinéas du I du présent article.\\n \\nIII.-Le retrait de la liste mentionnée au I de l'article L\", metadata={'source': '../documents/ecg_dpo/LEGITEXT000005634379.pdf', 'page': '2693', 'chunk': '233', 'title': 'ARTICLE R. 814-58-6 DU CODE DE COMMERCE', 'score': 0.8135704398155212}), Document(page_content=\".\\nCe délai est porté à un an, prorogeable de six mois au plus, en cas de décès ou d'incapacité physique ou\\nlégale de la personne titulaire de l'attestation de capacité, conformément au premier alinéa de l'article R.\\n4421-5 du code des transports. La déclaration est accompagnée de l'attestation prévue à l'article R. 4421-4 du\\nmême code.\\n \\nArticle R123-281\\n \\nLorsque la personne immatriculée au Registre national des entreprises en tant qu'entreprise du secteur des\\nmétiers et de l'artisanat ne remplit plus les conditions pour bénéficier des mentions prévues à l'article L.\\n123-46, elle en demande la suppression dans le délai d'un mois auprès du président de la chambre de métiers\\net de l'artisanat de région ou, par délégation, du président de la chambre de métiers et de l'artisanat de niveau\\ndépartemental, par l'intermédiaire de l'organisme unique mentionné à l'article R. 123-1, dans les conditions\\nprévues aux articles R. 123-6 et R. 123-7\", metadata={'source': '../documents/ecg_dpo/LEGITEXT000005634379.pdf', 'page': '2436', 'chunk': '3799', 'title': 'ARTICLE', 'score': 0.8034860491752625}), Document(page_content=\". 235-4, aucune décision n'a été prise, le tribunal statue à la\\ndemande de la partie la plus diligente.\\n \\n \\nArticle L235-6\\n \\nEn cas de nullité d'une société ou d'actes et délibérations postérieurs à sa constitution, fondée sur un vice du\\nconsentement ou l'incapacité d'un associé, et lorsque la régularisation peut intervenir, toute personne y ayant\\nintérêt peut mettre en demeure celui qui est susceptible de l'opérer, soit de régulariser, soit d'agir en nullité\\ndans un délai de six mois à peine de forclusion. Cette mise en demeure est dénoncée à la société.\\n \\n \\nLa société ou un associé peut soumettre au tribunal saisi dans le délai prévu à l'alinéa précédent, toute\\nmesure susceptible de supprimer l'intérêt du demandeur, notamment par le rachat de ses droits sociaux. En ce\\ncas, le tribunal peut, soit prononcer la nullité, soit rendre obligatoires les mesures proposées, si celles-ci ont\\nété préalablement adoptées par la société aux conditions prévues pour les modifications statutaires\", metadata={'source': '../documents/ecg_dpo/LEGITEXT000005634379.pdf', 'page': '2436', 'chunk': '1241', 'title': 'ARTICLE', 'score': 0.8016882538795471}), Document(page_content=\"Lorsqu'un professionnel soumis aux dispositions du chapitre Ier du titre II du livre II est dans l'incapacité\\nmanifeste de respecter ses obligations prévues à l'article L. 221-15, l'autorité administrative chargée de la\\nconcurrence et de la consommation peut lui enjoindre, pour une durée initiale ne pouvant excéder deux mois\\net susceptible d'être renouvelée par période d'au plus un mois : \\n1° De ne plus prendre aucun paiement avant la livraison intégrale du bien ou l'exécution effective du\\nservice ; \\n2° D'informer le consommateur de l'injonction dont il fait l'objet et, s'il y a lieu, des biens ou services visés\\npar cette mesure, selon des modalités fixées par l'injonction. \\nLorsque le professionnel n'a pas déféré à cette injonction dans le délai prescrit, l'autorité administrative\\nchargée de la concurrence et de la consommation peut demander à la juridiction civile d'ordonner, sous\\nastreinte, la suspension de la prise des paiements\", metadata={'source': '../documents/ecg_dpo/LEGITEXT000006069565.pdf', 'page': '292', 'chunk': '89', 'title': 'ARTICLES APPLICABLES ', 'score': 0.8010320663452148}), Document(page_content=\".\\n \\nLa décision est communiquée au Trésor public et signifiée à la diligence du greffier au représentant légal de\\nla personne morale ou à l'entrepreneur individuel à responsabilité limitée. L'appel est formé, instruit et jugé\\nselon les règles applicables à la procédure sans représentation obligatoire. Les voies de recours sont ouvertes\\nau ministère public.\\nArticle R611-17\\n \\nLa demande de renseignements prévue au dernier alinéa de l'article L. 611-2 est adressée à compter de\\nl'expiration du délai prévu au premier alinéa de l'article R. 611-13. Elle est écrite et accompagnée de la copie\\nde l'ordonnance mentionnée à l'article R. 611-13 ainsi que du procès-verbal mentionné à l'article R. 611-15.\\n \\n \\nSi la demande a été présentée dans les formes et délai prescrits au premier alinéa, les personnes et\\norganismes interrogés communiquent les renseignements réclamés dans le délai d'un mois. Dans le cas\\ncontraire, ils ne sont pas tenus d'y répondre\", metadata={'source': '../documents/ecg_dpo/LEGITEXT000005634379.pdf', 'page': '2436', 'chunk': '5085', 'title': 'ARTICLE', 'score': 0.8007760047912598})] \n",
      "\n",
      " Query:\n",
      "Are you referring to document source with'CNIL'\u001b[0m\n",
      "\n",
      "\u001b[1m> Finished chain.\u001b[0m\n"
     ]
    },
    {
     "data": {
      "text/plain": [
       "' I cannot determine the answer to that.'"
      ]
     },
     "execution_count": 28,
     "metadata": {},
     "output_type": "execute_result"
    }
   ],
   "source": [
    "question = \"Are you referring to document source with'CNIL'\"\n",
    "conversation.predict(input=f\"Context:\\n {context} \\n\\n Query:\\n{question}\")"
   ]
  },
  {
   "cell_type": "markdown",
   "metadata": {},
   "source": [
    "# Question Refiner"
   ]
  },
  {
   "cell_type": "code",
   "execution_count": 33,
   "metadata": {},
   "outputs": [],
   "source": [
    "def query_refiner(conversation:str, \n",
    "                  query:str,\n",
    "                  text_model = \"text-bison@002\"):\n",
    "    '''\n",
    "    Refine user's query based on conversation history.\n",
    "    ###\n",
    "    conversation: previous conversation history\n",
    "    query: last question that user posted\n",
    "    output: refined query based on conversation history context\n",
    "    '''\n",
    "    model = TextGenerationModel.from_pretrained(text_model)\n",
    "    response = model.predict(\n",
    "    prompt=f\"Given the following user query and conversation log, formulate a question that would be the most relevant to provide the user with an answer from a knowledge base if possible specify the topic or document source.If the query is not a question or not relevant to previous conversation, please keep original query.\\n\\nCONVERSATION LOG: \\n{conversation}\\n\\nQuery: {query}\\n\\nRefined Query:\",\n",
    "    temperature=0,\n",
    "    max_output_tokens=256,\n",
    "    top_p=0.7,\n",
    "    top_k=20\n",
    "    )\n",
    "    return response.text"
   ]
  },
  {
   "cell_type": "code",
   "execution_count": 45,
   "metadata": {},
   "outputs": [],
   "source": [
    "conversation_string = \"\"\n",
    "query = \"Je n'aurai pas le temps de traiter la demande de droit à l'oubli d'un utilisateur dans le mois règlementaire imposé par la CNIL. Ai-je un recours ?\"\n"
   ]
  },
  {
   "cell_type": "code",
   "execution_count": 46,
   "metadata": {},
   "outputs": [],
   "source": [
    "response = '''D'après le document intitulé \"ARTICLE R. 814-58-6 DU CODE DE COMMERCE\", si un commissaire aux comptes inscrit sur la liste mentionnée au I de l'article L. 821-13 n'a pas payé à leur échéance les cotisations dont il est redevable envers la Compagnie nationale ou les compagnies régionales au titre de l'article L. 821-12, le conseil régional met en demeure l'intéressé de respecter ses obligations dans un délai de trente jours à compter de la réception de l'acte.'''\n",
    "conversation_string += \"Human: \"+query+ \"\\n\"\n",
    "conversation_string += \"Bot: \"+ response + \"\\n\""
   ]
  },
  {
   "cell_type": "code",
   "execution_count": 47,
   "metadata": {},
   "outputs": [
    {
     "data": {
      "text/plain": [
       "\" Quel est le délai imposé par la CNIL pour traiter une demande de droit à l'oubli ?\""
      ]
     },
     "execution_count": 47,
     "metadata": {},
     "output_type": "execute_result"
    }
   ],
   "source": [
    "query = \"Are your referring to CNIL?\"\n",
    "query_refiner(conversation_string,query)"
   ]
  }
 ],
 "metadata": {
  "kernelspec": {
   "display_name": "venv",
   "language": "python",
   "name": "python3"
  },
  "language_info": {
   "codemirror_mode": {
    "name": "ipython",
    "version": 3
   },
   "file_extension": ".py",
   "mimetype": "text/x-python",
   "name": "python",
   "nbconvert_exporter": "python",
   "pygments_lexer": "ipython3",
   "version": "3.10.13"
  }
 },
 "nbformat": 4,
 "nbformat_minor": 2
}
