{
 "cells": [
  {
   "cell_type": "markdown",
   "metadata": {},
   "source": [
    "This workbook add DPO related files into 3 vector store in order to check:\n",
    "1. How irrelevant files impact the retriver performance\n",
    "2. How chunk size impact retriver performance"
   ]
  },
  {
   "cell_type": "code",
   "execution_count": null,
   "metadata": {},
   "outputs": [],
   "source": [
    "# https://github.com/GoogleCloudPlatform/generative-ai/blob/main/language/use-cases/document-qa/question_answering_documents_langchain_matching_engine.ipynb"
   ]
  },
  {
   "cell_type": "code",
   "execution_count": 10,
   "metadata": {},
   "outputs": [],
   "source": [
    "import sys\n",
    "\n",
    "# Add the directory to sys.path\n",
    "sys.path.append('/home/qianyucazelles/internal_knowledge_chatbot/src/utils')"
   ]
  },
  {
   "cell_type": "code",
   "execution_count": 11,
   "metadata": {},
   "outputs": [],
   "source": [
    "from doc_to_vertex_search import *"
   ]
  },
  {
   "cell_type": "markdown",
   "metadata": {},
   "source": [
    "# 2. Load pdfs"
   ]
  },
  {
   "cell_type": "code",
   "execution_count": 56,
   "metadata": {},
   "outputs": [],
   "source": [
    "from loader_splitter import *"
   ]
  },
  {
   "cell_type": "markdown",
   "metadata": {},
   "source": [
    "##### - load cnils only files"
   ]
  },
  {
   "cell_type": "code",
   "execution_count": 19,
   "metadata": {},
   "outputs": [
    {
     "name": "stdout",
     "output_type": "stream",
     "text": [
      " CNIL\t      'Code de commerce'\t 'Code du tourisme'\n",
      "'Code civil'  'Code de la consommation'  'Code du travail'\n"
     ]
    }
   ],
   "source": [
    "!ls ../documents/ecg_dpo/"
   ]
  },
  {
   "cell_type": "code",
   "execution_count": 76,
   "metadata": {
    "scrolled": true
   },
   "outputs": [
    {
     "name": "stdout",
     "output_type": "stream",
     "text": [
      "[2024-05-15 10:16:23] Scanning ../documents/ecg_dpo/CNIL/CHAPITRE II - Principes _ CNIL.pdf\n",
      "Using unstrucure loader\n"
     ]
    },
    {
     "name": "stderr",
     "output_type": "stream",
     "text": [
      "/home/qianyucazelles/internal_knowledge_chatbot/venv/lib/python3.10/site-packages/tqdm/auto.py:21: TqdmWarning: IProgress not found. Please update jupyter and ipywidgets. See https://ipywidgets.readthedocs.io/en/stable/user_install.html\n",
      "  from .autonotebook import tqdm as notebook_tqdm\n"
     ]
    },
    {
     "name": "stdout",
     "output_type": "stream",
     "text": [
      "[2024-05-15 10:16:27] Scanning ../documents/ecg_dpo/CNIL/CHAPITRE I - Dispositions générales.pdf\n",
      "Using unstrucure loader\n",
      "[2024-05-15 10:16:28] Scanning ../documents/ecg_dpo/CNIL/CHAPITRE XI - Dispositions finales _ CNIL.pdf\n",
      "Using unstrucure loader\n",
      "[2024-05-15 10:16:28] Scanning ../documents/ecg_dpo/CNIL/CHAPITRE V - Transferts de données à caractère personnel vers des pays tiers ou à des organisations internationales _ CNIL.pdf\n",
      "Using unstrucure loader\n",
      "[2024-05-15 10:16:30] Scanning ../documents/ecg_dpo/CNIL/CHAPITRE VII - Coopération et cohérence _ CNIL.pdf\n",
      "Using unstrucure loader\n",
      "[2024-05-15 10:16:33] Scanning ../documents/ecg_dpo/CNIL/CHAPITRE VI - Autorités de contrôle indépendantes _ CNIL.pdf\n",
      "Using unstrucure loader\n",
      "[2024-05-15 10:16:35] Scanning ../documents/ecg_dpo/CNIL/CHAPITRE III - Droits de la personne concernée _ CNIL.pdf\n",
      "Using unstrucure loader\n",
      "[2024-05-15 10:16:37] Scanning ../documents/ecg_dpo/CNIL/CHAPITRE VIII - Voies de recours, responsabilité et sanctions _ CNIL.pdf\n",
      "Using unstrucure loader\n",
      "[2024-05-15 10:16:38] Scanning ../documents/ecg_dpo/CNIL/CHAPITRE IX - Dispositions relatives à des situations particulières de traitement _ CNIL.pdf\n",
      "Using unstrucure loader\n",
      "[2024-05-15 10:16:39] Scanning ../documents/ecg_dpo/CNIL/CHAPITRE X - Actes délégués et actes d'exécution _ CNIL.pdf\n",
      "Using unstrucure loader\n",
      "[2024-05-15 10:16:39] Scanning ../documents/ecg_dpo/CNIL/CHAPITRE IV - Responsable du traitement et sous-traitant _ CNIL.pdf\n",
      "Using unstrucure loader\n"
     ]
    }
   ],
   "source": [
    "cnil_docs, unloaded_pdfs, loaded_pdfs, other_files = process_folder(folder_path=f\"../documents/ecg_dpo/CNIL\",unstructure=True)"
   ]
  },
  {
   "cell_type": "code",
   "execution_count": 77,
   "metadata": {},
   "outputs": [
    {
     "data": {
      "text/plain": [
       "0"
      ]
     },
     "execution_count": 77,
     "metadata": {},
     "output_type": "execute_result"
    }
   ],
   "source": [
    "len(unloaded_pdfs)"
   ]
  },
  {
   "cell_type": "code",
   "execution_count": 78,
   "metadata": {},
   "outputs": [
    {
     "data": {
      "text/plain": [
       "11"
      ]
     },
     "execution_count": 78,
     "metadata": {},
     "output_type": "execute_result"
    }
   ],
   "source": [
    "len(cnil_docs)"
   ]
  },
  {
   "cell_type": "markdown",
   "metadata": {},
   "source": [
    "##### - load all dpo files"
   ]
  },
  {
   "cell_type": "code",
   "execution_count": 41,
   "metadata": {},
   "outputs": [
    {
     "name": "stdout",
     "output_type": "stream",
     "text": [
      "'Avenant 2024 Police campings Allianz.pdf'\n",
      "'Avenant LPS 2024 Police campings Allianz.pdf'\n",
      "'Avenant police campings Allianz 2024.pdf'\n",
      "'Avenant police campings LPS Allianz 2024.pdf'\n"
     ]
    }
   ],
   "source": [
    "!ls ../documents/ecg_assurance/'Contrats 2024'/CAMPINGS/ALLIANZ"
   ]
  },
  {
   "cell_type": "code",
   "execution_count": 224,
   "metadata": {},
   "outputs": [],
   "source": [
    "def process_folder(folder_path, unstructure=False):\n",
    "    docs = []\n",
    "    loaded_pdfs = []  \n",
    "    unloaded_pdfs = []\n",
    "    other_files = []\n",
    "    \n",
    "    for item in os.listdir(folder_path):\n",
    "        item_path = os.path.join(folder_path, item)\n",
    "        print_with_time(f\"Scanning {item_path}\")\n",
    "        \n",
    "        if os.path.isdir(item_path):\n",
    "            print_with_time(f\"{item_path} is folder, now go to new level\")\n",
    "            # Recursively process the subfolder and capture the returned values\n",
    "            sub_docs, sub_unloaded_pdfs, sub_loaded_pdfs, sub_other_files = process_folder(item_path, unstructure)\n",
    "            docs.extend(sub_docs)\n",
    "            unloaded_pdfs.extend(sub_unloaded_pdfs)\n",
    "            loaded_pdfs.extend(sub_loaded_pdfs)\n",
    "            other_files.extend(sub_other_files)\n",
    "            \n",
    "        elif item.lower().endswith('.pdf'):\n",
    "            try:\n",
    "                doc = load_pdf_to_langchain_doc(item_path, unstructure_loader=unstructure)\n",
    "                if len(doc[0].page_content) > 10:\n",
    "                    docs += doc\n",
    "                    loaded_pdfs.append(item_path)    \n",
    "                else:\n",
    "                    unloaded_pdfs.append(item_path)    \n",
    "            except Exception as e:\n",
    "                unloaded_pdfs.append(item_path)     \n",
    "        else:\n",
    "            other_files.append(item_path)\n",
    "            \n",
    "    return docs, unloaded_pdfs, loaded_pdfs, other_files"
   ]
  },
  {
   "cell_type": "code",
   "execution_count": 226,
   "metadata": {
    "scrolled": true
   },
   "outputs": [
    {
     "name": "stdout",
     "output_type": "stream",
     "text": [
      "[2024-05-15 13:38:49] Scanning ../documents/ecg_dpo/Code civil\n",
      "[2024-05-15 13:38:49] ../documents/ecg_dpo/Code civil is folder, now go to new level\n",
      "[2024-05-15 13:38:49] Scanning ../documents/ecg_dpo/Code civil/LEGITEXT000006070721.pdf\n",
      "Using unstrucure loader\n",
      "[2024-05-15 13:39:27] Scanning ../documents/ecg_dpo/Code de la consommation\n",
      "[2024-05-15 13:39:27] ../documents/ecg_dpo/Code de la consommation is folder, now go to new level\n",
      "[2024-05-15 13:39:27] Scanning ../documents/ecg_dpo/Code de la consommation/LEGITEXT000006069565.pdf\n",
      "Using unstrucure loader\n",
      "[2024-05-15 13:40:14] Scanning ../documents/ecg_dpo/Code du travail\n",
      "[2024-05-15 13:40:14] ../documents/ecg_dpo/Code du travail is folder, now go to new level\n",
      "[2024-05-15 13:40:14] Scanning ../documents/ecg_dpo/Code du travail/LEGITEXT000006072050.pdf\n",
      "Using unstrucure loader\n",
      "[2024-05-15 13:44:06] Scanning ../documents/ecg_dpo/Code du tourisme\n",
      "[2024-05-15 13:44:06] ../documents/ecg_dpo/Code du tourisme is folder, now go to new level\n",
      "[2024-05-15 13:44:06] Scanning ../documents/ecg_dpo/Code du tourisme/LEGITEXT000006074073.pdf\n",
      "Using unstrucure loader\n",
      "[2024-05-15 13:44:19] Scanning ../documents/ecg_dpo/CNIL\n",
      "[2024-05-15 13:44:19] ../documents/ecg_dpo/CNIL is folder, now go to new level\n",
      "[2024-05-15 13:44:19] Scanning ../documents/ecg_dpo/CNIL/CHAPITRE II - Principes _ CNIL.pdf\n",
      "Using unstrucure loader\n",
      "[2024-05-15 13:44:21] Scanning ../documents/ecg_dpo/CNIL/CHAPITRE I - Dispositions générales.pdf\n",
      "Using unstrucure loader\n",
      "[2024-05-15 13:44:22] Scanning ../documents/ecg_dpo/CNIL/CHAPITRE XI - Dispositions finales _ CNIL.pdf\n",
      "Using unstrucure loader\n",
      "[2024-05-15 13:44:22] Scanning ../documents/ecg_dpo/CNIL/CHAPITRE V - Transferts de données à caractère personnel vers des pays tiers ou à des organisations internationales _ CNIL.pdf\n",
      "Using unstrucure loader\n",
      "[2024-05-15 13:44:24] Scanning ../documents/ecg_dpo/CNIL/CHAPITRE VII - Coopération et cohérence _ CNIL.pdf\n",
      "Using unstrucure loader\n",
      "[2024-05-15 13:44:27] Scanning ../documents/ecg_dpo/CNIL/CHAPITRE VI - Autorités de contrôle indépendantes _ CNIL.pdf\n",
      "Using unstrucure loader\n",
      "[2024-05-15 13:44:29] Scanning ../documents/ecg_dpo/CNIL/CHAPITRE III - Droits de la personne concernée _ CNIL.pdf\n",
      "Using unstrucure loader\n",
      "[2024-05-15 13:44:31] Scanning ../documents/ecg_dpo/CNIL/CHAPITRE VIII - Voies de recours, responsabilité et sanctions _ CNIL.pdf\n",
      "Using unstrucure loader\n",
      "[2024-05-15 13:44:32] Scanning ../documents/ecg_dpo/CNIL/CHAPITRE IX - Dispositions relatives à des situations particulières de traitement _ CNIL.pdf\n",
      "Using unstrucure loader\n",
      "[2024-05-15 13:44:33] Scanning ../documents/ecg_dpo/CNIL/CHAPITRE X - Actes délégués et actes d'exécution _ CNIL.pdf\n",
      "Using unstrucure loader\n",
      "[2024-05-15 13:44:33] Scanning ../documents/ecg_dpo/CNIL/CHAPITRE IV - Responsable du traitement et sous-traitant _ CNIL.pdf\n",
      "Using unstrucure loader\n",
      "[2024-05-15 13:44:37] Scanning ../documents/ecg_dpo/Code de commerce\n",
      "[2024-05-15 13:44:37] ../documents/ecg_dpo/Code de commerce is folder, now go to new level\n",
      "[2024-05-15 13:44:37] Scanning ../documents/ecg_dpo/Code de commerce/LEGITEXT000005634379.pdf\n",
      "Using unstrucure loader\n"
     ]
    }
   ],
   "source": [
    "dpo_docs, unloaded_pdfs, loaded_pdfs, other_files = process_folder(folder_path=f\"../documents/ecg_dpo\",unstructure=True)"
   ]
  },
  {
   "cell_type": "code",
   "execution_count": 227,
   "metadata": {},
   "outputs": [
    {
     "data": {
      "text/plain": [
       "16"
      ]
     },
     "execution_count": 227,
     "metadata": {},
     "output_type": "execute_result"
    }
   ],
   "source": [
    "len(dpo_docs)"
   ]
  },
  {
   "cell_type": "code",
   "execution_count": 229,
   "metadata": {},
   "outputs": [
    {
     "data": {
      "text/plain": [
       "0"
      ]
     },
     "execution_count": 229,
     "metadata": {},
     "output_type": "execute_result"
    }
   ],
   "source": [
    "len(unloaded_pdfs)"
   ]
  },
  {
   "cell_type": "markdown",
   "metadata": {},
   "source": [
    "# 3. Split doc"
   ]
  },
  {
   "cell_type": "markdown",
   "metadata": {},
   "source": [
    "##### - cnil_splits"
   ]
  },
  {
   "cell_type": "code",
   "execution_count": 80,
   "metadata": {
    "scrolled": true
   },
   "outputs": [],
   "source": [
    "# cnil_docs[0]"
   ]
  },
  {
   "cell_type": "code",
   "execution_count": 82,
   "metadata": {},
   "outputs": [],
   "source": [
    "# cnil_docs[5].page_content"
   ]
  },
  {
   "cell_type": "code",
   "execution_count": 135,
   "metadata": {},
   "outputs": [],
   "source": [
    "# split articles to chunk\n",
    "from langchain.text_splitter import RecursiveCharacterTextSplitter\n",
    "\n",
    "def doc_to_splits( docs,\n",
    "                  separators = [\"\\n\\n\", \".\", \"!\", \"?\"],\n",
    "                  chunk_size= 1500,\n",
    "                  chunk_overlap=150,         \n",
    "                  ):\n",
    "\n",
    "    text_splitter = RecursiveCharacterTextSplitter(\n",
    "        chunk_size=chunk_size,\n",
    "        chunk_overlap=chunk_overlap,\n",
    "        separators=separators\n",
    "    )\n",
    "\n",
    "    # add chunk number\n",
    "    doc_splits_list = []\n",
    "    for doc in docs:\n",
    "        doc_splits = text_splitter.split_documents([doc])\n",
    "\n",
    "        # Add chunk number to metadata\n",
    "        for idx, split in enumerate(doc_splits):\n",
    "            split.metadata[\"chunk\"] = idx+1\n",
    "            split.metadata[\"total_chunks\"] = len(doc_splits)\n",
    "        doc_splits_list+=doc_splits\n",
    "\n",
    "    return doc_splits_list"
   ]
  },
  {
   "cell_type": "code",
   "execution_count": 148,
   "metadata": {},
   "outputs": [],
   "source": [
    "def get_docs_min_max_token_length(docs):\n",
    "    min_nb = 1000\n",
    "    min_idx = 0\n",
    "    max_nb = 0\n",
    "    max_idx = 0\n",
    "    for _, doc in enumerate(docs):\n",
    "        nb_ = nb_tokens(doc.page_content)\n",
    "        if nb_>max_nb:\n",
    "            max_nb = nb_\n",
    "            max_idx = _\n",
    "        if nb_<min_nb:\n",
    "            min_nb = nb_\n",
    "            min_idx = _\n",
    "    return {min_idx:min_nb,max_idx:max_nb}"
   ]
  },
  {
   "cell_type": "code",
   "execution_count": 149,
   "metadata": {},
   "outputs": [
    {
     "data": {
      "text/plain": [
       "{9: 421, 10: 9800}"
      ]
     },
     "execution_count": 149,
     "metadata": {},
     "output_type": "execute_result"
    }
   ],
   "source": [
    "get_docs_min_max_token_length(cnil_docs)"
   ]
  },
  {
   "cell_type": "markdown",
   "metadata": {},
   "source": [
    "##### split to large chunk size referring to langchain"
   ]
  },
  {
   "cell_type": "code",
   "execution_count": 163,
   "metadata": {},
   "outputs": [],
   "source": [
    "cnil_large_splits = doc_to_splits(cnil_docs,\n",
    "                  separators = [\"\\n\\nArticle\",\"\\n\\n\", \".\", \"!\", \"?\"],\n",
    "                  chunk_size= 1500,\n",
    "                  chunk_overlap=150,         \n",
    "                  )"
   ]
  },
  {
   "cell_type": "code",
   "execution_count": 166,
   "metadata": {},
   "outputs": [
    {
     "data": {
      "text/plain": [
       "230"
      ]
     },
     "execution_count": 166,
     "metadata": {},
     "output_type": "execute_result"
    }
   ],
   "source": [
    "len(cnil_large_splits)"
   ]
  },
  {
   "cell_type": "code",
   "execution_count": 164,
   "metadata": {},
   "outputs": [
    {
     "data": {
      "text/plain": [
       "{34: 15, 111: 271}"
      ]
     },
     "execution_count": 164,
     "metadata": {},
     "output_type": "execute_result"
    }
   ],
   "source": [
    "get_docs_min_max_token_length(cnil_large_splits)"
   ]
  },
  {
   "cell_type": "code",
   "execution_count": 165,
   "metadata": {},
   "outputs": [
    {
     "data": {
      "text/plain": [
       "Document(page_content='https://www.cnil.fr/fr/reglement-europeen-protection-donnees/chapitre11\\n\\n2/3\\n\\n4/15/24, 9:58 AM\\n\\nCHAPITRE XI - Dispositions finales | CNIL', metadata={'source': '../documents/ecg_dpo/CNIL/CHAPITRE XI - Dispositions finales _ CNIL.pdf', 'chunk': 4, 'total_chunks': 5})"
      ]
     },
     "execution_count": 165,
     "metadata": {},
     "output_type": "execute_result"
    }
   ],
   "source": [
    "cnil_large_splits[34]"
   ]
  },
  {
   "cell_type": "code",
   "execution_count": 174,
   "metadata": {},
   "outputs": [
    {
     "data": {
      "text/plain": [
       "'../documents/ecg_dpo/CNIL/CHAPITRE IV - Responsable du traitement et sous-traitant _ CNIL.pdf'"
      ]
     },
     "execution_count": 174,
     "metadata": {},
     "output_type": "execute_result"
    }
   ],
   "source": [
    "cnil_large_splits[210].metadata['source']"
   ]
  },
  {
   "cell_type": "markdown",
   "metadata": {},
   "source": [
    "##### - split to small chunk sizes based on google vertex"
   ]
  },
  {
   "cell_type": "code",
   "execution_count": 176,
   "metadata": {},
   "outputs": [],
   "source": [
    "cnil_small_splits = doc_to_splits(cnil_docs,\n",
    "                  separators = [\"\\n\\nArticle\",\"\\n\\n\", \".\", \"!\", \"?\"],\n",
    "                  chunk_size= 500,\n",
    "                  chunk_overlap=50,         \n",
    "                  )"
   ]
  },
  {
   "cell_type": "code",
   "execution_count": 178,
   "metadata": {},
   "outputs": [
    {
     "data": {
      "text/plain": [
       "703"
      ]
     },
     "execution_count": 178,
     "metadata": {},
     "output_type": "execute_result"
    }
   ],
   "source": [
    "len(cnil_small_splits)"
   ]
  },
  {
   "cell_type": "code",
   "execution_count": 177,
   "metadata": {},
   "outputs": [
    {
     "data": {
      "text/plain": [
       "{17: 1, 115: 243}"
      ]
     },
     "execution_count": 177,
     "metadata": {},
     "output_type": "execute_result"
    }
   ],
   "source": [
    "get_docs_min_max_token_length(cnil_small_splits)"
   ]
  },
  {
   "cell_type": "code",
   "execution_count": 179,
   "metadata": {},
   "outputs": [
    {
     "data": {
      "text/plain": [
       "Document(page_content='4', metadata={'source': '../documents/ecg_dpo/CNIL/CHAPITRE II - Principes _ CNIL.pdf', 'chunk': 18, 'total_chunks': 50})"
      ]
     },
     "execution_count": 179,
     "metadata": {},
     "output_type": "execute_result"
    }
   ],
   "source": [
    "cnil_small_splits[17]"
   ]
  },
  {
   "cell_type": "code",
   "execution_count": 180,
   "metadata": {},
   "outputs": [
    {
     "data": {
      "text/plain": [
       "Document(page_content=\". sur le consentement de la personne concernée ou sur le droit de l'Union ou le droit d'un État membre qui constitue une mesure nécessaire et proportionnée dans une société démocratique pour garantir les objectifs visés à l'article 23, paragraphe 1, le responsable du traitement, afin de déterminer si le traitement à une autre fin est compatible avec la finalité pour laquelle les données à caractère personnel ont été initialement collectées, tient compte, entre autres: a) de l'existence éventuelle d'un lien entre les finalités pour lesquelles les données à caractère personnel ont été collectées et les finalités du traitement ultérieur envisagé; b) du contexte dans lequel les données à caractère personnel ont été collectées, en particulier en ce qui concerne la relation entre les personnes concernées et le responsable du traitement;\", metadata={'source': '../documents/ecg_dpo/CNIL/CHAPITRE II - Principes _ CNIL.pdf', 'chunk': 19, 'total_chunks': 50})"
      ]
     },
     "execution_count": 180,
     "metadata": {},
     "output_type": "execute_result"
    }
   ],
   "source": [
    "cnil_small_splits[18]"
   ]
  },
  {
   "cell_type": "markdown",
   "metadata": {},
   "source": [
    "##### - dpo splits"
   ]
  },
  {
   "cell_type": "code",
   "execution_count": 230,
   "metadata": {},
   "outputs": [],
   "source": [
    "dpo_splits = doc_to_splits(dpo_docs,\n",
    "                  separators = [\"\\n\\nArticle\",\"\\n\\n\", \".\", \"!\", \"?\"],\n",
    "                  chunk_size= 1500,\n",
    "                  chunk_overlap=150,         \n",
    "                  )"
   ]
  },
  {
   "cell_type": "code",
   "execution_count": 231,
   "metadata": {},
   "outputs": [
    {
     "data": {
      "text/plain": [
       "Document(page_content=\"Code civil\\n\\nTitre préliminaire : De la publication, des effets et de l'application des lois en général\\n\\nArticle 1\\n\\nLes lois et, lorsqu'ils sont publiés au Journal officiel de la République française, les actes administratifs entrent en vigueur à la date qu'ils fixent ou, à défaut, le lendemain de leur publication. Toutefois, l'entrée en vigueur de celles de leurs dispositions dont l'exécution nécessite des mesures d'application est reportée à la date d'entrée en vigueur de ces mesures.\\n\\nEn cas d'urgence, entrent en vigueur dès leur publication les lois dont le décret de promulgation le prescrit et les actes administratifs pour lesquels le Gouvernement l'ordonne par une disposition spéciale.\\n\\nLes dispositions du présent article ne sont pas applicables aux actes individuels.\\n\\nArticle 2\\n\\nLa loi ne dispose que pour l'avenir ; elle n'a point d'effet rétroactif.\\n\\nArticle 3\\n\\nLes lois de police et de sûreté obligent tous ceux qui habitent le territoire.\\n\\nLes immeubles, même ceux possédés par des étrangers, sont régis par la loi française.\\n\\nLes lois concernant l'état et la capacité des personnes régissent les Français, même résidant en pays étranger.\\n\\nArticle 4\\n\\nLe juge qui refusera de juger, sous prétexte du silence, de l'obscurité ou de l'insuffisance de la loi, pourra être poursuivi comme coupable de déni de justice.\", metadata={'source': '../documents/ecg_dpo/Code civil/LEGITEXT000006070721.pdf', 'chunk': 1, 'total_chunks': 1059})"
      ]
     },
     "execution_count": 231,
     "metadata": {},
     "output_type": "execute_result"
    }
   ],
   "source": [
    "dpo_splits[0]"
   ]
  },
  {
   "cell_type": "markdown",
   "metadata": {},
   "source": [
    "# 4. Add to vector store"
   ]
  },
  {
   "cell_type": "code",
   "execution_count": 1,
   "metadata": {},
   "outputs": [],
   "source": [
    "from langchain_google_vertexai import (\n",
    "    VertexAIEmbeddings,\n",
    "    VectorSearchVectorStore\n",
    ")"
   ]
  },
  {
   "cell_type": "code",
   "execution_count": 2,
   "metadata": {},
   "outputs": [],
   "source": [
    "# https://cloud.google.com/vertex-ai/generative-ai/docs/model-reference/text-embeddings\n",
    "embeddings = VertexAIEmbeddings(model_name=\"textembedding-gecko-multilingual@001\")"
   ]
  },
  {
   "cell_type": "markdown",
   "metadata": {},
   "source": [
    "##### - cnil large "
   ]
  },
  {
   "cell_type": "code",
   "execution_count": 182,
   "metadata": {},
   "outputs": [],
   "source": [
    "parameters = get_me_parameters('../vector_store_me_parameters/dpo_cnil_me.json')"
   ]
  },
  {
   "cell_type": "code",
   "execution_count": 183,
   "metadata": {},
   "outputs": [],
   "source": [
    "cnil_large_db = get_vector_store(parameters, embeddings)"
   ]
  },
  {
   "cell_type": "code",
   "execution_count": null,
   "metadata": {},
   "outputs": [],
   "source": [
    "# Store docs as embeddings in Matching Engine index\n",
    "# It may take a while since API is rate limited\n",
    "texts = [doc.page_content for doc in cnil_large_splits]\n",
    "metadatas = [doc.metadata for doc in cnil_large_splits]\n",
    "\n",
    "for i in range(0, len(texts), 1000):\n",
    "    cnil_large_db.add_texts(texts[i : i + 1000], metadatas[i : i + 1000])"
   ]
  },
  {
   "cell_type": "markdown",
   "metadata": {},
   "source": [
    "##### - cnil small"
   ]
  },
  {
   "cell_type": "code",
   "execution_count": 187,
   "metadata": {
    "collapsed": true,
    "jupyter": {
     "outputs_hidden": true
    },
    "scrolled": true
   },
   "outputs": [
    {
     "name": "stdout",
     "output_type": "stream",
     "text": [
      "Copying gs://vector_search_paramters/dpo_cnil_small_chunk_me.json...\n",
      "/ [1 files][  423.0 B/  423.0 B]                                                \n",
      "Operation completed over 1 objects/423.0 B.                                      \n"
     ]
    }
   ],
   "source": [
    "!gsutil cp gs://vector_search_paramters/dpo_cnil_small_chunk_me.json ../vector_store_me_parameters/"
   ]
  },
  {
   "cell_type": "code",
   "execution_count": 202,
   "metadata": {},
   "outputs": [],
   "source": [
    "parameters = get_me_parameters('../vector_store_me_parameters/dpo_cnil_small_chunk_me.json')"
   ]
  },
  {
   "cell_type": "code",
   "execution_count": 204,
   "metadata": {},
   "outputs": [
    {
     "data": {
      "text/plain": [
       "{'PROJECT_ID': 'ecg-ai-416210',\n",
       " 'LOCATION': 'europe-west1',\n",
       " 'CHATBOT_NAME': 'dpo_cnil_small_chunk',\n",
       " 'ME_INDEX_ID': 'projects/500033913879/locations/europe-west1/indexes/5755046169919094784',\n",
       " 'ME_INDEX_ENDPOINT_ID': 'projects/500033913879/locations/europe-west1/indexEndpoints/5776367899404926976',\n",
       " 'ME_INDEX_NAME': 'dpo_cnil_small_chunk-me-index',\n",
       " 'ME_EMBEDDING_DIR': 'dpo_cnil_small_chunk/me-bucket',\n",
       " 'ME_DIMENSIONS': 768}"
      ]
     },
     "execution_count": 204,
     "metadata": {},
     "output_type": "execute_result"
    }
   ],
   "source": [
    "parameters"
   ]
  },
  {
   "cell_type": "code",
   "execution_count": 206,
   "metadata": {},
   "outputs": [],
   "source": [
    "cnil_small_db = get_vector_store(parameters, embeddings)"
   ]
  },
  {
   "cell_type": "code",
   "execution_count": 207,
   "metadata": {},
   "outputs": [
    {
     "name": "stdout",
     "output_type": "stream",
     "text": [
      "Upserting datapoints MatchingEngineIndex index: projects/500033913879/locations/europe-west1/indexes/5755046169919094784\n",
      "MatchingEngineIndex index Upserted datapoints. Resource name: projects/500033913879/locations/europe-west1/indexes/5755046169919094784\n"
     ]
    }
   ],
   "source": [
    "# Store docs as embeddings in Matching Engine index\n",
    "# It may take a while since API is rate limited\n",
    "texts = [doc.page_content for doc in cnil_small_splits]\n",
    "metadatas = [doc.metadata for doc in cnil_small_splits]\n",
    "\n",
    "for i in range(0, len(texts), 1000):\n",
    "    cnil_small_db.add_texts(texts[i : i + 1000], metadatas[i : i + 1000])"
   ]
  },
  {
   "cell_type": "markdown",
   "metadata": {},
   "source": [
    "##### - dpo all"
   ]
  },
  {
   "cell_type": "code",
   "execution_count": 232,
   "metadata": {},
   "outputs": [],
   "source": [
    "parameters = get_me_parameters('../vector_store_me_parameters/ecg_dpo_me.json')"
   ]
  },
  {
   "cell_type": "code",
   "execution_count": 235,
   "metadata": {},
   "outputs": [],
   "source": [
    "dpo_db = get_vector_store(parameters, embeddings)"
   ]
  },
  {
   "cell_type": "code",
   "execution_count": 236,
   "metadata": {},
   "outputs": [
    {
     "name": "stdout",
     "output_type": "stream",
     "text": [
      "Upserting datapoints MatchingEngineIndex index: projects/500033913879/locations/europe-west1/indexes/1278468140312821760\n",
      "MatchingEngineIndex index Upserted datapoints. Resource name: projects/500033913879/locations/europe-west1/indexes/1278468140312821760\n",
      "Upserting datapoints MatchingEngineIndex index: projects/500033913879/locations/europe-west1/indexes/1278468140312821760\n",
      "MatchingEngineIndex index Upserted datapoints. Resource name: projects/500033913879/locations/europe-west1/indexes/1278468140312821760\n",
      "Upserting datapoints MatchingEngineIndex index: projects/500033913879/locations/europe-west1/indexes/1278468140312821760\n",
      "MatchingEngineIndex index Upserted datapoints. Resource name: projects/500033913879/locations/europe-west1/indexes/1278468140312821760\n",
      "Upserting datapoints MatchingEngineIndex index: projects/500033913879/locations/europe-west1/indexes/1278468140312821760\n",
      "MatchingEngineIndex index Upserted datapoints. Resource name: projects/500033913879/locations/europe-west1/indexes/1278468140312821760\n",
      "Upserting datapoints MatchingEngineIndex index: projects/500033913879/locations/europe-west1/indexes/1278468140312821760\n",
      "MatchingEngineIndex index Upserted datapoints. Resource name: projects/500033913879/locations/europe-west1/indexes/1278468140312821760\n",
      "Upserting datapoints MatchingEngineIndex index: projects/500033913879/locations/europe-west1/indexes/1278468140312821760\n",
      "MatchingEngineIndex index Upserted datapoints. Resource name: projects/500033913879/locations/europe-west1/indexes/1278468140312821760\n",
      "Upserting datapoints MatchingEngineIndex index: projects/500033913879/locations/europe-west1/indexes/1278468140312821760\n",
      "MatchingEngineIndex index Upserted datapoints. Resource name: projects/500033913879/locations/europe-west1/indexes/1278468140312821760\n",
      "Upserting datapoints MatchingEngineIndex index: projects/500033913879/locations/europe-west1/indexes/1278468140312821760\n",
      "MatchingEngineIndex index Upserted datapoints. Resource name: projects/500033913879/locations/europe-west1/indexes/1278468140312821760\n",
      "Upserting datapoints MatchingEngineIndex index: projects/500033913879/locations/europe-west1/indexes/1278468140312821760\n",
      "MatchingEngineIndex index Upserted datapoints. Resource name: projects/500033913879/locations/europe-west1/indexes/1278468140312821760\n",
      "Upserting datapoints MatchingEngineIndex index: projects/500033913879/locations/europe-west1/indexes/1278468140312821760\n",
      "MatchingEngineIndex index Upserted datapoints. Resource name: projects/500033913879/locations/europe-west1/indexes/1278468140312821760\n",
      "Upserting datapoints MatchingEngineIndex index: projects/500033913879/locations/europe-west1/indexes/1278468140312821760\n",
      "MatchingEngineIndex index Upserted datapoints. Resource name: projects/500033913879/locations/europe-west1/indexes/1278468140312821760\n",
      "Upserting datapoints MatchingEngineIndex index: projects/500033913879/locations/europe-west1/indexes/1278468140312821760\n",
      "MatchingEngineIndex index Upserted datapoints. Resource name: projects/500033913879/locations/europe-west1/indexes/1278468140312821760\n",
      "Upserting datapoints MatchingEngineIndex index: projects/500033913879/locations/europe-west1/indexes/1278468140312821760\n",
      "MatchingEngineIndex index Upserted datapoints. Resource name: projects/500033913879/locations/europe-west1/indexes/1278468140312821760\n",
      "Upserting datapoints MatchingEngineIndex index: projects/500033913879/locations/europe-west1/indexes/1278468140312821760\n",
      "MatchingEngineIndex index Upserted datapoints. Resource name: projects/500033913879/locations/europe-west1/indexes/1278468140312821760\n",
      "Upserting datapoints MatchingEngineIndex index: projects/500033913879/locations/europe-west1/indexes/1278468140312821760\n",
      "MatchingEngineIndex index Upserted datapoints. Resource name: projects/500033913879/locations/europe-west1/indexes/1278468140312821760\n",
      "Upserting datapoints MatchingEngineIndex index: projects/500033913879/locations/europe-west1/indexes/1278468140312821760\n",
      "MatchingEngineIndex index Upserted datapoints. Resource name: projects/500033913879/locations/europe-west1/indexes/1278468140312821760\n",
      "Upserting datapoints MatchingEngineIndex index: projects/500033913879/locations/europe-west1/indexes/1278468140312821760\n",
      "MatchingEngineIndex index Upserted datapoints. Resource name: projects/500033913879/locations/europe-west1/indexes/1278468140312821760\n"
     ]
    }
   ],
   "source": [
    "# Store docs as embeddings in Matching Engine index\n",
    "# It may take a while since API is rate limited\n",
    "texts = [doc.page_content for doc in dpo_splits]\n",
    "metadatas = [doc.metadata for doc in dpo_splits]\n",
    "\n",
    "for i in range(0, len(texts), 1000):\n",
    "    dpo_db.add_texts(texts[i : i + 1000], metadatas[i : i + 1000])"
   ]
  },
  {
   "cell_type": "markdown",
   "metadata": {},
   "source": [
    "# 5. Similarity Search comparison"
   ]
  },
  {
   "cell_type": "markdown",
   "metadata": {},
   "source": [
    "##### - Q1"
   ]
  },
  {
   "cell_type": "code",
   "execution_count": 193,
   "metadata": {},
   "outputs": [],
   "source": [
    "q1 = \"Je n'aurai pas le temps de traiter la demande de droit à l'oubli d'un utilisateur dans le mois règlementaire imposé par la CNIL. Ai-je un recours ?\""
   ]
  },
  {
   "cell_type": "markdown",
   "metadata": {},
   "source": [
    "Chapitre III page 2"
   ]
  },
  {
   "cell_type": "code",
   "execution_count": 196,
   "metadata": {},
   "outputs": [
    {
     "data": {
      "text/plain": [
       "[Document(page_content=\"3. suite d'une demande formulée en application des articles 15 à 22, dans les meilleurs délais et en tout état de cause dans un délai d'un mois à compter de la réception de la demande. Au besoin, ce délai peut être prolongé de deux mois, compte tenu de la complexité et du nombre de demandes. Le responsable du traitement informe la personne concernée de cette prolongation et des motifs du report dans un délai d'un mois à compter de la réception de la demande. Lorsque la personne concernée présente sa demande sous une forme électronique, les informations sont fournies par voie électronique lorsque cela est possible, à moins que la personne concernée ne demande qu'il en soit autrement.\\n\\n4. Si le responsable du traitement ne donne pas suite à la demande formulée par la personne concernée, il informe celle-ci sans tarder et au plus tard dans un délai d'un mois à compter de la réception de la demande\\n\\nhttps://www.cnil.fr/fr/reglement-europeen-protection-donnees/chapitre3\\n\\n2/14\\n\\n4/15/24, 9:56 AM\\n\\nCHAPITRE III - Droits de la personne concernée | CNIL\\n\\ndes motifs de son inaction et de la possibilité d'introduire une réclamation auprès d'une autorité de contrôle et de former un recours juridictionnel.\\n\\n5. toute communication et prendre toute mesure au titre des articles 15 à 22 et de l'article 34. Lorsque les demandes d'une personne concernée sont manifestement infondées ou excessives, notamment en raison de leur caractère répétitif, le responsable du traitement peut:\", metadata={'source': '../documents/ecg_dpo/CNIL/CHAPITRE III - Droits de la personne concernée _ CNIL.pdf', 'chunk': 3, 'total_chunks': 32}),\n",
       " Document(page_content=\"4/14\\n\\n4/15/24, 9:56 AM\\n\\nCHAPITRE III - Droits de la personne concernée | CNIL\\n\\na) la durée de conservation des données à caractère personnel ou, lorsque ce n'est pas possible, les critères utilisés pour déterminer cette durée; b) l'existence du droit de demander au responsable du traitement l'accès aux données à caractère personnel, la rectification ou l'effacement de celles-ci, ou une limitation du traitement relatif à la personne concernée, ou du droit de s'opposer au traitement et du droit à la portabilité des données;\\n\\nc) lorsque le traitement est fondé sur l'article 6, paragraphe 1, point a), ou sur l'article 9, paragraphe 2, point a), l'existence du droit de retirer son consentement à tout moment, sans porter atteinte à la licéité du traitement fondé sur le consentement effectué avant le retrait de celui-ci;\\n\\nd) le droit d'introduire une réclamation auprès d'une autorité de contrôle;\\n\\ne) des informations sur la question de savoir si l'exigence de fourniture de données à caractère personnel a un caractère réglementaire ou contractuel ou si elle conditionne la conclusion d'un contrat et si la personne concernée est tenue de fournir les données à caractère personnel, ainsi que sur les conséquences éventuelles de la non-fourniture de ces données;\", metadata={'source': '../documents/ecg_dpo/CNIL/CHAPITRE III - Droits de la personne concernée _ CNIL.pdf', 'chunk': 8, 'total_chunks': 32})]"
      ]
     },
     "execution_count": 196,
     "metadata": {},
     "output_type": "execute_result"
    }
   ],
   "source": [
    "cnil_large_db.similarity_search(q1, k=2, search_distance=0.4)"
   ]
  },
  {
   "cell_type": "code",
   "execution_count": 208,
   "metadata": {},
   "outputs": [
    {
     "data": {
      "text/plain": [
       "[Document(page_content=\"4. Si le responsable du traitement ne donne pas suite à la demande formulée par la personne concernée, il informe celle-ci sans tarder et au plus tard dans un délai d'un mois à compter de la réception de la demande\\n\\nhttps://www.cnil.fr/fr/reglement-europeen-protection-donnees/chapitre3\\n\\n2/14\\n\\n4/15/24, 9:56 AM\\n\\nCHAPITRE III - Droits de la personne concernée | CNIL\", metadata={'source': '../documents/ecg_dpo/CNIL/CHAPITRE III - Droits de la personne concernée _ CNIL.pdf', 'chunk': 12, 'total_chunks': 98}),\n",
       " Document(page_content=\"2. L'autorité de contrôle auprès de laquelle la réclamation a été introduite informe l'auteur de la réclamation de l'état d'avancement et de l'issue de la réclamation, y compris de la possibilité d'un recours juridictionnel en vertu de l'article 78.\\n\\nhttps://www.cnil.fr/fr/reglement-europeen-protection-donnees/chapitre8\\n\\n1/7\\n\\n4/15/24, 9:58 AM\\n\\nCHAPITRE VIII - Voies de recours, responsabilité et sanctions | CNIL\", metadata={'source': '../documents/ecg_dpo/CNIL/CHAPITRE VIII - Voies de recours, responsabilité et sanctions _ CNIL.pdf', 'chunk': 5, 'total_chunks': 46})]"
      ]
     },
     "execution_count": 208,
     "metadata": {},
     "output_type": "execute_result"
    }
   ],
   "source": [
    "cnil_small_db.similarity_search(q1, k=2, search_distance=0.4)"
   ]
  },
  {
   "cell_type": "code",
   "execution_count": 237,
   "metadata": {},
   "outputs": [
    {
     "data": {
      "text/plain": [
       "[Document(page_content=\"3. suite d'une demande formulée en application des articles 15 à 22, dans les meilleurs délais et en tout état de cause dans un délai d'un mois à compter de la réception de la demande. Au besoin, ce délai peut être prolongé de deux mois, compte tenu de la complexité et du nombre de demandes. Le responsable du traitement informe la personne concernée de cette prolongation et des motifs du report dans un délai d'un mois à compter de la réception de la demande. Lorsque la personne concernée présente sa demande sous une forme électronique, les informations sont fournies par voie électronique lorsque cela est possible, à moins que la personne concernée ne demande qu'il en soit autrement.\\n\\n4. Si le responsable du traitement ne donne pas suite à la demande formulée par la personne concernée, il informe celle-ci sans tarder et au plus tard dans un délai d'un mois à compter de la réception de la demande\\n\\nhttps://www.cnil.fr/fr/reglement-europeen-protection-donnees/chapitre3\\n\\n2/14\\n\\n4/15/24, 9:56 AM\\n\\nCHAPITRE III - Droits de la personne concernée | CNIL\\n\\ndes motifs de son inaction et de la possibilité d'introduire une réclamation auprès d'une autorité de contrôle et de former un recours juridictionnel.\\n\\n5. toute communication et prendre toute mesure au titre des articles 15 à 22 et de l'article 34. Lorsque les demandes d'une personne concernée sont manifestement infondées ou excessives, notamment en raison de leur caractère répétitif, le responsable du traitement peut:\", metadata={'source': '../documents/ecg_dpo/CNIL/CHAPITRE III - Droits de la personne concernée _ CNIL.pdf', 'chunk': 3, 'total_chunks': 32}),\n",
       " Document(page_content=\"4/14\\n\\n4/15/24, 9:56 AM\\n\\nCHAPITRE III - Droits de la personne concernée | CNIL\\n\\na) la durée de conservation des données à caractère personnel ou, lorsque ce n'est pas possible, les critères utilisés pour déterminer cette durée; b) l'existence du droit de demander au responsable du traitement l'accès aux données à caractère personnel, la rectification ou l'effacement de celles-ci, ou une limitation du traitement relatif à la personne concernée, ou du droit de s'opposer au traitement et du droit à la portabilité des données;\\n\\nc) lorsque le traitement est fondé sur l'article 6, paragraphe 1, point a), ou sur l'article 9, paragraphe 2, point a), l'existence du droit de retirer son consentement à tout moment, sans porter atteinte à la licéité du traitement fondé sur le consentement effectué avant le retrait de celui-ci;\\n\\nd) le droit d'introduire une réclamation auprès d'une autorité de contrôle;\\n\\ne) des informations sur la question de savoir si l'exigence de fourniture de données à caractère personnel a un caractère réglementaire ou contractuel ou si elle conditionne la conclusion d'un contrat et si la personne concernée est tenue de fournir les données à caractère personnel, ainsi que sur les conséquences éventuelles de la non-fourniture de ces données;\", metadata={'source': '../documents/ecg_dpo/CNIL/CHAPITRE III - Droits de la personne concernée _ CNIL.pdf', 'chunk': 8, 'total_chunks': 32})]"
      ]
     },
     "execution_count": 237,
     "metadata": {},
     "output_type": "execute_result"
    }
   ],
   "source": [
    "dpo_db.similarity_search(q1, k=2, search_distance=0.4)"
   ]
  },
  {
   "cell_type": "markdown",
   "metadata": {},
   "source": [
    "##### - Q2"
   ]
  },
  {
   "cell_type": "code",
   "execution_count": 197,
   "metadata": {},
   "outputs": [],
   "source": [
    "q2 = \"J'ai des difficultés à comprendre les différentes obligations que j'ai vis-à-vis des sous-traitants qui travaillent pour moi. Pourrais-tu me faire un résumé ?\""
   ]
  },
  {
   "cell_type": "markdown",
   "metadata": {},
   "source": [
    "IV page 3-7 ARTICLE 26-29"
   ]
  },
  {
   "cell_type": "code",
   "execution_count": 199,
   "metadata": {},
   "outputs": [
    {
     "data": {
      "text/plain": [
       "[Document(page_content=\"4. Lorsqu'un sous-traitant recrute un autre sous-traitant pour mener des activités de traitement spécifiques pour le compte du responsable du traitement, les mêmes obligations en matière de protection de données que celles fixées dans le contrat ou un autre acte juridique entre le responsable du traitement et le sous-traitant conformément au paragraphe 3, sont imposées à cet autre sous-traitant par contrat ou au moyen d'un autre acte juridique au titre du droit de l'Union ou du droit d'un État membre, en particulier pour ce qui est de présenter des garanties suffisantes quant à la mise en œuvre de mesures techniques et organisationnelles appropriées de manière à ce que le traitement réponde aux exigences du présent règlement. Lorsque cet autre sous-traitant ne remplit pas ses obligations en matière de protection des données, le sous-traitant initial\\n\\nhttps://www.cnil.fr/fr/reglement-europeen-protection-donnees/chapitre4\\n\\n6/23\\n\\n4/15/24, 9:57 AM\\n\\nCHAPITRE IV - Responsable du traitement et sous-traitant | CNIL\\n\\ndemeure pleinement responsable devant le responsable du traitement de l'exécution par l'autre sous-traitant de ses obligations.\\n\\n5. mécanisme de certification approuvé comme le prévoit l'article 42 peut servir d'élément pour démontrer l'existence des garanties suffisantes conformément aux paragraphes 1 et 4 du présent article. Sans préjudice d'un contrat particulier entre le responsable du traitement et le sous-traitant, le contrat ou\", metadata={'source': '../documents/ecg_dpo/CNIL/CHAPITRE IV - Responsable du traitement et sous-traitant _ CNIL.pdf', 'chunk': 12, 'total_chunks': 55}),\n",
       " Document(page_content=\"Article 28 - Sous-traitant\\n\\n1. uniquement appel à des sous-traitants qui présentent des garanties suffisantes quant à la mise en œuvre de mesures techniques et organisationnelles appropriées de manière à ce que le traitement réponde aux exigences du présent règlement et garantisse la protection des droits de la personne concernée. Le sous-traitant ne recrute pas un autre sous-traitant sans l'autorisation écrite préalable, spécifique ou\\n\\nLorsqu'un traitement doit être effectué pour le compte d'un responsable du traitement, celui-ci fait\\n\\n2. générale, du responsable du traitement. Dans le cas d'une autorisation écrite générale, le sous-traitant informe le responsable du traitement de tout changement prévu concernant l'ajout ou le remplacement d'autres sous-traitants, donnant ainsi au responsable du traitement la possibilité d'émettre des objections à l'encontre de ces changements.\\n\\n3. Le traitement par un sous-traitant est régi par un contrat ou un autre acte juridique au titre du droit de l'Union ou du droit d'un État membre, qui lie le sous-traitant à l'égard du responsable du traitement, définit l'objet et la durée du traitement, la nature et la finalité du traitement, le type de données à caractère personnel et les catégories de personnes concernées, et les obligations et les droits du responsable du traitement. Ce contrat ou cet autre acte juridique prévoit, notamment, que le sous-traitant:\\n\\nhttps://www.cnil.fr/fr/reglement-europeen-protection-donnees/chapitre4\\n\\n5/23\", metadata={'source': '../documents/ecg_dpo/CNIL/CHAPITRE IV - Responsable du traitement et sous-traitant _ CNIL.pdf', 'chunk': 9, 'total_chunks': 55}),\n",
       " Document(page_content=\"b) en ce qui concerne un sous-traitant établi dans plusieurs États membres, le lieu de son administration centrale dans l'Union ou, si ce sous-traitant ne dispose pas d'une administration centrale dans l'Union, l'établissement du sous-traitant dans l'Union où se déroule l'essentiel des activités de traitement effectuées dans le cadre des activités d'un établissement du sous-traitant, dans la mesure où le sous-traitant est soumis à des obligations spécifiques en vertu du présent règlement;\\n\\nhttps://www.cnil.fr/fr/reglement-europeen-protection-donnees/chapitre1#Article1\\n\\n4/6\\n\\n4/15/24, 9:55 AM\\n\\nCHAPITRE I - Dispositions générales | CNIL\\n\\n17. traitement ou le sous-traitant par écrit, en vertu de l'article 27, qui les représente en ce qui concerne leurs obligations respectives en vertu du présent règlement; «entreprise», une personne physique ou morale exerçant une activité économique, quelle que soit sa\\n\\n«représentant», une personne physique ou morale établie dans l'Union, désignée par le responsable du\\n\\n18. forme juridique, y compris les sociétés de personnes ou les associations qui exercent régulièrement une activité économique; «groupe d'entreprises», une entreprise qui exerce le contrôle et les entreprises qu'elle contrôle;\", metadata={'source': '../documents/ecg_dpo/CNIL/CHAPITRE I - Dispositions générales.pdf', 'chunk': 10, 'total_chunks': 13}),\n",
       " Document(page_content=\"f) l'acceptation, par le responsable du traitement ou le sous-traitant établi sur le territoire d'un État membre, de l'engagement de sa responsabilité pour toute violation des règles d'entreprise contraignantes par toute entité concernée non établie dans l'Union; le responsable du traitement ou le sous-traitant ne peut être exonéré, en tout ou en partie, de cette responsabilité que s'il prouve que le fait générateur du dommage n'est pas imputable à l'entité en cause;\\n\\ng) la manière dont les informations sur les règles d'entreprise contraignantes, notamment en ce qui concerne les éléments mentionnés aux points d), e) et f) du présent paragraphe sont fournies aux personnes concernées, en sus des informations visées aux articles 13 et 14;\\n\\nh) les missions de tout délégué à la protection des données, désigné conformément à l'article 37, ou de toute autre personne ou entité chargée de la surveillance du respect des règles d'entreprise contraignantes au sein du groupe d'entreprises, ou du groupe d'entreprises engagées dans une activité économique conjointe, ainsi que le suivi de la formation et le traitement des réclamations;\\n\\ni) les procédures de réclamation;\", metadata={'source': '../documents/ecg_dpo/CNIL/CHAPITRE V - Transferts de données à caractère personnel vers des pays tiers ou à des organisations internationales _ CNIL.pdf', 'chunk': 13, 'total_chunks': 21}),\n",
       " Document(page_content=\"L'application, par un sous-traitant, d'un code de conduite approuvé comme le prévoit l'article 40 ou d'un\\n\\n6. l'autre acte juridique visé aux paragraphes 3 et 4 du présent article peut être fondé, en tout ou en partie, sur les clauses contractuelles types visées aux paragraphes 7 et 8 du présent article, y compris lorsqu'elles font partie d'une certification délivrée au responsable du traitement ou au sous-traitant en vertu des articles 42 et 43. La Commission peut établir des clauses contractuelles types pour les questions visées aux paragraphes 3 et\\n\\n7. 4 du présent article et conformément à la procédure d'examen visée à l'article 93, paragraphe 2.\\n\\n8. Une autorité de contrôle peut adopter des clauses contractuelles types pour les questions visées aux paragraphes 3 et 4 du présent article et conformément au mécanisme de contrôle de la cohérence visé à l'article 63. Le contrat ou l'autre acte juridique visé aux paragraphes 3 et 4 se présente sous une forme écrite, y\\n\\n9. compris en format électronique.\\n\\n10. les finalités et les moyens du traitement, il est considéré comme un responsable du traitement pour ce qui concerne ce traitement.\\n\\nSans préjudice des articles 82, 83 et 84, si, en violation du présent règlement, un sous-traitant détermine\", metadata={'source': '../documents/ecg_dpo/CNIL/CHAPITRE IV - Responsable du traitement et sous-traitant _ CNIL.pdf', 'chunk': 13, 'total_chunks': 55}),\n",
       " Document(page_content=\"https://www.cnil.fr/fr/reglement-europeen-protection-donnees/chapitre4\\n\\n5/23\\n\\n4/15/24, 9:57 AM\\n\\nCHAPITRE IV - Responsable du traitement et sous-traitant | CNIL\\n\\na) ne traite les données à caractère personnel que sur instruction documentée du responsable du traitement, y compris en ce qui concerne les transferts de données à caractère personnel vers un pays tiers ou à une organisation internationale, à moins qu'il ne soit tenu d'y procéder en vertu du droit de l'Union ou du droit de l'État membre auquel le sous-traitant est soumis; dans ce cas, le sous-traitant informe le responsable du traitement de cette obligation juridique avant le traitement, sauf si le droit concerné interdit une telle information pour des motifs importants d'intérêt public; b) veille à ce que les personnes autorisées à traiter les données à caractère personnel s'engagent à respecter la confidentialité ou soient soumises à une obligation légale appropriée de confidentialité;\\n\\nc) prend toutes les mesures requises en vertu de l'article 32;\\n\\nd) respecte les conditions visées aux paragraphes 2 et 4 pour recruter un autre sous-traitant;\\n\\ne) tient compte de la nature du traitement, aide le responsable du traitement, par des mesures techniques et organisationnelles appropriées, dans toute la mesure du possible, à s'acquitter de son obligation de donner suite aux demandes dont les personnes concernées le saisissent en vue d'exercer leurs droits prévus au chapitre III;\", metadata={'source': '../documents/ecg_dpo/CNIL/CHAPITRE IV - Responsable du traitement et sous-traitant _ CNIL.pdf', 'chunk': 10, 'total_chunks': 55})]"
      ]
     },
     "execution_count": 199,
     "metadata": {},
     "output_type": "execute_result"
    }
   ],
   "source": [
    "cnil_large_db.similarity_search(q2, k=6, search_distance=0.4)"
   ]
  },
  {
   "cell_type": "code",
   "execution_count": 210,
   "metadata": {},
   "outputs": [
    {
     "data": {
      "text/plain": [
       "[Document(page_content=\"Article 28 - Sous-traitant\\n\\n1. uniquement appel à des sous-traitants qui présentent des garanties suffisantes quant à la mise en œuvre de mesures techniques et organisationnelles appropriées de manière à ce que le traitement réponde aux exigences du présent règlement et garantisse la protection des droits de la personne concernée. Le sous-traitant ne recrute pas un autre sous-traitant sans l'autorisation écrite préalable, spécifique ou\", metadata={'source': '../documents/ecg_dpo/CNIL/CHAPITRE IV - Responsable du traitement et sous-traitant _ CNIL.pdf', 'chunk': 26, 'total_chunks': 177}),\n",
       " Document(page_content='. Lorsque cet autre sous-traitant ne remplit pas ses obligations en matière de protection des données, le sous-traitant initial', metadata={'source': '../documents/ecg_dpo/CNIL/CHAPITRE IV - Responsable du traitement et sous-traitant _ CNIL.pdf', 'chunk': 39, 'total_chunks': 177}),\n",
       " Document(page_content=\". Lorsqu'un sous-traitant recrute un autre sous-traitant pour mener des activités de traitement spécifiques pour le compte du responsable du traitement, les mêmes obligations en matière de protection de données que celles fixées dans le contrat ou un autre acte juridique entre le responsable du traitement et le sous-traitant conformément au paragraphe 3, sont imposées à cet autre sous-traitant par contrat ou au moyen d'un autre acte juridique au titre du droit de l'Union ou du droit d'un État membre, en particulier pour ce qui est de présenter des garanties suffisantes quant à la mise en œuvre de mesures techniques et organisationnelles appropriées de manière à ce que le traitement réponde aux exigences du présent règlement\", metadata={'source': '../documents/ecg_dpo/CNIL/CHAPITRE IV - Responsable du traitement et sous-traitant _ CNIL.pdf', 'chunk': 38, 'total_chunks': 177}),\n",
       " Document(page_content=\"c) prend toutes les mesures requises en vertu de l'article 32;\\n\\nd) respecte les conditions visées aux paragraphes 2 et 4 pour recruter un autre sous-traitant;\\n\\ne) tient compte de la nature du traitement, aide le responsable du traitement, par des mesures techniques et organisationnelles appropriées, dans toute la mesure du possible, à s'acquitter de son obligation de donner suite aux demandes dont les personnes concernées le saisissent en vue d'exercer leurs droits prévus au chapitre III;\", metadata={'source': '../documents/ecg_dpo/CNIL/CHAPITRE IV - Responsable du traitement et sous-traitant _ CNIL.pdf', 'chunk': 32, 'total_chunks': 177}),\n",
       " Document(page_content='. Ce contrat ou cet autre acte juridique prévoit, notamment, que le sous-traitant:', metadata={'source': '../documents/ecg_dpo/CNIL/CHAPITRE IV - Responsable du traitement et sous-traitant _ CNIL.pdf', 'chunk': 29, 'total_chunks': 177}),\n",
       " Document(page_content=\"g) dans la mesure du possible, une description générale des mesures de sécurité techniques et organisationnelles visées à l'article 32, paragraphe 1.\\n\\n2. catégories d'activités de traitement effectuées pour le compte du responsable du traitement, comprenant:\\n\\nChaque sous-traitant et, le cas échéant, le représentant du sous-traitant tiennent un registre de toutes les\", metadata={'source': '../documents/ecg_dpo/CNIL/CHAPITRE IV - Responsable du traitement et sous-traitant _ CNIL.pdf', 'chunk': 50, 'total_chunks': 177})]"
      ]
     },
     "execution_count": 210,
     "metadata": {},
     "output_type": "execute_result"
    }
   ],
   "source": [
    "cnil_small_db.similarity_search(q2, k=6, search_distance=0.4)"
   ]
  },
  {
   "cell_type": "code",
   "execution_count": 238,
   "metadata": {},
   "outputs": [
    {
     "data": {
      "text/plain": [
       "[Document(page_content=\"3° L'adresse des lieux successifs où doit s'accomplir la prestation, la date du début de la prestation et sa date de fin prévisible, l'activité principale exercée dans le cadre de la prestation ;\\n\\nCode du travail - Dernière modification le 05 avril 2024 - Document généré le 09 avril 2024\\n\\n4° Les nom, prénoms, date et lieu de naissance, adresse de résidence habituelle et nationalité de chacun des salariés détachés.\\n\\nSection 6 : Obligations et responsabilité financière des maîtres d'ouvrage et des donneurs d'ordre\", metadata={'source': '../documents/ecg_dpo/Code du travail/LEGITEXT000006072050.pdf', 'chunk': 2847, 'total_chunks': 6703}),\n",
       " Document(page_content=\"Article R7343-106\\n\\nLe sous-traitant, dont l'implication dans une expertise ne peut concerner qu'une partie des travaux, agit sous l'autorité de l'expert.\\n\\nPour chaque expertise pour laquelle il recourt à un sous-traitant, l'expert s'assure que le sous-traitant remplit les conditions prévues aux 1° à 4° de l'article R. 7343-104.\\n\\nL'expert communique à l'Autorité des relations sociales des plateformes d'emploi le nom de ceux des sous- traitants mentionnés au 3° du R. 7343-100 auxquels il recourt ainsi que le périmètre et le domaine de son intervention dans l'expertise conduite.\\n\\nSous-section 3 : Déroulement de la mission d'expertise\\n\\nArticle R7343-107\\n\\nLes organisations professionnelles de plateformes communiquent à l'organisme expert les informations nécessaires à la réalisation de sa mission dans des délais définis, pour chaque expertise, par le directeur général de l'Autorité des relations sociales des plateformes d'emploi.\\n\\nLes plateformes peuvent également transmettre directement à l'expert des données utiles à la réalisation de sa mission.\\n\\nLes organisations professionnelles de plateformes et les plateformes indiquent à l'expert les informations qu'elles estiment couvertes par le secret des affaires. A leur demande, l'expert leur transmet les éléments rédigés à partir de ces informations en amont de la remise de ses conclusions, mentionnée à l'article R. 7343-108.\", metadata={'source': '../documents/ecg_dpo/Code du travail/LEGITEXT000006072050.pdf', 'chunk': 6459, 'total_chunks': 6703}),\n",
       " Document(page_content=\"II.-Le maître d'ouvrage vérifie avant le début du détachement que chacun des sous-traitants directs ou indirects de ses cocontractants, qu'il accepte en application de l'article 3 de la loi n° 75-1334 du 31 décembre 1975 relative à la sous-traitance, et que chacune des entreprises exerçant une activité de travail temporaire avec laquelle un de ces sous-traitants ou un de ces cocontractants a contracté qui détachent des salariés dans les conditions mentionnées aux articles L. 1262-1 et L. 1262-2 se sont acquittés de l'obligation mentionnée au I de l'article L. 1262-2-1.\\n\\nCode du travail - Dernière modification le 05 avril 2024 - Document généré le 09 avril 2024\\n\\nIII.-Le donneur d'ordre ou le maître d'ouvrage qui contracte avec un prestataire de services qui détache des salariés, dans les conditions mentionnées aux articles L. 1262-1 et L. 1262-2, vérifie lors de la conclusion du contrat que son cocontractant s'est acquitté, le cas échéant, du paiement des sommes dues au titre des amendes prévues aux articles L. 1263-6, L. 1264-1, L. 1264-2 et L. 8115-1.\", metadata={'source': '../documents/ecg_dpo/Code du travail/LEGITEXT000006072050.pdf', 'chunk': 396, 'total_chunks': 6703}),\n",
       " Document(page_content=\"Article R1263-15\\n\\nPar dérogation aux articles R. 3245-1 à R. 3245-4, les obligations et la responsabilité financière des maîtres d'ouvrage et donneurs d'ordre au regard des salariés détachés sont régies par les dispositions de la présente section.\\n\\nArticle R1263-16\\n\\nA compter du jour de la réception de l'injonction mentionnée à l'article L. 1262-4-3, l'employeur détachant des salariés et, le cas échéant, le donneur d'ordre cocontractant de ce dernier informent dans un délai de sept jours le maître d'ouvrage ou le donneur d'ordre des mesures prises pour faire cesser la situation.\\n\\nLe maître d'ouvrage ou le donneur d'ordre transmet aussitôt cette information à l'agent de contrôle auteur du signalement ou informe celui-ci, dès l'expiration du délai imparti, de l'absence de réponse.\\n\\nArticle R1263-17\\n\\nEn cas d'absence de régularisation effective de la situation par l'employeur, le maître d'ouvrage ou le donneur d'ordre, s'il ne dénonce pas le contrat de prestation de service, est tenu solidairement avec celui- ci au paiement des rémunérations et indemnités dues à chaque salarié détaché ainsi que, lorsque ce salarié relève d'un régime français de sécurité sociale, des cotisations et contributions sociales afférentes dues aux organismes chargés de leur recouvrement.\", metadata={'source': '../documents/ecg_dpo/Code du travail/LEGITEXT000006072050.pdf', 'chunk': 2848, 'total_chunks': 6703}),\n",
       " Document(page_content=\"Article L8281-1\\n\\nLe maître d'ouvrage ou le donneur d'ordre, informé par écrit par l'un des agents mentionnés à l'article L. 8271-1-2 d'une infraction aux dispositions légales et aux stipulations conventionnelles applicables au salarié d'un sous-traitant direct ou indirect dans les matières suivantes :\\n\\n1° Libertés individuelles et collectives dans la relation de travail ;\\n\\n2° Discriminations et égalité professionnelle entre les femmes et les hommes ;\\n\\n3° Protection de la maternité, congés de maternité et de paternité et d'accueil de l'enfant, congés pour événements familiaux ;\\n\\n4° Conditions de mise à disposition et garanties dues aux salariés par les entreprises exerçant une activité de travail temporaire ;\\n\\n5° Exercice du droit de grève ;\\n\\n6° Durée du travail, repos compensateurs, jours fériés, congés annuels payés, durée du travail et travail de nuit des jeunes travailleurs ;\\n\\n7° Conditions d'assujettissement aux caisses de congés et intempéries ;\\n\\n8° Salaire minimum et paiement du salaire, y compris les majorations pour les heures supplémentaires ;\\n\\n9° Règles relatives à la santé et sécurité au travail, âge d'admission au travail, emploi des enfants,\\n\\nenjoint aussitôt, par écrit, à ce sous-traitant de faire cesser sans délai cette situation.\", metadata={'source': '../documents/ecg_dpo/Code du travail/LEGITEXT000006072050.pdf', 'chunk': 2584, 'total_chunks': 6703}),\n",
       " Document(page_content=\"Article R6333-6-2\\n\\nLe contrat de sous-traitance prévu au premier alinéa de l'article L. 6323-9-2 est conclu par écrit entre le prestataire référencé mentionné à l'article L. 6323-9-1 et un sous-traitant.\\n\\nLe contrat mentionné au premier alinéa précise les missions exercées au titre de l'intervention confiée, le contenu et la sanction de la formation, les moyens mobilisés ainsi que les conditions de réalisation et de suivi de l'action, sa durée, la période de réalisation ainsi que le montant de la prestation.\\n\\nLe sous-traitant ne peut lui-même sous-traiter l'exécution de l'action qui lui a été confiée.\\n\\nLe sous-traitant ne peut se voir confier l'exécution d'une action au titre du présent chapitre, s'il fait lui-même l'objet d'un déréférencement temporaire en application de l'article R. 6333-6.\\n\\nLe prestataire mentionné au premier alinéa du présent article peut sous-traiter l'exécution d'actions mentionnées à l'article L. 6323-6, dans la limite d'un plafond exprimé en pourcentage de son chiffre d'affaires réalisé sur le service dématérialisé mentionné à l'article L. 6323-9. Ce plafond est fixé par arrêté du ministre chargé de la formation professionnelle à un niveau garantissant la capacité du prestataire à exercer une activité de formation.\\n\\nCode du travail - Dernière modification le 05 avril 2024 - Document généré le 09 avril 2024\", metadata={'source': '../documents/ecg_dpo/Code du travail/LEGITEXT000006072050.pdf', 'chunk': 6116, 'total_chunks': 6703})]"
      ]
     },
     "execution_count": 238,
     "metadata": {},
     "output_type": "execute_result"
    }
   ],
   "source": [
    "dpo_db.similarity_search(q2, k=6, search_distance=0.4)"
   ]
  },
  {
   "cell_type": "markdown",
   "metadata": {},
   "source": [
    "##### - Q3"
   ]
  },
  {
   "cell_type": "code",
   "execution_count": 200,
   "metadata": {},
   "outputs": [],
   "source": [
    "q3 = \"Je ne sais pas quand est-ce qu'une analyse d'impact est indispensable ou non pour un traitement. Peux-tu m'expliquer clairement quand est-ce que je dois les réaliser et de manière simple ?\""
   ]
  },
  {
   "cell_type": "markdown",
   "metadata": {},
   "source": [
    "IV ARTICLE 35, 12-13"
   ]
  },
  {
   "cell_type": "code",
   "execution_count": 201,
   "metadata": {},
   "outputs": [
    {
     "data": {
      "text/plain": [
       "[Document(page_content=\"11. effectué conformément à l'analyse d'impact relative à la protection des données, au moins quand il se produit une modification du risque présenté par les opérations de traitement.\\n\\nSi nécessaire, le responsable du traitement procède à un examen afin d'évaluer si le traitement est\\n\\nhttps://www.cnil.fr/fr/reglement-europeen-protection-donnees/chapitre4\\n\\n13/23\\n\\n4/15/24, 9:57 AM\\n\\nCHAPITRE IV - Responsable du traitement et sous-traitant | CNIL\", metadata={'source': '../documents/ecg_dpo/CNIL/CHAPITRE IV - Responsable du traitement et sous-traitant _ CNIL.pdf', 'chunk': 29, 'total_chunks': 55}),\n",
       " Document(page_content=\"3. dans les cas suivants:\\n\\nL'analyse d'impact relative à la protection des données visée au paragraphe 1 est, en particulier, requise\\n\\na) l'évaluation systématique et approfondie d'aspects personnels concernant des personnes physiques, qui est fondée sur un traitement automatisé, y compris le profilage, et sur la base de laquelle sont prises des décisions produisant des effets juridiques à l'égard d'une personne physique ou l'affectant de manière significative de façon similaire; b) le traitement à grande échelle de catégories particulières de données visées à l'article 9, paragraphe 1, ou de données à caractère personnel relatives à des condamnations pénales et à des infractions visées à l'article 10; ou\\n\\nc) la surveillance systématique à grande échelle d'une zone accessible au public.\\n\\n4. L'autorité de contrôle établit et publie une liste des types d'opérations de traitement pour lesquelles une analyse d'impact relative à la protection des données est requise conformément au paragraphe 1. L'autorité de contrôle communique ces listes au comité visé à l'article 68.\\n\\n5. L'autorité de contrôle peut aussi établir et publier une liste des types d'opérations de traitement pour lesquelles aucune analyse d'impact relative à la protection des données n'est requise. L'autorité de contrôle\\n\\nhttps://www.cnil.fr/fr/reglement-europeen-protection-donnees/chapitre4\\n\\n12/23\\n\\n4/15/24, 9:57 AM\\n\\nCHAPITRE IV - Responsable du traitement et sous-traitant | CNIL\\n\\ncommunique cette liste au comité.\", metadata={'source': '../documents/ecg_dpo/CNIL/CHAPITRE IV - Responsable du traitement et sous-traitant _ CNIL.pdf', 'chunk': 26, 'total_chunks': 55}),\n",
       " Document(page_content=\"Article 36 - Consultation préalable\\n\\n1. analyse d'impact relative à la protection des données effectuée au titre de l'article 35 indique que le traitement présenterait un risque élevé si le responsable du traitement ne prenait pas de mesures pour atténuer le risque. Lorsque l'autorité de contrôle est d'avis que le traitement envisagé visé au paragraphe 1, constituerait une\\n\\nLe responsable du traitement consulte l'autorité de contrôle préalablement au traitement lorsqu'une\\n\\n2. violation du présent règlement, en particulier lorsque le responsable du traitement n'a pas suffisamment identifié ou atténué le risque, l'autorité de contrôle fournit par écrit, dans un délai maximum de huit semaines à compter de la réception de la demande de consultation, un avis écrit au responsable du traitement et, le cas échéant, au sous-traitant, et peut faire usage des pouvoirs visés à l'article 58. Ce délai peut être prolongé de six semaines, en fonction de la complexité du traitement envisagé. L'autorité de contrôle informe le responsable du traitement et, le cas échéant, le sous-traitant de la prolongation du délai ainsi que des motifs du retard, dans un délai d'un mois à compter de la réception de la demande de consultation. Ces délais peuvent être suspendus jusqu'à ce que l'autorité de contrôle ait obtenu les informations qu'elle a demandées pour les besoins de la consultation. Lorsque le responsable du traitement consulte l'autorité de contrôle en application du paragraphe 1, il lui\", metadata={'source': '../documents/ecg_dpo/CNIL/CHAPITRE IV - Responsable du traitement et sous-traitant _ CNIL.pdf', 'chunk': 30, 'total_chunks': 55}),\n",
       " Document(page_content=\"c) elle exigerait des efforts disproportionnés. Dans ce cas, il est plutôt procédé à une communication publique ou à une mesure similaire permettant aux personnes concernées d'être informées de manière tout aussi efficace.\\n\\n4. à caractère personnel la concernant, l'autorité de contrôle peut, après avoir examiné si cette violation de données à caractère personnel est susceptible d'engendrer un risque élevé, exiger du responsable du traitement qu'il procède à cette communication ou décider que l'une ou l'autre des conditions visées au paragraphe 3 est remplie.\\n\\nSi le responsable du traitement n'a pas déjà communiqué à la personne concernée la violation de données\\n\\nhttps://www.cnil.fr/fr/reglement-europeen-protection-donnees/chapitre4\\n\\n11/23\\n\\n4/15/24, 9:57 AM\\n\\nCHAPITRE IV - Responsable du traitement et sous-traitant | CNIL\\n\\nSection 3 - Analyse d'impact relative à la protection des données et consultation préalable\", metadata={'source': '../documents/ecg_dpo/CNIL/CHAPITRE IV - Responsable du traitement et sous-traitant _ CNIL.pdf', 'chunk': 24, 'total_chunks': 55}),\n",
       " Document(page_content=\"8. approuvés visés à l'article 40 est dûment pris en compte lors de l'évaluation de l'impact des opérations de traitement effectuées par lesdits responsables du traitement ou sous-traitants, en particulier aux fins d'une analyse d'impact relative à la protection des données. Le cas échéant, le responsable du traitement demande l'avis des personnes concernées ou de leurs\\n\\nLe respect, par les responsables du traitement ou sous-traitants concernés, de codes de conduite\\n\\n9. représentants au sujet du traitement prévu, sans préjudice de la protection des intérêts généraux ou commerciaux ou de la sécurité des opérations de traitement. Lorsque le traitement effectué en application de l'article 6, paragraphe 1, point c) ou e), a une base 10. juridique dans le droit de l'Union ou dans le droit de l'État membre auquel le responsable du traitement est soumis, que ce droit règlemente l'opération de traitement spécifique ou l'ensemble des opérations de traitement en question et qu'une analyse d'impact relative à la protection des données a déjà été effectuée dans le cadre d'une analyse d'impact générale réalisée dans le cadre de l'adoption de la base juridique en question, les paragraphes 1 à 7 ne s'appliquent pas, à moins que les États membres n'estiment qu'il est nécessaire d'effectuer une telle analyse avant les activités de traitement.\", metadata={'source': '../documents/ecg_dpo/CNIL/CHAPITRE IV - Responsable du traitement et sous-traitant _ CNIL.pdf', 'chunk': 28, 'total_chunks': 55}),\n",
       " Document(page_content=\"Article 35 - Analyse d'impact relative à la protection des données\\n\\n1. Lorsqu'un type de traitement, en particulier par le recours à de nouvelles technologies, et compte tenu de la nature, de la portée, du contexte et des finalités du traitement, est susceptible d'engendrer un risque élevé pour les droits et libertés des personnes physiques, le responsable du traitement effectue, avant le traitement, une analyse de l'impact des opérations de traitement envisagées sur la protection des données à caractère personnel. Une seule et même analyse peut porter sur un ensemble d'opérations de traitement similaires qui présentent des risques élevés similaires. Lorsqu'il effectue une analyse d'impact relative à la protection des données, le responsable du traitement\\n\\n2. demande conseil au délégué à la protection des données, si un tel délégué a été désigné.\\n\\n3. dans les cas suivants:\\n\\nL'analyse d'impact relative à la protection des données visée au paragraphe 1 est, en particulier, requise\", metadata={'source': '../documents/ecg_dpo/CNIL/CHAPITRE IV - Responsable du traitement et sous-traitant _ CNIL.pdf', 'chunk': 25, 'total_chunks': 55})]"
      ]
     },
     "execution_count": 201,
     "metadata": {},
     "output_type": "execute_result"
    }
   ],
   "source": [
    "cnil_large_db.similarity_search(q3, k=6, search_distance=0.4)"
   ]
  },
  {
   "cell_type": "code",
   "execution_count": 212,
   "metadata": {},
   "outputs": [
    {
     "data": {
      "text/plain": [
       "[Document(page_content=\". Une seule et même analyse peut porter sur un ensemble d'opérations de traitement similaires qui présentent des risques élevés similaires. Lorsqu'il effectue une analyse d'impact relative à la protection des données, le responsable du traitement\", metadata={'source': '../documents/ecg_dpo/CNIL/CHAPITRE IV - Responsable du traitement et sous-traitant _ CNIL.pdf', 'chunk': 82, 'total_chunks': 177}),\n",
       " Document(page_content=\"11. effectué conformément à l'analyse d'impact relative à la protection des données, au moins quand il se produit une modification du risque présenté par les opérations de traitement.\\n\\nSi nécessaire, le responsable du traitement procède à un examen afin d'évaluer si le traitement est\\n\\nhttps://www.cnil.fr/fr/reglement-europeen-protection-donnees/chapitre4\\n\\n13/23\\n\\n4/15/24, 9:57 AM\\n\\nCHAPITRE IV - Responsable du traitement et sous-traitant | CNIL\", metadata={'source': '../documents/ecg_dpo/CNIL/CHAPITRE IV - Responsable du traitement et sous-traitant _ CNIL.pdf', 'chunk': 94, 'total_chunks': 177}),\n",
       " Document(page_content=\". juridique dans le droit de l'Union ou dans le droit de l'État membre auquel le responsable du traitement est soumis, que ce droit règlemente l'opération de traitement spécifique ou l'ensemble des opérations de traitement en question et qu'une analyse d'impact relative à la protection des données a déjà été effectuée dans le cadre d'une analyse d'impact générale réalisée dans le cadre de l'adoption de la base juridique en question, les paragraphes 1 à 7 ne s'appliquent pas, à moins que les États membres n'estiment qu'il est nécessaire d'effectuer une telle analyse avant les activités de traitement\", metadata={'source': '../documents/ecg_dpo/CNIL/CHAPITRE IV - Responsable du traitement et sous-traitant _ CNIL.pdf', 'chunk': 92, 'total_chunks': 177}),\n",
       " Document(page_content=\"Article 36 - Consultation préalable\\n\\n1. analyse d'impact relative à la protection des données effectuée au titre de l'article 35 indique que le traitement présenterait un risque élevé si le responsable du traitement ne prenait pas de mesures pour atténuer le risque. Lorsque l'autorité de contrôle est d'avis que le traitement envisagé visé au paragraphe 1, constituerait une\\n\\nLe responsable du traitement consulte l'autorité de contrôle préalablement au traitement lorsqu'une\", metadata={'source': '../documents/ecg_dpo/CNIL/CHAPITRE IV - Responsable du traitement et sous-traitant _ CNIL.pdf', 'chunk': 95, 'total_chunks': 177}),\n",
       " Document(page_content=\"2. demande conseil au délégué à la protection des données, si un tel délégué a été désigné.\\n\\n3. dans les cas suivants:\\n\\nL'analyse d'impact relative à la protection des données visée au paragraphe 1 est, en particulier, requise\", metadata={'source': '../documents/ecg_dpo/CNIL/CHAPITRE IV - Responsable du traitement et sous-traitant _ CNIL.pdf', 'chunk': 83, 'total_chunks': 177}),\n",
       " Document(page_content=\"7.\\n\\nL'analyse contient au moins:\\n\\na) une description systématique des opérations de traitement envisagées et des finalités du traitement, y compris, le cas échéant, l'intérêt légitime poursuivi par le responsable du traitement; b) une évaluation de la nécessité et de la proportionnalité des opérations de traitement au regard des finalités;\\n\\nc) une évaluation des risques pour les droits et libertés des personnes concernées conformément au paragraphe 1; et\", metadata={'source': '../documents/ecg_dpo/CNIL/CHAPITRE IV - Responsable du traitement et sous-traitant _ CNIL.pdf', 'chunk': 88, 'total_chunks': 177})]"
      ]
     },
     "execution_count": 212,
     "metadata": {},
     "output_type": "execute_result"
    }
   ],
   "source": [
    "cnil_small_db.similarity_search(q3, k=6, search_distance=0.4)"
   ]
  },
  {
   "cell_type": "code",
   "execution_count": 239,
   "metadata": {
    "scrolled": true
   },
   "outputs": [
    {
     "data": {
      "text/plain": [
       "[Document(page_content=\"11. effectué conformément à l'analyse d'impact relative à la protection des données, au moins quand il se produit une modification du risque présenté par les opérations de traitement.\\n\\nSi nécessaire, le responsable du traitement procède à un examen afin d'évaluer si le traitement est\\n\\nhttps://www.cnil.fr/fr/reglement-europeen-protection-donnees/chapitre4\\n\\n13/23\\n\\n4/15/24, 9:57 AM\\n\\nCHAPITRE IV - Responsable du traitement et sous-traitant | CNIL\", metadata={'source': '../documents/ecg_dpo/CNIL/CHAPITRE IV - Responsable du traitement et sous-traitant _ CNIL.pdf', 'chunk': 29, 'total_chunks': 55}),\n",
       " Document(page_content=\"3. dans les cas suivants:\\n\\nL'analyse d'impact relative à la protection des données visée au paragraphe 1 est, en particulier, requise\\n\\na) l'évaluation systématique et approfondie d'aspects personnels concernant des personnes physiques, qui est fondée sur un traitement automatisé, y compris le profilage, et sur la base de laquelle sont prises des décisions produisant des effets juridiques à l'égard d'une personne physique ou l'affectant de manière significative de façon similaire; b) le traitement à grande échelle de catégories particulières de données visées à l'article 9, paragraphe 1, ou de données à caractère personnel relatives à des condamnations pénales et à des infractions visées à l'article 10; ou\\n\\nc) la surveillance systématique à grande échelle d'une zone accessible au public.\\n\\n4. L'autorité de contrôle établit et publie une liste des types d'opérations de traitement pour lesquelles une analyse d'impact relative à la protection des données est requise conformément au paragraphe 1. L'autorité de contrôle communique ces listes au comité visé à l'article 68.\\n\\n5. L'autorité de contrôle peut aussi établir et publier une liste des types d'opérations de traitement pour lesquelles aucune analyse d'impact relative à la protection des données n'est requise. L'autorité de contrôle\\n\\nhttps://www.cnil.fr/fr/reglement-europeen-protection-donnees/chapitre4\\n\\n12/23\\n\\n4/15/24, 9:57 AM\\n\\nCHAPITRE IV - Responsable du traitement et sous-traitant | CNIL\\n\\ncommunique cette liste au comité.\", metadata={'source': '../documents/ecg_dpo/CNIL/CHAPITRE IV - Responsable du traitement et sous-traitant _ CNIL.pdf', 'chunk': 26, 'total_chunks': 55}),\n",
       " Document(page_content=\"Article 36 - Consultation préalable\\n\\n1. analyse d'impact relative à la protection des données effectuée au titre de l'article 35 indique que le traitement présenterait un risque élevé si le responsable du traitement ne prenait pas de mesures pour atténuer le risque. Lorsque l'autorité de contrôle est d'avis que le traitement envisagé visé au paragraphe 1, constituerait une\\n\\nLe responsable du traitement consulte l'autorité de contrôle préalablement au traitement lorsqu'une\\n\\n2. violation du présent règlement, en particulier lorsque le responsable du traitement n'a pas suffisamment identifié ou atténué le risque, l'autorité de contrôle fournit par écrit, dans un délai maximum de huit semaines à compter de la réception de la demande de consultation, un avis écrit au responsable du traitement et, le cas échéant, au sous-traitant, et peut faire usage des pouvoirs visés à l'article 58. Ce délai peut être prolongé de six semaines, en fonction de la complexité du traitement envisagé. L'autorité de contrôle informe le responsable du traitement et, le cas échéant, le sous-traitant de la prolongation du délai ainsi que des motifs du retard, dans un délai d'un mois à compter de la réception de la demande de consultation. Ces délais peuvent être suspendus jusqu'à ce que l'autorité de contrôle ait obtenu les informations qu'elle a demandées pour les besoins de la consultation. Lorsque le responsable du traitement consulte l'autorité de contrôle en application du paragraphe 1, il lui\", metadata={'source': '../documents/ecg_dpo/CNIL/CHAPITRE IV - Responsable du traitement et sous-traitant _ CNIL.pdf', 'chunk': 30, 'total_chunks': 55}),\n",
       " Document(page_content=\"c) elle exigerait des efforts disproportionnés. Dans ce cas, il est plutôt procédé à une communication publique ou à une mesure similaire permettant aux personnes concernées d'être informées de manière tout aussi efficace.\\n\\n4. à caractère personnel la concernant, l'autorité de contrôle peut, après avoir examiné si cette violation de données à caractère personnel est susceptible d'engendrer un risque élevé, exiger du responsable du traitement qu'il procède à cette communication ou décider que l'une ou l'autre des conditions visées au paragraphe 3 est remplie.\\n\\nSi le responsable du traitement n'a pas déjà communiqué à la personne concernée la violation de données\\n\\nhttps://www.cnil.fr/fr/reglement-europeen-protection-donnees/chapitre4\\n\\n11/23\\n\\n4/15/24, 9:57 AM\\n\\nCHAPITRE IV - Responsable du traitement et sous-traitant | CNIL\\n\\nSection 3 - Analyse d'impact relative à la protection des données et consultation préalable\", metadata={'source': '../documents/ecg_dpo/CNIL/CHAPITRE IV - Responsable du traitement et sous-traitant _ CNIL.pdf', 'chunk': 24, 'total_chunks': 55}),\n",
       " Document(page_content=\"8. approuvés visés à l'article 40 est dûment pris en compte lors de l'évaluation de l'impact des opérations de traitement effectuées par lesdits responsables du traitement ou sous-traitants, en particulier aux fins d'une analyse d'impact relative à la protection des données. Le cas échéant, le responsable du traitement demande l'avis des personnes concernées ou de leurs\\n\\nLe respect, par les responsables du traitement ou sous-traitants concernés, de codes de conduite\\n\\n9. représentants au sujet du traitement prévu, sans préjudice de la protection des intérêts généraux ou commerciaux ou de la sécurité des opérations de traitement. Lorsque le traitement effectué en application de l'article 6, paragraphe 1, point c) ou e), a une base 10. juridique dans le droit de l'Union ou dans le droit de l'État membre auquel le responsable du traitement est soumis, que ce droit règlemente l'opération de traitement spécifique ou l'ensemble des opérations de traitement en question et qu'une analyse d'impact relative à la protection des données a déjà été effectuée dans le cadre d'une analyse d'impact générale réalisée dans le cadre de l'adoption de la base juridique en question, les paragraphes 1 à 7 ne s'appliquent pas, à moins que les États membres n'estiment qu'il est nécessaire d'effectuer une telle analyse avant les activités de traitement.\", metadata={'source': '../documents/ecg_dpo/CNIL/CHAPITRE IV - Responsable du traitement et sous-traitant _ CNIL.pdf', 'chunk': 28, 'total_chunks': 55}),\n",
       " Document(page_content=\"Article 35 - Analyse d'impact relative à la protection des données\\n\\n1. Lorsqu'un type de traitement, en particulier par le recours à de nouvelles technologies, et compte tenu de la nature, de la portée, du contexte et des finalités du traitement, est susceptible d'engendrer un risque élevé pour les droits et libertés des personnes physiques, le responsable du traitement effectue, avant le traitement, une analyse de l'impact des opérations de traitement envisagées sur la protection des données à caractère personnel. Une seule et même analyse peut porter sur un ensemble d'opérations de traitement similaires qui présentent des risques élevés similaires. Lorsqu'il effectue une analyse d'impact relative à la protection des données, le responsable du traitement\\n\\n2. demande conseil au délégué à la protection des données, si un tel délégué a été désigné.\\n\\n3. dans les cas suivants:\\n\\nL'analyse d'impact relative à la protection des données visée au paragraphe 1 est, en particulier, requise\", metadata={'source': '../documents/ecg_dpo/CNIL/CHAPITRE IV - Responsable du traitement et sous-traitant _ CNIL.pdf', 'chunk': 25, 'total_chunks': 55})]"
      ]
     },
     "execution_count": 239,
     "metadata": {},
     "output_type": "execute_result"
    }
   ],
   "source": [
    "dpo_db.similarity_search(q3, k=6, search_distance=0.4)"
   ]
  },
  {
   "cell_type": "markdown",
   "metadata": {},
   "source": [
    "# 6. QA Chain test"
   ]
  },
  {
   "cell_type": "code",
   "execution_count": 240,
   "metadata": {},
   "outputs": [],
   "source": [
    "# Create chain to answer questions\n",
    "NUMBER_OF_RESULTS = 10\n",
    "SEARCH_DISTANCE_THRESHOLD = 0.6\n",
    "\n",
    "# Expose index to the retriever\n",
    "retriever = cnil_large_db.as_retriever(\n",
    "    search_type=\"similarity\",\n",
    "    search_kwargs={\n",
    "        \"k\": NUMBER_OF_RESULTS,\n",
    "        \"search_distance\": SEARCH_DISTANCE_THRESHOLD,\n",
    "    },\n",
    "    filters=None,\n",
    ")"
   ]
  },
  {
   "cell_type": "code",
   "execution_count": 241,
   "metadata": {},
   "outputs": [],
   "source": [
    "template = \"\"\"SYSTEM: You are an intelligent assistant helping the users with their questions on research papers.\n",
    "\n",
    "Question: {question}\n",
    "\n",
    "Strictly Use ONLY the following pieces of context to answer the question at the end. Think step-by-step and then answer.\n",
    "\n",
    "Do not try to make up an answer:\n",
    " - If the answer to the question cannot be determined from the context alone, say \"I cannot determine the answer to that.\"\n",
    " - If the context is empty, just say \"I do not know the answer to that.\"\n",
    "\n",
    "=============\n",
    "{context}\n",
    "=============\n",
    "\n",
    "Question: {question}\n",
    "Helpful Answer:\"\"\""
   ]
  },
  {
   "cell_type": "code",
   "execution_count": 245,
   "metadata": {},
   "outputs": [],
   "source": [
    "# Text model instance integrated with langChain\n",
    "llm = VertexAI(\n",
    "    model_name=\"text-bison@002\",\n",
    "    max_output_tokens=1024,\n",
    "    temperature=0.2,\n",
    "    top_p=0.8,\n",
    "    top_k=40,\n",
    "    verbose=True,\n",
    ")\n"
   ]
  },
  {
   "cell_type": "code",
   "execution_count": 247,
   "metadata": {},
   "outputs": [],
   "source": [
    "from langchain.prompts import PromptTemplate"
   ]
  },
  {
   "cell_type": "code",
   "execution_count": 248,
   "metadata": {},
   "outputs": [],
   "source": [
    "# Uses LLM to synthesize results from the search index.\n",
    "# Use Vertex PaLM Text API for LLM\n",
    "from langchain.chains import RetrievalQA\n",
    "qa = RetrievalQA.from_chain_type(\n",
    "    llm=llm,\n",
    "    chain_type=\"stuff\",\n",
    "    retriever=retriever,\n",
    "    return_source_documents=True,\n",
    "    verbose=True,\n",
    "    chain_type_kwargs={\n",
    "        \"prompt\": PromptTemplate(\n",
    "            template=template,\n",
    "            input_variables=[\"context\", \"question\"],\n",
    "        ),\n",
    "    },\n",
    ")"
   ]
  },
  {
   "cell_type": "code",
   "execution_count": 249,
   "metadata": {},
   "outputs": [],
   "source": [
    "# Enable for troubleshooting\n",
    "qa.combine_documents_chain.verbose = True\n",
    "qa.combine_documents_chain.llm_chain.verbose = True\n",
    "qa.combine_documents_chain.llm_chain.llm.verbose = True"
   ]
  },
  {
   "cell_type": "code",
   "execution_count": 252,
   "metadata": {},
   "outputs": [],
   "source": [
    "import textwrap"
   ]
  },
  {
   "cell_type": "code",
   "execution_count": 250,
   "metadata": {},
   "outputs": [],
   "source": [
    "def formatter(result):\n",
    "    print(f\"Query: {result['query']}\")\n",
    "    print(\".\" * 80)\n",
    "    if \"source_documents\" in result.keys():\n",
    "        for idx, ref in enumerate(result[\"source_documents\"]):\n",
    "            print(\"-\" * 80)\n",
    "            print(f\"REFERENCE #{idx}\")\n",
    "            print(\"-\" * 80)\n",
    "            if \"score\" in ref.metadata:\n",
    "                print(f\"Matching Score: {ref.metadata['score']}\")\n",
    "            if \"source\" in ref.metadata:\n",
    "                print(f\"Document Source: {ref.metadata['source']}\")\n",
    "            if \"document_name\" in ref.metadata:\n",
    "                print(f\"Document Name: {ref.metadata['document_name']}\")\n",
    "            print(\".\" * 80)\n",
    "            print(f\"Content: \\n{wrap(ref.page_content)}\")\n",
    "    print(\".\" * 80)\n",
    "    print(f\"Response: {wrap(result['result'])}\")\n",
    "    print(\".\" * 80)\n",
    "\n",
    "\n",
    "def wrap(s):\n",
    "    return \"\\n\".join(textwrap.wrap(s, width=120, break_long_words=False))\n",
    "\n",
    "\n",
    "def ask(\n",
    "    query,\n",
    "    qa=qa,\n",
    "    k=NUMBER_OF_RESULTS,\n",
    "    search_distance=SEARCH_DISTANCE_THRESHOLD,\n",
    "    filters={},\n",
    "):\n",
    "    qa.retriever.search_kwargs[\"search_distance\"] = search_distance\n",
    "    qa.retriever.search_kwargs[\"k\"] = k\n",
    "    qa.retriever.search_kwargs[\"filters\"] = filters\n",
    "    result = qa({\"query\": query})\n",
    "    return formatter(result)"
   ]
  },
  {
   "cell_type": "code",
   "execution_count": 253,
   "metadata": {
    "scrolled": true
   },
   "outputs": [
    {
     "name": "stdout",
     "output_type": "stream",
     "text": [
      "\n",
      "\n",
      "\u001b[1m> Entering new RetrievalQA chain...\u001b[0m\n",
      "\n",
      "\n",
      "\u001b[1m> Entering new StuffDocumentsChain chain...\u001b[0m\n",
      "\n",
      "\n",
      "\u001b[1m> Entering new LLMChain chain...\u001b[0m\n",
      "Prompt after formatting:\n",
      "\u001b[32;1m\u001b[1;3mSYSTEM: You are an intelligent assistant helping the users with their questions on research papers.\n",
      "\n",
      "Question: Je n'aurai pas le temps de traiter la demande de droit à l'oubli d'un utilisateur dans le mois règlementaire imposé par la CNIL. Ai-je un recours ?\n",
      "\n",
      "Strictly Use ONLY the following pieces of context to answer the question at the end. Think step-by-step and then answer.\n",
      "\n",
      "Do not try to make up an answer:\n",
      " - If the answer to the question cannot be determined from the context alone, say \"I cannot determine the answer to that.\"\n",
      " - If the context is empty, just say \"I do not know the answer to that.\"\n",
      "\n",
      "=============\n",
      "3. suite d'une demande formulée en application des articles 15 à 22, dans les meilleurs délais et en tout état de cause dans un délai d'un mois à compter de la réception de la demande. Au besoin, ce délai peut être prolongé de deux mois, compte tenu de la complexité et du nombre de demandes. Le responsable du traitement informe la personne concernée de cette prolongation et des motifs du report dans un délai d'un mois à compter de la réception de la demande. Lorsque la personne concernée présente sa demande sous une forme électronique, les informations sont fournies par voie électronique lorsque cela est possible, à moins que la personne concernée ne demande qu'il en soit autrement.\n",
      "\n",
      "4. Si le responsable du traitement ne donne pas suite à la demande formulée par la personne concernée, il informe celle-ci sans tarder et au plus tard dans un délai d'un mois à compter de la réception de la demande\n",
      "\n",
      "https://www.cnil.fr/fr/reglement-europeen-protection-donnees/chapitre3\n",
      "\n",
      "2/14\n",
      "\n",
      "4/15/24, 9:56 AM\n",
      "\n",
      "CHAPITRE III - Droits de la personne concernée | CNIL\n",
      "\n",
      "des motifs de son inaction et de la possibilité d'introduire une réclamation auprès d'une autorité de contrôle et de former un recours juridictionnel.\n",
      "\n",
      "5. toute communication et prendre toute mesure au titre des articles 15 à 22 et de l'article 34. Lorsque les demandes d'une personne concernée sont manifestement infondées ou excessives, notamment en raison de leur caractère répétitif, le responsable du traitement peut:\n",
      "\n",
      "4/14\n",
      "\n",
      "4/15/24, 9:56 AM\n",
      "\n",
      "CHAPITRE III - Droits de la personne concernée | CNIL\n",
      "\n",
      "a) la durée de conservation des données à caractère personnel ou, lorsque ce n'est pas possible, les critères utilisés pour déterminer cette durée; b) l'existence du droit de demander au responsable du traitement l'accès aux données à caractère personnel, la rectification ou l'effacement de celles-ci, ou une limitation du traitement relatif à la personne concernée, ou du droit de s'opposer au traitement et du droit à la portabilité des données;\n",
      "\n",
      "c) lorsque le traitement est fondé sur l'article 6, paragraphe 1, point a), ou sur l'article 9, paragraphe 2, point a), l'existence du droit de retirer son consentement à tout moment, sans porter atteinte à la licéité du traitement fondé sur le consentement effectué avant le retrait de celui-ci;\n",
      "\n",
      "d) le droit d'introduire une réclamation auprès d'une autorité de contrôle;\n",
      "\n",
      "e) des informations sur la question de savoir si l'exigence de fourniture de données à caractère personnel a un caractère réglementaire ou contractuel ou si elle conditionne la conclusion d'un contrat et si la personne concernée est tenue de fournir les données à caractère personnel, ainsi que sur les conséquences éventuelles de la non-fourniture de ces données;\n",
      "\n",
      "Article 77 - Droit d'introduire une réclamation auprès d'une autorité de contrôle\n",
      "\n",
      "Sans préjudice de tout autre recours administratif ou juridictionnel, toute personne concernée a le droit 1. d'introduire une réclamation auprès d'une autorité de contrôle, en particulier dans l'État membre dans lequel se trouve sa résidence habituelle, son lieu de travail ou le lieu où la violation aurait été commise, si elle considère que le traitement de données à caractère personnel la concernant constitue une violation du présent règlement.\n",
      "\n",
      "2. L'autorité de contrôle auprès de laquelle la réclamation a été introduite informe l'auteur de la réclamation de l'état d'avancement et de l'issue de la réclamation, y compris de la possibilité d'un recours juridictionnel en vertu de l'article 78.\n",
      "\n",
      "https://www.cnil.fr/fr/reglement-europeen-protection-donnees/chapitre8\n",
      "\n",
      "1/7\n",
      "\n",
      "4/15/24, 9:58 AM\n",
      "\n",
      "CHAPITRE VIII - Voies de recours, responsabilité et sanctions | CNIL\n",
      "\n",
      "4/15/24, 9:56 AM\n",
      "\n",
      "CHAPITRE III - Droits de la personne concernée | CNIL\n",
      "\n",
      "CHAPITRE III - Droits de la personne concernée 23 mai 2016\n",
      "\n",
      "Section 1 - Transparence et modalités\n",
      "\n",
      "Article 12 - Transparence des informations et des communications et modalités de l'exercice des droits de la personne concernée\n",
      "\n",
      "Section 2 - Information et accès aux données à caractère personnel\n",
      "\n",
      "Article 13 - Informations à fournir lorsque des données à caractère personnel sont collectées auprès de la personne concernée\n",
      "\n",
      "Article 14 - Informations à fournir lorsque les données à caractère personnel n'ont pas été collectées auprès de la personne concernée\n",
      "\n",
      "Article 15 - Droit d'accès de la personne concernée\n",
      "\n",
      "Section 3 - Rectification et effacement\n",
      "\n",
      "Article 16 - Droit de rectification\n",
      "\n",
      "Article 17 - Droit à l'effacement («droit à l'oubli»)\n",
      "\n",
      "Article 18 - Droit à la limitation du traitement\n",
      "\n",
      "Article 19 - Obligation de notification en ce qui concerne la rectification ou l'effacement de données à caractère personnel ou la limitation du traitement\n",
      "\n",
      "Article 20 - Droit à la portabilité des données\n",
      "\n",
      "Section 4 - Droit d'opposition et prise de décision individuelle automatisée\n",
      "\n",
      "Article 21 - Droit d'opposition\n",
      "\n",
      "Article 22 - Décision individuelle automatisée, y compris le profilage\n",
      "\n",
      "https://www.cnil.fr/fr/reglement-europeen-protection-donnees/chapitre3\n",
      "\n",
      "1/14\n",
      "\n",
      "4/15/24, 9:56 AM\n",
      "\n",
      "CHAPITRE III - Droits de la personne concernée | CNIL\n",
      "\n",
      "Section 5 - Limitations\n",
      "\n",
      "Article 23 - Limitations\n",
      "\n",
      "Section 1 - Transparence et modalités\n",
      "\n",
      "4/15/24, 9:58 AM\n",
      "\n",
      "CHAPITRE VIII - Voies de recours, responsabilité et sanctions | CNIL\n",
      "\n",
      "CHAPITRE VIII - Voies de recours, responsabilité et sanctions\n",
      "\n",
      "Article 77 - Droit d'introduire une réclamation auprès d'une autorité de contrôle Article 78 - Droit à un recours juridictionnel effectif contre une autorité de contrôle Article 79 - Droit à un recours juridictionnel effectif contre un responsable du traitement ou un sous-traitant Article 80 - Représentation des personnes concernées Article 81 - Suspension d'une action Article 82 - Droit à réparation et responsabilité Article 83 - Conditions générales pour imposer des amendes administratives Article 84 - Sanctions\n",
      "\n",
      "Article 17 - Droit à l'eﬀacement («droit à l'oubli»)\n",
      "\n",
      "1. La personne concernée a le droit d'obtenir du responsable du traitement l'effacement, dans les meilleurs délais, de données à caractère personnel la concernant et le responsable du traitement a l'obligation d'effacer ces données à caractère personnel dans les meilleurs délais, lorsque l'un des motifs suivants s'applique:\n",
      "\n",
      "a) les données à caractère personnel ne sont plus nécessaires au regard des finalités pour lesquelles elles ont été collectées ou traitées d'une autre manière; b) la personne concernée retire le consentement sur lequel est fondé le traitement, conformément à l'article 6, paragraphe 1, point a), ou à l'article 9, paragraphe 2, point a), et il n'existe pas d'autre fondement juridique au traitement;\n",
      "\n",
      "c) la personne concernée s'oppose au traitement en vertu de l'article 21, paragraphe 1, et il n'existe pas de motif légitime impérieux pour le traitement, ou la personne concernée s'oppose au traitement en vertu de l'article 21, paragraphe 2;\n",
      "\n",
      "d) les données à caractère personnel ont fait l'objet d'un traitement illicite;\n",
      "\n",
      "e) les données à caractère personnel doivent être effacées pour respecter une obligation légale qui est prévue par le droit de l'Union ou par le droit de l'État membre auquel le responsable du traitement est soumis;\n",
      "\n",
      "f) les données à caractère personnel ont été collectées dans le cadre de l'offre de services de la société de l'information visée à l'article 8, paragraphe 1.\n",
      "\n",
      "4.\n",
      "\n",
      "Le droit d'obtenir une copie visé au paragraphe 3 ne porte pas atteinte aux droits et libertés d'autrui.\n",
      "\n",
      "Section 3 - Rectiﬁcation et eﬀacement\n",
      "\n",
      "https://www.cnil.fr/fr/reglement-europeen-protection-donnees/chapitre3\n",
      "\n",
      "8/14\n",
      "\n",
      "4/15/24, 9:56 AM\n",
      "\n",
      "CHAPITRE III - Droits de la personne concernée | CNIL\n",
      "\n",
      "Article 15 - Droit d'accès de la personne concernée\n",
      "\n",
      "1. à caractère personnel la concernant sont ou ne sont pas traitées et, lorsqu'elles le sont, l'accès auxdites\n",
      "\n",
      "La personne concernée a le droit d'obtenir du responsable du traitement la confirmation que des données\n",
      "\n",
      "https://www.cnil.fr/fr/reglement-europeen-protection-donnees/chapitre3\n",
      "\n",
      "7/14\n",
      "\n",
      "4/15/24, 9:56 AM\n",
      "\n",
      "CHAPITRE III - Droits de la personne concernée | CNIL\n",
      "\n",
      "données à caractère personnel ainsi que les informations suivantes:\n",
      "\n",
      "a) les finalités du traitement; b) les catégories de données à caractère personnel concernées;\n",
      "\n",
      "c) les destinataires ou catégories de destinataires auxquels les données à caractère personnel ont été ou seront communiquées, en particulier les destinataires qui sont établis dans des pays tiers ou les organisations internationales;\n",
      "\n",
      "d) lorsque cela est possible, la durée de conservation des données à caractère personnel envisagée ou, lorsque ce n'est pas possible, les critères utilisés pour déterminer cette durée;\n",
      "\n",
      "e) l'existence du droit de demander au responsable du traitement la rectification ou l'effacement de données à caractère personnel, ou une limitation du traitement des données à caractère personnel relatives à la personne concernée, ou du droit de s'opposer à ce traitement;\n",
      "\n",
      "f) le droit d'introduire une réclamation auprès d'une autorité de contrôle;\n",
      "\n",
      "https://www.cnil.fr/fr/reglement-europeen-protection-donnees/chapitre3\n",
      "\n",
      "11/14\n",
      "\n",
      "4/15/24, 9:56 AM\n",
      "\n",
      "CHAPITRE III - Droits de la personne concernée | CNIL\n",
      "\n",
      "4.\n",
      "\n",
      "Le droit visé au paragraphe 1 ne porte pas atteinte aux droits et libertés de tiers.\n",
      "\n",
      "Section 4 - Droit d'opposition et prise de décision individuelle automatisée\n",
      "\n",
      "c) l'existence du droit de demander au responsable du traitement l'accès aux données à caractère personnel, la rectification ou l'effacement de celles-ci, ou une limitation du traitement relatif à la personne concernée, ainsi que du droit de s'opposer au traitement et du droit à la portabilité des données;\n",
      "\n",
      "d) lorsque le traitement est fondé sur l'article 6, paragraphe 1, point a), ou sur l'article 9, paragraphe 2, point a), l'existence du droit de retirer le consentement à tout moment, sans porter atteinte à la licéité du traitement fondé sur le consentement effectué avant le retrait de celui-ci;\n",
      "\n",
      "e) le droit d'introduire une réclamation auprès d'une autorité de contrôle;\n",
      "\n",
      "f) la source d'où proviennent les données à caractère personnel et, le cas échéant, une mention indiquant qu'elles sont issues ou non de sources accessibles au public;\n",
      "\n",
      "g) l'existence d'une prise de décision automatisée, y compris un profilage, visée à l'article 22, paragraphes 1 et 4, et, au moins en pareils cas, des informations utiles concernant la logique sous- jacente, ainsi que l'importance et les conséquences prévues de ce traitement pour la personne concernée.\n",
      "\n",
      "https://www.cnil.fr/fr/reglement-europeen-protection-donnees/chapitre3\n",
      "\n",
      "6/14\n",
      "\n",
      "4/15/24, 9:56 AM\n",
      "\n",
      "CHAPITRE III - Droits de la personne concernée | CNIL\n",
      "\n",
      "3.\n",
      "\n",
      "Le responsable du traitement fournit les informations visées aux paragraphes 1 et 2 :\n",
      "=============\n",
      "\n",
      "Question: Je n'aurai pas le temps de traiter la demande de droit à l'oubli d'un utilisateur dans le mois règlementaire imposé par la CNIL. Ai-je un recours ?\n",
      "Helpful Answer:\u001b[0m\n",
      "\n",
      "\u001b[1m> Finished chain.\u001b[0m\n",
      "\n",
      "\u001b[1m> Finished chain.\u001b[0m\n",
      "\n",
      "\u001b[1m> Finished chain.\u001b[0m\n",
      "Query: Je n'aurai pas le temps de traiter la demande de droit à l'oubli d'un utilisateur dans le mois règlementaire imposé par la CNIL. Ai-je un recours ?\n",
      "................................................................................\n",
      "--------------------------------------------------------------------------------\n",
      "REFERENCE #0\n",
      "--------------------------------------------------------------------------------\n",
      "Document Source: ../documents/ecg_dpo/CNIL/CHAPITRE III - Droits de la personne concernée _ CNIL.pdf\n",
      "................................................................................\n",
      "Content: \n",
      "3. suite d'une demande formulée en application des articles 15 à 22, dans les meilleurs délais et en tout état de cause\n",
      "dans un délai d'un mois à compter de la réception de la demande. Au besoin, ce délai peut être prolongé de deux mois,\n",
      "compte tenu de la complexité et du nombre de demandes. Le responsable du traitement informe la personne concernée de\n",
      "cette prolongation et des motifs du report dans un délai d'un mois à compter de la réception de la demande. Lorsque la\n",
      "personne concernée présente sa demande sous une forme électronique, les informations sont fournies par voie électronique\n",
      "lorsque cela est possible, à moins que la personne concernée ne demande qu'il en soit autrement.  4. Si le responsable\n",
      "du traitement ne donne pas suite à la demande formulée par la personne concernée, il informe celle-ci sans tarder et au\n",
      "plus tard dans un délai d'un mois à compter de la réception de la demande  https://www.cnil.fr/fr/reglement-europeen-\n",
      "protection-donnees/chapitre3  2/14  4/15/24, 9:56 AM  CHAPITRE III - Droits de la personne concernée | CNIL  des motifs\n",
      "de son inaction et de la possibilité d'introduire une réclamation auprès d'une autorité de contrôle et de former un\n",
      "recours juridictionnel.  5. toute communication et prendre toute mesure au titre des articles 15 à 22 et de l'article\n",
      "34. Lorsque les demandes d'une personne concernée sont manifestement infondées ou excessives, notamment en raison de\n",
      "leur caractère répétitif, le responsable du traitement peut:\n",
      "--------------------------------------------------------------------------------\n",
      "REFERENCE #1\n",
      "--------------------------------------------------------------------------------\n",
      "Document Source: ../documents/ecg_dpo/CNIL/CHAPITRE III - Droits de la personne concernée _ CNIL.pdf\n",
      "................................................................................\n",
      "Content: \n",
      "4/14  4/15/24, 9:56 AM  CHAPITRE III - Droits de la personne concernée | CNIL  a) la durée de conservation des données à\n",
      "caractère personnel ou, lorsque ce n'est pas possible, les critères utilisés pour déterminer cette durée; b) l'existence\n",
      "du droit de demander au responsable du traitement l'accès aux données à caractère personnel, la rectification ou\n",
      "l'effacement de celles-ci, ou une limitation du traitement relatif à la personne concernée, ou du droit de s'opposer au\n",
      "traitement et du droit à la portabilité des données;  c) lorsque le traitement est fondé sur l'article 6, paragraphe 1,\n",
      "point a), ou sur l'article 9, paragraphe 2, point a), l'existence du droit de retirer son consentement à tout moment,\n",
      "sans porter atteinte à la licéité du traitement fondé sur le consentement effectué avant le retrait de celui-ci;  d) le\n",
      "droit d'introduire une réclamation auprès d'une autorité de contrôle;  e) des informations sur la question de savoir si\n",
      "l'exigence de fourniture de données à caractère personnel a un caractère réglementaire ou contractuel ou si elle\n",
      "conditionne la conclusion d'un contrat et si la personne concernée est tenue de fournir les données à caractère\n",
      "personnel, ainsi que sur les conséquences éventuelles de la non-fourniture de ces données;\n",
      "--------------------------------------------------------------------------------\n",
      "REFERENCE #2\n",
      "--------------------------------------------------------------------------------\n",
      "Document Source: ../documents/ecg_dpo/CNIL/CHAPITRE VIII - Voies de recours, responsabilité et sanctions _ CNIL.pdf\n",
      "................................................................................\n",
      "Content: \n",
      "Article 77 - Droit d'introduire une réclamation auprès d'une autorité de contrôle  Sans préjudice de tout autre recours\n",
      "administratif ou juridictionnel, toute personne concernée a le droit 1. d'introduire une réclamation auprès d'une\n",
      "autorité de contrôle, en particulier dans l'État membre dans lequel se trouve sa résidence habituelle, son lieu de\n",
      "travail ou le lieu où la violation aurait été commise, si elle considère que le traitement de données à caractère\n",
      "personnel la concernant constitue une violation du présent règlement.  2. L'autorité de contrôle auprès de laquelle la\n",
      "réclamation a été introduite informe l'auteur de la réclamation de l'état d'avancement et de l'issue de la réclamation,\n",
      "y compris de la possibilité d'un recours juridictionnel en vertu de l'article 78.  https://www.cnil.fr/fr/reglement-\n",
      "europeen-protection-donnees/chapitre8  1/7  4/15/24, 9:58 AM  CHAPITRE VIII - Voies de recours, responsabilité et\n",
      "sanctions | CNIL\n",
      "--------------------------------------------------------------------------------\n",
      "REFERENCE #3\n",
      "--------------------------------------------------------------------------------\n",
      "Document Source: ../documents/ecg_dpo/CNIL/CHAPITRE III - Droits de la personne concernée _ CNIL.pdf\n",
      "................................................................................\n",
      "Content: \n",
      "4/15/24, 9:56 AM  CHAPITRE III - Droits de la personne concernée | CNIL  CHAPITRE III - Droits de la personne concernée\n",
      "23 mai 2016  Section 1 - Transparence et modalités  Article 12 - Transparence des informations et des communications et\n",
      "modalités de l'exercice des droits de la personne concernée  Section 2 - Information et accès aux données à caractère\n",
      "personnel  Article 13 - Informations à fournir lorsque des données à caractère personnel sont collectées auprès de la\n",
      "personne concernée  Article 14 - Informations à fournir lorsque les données à caractère personnel n'ont pas été\n",
      "collectées auprès de la personne concernée  Article 15 - Droit d'accès de la personne concernée  Section 3 -\n",
      "Rectification et effacement  Article 16 - Droit de rectification  Article 17 - Droit à l'effacement («droit à l'oubli»)\n",
      "Article 18 - Droit à la limitation du traitement  Article 19 - Obligation de notification en ce qui concerne la\n",
      "rectification ou l'effacement de données à caractère personnel ou la limitation du traitement  Article 20 - Droit à la\n",
      "portabilité des données  Section 4 - Droit d'opposition et prise de décision individuelle automatisée  Article 21 -\n",
      "Droit d'opposition  Article 22 - Décision individuelle automatisée, y compris le profilage\n",
      "https://www.cnil.fr/fr/reglement-europeen-protection-donnees/chapitre3  1/14  4/15/24, 9:56 AM  CHAPITRE III - Droits de\n",
      "la personne concernée | CNIL  Section 5 - Limitations  Article 23 - Limitations  Section 1 - Transparence et modalités\n",
      "--------------------------------------------------------------------------------\n",
      "REFERENCE #4\n",
      "--------------------------------------------------------------------------------\n",
      "Document Source: ../documents/ecg_dpo/CNIL/CHAPITRE VIII - Voies de recours, responsabilité et sanctions _ CNIL.pdf\n",
      "................................................................................\n",
      "Content: \n",
      "4/15/24, 9:58 AM  CHAPITRE VIII - Voies de recours, responsabilité et sanctions | CNIL  CHAPITRE VIII - Voies de\n",
      "recours, responsabilité et sanctions  Article 77 - Droit d'introduire une réclamation auprès d'une autorité de contrôle\n",
      "Article 78 - Droit à un recours juridictionnel effectif contre une autorité de contrôle Article 79 - Droit à un recours\n",
      "juridictionnel effectif contre un responsable du traitement ou un sous-traitant Article 80 - Représentation des\n",
      "personnes concernées Article 81 - Suspension d'une action Article 82 - Droit à réparation et responsabilité Article 83 -\n",
      "Conditions générales pour imposer des amendes administratives Article 84 - Sanctions\n",
      "--------------------------------------------------------------------------------\n",
      "REFERENCE #5\n",
      "--------------------------------------------------------------------------------\n",
      "Document Source: ../documents/ecg_dpo/CNIL/CHAPITRE III - Droits de la personne concernée _ CNIL.pdf\n",
      "................................................................................\n",
      "Content: \n",
      "Article 17 - Droit à l'eﬀacement («droit à l'oubli»)  1. La personne concernée a le droit d'obtenir du responsable du\n",
      "traitement l'effacement, dans les meilleurs délais, de données à caractère personnel la concernant et le responsable du\n",
      "traitement a l'obligation d'effacer ces données à caractère personnel dans les meilleurs délais, lorsque l'un des motifs\n",
      "suivants s'applique:  a) les données à caractère personnel ne sont plus nécessaires au regard des finalités pour\n",
      "lesquelles elles ont été collectées ou traitées d'une autre manière; b) la personne concernée retire le consentement sur\n",
      "lequel est fondé le traitement, conformément à l'article 6, paragraphe 1, point a), ou à l'article 9, paragraphe 2,\n",
      "point a), et il n'existe pas d'autre fondement juridique au traitement;  c) la personne concernée s'oppose au traitement\n",
      "en vertu de l'article 21, paragraphe 1, et il n'existe pas de motif légitime impérieux pour le traitement, ou la\n",
      "personne concernée s'oppose au traitement en vertu de l'article 21, paragraphe 2;  d) les données à caractère personnel\n",
      "ont fait l'objet d'un traitement illicite;  e) les données à caractère personnel doivent être effacées pour respecter\n",
      "une obligation légale qui est prévue par le droit de l'Union ou par le droit de l'État membre auquel le responsable du\n",
      "traitement est soumis;  f) les données à caractère personnel ont été collectées dans le cadre de l'offre de services de\n",
      "la société de l'information visée à l'article 8, paragraphe 1.\n",
      "--------------------------------------------------------------------------------\n",
      "REFERENCE #6\n",
      "--------------------------------------------------------------------------------\n",
      "Document Source: ../documents/ecg_dpo/CNIL/CHAPITRE III - Droits de la personne concernée _ CNIL.pdf\n",
      "................................................................................\n",
      "Content: \n",
      "4.  Le droit d'obtenir une copie visé au paragraphe 3 ne porte pas atteinte aux droits et libertés d'autrui.  Section 3\n",
      "- Rectiﬁcation et eﬀacement  https://www.cnil.fr/fr/reglement-europeen-protection-donnees/chapitre3  8/14  4/15/24, 9:56\n",
      "AM  CHAPITRE III - Droits de la personne concernée | CNIL\n",
      "--------------------------------------------------------------------------------\n",
      "REFERENCE #7\n",
      "--------------------------------------------------------------------------------\n",
      "Document Source: ../documents/ecg_dpo/CNIL/CHAPITRE III - Droits de la personne concernée _ CNIL.pdf\n",
      "................................................................................\n",
      "Content: \n",
      "Article 15 - Droit d'accès de la personne concernée  1. à caractère personnel la concernant sont ou ne sont pas traitées\n",
      "et, lorsqu'elles le sont, l'accès auxdites  La personne concernée a le droit d'obtenir du responsable du traitement la\n",
      "confirmation que des données  https://www.cnil.fr/fr/reglement-europeen-protection-donnees/chapitre3  7/14  4/15/24,\n",
      "9:56 AM  CHAPITRE III - Droits de la personne concernée | CNIL  données à caractère personnel ainsi que les informations\n",
      "suivantes:  a) les finalités du traitement; b) les catégories de données à caractère personnel concernées;  c) les\n",
      "destinataires ou catégories de destinataires auxquels les données à caractère personnel ont été ou seront communiquées,\n",
      "en particulier les destinataires qui sont établis dans des pays tiers ou les organisations internationales;  d) lorsque\n",
      "cela est possible, la durée de conservation des données à caractère personnel envisagée ou, lorsque ce n'est pas\n",
      "possible, les critères utilisés pour déterminer cette durée;  e) l'existence du droit de demander au responsable du\n",
      "traitement la rectification ou l'effacement de données à caractère personnel, ou une limitation du traitement des\n",
      "données à caractère personnel relatives à la personne concernée, ou du droit de s'opposer à ce traitement;  f) le droit\n",
      "d'introduire une réclamation auprès d'une autorité de contrôle;\n",
      "--------------------------------------------------------------------------------\n",
      "REFERENCE #8\n",
      "--------------------------------------------------------------------------------\n",
      "Document Source: ../documents/ecg_dpo/CNIL/CHAPITRE III - Droits de la personne concernée _ CNIL.pdf\n",
      "................................................................................\n",
      "Content: \n",
      "https://www.cnil.fr/fr/reglement-europeen-protection-donnees/chapitre3  11/14  4/15/24, 9:56 AM  CHAPITRE III - Droits\n",
      "de la personne concernée | CNIL  4.  Le droit visé au paragraphe 1 ne porte pas atteinte aux droits et libertés de\n",
      "tiers.  Section 4 - Droit d'opposition et prise de décision individuelle automatisée\n",
      "--------------------------------------------------------------------------------\n",
      "REFERENCE #9\n",
      "--------------------------------------------------------------------------------\n",
      "Document Source: ../documents/ecg_dpo/CNIL/CHAPITRE III - Droits de la personne concernée _ CNIL.pdf\n",
      "................................................................................\n",
      "Content: \n",
      "c) l'existence du droit de demander au responsable du traitement l'accès aux données à caractère personnel, la\n",
      "rectification ou l'effacement de celles-ci, ou une limitation du traitement relatif à la personne concernée, ainsi que\n",
      "du droit de s'opposer au traitement et du droit à la portabilité des données;  d) lorsque le traitement est fondé sur\n",
      "l'article 6, paragraphe 1, point a), ou sur l'article 9, paragraphe 2, point a), l'existence du droit de retirer le\n",
      "consentement à tout moment, sans porter atteinte à la licéité du traitement fondé sur le consentement effectué avant le\n",
      "retrait de celui-ci;  e) le droit d'introduire une réclamation auprès d'une autorité de contrôle;  f) la source d'où\n",
      "proviennent les données à caractère personnel et, le cas échéant, une mention indiquant qu'elles sont issues ou non de\n",
      "sources accessibles au public;  g) l'existence d'une prise de décision automatisée, y compris un profilage, visée à\n",
      "l'article 22, paragraphes 1 et 4, et, au moins en pareils cas, des informations utiles concernant la logique sous-\n",
      "jacente, ainsi que l'importance et les conséquences prévues de ce traitement pour la personne concernée.\n",
      "https://www.cnil.fr/fr/reglement-europeen-protection-donnees/chapitre3  6/14  4/15/24, 9:56 AM  CHAPITRE III - Droits de\n",
      "la personne concernée | CNIL  3.  Le responsable du traitement fournit les informations visées aux paragraphes 1 et 2 :\n",
      "................................................................................\n",
      "Response:  Oui, vous avez un recours. Vous pouvez demander une prolongation de deux mois auprès de la CNIL. Pour cela, vous devez\n",
      "informer la personne concernée de cette prolongation et des motifs du report dans un délai d'un mois à compter de la\n",
      "réception de la demande.\n",
      "................................................................................\n"
     ]
    }
   ],
   "source": [
    "ask(q1)"
   ]
  },
  {
   "cell_type": "code",
   "execution_count": 256,
   "metadata": {},
   "outputs": [
    {
     "name": "stdout",
     "output_type": "stream",
     "text": [
      "\n",
      "\n",
      "\u001b[1m> Entering new RetrievalQA chain...\u001b[0m\n",
      "\n",
      "\n",
      "\u001b[1m> Entering new StuffDocumentsChain chain...\u001b[0m\n",
      "\n",
      "\n",
      "\u001b[1m> Entering new LLMChain chain...\u001b[0m\n",
      "Prompt after formatting:\n",
      "\u001b[32;1m\u001b[1;3mSYSTEM: You are an intelligent assistant helping the users with their questions on research papers.\n",
      "\n",
      "Question: J'ai des difficultés à comprendre les différentes obligations que j'ai vis-à-vis des sous-traitants qui travaillent pour moi. Pourrais-tu me faire un résumé ?\n",
      "\n",
      "Strictly Use ONLY the following pieces of context to answer the question at the end. Think step-by-step and then answer.\n",
      "\n",
      "Do not try to make up an answer:\n",
      " - If the answer to the question cannot be determined from the context alone, say \"I cannot determine the answer to that.\"\n",
      " - If the context is empty, just say \"I do not know the answer to that.\"\n",
      "\n",
      "=============\n",
      "4. Lorsqu'un sous-traitant recrute un autre sous-traitant pour mener des activités de traitement spécifiques pour le compte du responsable du traitement, les mêmes obligations en matière de protection de données que celles fixées dans le contrat ou un autre acte juridique entre le responsable du traitement et le sous-traitant conformément au paragraphe 3, sont imposées à cet autre sous-traitant par contrat ou au moyen d'un autre acte juridique au titre du droit de l'Union ou du droit d'un État membre, en particulier pour ce qui est de présenter des garanties suffisantes quant à la mise en œuvre de mesures techniques et organisationnelles appropriées de manière à ce que le traitement réponde aux exigences du présent règlement. Lorsque cet autre sous-traitant ne remplit pas ses obligations en matière de protection des données, le sous-traitant initial\n",
      "\n",
      "https://www.cnil.fr/fr/reglement-europeen-protection-donnees/chapitre4\n",
      "\n",
      "6/23\n",
      "\n",
      "4/15/24, 9:57 AM\n",
      "\n",
      "CHAPITRE IV - Responsable du traitement et sous-traitant | CNIL\n",
      "\n",
      "demeure pleinement responsable devant le responsable du traitement de l'exécution par l'autre sous-traitant de ses obligations.\n",
      "\n",
      "5. mécanisme de certification approuvé comme le prévoit l'article 42 peut servir d'élément pour démontrer l'existence des garanties suffisantes conformément aux paragraphes 1 et 4 du présent article. Sans préjudice d'un contrat particulier entre le responsable du traitement et le sous-traitant, le contrat ou\n",
      "\n",
      "Article 28 - Sous-traitant\n",
      "\n",
      "1. uniquement appel à des sous-traitants qui présentent des garanties suffisantes quant à la mise en œuvre de mesures techniques et organisationnelles appropriées de manière à ce que le traitement réponde aux exigences du présent règlement et garantisse la protection des droits de la personne concernée. Le sous-traitant ne recrute pas un autre sous-traitant sans l'autorisation écrite préalable, spécifique ou\n",
      "\n",
      "Lorsqu'un traitement doit être effectué pour le compte d'un responsable du traitement, celui-ci fait\n",
      "\n",
      "2. générale, du responsable du traitement. Dans le cas d'une autorisation écrite générale, le sous-traitant informe le responsable du traitement de tout changement prévu concernant l'ajout ou le remplacement d'autres sous-traitants, donnant ainsi au responsable du traitement la possibilité d'émettre des objections à l'encontre de ces changements.\n",
      "\n",
      "3. Le traitement par un sous-traitant est régi par un contrat ou un autre acte juridique au titre du droit de l'Union ou du droit d'un État membre, qui lie le sous-traitant à l'égard du responsable du traitement, définit l'objet et la durée du traitement, la nature et la finalité du traitement, le type de données à caractère personnel et les catégories de personnes concernées, et les obligations et les droits du responsable du traitement. Ce contrat ou cet autre acte juridique prévoit, notamment, que le sous-traitant:\n",
      "\n",
      "https://www.cnil.fr/fr/reglement-europeen-protection-donnees/chapitre4\n",
      "\n",
      "5/23\n",
      "=============\n",
      "\n",
      "Question: J'ai des difficultés à comprendre les différentes obligations que j'ai vis-à-vis des sous-traitants qui travaillent pour moi. Pourrais-tu me faire un résumé ?\n",
      "Helpful Answer:\u001b[0m\n",
      "\n",
      "\u001b[1m> Finished chain.\u001b[0m\n",
      "\n",
      "\u001b[1m> Finished chain.\u001b[0m\n",
      "\n",
      "\u001b[1m> Finished chain.\u001b[0m\n",
      "Query: J'ai des difficultés à comprendre les différentes obligations que j'ai vis-à-vis des sous-traitants qui travaillent pour moi. Pourrais-tu me faire un résumé ?\n",
      "................................................................................\n",
      "--------------------------------------------------------------------------------\n",
      "REFERENCE #0\n",
      "--------------------------------------------------------------------------------\n",
      "Document Source: ../documents/ecg_dpo/CNIL/CHAPITRE IV - Responsable du traitement et sous-traitant _ CNIL.pdf\n",
      "................................................................................\n",
      "Content: \n",
      "4. Lorsqu'un sous-traitant recrute un autre sous-traitant pour mener des activités de traitement spécifiques pour le\n",
      "compte du responsable du traitement, les mêmes obligations en matière de protection de données que celles fixées dans le\n",
      "contrat ou un autre acte juridique entre le responsable du traitement et le sous-traitant conformément au paragraphe 3,\n",
      "sont imposées à cet autre sous-traitant par contrat ou au moyen d'un autre acte juridique au titre du droit de l'Union\n",
      "ou du droit d'un État membre, en particulier pour ce qui est de présenter des garanties suffisantes quant à la mise en\n",
      "œuvre de mesures techniques et organisationnelles appropriées de manière à ce que le traitement réponde aux exigences du\n",
      "présent règlement. Lorsque cet autre sous-traitant ne remplit pas ses obligations en matière de protection des données,\n",
      "le sous-traitant initial  https://www.cnil.fr/fr/reglement-europeen-protection-donnees/chapitre4  6/23  4/15/24, 9:57 AM\n",
      "CHAPITRE IV - Responsable du traitement et sous-traitant | CNIL  demeure pleinement responsable devant le responsable du\n",
      "traitement de l'exécution par l'autre sous-traitant de ses obligations.  5. mécanisme de certification approuvé comme le\n",
      "prévoit l'article 42 peut servir d'élément pour démontrer l'existence des garanties suffisantes conformément aux\n",
      "paragraphes 1 et 4 du présent article. Sans préjudice d'un contrat particulier entre le responsable du traitement et le\n",
      "sous-traitant, le contrat ou\n",
      "--------------------------------------------------------------------------------\n",
      "REFERENCE #1\n",
      "--------------------------------------------------------------------------------\n",
      "Document Source: ../documents/ecg_dpo/CNIL/CHAPITRE IV - Responsable du traitement et sous-traitant _ CNIL.pdf\n",
      "................................................................................\n",
      "Content: \n",
      "Article 28 - Sous-traitant  1. uniquement appel à des sous-traitants qui présentent des garanties suffisantes quant à la\n",
      "mise en œuvre de mesures techniques et organisationnelles appropriées de manière à ce que le traitement réponde aux\n",
      "exigences du présent règlement et garantisse la protection des droits de la personne concernée. Le sous-traitant ne\n",
      "recrute pas un autre sous-traitant sans l'autorisation écrite préalable, spécifique ou  Lorsqu'un traitement doit être\n",
      "effectué pour le compte d'un responsable du traitement, celui-ci fait  2. générale, du responsable du traitement. Dans\n",
      "le cas d'une autorisation écrite générale, le sous-traitant informe le responsable du traitement de tout changement\n",
      "prévu concernant l'ajout ou le remplacement d'autres sous-traitants, donnant ainsi au responsable du traitement la\n",
      "possibilité d'émettre des objections à l'encontre de ces changements.  3. Le traitement par un sous-traitant est régi\n",
      "par un contrat ou un autre acte juridique au titre du droit de l'Union ou du droit d'un État membre, qui lie le sous-\n",
      "traitant à l'égard du responsable du traitement, définit l'objet et la durée du traitement, la nature et la finalité du\n",
      "traitement, le type de données à caractère personnel et les catégories de personnes concernées, et les obligations et\n",
      "les droits du responsable du traitement. Ce contrat ou cet autre acte juridique prévoit, notamment, que le sous-\n",
      "traitant:  https://www.cnil.fr/fr/reglement-europeen-protection-donnees/chapitre4  5/23\n",
      "................................................................................\n",
      "Response: \n",
      "................................................................................\n"
     ]
    }
   ],
   "source": [
    "ask(q2,k=2)"
   ]
  },
  {
   "cell_type": "code",
   "execution_count": 255,
   "metadata": {},
   "outputs": [
    {
     "name": "stdout",
     "output_type": "stream",
     "text": [
      "\n",
      "\n",
      "\u001b[1m> Entering new RetrievalQA chain...\u001b[0m\n",
      "\n",
      "\n",
      "\u001b[1m> Entering new StuffDocumentsChain chain...\u001b[0m\n",
      "\n",
      "\n",
      "\u001b[1m> Entering new LLMChain chain...\u001b[0m\n",
      "Prompt after formatting:\n",
      "\u001b[32;1m\u001b[1;3mSYSTEM: You are an intelligent assistant helping the users with their questions on research papers.\n",
      "\n",
      "Question: Je ne sais pas quand est-ce qu'une analyse d'impact est indispensable ou non pour un traitement. Peux-tu m'expliquer clairement quand est-ce que je dois les réaliser et de manière simple ?\n",
      "\n",
      "Strictly Use ONLY the following pieces of context to answer the question at the end. Think step-by-step and then answer.\n",
      "\n",
      "Do not try to make up an answer:\n",
      " - If the answer to the question cannot be determined from the context alone, say \"I cannot determine the answer to that.\"\n",
      " - If the context is empty, just say \"I do not know the answer to that.\"\n",
      "\n",
      "=============\n",
      "11. effectué conformément à l'analyse d'impact relative à la protection des données, au moins quand il se produit une modification du risque présenté par les opérations de traitement.\n",
      "\n",
      "Si nécessaire, le responsable du traitement procède à un examen afin d'évaluer si le traitement est\n",
      "\n",
      "https://www.cnil.fr/fr/reglement-europeen-protection-donnees/chapitre4\n",
      "\n",
      "13/23\n",
      "\n",
      "4/15/24, 9:57 AM\n",
      "\n",
      "CHAPITRE IV - Responsable du traitement et sous-traitant | CNIL\n",
      "\n",
      "3. dans les cas suivants:\n",
      "\n",
      "L'analyse d'impact relative à la protection des données visée au paragraphe 1 est, en particulier, requise\n",
      "\n",
      "a) l'évaluation systématique et approfondie d'aspects personnels concernant des personnes physiques, qui est fondée sur un traitement automatisé, y compris le profilage, et sur la base de laquelle sont prises des décisions produisant des effets juridiques à l'égard d'une personne physique ou l'affectant de manière significative de façon similaire; b) le traitement à grande échelle de catégories particulières de données visées à l'article 9, paragraphe 1, ou de données à caractère personnel relatives à des condamnations pénales et à des infractions visées à l'article 10; ou\n",
      "\n",
      "c) la surveillance systématique à grande échelle d'une zone accessible au public.\n",
      "\n",
      "4. L'autorité de contrôle établit et publie une liste des types d'opérations de traitement pour lesquelles une analyse d'impact relative à la protection des données est requise conformément au paragraphe 1. L'autorité de contrôle communique ces listes au comité visé à l'article 68.\n",
      "\n",
      "5. L'autorité de contrôle peut aussi établir et publier une liste des types d'opérations de traitement pour lesquelles aucune analyse d'impact relative à la protection des données n'est requise. L'autorité de contrôle\n",
      "\n",
      "https://www.cnil.fr/fr/reglement-europeen-protection-donnees/chapitre4\n",
      "\n",
      "12/23\n",
      "\n",
      "4/15/24, 9:57 AM\n",
      "\n",
      "CHAPITRE IV - Responsable du traitement et sous-traitant | CNIL\n",
      "\n",
      "communique cette liste au comité.\n",
      "=============\n",
      "\n",
      "Question: Je ne sais pas quand est-ce qu'une analyse d'impact est indispensable ou non pour un traitement. Peux-tu m'expliquer clairement quand est-ce que je dois les réaliser et de manière simple ?\n",
      "Helpful Answer:\u001b[0m\n",
      "\n",
      "\u001b[1m> Finished chain.\u001b[0m\n",
      "\n",
      "\u001b[1m> Finished chain.\u001b[0m\n",
      "\n",
      "\u001b[1m> Finished chain.\u001b[0m\n",
      "Query: Je ne sais pas quand est-ce qu'une analyse d'impact est indispensable ou non pour un traitement. Peux-tu m'expliquer clairement quand est-ce que je dois les réaliser et de manière simple ?\n",
      "................................................................................\n",
      "--------------------------------------------------------------------------------\n",
      "REFERENCE #0\n",
      "--------------------------------------------------------------------------------\n",
      "Document Source: ../documents/ecg_dpo/CNIL/CHAPITRE IV - Responsable du traitement et sous-traitant _ CNIL.pdf\n",
      "................................................................................\n",
      "Content: \n",
      "11. effectué conformément à l'analyse d'impact relative à la protection des données, au moins quand il se produit une\n",
      "modification du risque présenté par les opérations de traitement.  Si nécessaire, le responsable du traitement procède à\n",
      "un examen afin d'évaluer si le traitement est  https://www.cnil.fr/fr/reglement-europeen-protection-donnees/chapitre4\n",
      "13/23  4/15/24, 9:57 AM  CHAPITRE IV - Responsable du traitement et sous-traitant | CNIL\n",
      "--------------------------------------------------------------------------------\n",
      "REFERENCE #1\n",
      "--------------------------------------------------------------------------------\n",
      "Document Source: ../documents/ecg_dpo/CNIL/CHAPITRE IV - Responsable du traitement et sous-traitant _ CNIL.pdf\n",
      "................................................................................\n",
      "Content: \n",
      "3. dans les cas suivants:  L'analyse d'impact relative à la protection des données visée au paragraphe 1 est, en\n",
      "particulier, requise  a) l'évaluation systématique et approfondie d'aspects personnels concernant des personnes\n",
      "physiques, qui est fondée sur un traitement automatisé, y compris le profilage, et sur la base de laquelle sont prises\n",
      "des décisions produisant des effets juridiques à l'égard d'une personne physique ou l'affectant de manière significative\n",
      "de façon similaire; b) le traitement à grande échelle de catégories particulières de données visées à l'article 9,\n",
      "paragraphe 1, ou de données à caractère personnel relatives à des condamnations pénales et à des infractions visées à\n",
      "l'article 10; ou  c) la surveillance systématique à grande échelle d'une zone accessible au public.  4. L'autorité de\n",
      "contrôle établit et publie une liste des types d'opérations de traitement pour lesquelles une analyse d'impact relative\n",
      "à la protection des données est requise conformément au paragraphe 1. L'autorité de contrôle communique ces listes au\n",
      "comité visé à l'article 68.  5. L'autorité de contrôle peut aussi établir et publier une liste des types d'opérations de\n",
      "traitement pour lesquelles aucune analyse d'impact relative à la protection des données n'est requise. L'autorité de\n",
      "contrôle  https://www.cnil.fr/fr/reglement-europeen-protection-donnees/chapitre4  12/23  4/15/24, 9:57 AM  CHAPITRE IV -\n",
      "Responsable du traitement et sous-traitant | CNIL  communique cette liste au comité.\n",
      "................................................................................\n",
      "Response:  Vous devez effectuer une analyse d'impact relative à la protection des données dans les cas suivants :  - Lorsque vous\n",
      "effectuez une évaluation systématique et approfondie d'aspects personnels concernant des personnes physiques, qui est\n",
      "fondée sur un traitement automatisé, y compris le profilage, et sur la base de laquelle sont prises des décisions\n",
      "produisant des effets juridiques à l'égard d'une personne physique ou l'affectant de manière significative de façon\n",
      "similaire. - Lorsque vous traitez à grande échelle des catégories particulières de données visées à l'article 9,\n",
      "paragraphe 1, ou des données à caractère personnel relatives à des condamnations pénales et à des infractions visées à\n",
      "l'article 10. - Lorsque vous effectuez une surveillance systématique à grande échelle d'une zone accessible au public.\n",
      "................................................................................\n"
     ]
    }
   ],
   "source": [
    "ask(q3,k=2)"
   ]
  }
 ],
 "metadata": {
  "kernelspec": {
   "display_name": "Python 3 (ipykernel)",
   "language": "python",
   "name": "python3"
  },
  "language_info": {
   "codemirror_mode": {
    "name": "ipython",
    "version": 3
   },
   "file_extension": ".py",
   "mimetype": "text/x-python",
   "name": "python",
   "nbconvert_exporter": "python",
   "pygments_lexer": "ipython3",
   "version": "3.10.13"
  }
 },
 "nbformat": 4,
 "nbformat_minor": 4
}
