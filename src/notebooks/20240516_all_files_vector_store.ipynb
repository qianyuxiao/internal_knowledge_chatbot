{
 "cells": [
  {
   "cell_type": "markdown",
   "metadata": {},
   "source": [
    "This workbook is to create a general vector store with meta data category."
   ]
  },
  {
   "cell_type": "code",
   "execution_count": null,
   "metadata": {},
   "outputs": [],
   "source": [
    "# https://github.com/GoogleCloudPlatform/generative-ai/blob/main/language/use-cases/document-qa/question_answering_documents_langchain_matching_engine.ipynb"
   ]
  },
  {
   "cell_type": "code",
   "execution_count": 1,
   "metadata": {},
   "outputs": [
    {
     "name": "stdout",
     "output_type": "stream",
     "text": [
      "Copying gs://vector_search_paramters/ecg_all_me.json...\n",
      "/ [1 files][  384.0 B/  384.0 B]                                                \n",
      "Operation completed over 1 objects/384.0 B.                                      \n"
     ]
    }
   ],
   "source": [
    "!gsutil cp gs://vector_search_paramters/ecg_all_me.json ../vector_store_me_parameters/"
   ]
  },
  {
   "cell_type": "code",
   "execution_count": 5,
   "metadata": {},
   "outputs": [],
   "source": [
    "import sys\n",
    "\n",
    "# Add the directory to sys.path\n",
    "sys.path.append('/home/qianyucazelles/internal_knowledge_chatbot/src/utils')"
   ]
  },
  {
   "cell_type": "code",
   "execution_count": 3,
   "metadata": {},
   "outputs": [],
   "source": [
    "from doc_to_vertex_search import *"
   ]
  },
  {
   "cell_type": "markdown",
   "metadata": {},
   "source": [
    "# 2. Load pdfs"
   ]
  },
  {
   "cell_type": "code",
   "execution_count": 6,
   "metadata": {},
   "outputs": [],
   "source": [
    "from loader_splitter import *"
   ]
  },
  {
   "cell_type": "markdown",
   "metadata": {},
   "source": [
    "##### - load all dpo files"
   ]
  },
  {
   "cell_type": "code",
   "execution_count": 10,
   "metadata": {
    "scrolled": true
   },
   "outputs": [
    {
     "name": "stdout",
     "output_type": "stream",
     "text": [
      "[2024-05-16 12:18:52] Scanning ../documents/ecg_dpo/CNIL/CHAPITRE II - Principes _ CNIL.pdf\n",
      "Using unstrucure loader\n",
      "[2024-05-16 12:18:53] Scanning ../documents/ecg_dpo/CNIL/CHAPITRE I - Dispositions générales.pdf\n",
      "Using unstrucure loader\n",
      "[2024-05-16 12:18:54] Scanning ../documents/ecg_dpo/CNIL/CHAPITRE XI - Dispositions finales _ CNIL.pdf\n",
      "Using unstrucure loader\n",
      "[2024-05-16 12:18:55] Scanning ../documents/ecg_dpo/CNIL/CHAPITRE V - Transferts de données à caractère personnel vers des pays tiers ou à des organisations internationales _ CNIL.pdf\n",
      "Using unstrucure loader\n",
      "[2024-05-16 12:18:57] Scanning ../documents/ecg_dpo/CNIL/CHAPITRE VII - Coopération et cohérence _ CNIL.pdf\n",
      "Using unstrucure loader\n",
      "[2024-05-16 12:18:59] Scanning ../documents/ecg_dpo/CNIL/CHAPITRE VI - Autorités de contrôle indépendantes _ CNIL.pdf\n",
      "Using unstrucure loader\n",
      "[2024-05-16 12:19:01] Scanning ../documents/ecg_dpo/CNIL/CHAPITRE III - Droits de la personne concernée _ CNIL.pdf\n",
      "Using unstrucure loader\n",
      "[2024-05-16 12:19:04] Scanning ../documents/ecg_dpo/CNIL/CHAPITRE VIII - Voies de recours, responsabilité et sanctions _ CNIL.pdf\n",
      "Using unstrucure loader\n",
      "[2024-05-16 12:19:05] Scanning ../documents/ecg_dpo/CNIL/CHAPITRE IX - Dispositions relatives à des situations particulières de traitement _ CNIL.pdf\n",
      "Using unstrucure loader\n",
      "[2024-05-16 12:19:06] Scanning ../documents/ecg_dpo/CNIL/CHAPITRE X - Actes délégués et actes d'exécution _ CNIL.pdf\n",
      "Using unstrucure loader\n",
      "[2024-05-16 12:19:06] Scanning ../documents/ecg_dpo/CNIL/CHAPITRE IV - Responsable du traitement et sous-traitant _ CNIL.pdf\n",
      "Using unstrucure loader\n"
     ]
    }
   ],
   "source": [
    "cnil_docs_unstructured, unloaded_pdfs, loaded_pdfs, other_files = process_folder(folder_path=f\"../documents/ecg_dpo/CNIL\",unstructure=True)"
   ]
  },
  {
   "cell_type": "code",
   "execution_count": 13,
   "metadata": {},
   "outputs": [
    {
     "data": {
      "text/plain": [
       "11"
      ]
     },
     "execution_count": 13,
     "metadata": {},
     "output_type": "execute_result"
    }
   ],
   "source": [
    "len(cnil_docs_unstructured)"
   ]
  },
  {
   "cell_type": "code",
   "execution_count": 11,
   "metadata": {},
   "outputs": [
    {
     "data": {
      "text/plain": [
       "0"
      ]
     },
     "execution_count": 11,
     "metadata": {},
     "output_type": "execute_result"
    }
   ],
   "source": [
    "len(unloaded_pdfs)"
   ]
  },
  {
   "cell_type": "code",
   "execution_count": 14,
   "metadata": {},
   "outputs": [
    {
     "name": "stdout",
     "output_type": "stream",
     "text": [
      "[2024-05-16 12:19:48] Scanning ../documents/ecg_dpo/CNIL/CHAPITRE II - Principes _ CNIL.pdf\n",
      "[2024-05-16 12:19:49] Scanning ../documents/ecg_dpo/CNIL/CHAPITRE I - Dispositions générales.pdf\n",
      "[2024-05-16 12:19:49] Scanning ../documents/ecg_dpo/CNIL/CHAPITRE XI - Dispositions finales _ CNIL.pdf\n",
      "[2024-05-16 12:19:50] Scanning ../documents/ecg_dpo/CNIL/CHAPITRE V - Transferts de données à caractère personnel vers des pays tiers ou à des organisations internationales _ CNIL.pdf\n",
      "[2024-05-16 12:19:50] Scanning ../documents/ecg_dpo/CNIL/CHAPITRE VII - Coopération et cohérence _ CNIL.pdf\n",
      "[2024-05-16 12:19:52] Scanning ../documents/ecg_dpo/CNIL/CHAPITRE VI - Autorités de contrôle indépendantes _ CNIL.pdf\n",
      "[2024-05-16 12:19:52] Scanning ../documents/ecg_dpo/CNIL/CHAPITRE III - Droits de la personne concernée _ CNIL.pdf\n",
      "[2024-05-16 12:19:53] Scanning ../documents/ecg_dpo/CNIL/CHAPITRE VIII - Voies de recours, responsabilité et sanctions _ CNIL.pdf\n",
      "[2024-05-16 12:19:54] Scanning ../documents/ecg_dpo/CNIL/CHAPITRE IX - Dispositions relatives à des situations particulières de traitement _ CNIL.pdf\n",
      "[2024-05-16 12:19:54] Scanning ../documents/ecg_dpo/CNIL/CHAPITRE X - Actes délégués et actes d'exécution _ CNIL.pdf\n",
      "[2024-05-16 12:19:54] Scanning ../documents/ecg_dpo/CNIL/CHAPITRE IV - Responsable du traitement et sous-traitant _ CNIL.pdf\n"
     ]
    }
   ],
   "source": [
    "cnil_docs_structured, unloaded_pdfs, loaded_pdfs, other_files = process_folder(folder_path=f\"../documents/ecg_dpo/CNIL\",unstructure=False)"
   ]
  },
  {
   "cell_type": "code",
   "execution_count": 15,
   "metadata": {},
   "outputs": [
    {
     "data": {
      "text/plain": [
       "101"
      ]
     },
     "execution_count": 15,
     "metadata": {},
     "output_type": "execute_result"
    }
   ],
   "source": [
    "len(cnil_docs_structured)"
   ]
  },
  {
   "cell_type": "code",
   "execution_count": 16,
   "metadata": {},
   "outputs": [
    {
     "data": {
      "text/plain": [
       "0"
      ]
     },
     "execution_count": 16,
     "metadata": {},
     "output_type": "execute_result"
    }
   ],
   "source": [
    "len(unloaded_pdfs)"
   ]
  },
  {
   "cell_type": "markdown",
   "metadata": {},
   "source": [
    "##### - load insurance file"
   ]
  },
  {
   "cell_type": "code",
   "execution_count": 21,
   "metadata": {},
   "outputs": [
    {
     "name": "stdout",
     "output_type": "stream",
     "text": [
      "'Conditions Générales MAMS RI 04.2021.pdf'\n",
      "'DIP RI LLYODS 09 2022.pdf'\n",
      "'HOMAIR VACANCES - Conditions Particulières au 01.10.2023.pdf'\n"
     ]
    }
   ],
   "source": [
    "!ls ../documents/ecg_assurance/'Contrats 2024'/MH/LLOYDS"
   ]
  },
  {
   "cell_type": "code",
   "execution_count": 23,
   "metadata": {},
   "outputs": [
    {
     "name": "stdout",
     "output_type": "stream",
     "text": [
      "[2024-05-16 12:26:00] Scanning ../documents/ecg_assurance/Contrats 2024/MH/LLOYDS/DIP RI LLYODS 09 2022.pdf\n",
      "[2024-05-16 12:26:00] Scanning ../documents/ecg_assurance/Contrats 2024/MH/LLOYDS/Conditions Générales MAMS RI 04.2021.pdf\n",
      "[2024-05-16 12:26:05] Scanning ../documents/ecg_assurance/Contrats 2024/MH/LLOYDS/HOMAIR VACANCES - Conditions Particulières au 01.10.2023.pdf\n"
     ]
    }
   ],
   "source": [
    "insurance_structured, unloaded_pdfs, loaded_pdfs, other_files = process_folder(folder_path=f\"../documents/ecg_assurance/Contrats 2024/MH/LLOYDS\",unstructure=False)"
   ]
  },
  {
   "cell_type": "code",
   "execution_count": 26,
   "metadata": {},
   "outputs": [
    {
     "data": {
      "text/plain": [
       "91"
      ]
     },
     "execution_count": 26,
     "metadata": {},
     "output_type": "execute_result"
    }
   ],
   "source": [
    "len(insurance_structured)"
   ]
  },
  {
   "cell_type": "code",
   "execution_count": 27,
   "metadata": {},
   "outputs": [
    {
     "name": "stdout",
     "output_type": "stream",
     "text": [
      "[2024-05-16 12:27:01] Scanning ../documents/ecg_assurance/Contrats 2024/MH/LLOYDS/DIP RI LLYODS 09 2022.pdf\n",
      "Using unstrucure loader\n",
      "[2024-05-16 12:27:02] Scanning ../documents/ecg_assurance/Contrats 2024/MH/LLOYDS/Conditions Générales MAMS RI 04.2021.pdf\n",
      "Using unstrucure loader\n",
      "[2024-05-16 12:27:10] Scanning ../documents/ecg_assurance/Contrats 2024/MH/LLOYDS/HOMAIR VACANCES - Conditions Particulières au 01.10.2023.pdf\n",
      "Using unstrucure loader\n"
     ]
    }
   ],
   "source": [
    "insurance_unstructured, unloaded_pdfs, loaded_pdfs, other_files = process_folder(folder_path=f\"../documents/ecg_assurance/Contrats 2024/MH/LLOYDS\",unstructure=True)"
   ]
  },
  {
   "cell_type": "code",
   "execution_count": 29,
   "metadata": {},
   "outputs": [
    {
     "data": {
      "text/plain": [
       "3"
      ]
     },
     "execution_count": 29,
     "metadata": {},
     "output_type": "execute_result"
    }
   ],
   "source": [
    "len(insurance_unstructured)"
   ]
  },
  {
   "cell_type": "code",
   "execution_count": 28,
   "metadata": {},
   "outputs": [
    {
     "data": {
      "text/plain": [
       "0"
      ]
     },
     "execution_count": 28,
     "metadata": {},
     "output_type": "execute_result"
    }
   ],
   "source": [
    "len(unloaded_pdfs)"
   ]
  },
  {
   "cell_type": "markdown",
   "metadata": {},
   "source": [
    "# 3. Split doc"
   ]
  },
  {
   "cell_type": "code",
   "execution_count": 87,
   "metadata": {},
   "outputs": [],
   "source": [
    "# split articles to chunk\n",
    "from langchain.text_splitter import RecursiveCharacterTextSplitter\n",
    "\n",
    "def doc_to_splits( docs,\n",
    "                  chunk_size ,\n",
    "                  separators = [\"\\n\\n\", \".\", \"!\", \"?\"],               \n",
    "                  ):\n",
    "    '''\n",
    "    Function to split docs into chunks with chunk idx\n",
    "    '''\n",
    "    text_splitter = RecursiveCharacterTextSplitter(\n",
    "        chunk_size=chunk_size,\n",
    "        chunk_overlap=int(chunk_size*0.2),\n",
    "        separators=separators\n",
    "    )\n",
    "\n",
    "    # add chunk number\n",
    "    doc_splits_list = []\n",
    "    for doc in docs:\n",
    "        doc_splits = text_splitter.split_documents([doc])\n",
    "\n",
    "        # Add chunk number to metadata\n",
    "        for idx, split in enumerate(doc_splits):\n",
    "            split.metadata[\"document_name\"] = split.metadata['source'].split('/')[-1]\n",
    "            split.metadata[\"chunk\"] = f'{idx+1}/{len(doc_splits)}'\n",
    "        doc_splits_list+=doc_splits\n",
    "\n",
    "    return doc_splits_list"
   ]
  },
  {
   "cell_type": "code",
   "execution_count": 33,
   "metadata": {},
   "outputs": [],
   "source": [
    "def get_docs_min_max_token_length(docs):\n",
    "    '''\n",
    "    Function to get min and max token length of a list of langchain docs\n",
    "    '''\n",
    "    min_nb = 1000\n",
    "    min_idx = 0\n",
    "    max_nb = 0\n",
    "    max_idx = 0\n",
    "    for _, doc in enumerate(docs):\n",
    "        nb_ = nb_tokens(doc.page_content)\n",
    "        if nb_>max_nb:\n",
    "            max_nb = nb_\n",
    "            max_idx = _\n",
    "        if nb_<min_nb:\n",
    "            min_nb = nb_\n",
    "            min_idx = _\n",
    "    return {min_idx:min_nb,max_idx:max_nb}"
   ]
  },
  {
   "cell_type": "code",
   "execution_count": 34,
   "metadata": {},
   "outputs": [],
   "source": [
    "small_chunk = 500"
   ]
  },
  {
   "cell_type": "code",
   "execution_count": 35,
   "metadata": {},
   "outputs": [],
   "source": [
    "medium_chunk = 2000"
   ]
  },
  {
   "cell_type": "code",
   "execution_count": 36,
   "metadata": {},
   "outputs": [],
   "source": [
    "large_chunk = 4000"
   ]
  },
  {
   "cell_type": "code",
   "execution_count": 67,
   "metadata": {},
   "outputs": [],
   "source": [
    "def add_metadata_label(docs, key_name, key_value):\n",
    "    for _, doc in enumerate(docs):\n",
    "        doc.metadata[key_name] = key_value\n",
    "    return docs"
   ]
  },
  {
   "cell_type": "code",
   "execution_count": 74,
   "metadata": {},
   "outputs": [],
   "source": [
    "def get_splits_w_labels(docs,separators,department,category,loader_method,chunk_size):\n",
    "    splits = doc_to_splits(docs,\n",
    "                      separators = separators,\n",
    "                      chunk_size= chunk_size   \n",
    "                      )\n",
    "    splits = add_metadata_label(splits, 'department', department)\n",
    "    splits = add_metadata_label(splits, 'category', category)\n",
    "    splits = add_metadata_label(splits, 'loader_method', loader_method)\n",
    "    splits = add_metadata_label(splits, 'chunk_size', chunk_size)\n",
    "    return splits"
   ]
  },
  {
   "cell_type": "markdown",
   "metadata": {},
   "source": [
    "#### - CNIL Chunks"
   ]
  },
  {
   "cell_type": "markdown",
   "metadata": {},
   "source": [
    "##### - stuctured"
   ]
  },
  {
   "cell_type": "code",
   "execution_count": 60,
   "metadata": {},
   "outputs": [],
   "source": [
    "# cnil_docs_structured[0]"
   ]
  },
  {
   "cell_type": "code",
   "execution_count": 59,
   "metadata": {},
   "outputs": [],
   "source": [
    "# cnil_docs_structured[58]"
   ]
  },
  {
   "cell_type": "code",
   "execution_count": 49,
   "metadata": {},
   "outputs": [],
   "source": [
    "cnil_docs_structured_separators =  [\"\\n\\n\", \".\", \"!\", \"?\",\";\",\"\\n\"]"
   ]
  },
  {
   "cell_type": "code",
   "execution_count": 88,
   "metadata": {},
   "outputs": [],
   "source": [
    "cnil_s_small =  get_splits_w_labels(cnil_docs_structured,\n",
    "                                    cnil_docs_structured_separators,\n",
    "                                    department = 'dpo',\n",
    "                                    category ='cnil',\n",
    "                                    loader_method = 'structured',\n",
    "                                    chunk_size = small_chunk)"
   ]
  },
  {
   "cell_type": "code",
   "execution_count": 90,
   "metadata": {},
   "outputs": [],
   "source": [
    "cnil_s_medium =  get_splits_w_labels(cnil_docs_structured,\n",
    "                                    cnil_docs_structured_separators,\n",
    "                                    department = 'dpo',\n",
    "                                    category ='cnil',\n",
    "                                    loader_method = 'structured',\n",
    "                                    chunk_size = medium_chunk)"
   ]
  },
  {
   "cell_type": "code",
   "execution_count": 91,
   "metadata": {},
   "outputs": [],
   "source": [
    "cnil_s_large =  get_splits_w_labels(cnil_docs_structured,\n",
    "                                    cnil_docs_structured_separators,\n",
    "                                    department = 'dpo',\n",
    "                                    category ='cnil',\n",
    "                                    loader_method = 'structured',\n",
    "                                    chunk_size = large_chunk)"
   ]
  },
  {
   "cell_type": "code",
   "execution_count": 92,
   "metadata": {},
   "outputs": [
    {
     "name": "stdout",
     "output_type": "stream",
     "text": [
      "787\n",
      "198\n",
      "104\n"
     ]
    }
   ],
   "source": [
    "for splits in [cnil_s_small, cnil_s_medium, cnil_s_large ]:\n",
    "    print(len(splits))"
   ]
  },
  {
   "cell_type": "markdown",
   "metadata": {},
   "source": [
    "##### - unstructured"
   ]
  },
  {
   "cell_type": "code",
   "execution_count": 94,
   "metadata": {},
   "outputs": [],
   "source": [
    "unstructured_separators = [\"\\n\\nArticle\",\"\\n\\n\", \".\", \"!\", \"?\"]"
   ]
  },
  {
   "cell_type": "code",
   "execution_count": 95,
   "metadata": {},
   "outputs": [],
   "source": [
    "cnil_unstructured_small =  get_splits_w_labels(cnil_docs_unstructured,\n",
    "                                    unstructured_separators,\n",
    "                                    department = 'dpo',\n",
    "                                    category ='cnil',\n",
    "                                    loader_method = 'unstructured',\n",
    "                                    chunk_size = small_chunk)"
   ]
  },
  {
   "cell_type": "code",
   "execution_count": 96,
   "metadata": {},
   "outputs": [],
   "source": [
    "cnil_unstructured_medium =  get_splits_w_labels(cnil_docs_unstructured,\n",
    "                                    unstructured_separators,\n",
    "                                    department = 'dpo',\n",
    "                                    category ='cnil',\n",
    "                                    loader_method = 'unstructured',\n",
    "                                    chunk_size = medium_chunk)"
   ]
  },
  {
   "cell_type": "code",
   "execution_count": 98,
   "metadata": {},
   "outputs": [],
   "source": [
    "cnil_unstructured_large =  get_splits_w_labels(cnil_docs_unstructured,\n",
    "                                    unstructured_separators,\n",
    "                                    department = 'dpo',\n",
    "                                    category ='cnil',\n",
    "                                    loader_method = 'unstructured',\n",
    "                                    chunk_size = large_chunk)"
   ]
  },
  {
   "cell_type": "code",
   "execution_count": 99,
   "metadata": {},
   "outputs": [
    {
     "name": "stdout",
     "output_type": "stream",
     "text": [
      "712\n",
      "175\n",
      "90\n"
     ]
    }
   ],
   "source": [
    "for splits in [cnil_unstructured_small, cnil_unstructured_medium, cnil_unstructured_large ]:\n",
    "    print(len(splits))"
   ]
  },
  {
   "cell_type": "markdown",
   "metadata": {},
   "source": [
    "##### - Insurance"
   ]
  },
  {
   "cell_type": "markdown",
   "metadata": {},
   "source": [
    "##### - structured"
   ]
  },
  {
   "cell_type": "code",
   "execution_count": 110,
   "metadata": {},
   "outputs": [],
   "source": [
    "separators = [\"\\n \\n\", \"  \\n\",\".\", \"!\", \"?\"]"
   ]
  },
  {
   "cell_type": "code",
   "execution_count": 111,
   "metadata": {},
   "outputs": [],
   "source": [
    "# insurance_structured[78]"
   ]
  },
  {
   "cell_type": "code",
   "execution_count": 112,
   "metadata": {},
   "outputs": [],
   "source": [
    "insurance_s_small =  get_splits_w_labels(insurance_structured,\n",
    "                                    separators,\n",
    "                                    department = 'insurance',\n",
    "                                    category ='mh',\n",
    "                                    loader_method = 'structured',\n",
    "                                    chunk_size = small_chunk)"
   ]
  },
  {
   "cell_type": "code",
   "execution_count": 116,
   "metadata": {
    "scrolled": true
   },
   "outputs": [
    {
     "data": {
      "text/plain": [
       "700"
      ]
     },
     "execution_count": 116,
     "metadata": {},
     "output_type": "execute_result"
    }
   ],
   "source": [
    "len(insurance_s_small)"
   ]
  },
  {
   "cell_type": "code",
   "execution_count": 113,
   "metadata": {},
   "outputs": [],
   "source": [
    "insurance_s_medium =  get_splits_w_labels(insurance_structured,\n",
    "                                    separators,\n",
    "                                    department = 'insurance',\n",
    "                                    category ='mh',\n",
    "                                    loader_method = 'structured',\n",
    "                                    chunk_size = medium_chunk)"
   ]
  },
  {
   "cell_type": "code",
   "execution_count": 115,
   "metadata": {},
   "outputs": [
    {
     "data": {
      "text/plain": [
       "191"
      ]
     },
     "execution_count": 115,
     "metadata": {},
     "output_type": "execute_result"
    }
   ],
   "source": [
    "len(insurance_s_medium)"
   ]
  },
  {
   "cell_type": "code",
   "execution_count": 114,
   "metadata": {},
   "outputs": [],
   "source": [
    "insurance_s_large=  get_splits_w_labels(insurance_structured,\n",
    "                                    separators,\n",
    "                                    department = 'insurance',\n",
    "                                    category ='mh',\n",
    "                                    loader_method = 'structured',\n",
    "                                    chunk_size = large_chunk)"
   ]
  },
  {
   "cell_type": "code",
   "execution_count": 117,
   "metadata": {},
   "outputs": [
    {
     "data": {
      "text/plain": [
       "91"
      ]
     },
     "execution_count": 117,
     "metadata": {},
     "output_type": "execute_result"
    }
   ],
   "source": [
    "len(insurance_s_large)"
   ]
  },
  {
   "cell_type": "markdown",
   "metadata": {},
   "source": [
    "##### - unstructured"
   ]
  },
  {
   "cell_type": "code",
   "execution_count": 122,
   "metadata": {},
   "outputs": [],
   "source": [
    "separators = [\"\\n\\n\", \"\\n\",\".\", \"!\", \"?\"]"
   ]
  },
  {
   "cell_type": "code",
   "execution_count": 123,
   "metadata": {},
   "outputs": [],
   "source": [
    "# insurance_unstructured[1]"
   ]
  },
  {
   "cell_type": "code",
   "execution_count": 124,
   "metadata": {},
   "outputs": [],
   "source": [
    "insurance_unstructured_small =  get_splits_w_labels(insurance_unstructured,\n",
    "                                    separators,\n",
    "                                    department = 'insurance',\n",
    "                                    category ='mh',\n",
    "                                    loader_method = 'unstructured',\n",
    "                                    chunk_size = small_chunk)"
   ]
  },
  {
   "cell_type": "code",
   "execution_count": 125,
   "metadata": {},
   "outputs": [
    {
     "data": {
      "text/plain": [
       "667"
      ]
     },
     "execution_count": 125,
     "metadata": {},
     "output_type": "execute_result"
    }
   ],
   "source": [
    "len(insurance_unstructured_small)"
   ]
  },
  {
   "cell_type": "code",
   "execution_count": 126,
   "metadata": {},
   "outputs": [],
   "source": [
    "insurance_unstructured_medium =  get_splits_w_labels(insurance_unstructured,\n",
    "                                    separators,\n",
    "                                    department = 'insurance',\n",
    "                                    category ='mh',\n",
    "                                    loader_method = 'unstructured',\n",
    "                                    chunk_size = medium_chunk)"
   ]
  },
  {
   "cell_type": "code",
   "execution_count": 127,
   "metadata": {},
   "outputs": [
    {
     "data": {
      "text/plain": [
       "151"
      ]
     },
     "execution_count": 127,
     "metadata": {},
     "output_type": "execute_result"
    }
   ],
   "source": [
    "len(insurance_unstructured_medium)"
   ]
  },
  {
   "cell_type": "code",
   "execution_count": 128,
   "metadata": {},
   "outputs": [],
   "source": [
    "insurance_unstructured_large=  get_splits_w_labels(insurance_unstructured,\n",
    "                                    separators,\n",
    "                                    department = 'insurance',\n",
    "                                    category ='mh',\n",
    "                                    loader_method = 'unstructured',\n",
    "                                    chunk_size = large_chunk)"
   ]
  },
  {
   "cell_type": "code",
   "execution_count": 129,
   "metadata": {},
   "outputs": [
    {
     "data": {
      "text/plain": [
       "74"
      ]
     },
     "execution_count": 129,
     "metadata": {},
     "output_type": "execute_result"
    }
   ],
   "source": [
    "len(insurance_unstructured_large)"
   ]
  },
  {
   "cell_type": "markdown",
   "metadata": {},
   "source": [
    "# 4. Add to vector store"
   ]
  },
  {
   "cell_type": "code",
   "execution_count": 130,
   "metadata": {},
   "outputs": [],
   "source": [
    "from langchain_google_vertexai import (\n",
    "    VertexAIEmbeddings,\n",
    "    VectorSearchVectorStore\n",
    ")"
   ]
  },
  {
   "cell_type": "code",
   "execution_count": 131,
   "metadata": {},
   "outputs": [],
   "source": [
    "# https://cloud.google.com/vertex-ai/generative-ai/docs/model-reference/text-embeddings\n",
    "embeddings = VertexAIEmbeddings(model_name=\"textembedding-gecko-multilingual@001\")"
   ]
  },
  {
   "cell_type": "markdown",
   "metadata": {},
   "source": [
    "##### - cnil large "
   ]
  },
  {
   "cell_type": "code",
   "execution_count": 132,
   "metadata": {},
   "outputs": [
    {
     "name": "stdout",
     "output_type": "stream",
     "text": [
      "Copying gs://vector_search_paramters/ecg_all_me.json...\n",
      "/ [1 files][  384.0 B/  384.0 B]                                                \n",
      "Operation completed over 1 objects/384.0 B.                                      \n"
     ]
    }
   ],
   "source": [
    "!gsutil cp gs://vector_search_paramters/ecg_all_me.json ../vector_store_me_parameters/"
   ]
  },
  {
   "cell_type": "code",
   "execution_count": 133,
   "metadata": {},
   "outputs": [],
   "source": [
    "parameters = get_me_parameters('../vector_store_me_parameters/ecg_all_me.json')"
   ]
  },
  {
   "cell_type": "code",
   "execution_count": 134,
   "metadata": {},
   "outputs": [],
   "source": [
    "vector_store = get_vector_store(parameters, embeddings)"
   ]
  },
  {
   "cell_type": "code",
   "execution_count": 137,
   "metadata": {},
   "outputs": [],
   "source": [
    "all_splits = []\n",
    "for splits in [\n",
    "    insurance_unstructured_large,insurance_unstructured_medium, insurance_unstructured_small,\n",
    "    insurance_s_large, insurance_s_medium, insurance_s_small,\n",
    "    cnil_s_large, cnil_s_medium,cnil_s_small,\n",
    "    cnil_unstructured_large,cnil_unstructured_medium,cnil_unstructured_small\n",
    "]:\n",
    "    all_splits.extend(splits)"
   ]
  },
  {
   "cell_type": "code",
   "execution_count": 138,
   "metadata": {},
   "outputs": [
    {
     "data": {
      "text/plain": [
       "3940"
      ]
     },
     "execution_count": 138,
     "metadata": {},
     "output_type": "execute_result"
    }
   ],
   "source": [
    "len(all_splits)"
   ]
  },
  {
   "cell_type": "code",
   "execution_count": 145,
   "metadata": {},
   "outputs": [
    {
     "name": "stdout",
     "output_type": "stream",
     "text": [
      "Upserting datapoints MatchingEngineIndex index: projects/500033913879/locations/europe-west1/indexes/2976325199831498752\n",
      "MatchingEngineIndex index Upserted datapoints. Resource name: projects/500033913879/locations/europe-west1/indexes/2976325199831498752\n",
      "Upserting datapoints MatchingEngineIndex index: projects/500033913879/locations/europe-west1/indexes/2976325199831498752\n",
      "MatchingEngineIndex index Upserted datapoints. Resource name: projects/500033913879/locations/europe-west1/indexes/2976325199831498752\n",
      "Upserting datapoints MatchingEngineIndex index: projects/500033913879/locations/europe-west1/indexes/2976325199831498752\n",
      "MatchingEngineIndex index Upserted datapoints. Resource name: projects/500033913879/locations/europe-west1/indexes/2976325199831498752\n",
      "Upserting datapoints MatchingEngineIndex index: projects/500033913879/locations/europe-west1/indexes/2976325199831498752\n",
      "MatchingEngineIndex index Upserted datapoints. Resource name: projects/500033913879/locations/europe-west1/indexes/2976325199831498752\n"
     ]
    }
   ],
   "source": [
    "# Store docs as embeddings in Matching Engine index\n",
    "# It may take a while since API is rate limited\n",
    "texts = [doc.page_content for doc in all_splits]\n",
    "metadatas = [doc.metadata for doc in all_splits]\n",
    "\n",
    "for i in range(0, len(texts), 1000):\n",
    "    vector_store.add_texts(texts[i : i + 1000], metadatas[i : i + 1000])"
   ]
  }
 ],
 "metadata": {
  "kernelspec": {
   "display_name": "Python 3 (ipykernel)",
   "language": "python",
   "name": "python3"
  },
  "language_info": {
   "codemirror_mode": {
    "name": "ipython",
    "version": 3
   },
   "file_extension": ".py",
   "mimetype": "text/x-python",
   "name": "python",
   "nbconvert_exporter": "python",
   "pygments_lexer": "ipython3",
   "version": "3.10.13"
  }
 },
 "nbformat": 4,
 "nbformat_minor": 4
}
