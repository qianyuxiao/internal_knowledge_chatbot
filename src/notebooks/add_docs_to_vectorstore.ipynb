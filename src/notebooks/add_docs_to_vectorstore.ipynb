{
 "cells": [
  {
   "cell_type": "code",
   "execution_count": 1,
   "id": "9bd8be6b",
   "metadata": {},
   "outputs": [
    {
     "ename": "KeyboardInterrupt",
     "evalue": "",
     "output_type": "error",
     "traceback": [
      "\u001b[0;31m---------------------------------------------------------------------------\u001b[0m",
      "\u001b[0;31mKeyboardInterrupt\u001b[0m                         Traceback (most recent call last)",
      "Cell \u001b[0;32mIn[1], line 5\u001b[0m\n\u001b[1;32m      3\u001b[0m \u001b[38;5;66;03m# Add the directory to sys.path\u001b[39;00m\n\u001b[1;32m      4\u001b[0m sys\u001b[38;5;241m.\u001b[39mpath\u001b[38;5;241m.\u001b[39mappend(\u001b[38;5;124m'\u001b[39m\u001b[38;5;124m/home/qianyucazelles/chatbot_rag/src\u001b[39m\u001b[38;5;124m'\u001b[39m)\n\u001b[0;32m----> 5\u001b[0m \u001b[38;5;28;01mfrom\u001b[39;00m \u001b[38;5;21;01mutils\u001b[39;00m\u001b[38;5;21;01m.\u001b[39;00m\u001b[38;5;21;01mdoc_to_vertex_search\u001b[39;00m \u001b[38;5;28;01mimport\u001b[39;00m \u001b[38;5;241m*\u001b[39m\n\u001b[1;32m      7\u001b[0m \u001b[38;5;28;01mfrom\u001b[39;00m \u001b[38;5;21;01mlangchain\u001b[39;00m\u001b[38;5;21;01m.\u001b[39;00m\u001b[38;5;21;01mdocument_loaders\u001b[39;00m \u001b[38;5;28;01mimport\u001b[39;00m PyPDFLoader\n\u001b[1;32m      8\u001b[0m \u001b[38;5;28;01mfrom\u001b[39;00m \u001b[38;5;21;01mlangchain_community\u001b[39;00m\u001b[38;5;21;01m.\u001b[39;00m\u001b[38;5;21;01mdocument_loaders\u001b[39;00m \u001b[38;5;28;01mimport\u001b[39;00m UnstructuredPDFLoader\n",
      "File \u001b[0;32m~/chatbot_rag/src/utils/doc_to_vertex_search.py:85\u001b[0m\n\u001b[1;32m     82\u001b[0m         parameters \u001b[38;5;241m=\u001b[39m json\u001b[38;5;241m.\u001b[39mload(json_file)\n\u001b[1;32m     83\u001b[0m     \u001b[38;5;28;01mreturn\u001b[39;00m parameters\n\u001b[0;32m---> 85\u001b[0m \u001b[38;5;28;01mfrom\u001b[39;00m \u001b[38;5;21;01mutils\u001b[39;00m\u001b[38;5;21;01m.\u001b[39;00m\u001b[38;5;21;01mmatching_engine\u001b[39;00m \u001b[38;5;28;01mimport\u001b[39;00m MatchingEngine\n\u001b[1;32m     87\u001b[0m \u001b[38;5;28;01mdef\u001b[39;00m \u001b[38;5;21mget_vector_store\u001b[39m(parameters, embeddings):\n\u001b[1;32m     88\u001b[0m     \u001b[38;5;66;03m# Accessing parameters\u001b[39;00m\n\u001b[1;32m     89\u001b[0m     PROJECT_ID \u001b[38;5;241m=\u001b[39m parameters[\u001b[38;5;124m'\u001b[39m\u001b[38;5;124mPROJECT_ID\u001b[39m\u001b[38;5;124m'\u001b[39m]\n",
      "File \u001b[0;32m~/chatbot_rag/src/utils/matching_engine.py:13\u001b[0m\n\u001b[1;32m     11\u001b[0m \u001b[38;5;28;01mimport\u001b[39;00m \u001b[38;5;21;01mgoogle\u001b[39;00m\u001b[38;5;21;01m.\u001b[39;00m\u001b[38;5;21;01mauth\u001b[39;00m\u001b[38;5;21;01m.\u001b[39;00m\u001b[38;5;21;01mtransport\u001b[39;00m\u001b[38;5;21;01m.\u001b[39;00m\u001b[38;5;21;01mrequests\u001b[39;00m\n\u001b[1;32m     12\u001b[0m \u001b[38;5;28;01mfrom\u001b[39;00m \u001b[38;5;21;01mgoogle\u001b[39;00m\u001b[38;5;21;01m.\u001b[39;00m\u001b[38;5;21;01mcloud\u001b[39;00m \u001b[38;5;28;01mimport\u001b[39;00m aiplatform_v1, storage\n\u001b[0;32m---> 13\u001b[0m \u001b[38;5;28;01mfrom\u001b[39;00m \u001b[38;5;21;01mgoogle\u001b[39;00m\u001b[38;5;21;01m.\u001b[39;00m\u001b[38;5;21;01mcloud\u001b[39;00m\u001b[38;5;21;01m.\u001b[39;00m\u001b[38;5;21;01maiplatform\u001b[39;00m \u001b[38;5;28;01mimport\u001b[39;00m MatchingEngineIndex, MatchingEngineIndexEndpoint\n\u001b[1;32m     14\u001b[0m \u001b[38;5;28;01mfrom\u001b[39;00m \u001b[38;5;21;01mgoogle\u001b[39;00m\u001b[38;5;21;01m.\u001b[39;00m\u001b[38;5;21;01moauth2\u001b[39;00m\u001b[38;5;21;01m.\u001b[39;00m\u001b[38;5;21;01mservice_account\u001b[39;00m \u001b[38;5;28;01mimport\u001b[39;00m Credentials\n\u001b[1;32m     15\u001b[0m \u001b[38;5;28;01mfrom\u001b[39;00m \u001b[38;5;21;01mlangchain\u001b[39;00m\u001b[38;5;21;01m.\u001b[39;00m\u001b[38;5;21;01mdocstore\u001b[39;00m\u001b[38;5;21;01m.\u001b[39;00m\u001b[38;5;21;01mdocument\u001b[39;00m \u001b[38;5;28;01mimport\u001b[39;00m Document\n",
      "File \u001b[0;32m~/internal_knowledge_chatbot/venv/lib/python3.10/site-packages/google/cloud/aiplatform/__init__.py:41\u001b[0m\n\u001b[1;32m     35\u001b[0m \u001b[38;5;28;01mfrom\u001b[39;00m \u001b[38;5;21;01mgoogle\u001b[39;00m\u001b[38;5;21;01m.\u001b[39;00m\u001b[38;5;21;01mcloud\u001b[39;00m\u001b[38;5;21;01m.\u001b[39;00m\u001b[38;5;21;01maiplatform\u001b[39;00m \u001b[38;5;28;01mimport\u001b[39;00m hyperparameter_tuning\n\u001b[1;32m     36\u001b[0m \u001b[38;5;28;01mfrom\u001b[39;00m \u001b[38;5;21;01mgoogle\u001b[39;00m\u001b[38;5;21;01m.\u001b[39;00m\u001b[38;5;21;01mcloud\u001b[39;00m\u001b[38;5;21;01m.\u001b[39;00m\u001b[38;5;21;01maiplatform\u001b[39;00m\u001b[38;5;21;01m.\u001b[39;00m\u001b[38;5;21;01mfeaturestore\u001b[39;00m \u001b[38;5;28;01mimport\u001b[39;00m (\n\u001b[1;32m     37\u001b[0m     EntityType,\n\u001b[1;32m     38\u001b[0m     Feature,\n\u001b[1;32m     39\u001b[0m     Featurestore,\n\u001b[1;32m     40\u001b[0m )\n\u001b[0;32m---> 41\u001b[0m \u001b[38;5;28;01mfrom\u001b[39;00m \u001b[38;5;21;01mgoogle\u001b[39;00m\u001b[38;5;21;01m.\u001b[39;00m\u001b[38;5;21;01mcloud\u001b[39;00m\u001b[38;5;21;01m.\u001b[39;00m\u001b[38;5;21;01maiplatform\u001b[39;00m\u001b[38;5;21;01m.\u001b[39;00m\u001b[38;5;21;01mmatching_engine\u001b[39;00m \u001b[38;5;28;01mimport\u001b[39;00m (\n\u001b[1;32m     42\u001b[0m     MatchingEngineIndex,\n\u001b[1;32m     43\u001b[0m     MatchingEngineIndexEndpoint,\n\u001b[1;32m     44\u001b[0m )\n\u001b[1;32m     45\u001b[0m \u001b[38;5;28;01mfrom\u001b[39;00m \u001b[38;5;21;01mgoogle\u001b[39;00m\u001b[38;5;21;01m.\u001b[39;00m\u001b[38;5;21;01mcloud\u001b[39;00m\u001b[38;5;21;01m.\u001b[39;00m\u001b[38;5;21;01maiplatform\u001b[39;00m \u001b[38;5;28;01mimport\u001b[39;00m metadata\n\u001b[1;32m     46\u001b[0m \u001b[38;5;28;01mfrom\u001b[39;00m \u001b[38;5;21;01mgoogle\u001b[39;00m\u001b[38;5;21;01m.\u001b[39;00m\u001b[38;5;21;01mcloud\u001b[39;00m\u001b[38;5;21;01m.\u001b[39;00m\u001b[38;5;21;01maiplatform\u001b[39;00m\u001b[38;5;21;01m.\u001b[39;00m\u001b[38;5;21;01mtensorboard\u001b[39;00m \u001b[38;5;28;01mimport\u001b[39;00m uploader_tracker\n",
      "File \u001b[0;32m~/internal_knowledge_chatbot/venv/lib/python3.10/site-packages/google/cloud/aiplatform/matching_engine/__init__.py:26\u001b[0m\n\u001b[1;32m     18\u001b[0m \u001b[38;5;28;01mfrom\u001b[39;00m \u001b[38;5;21;01mgoogle\u001b[39;00m\u001b[38;5;21;01m.\u001b[39;00m\u001b[38;5;21;01mcloud\u001b[39;00m\u001b[38;5;21;01m.\u001b[39;00m\u001b[38;5;21;01maiplatform\u001b[39;00m\u001b[38;5;21;01m.\u001b[39;00m\u001b[38;5;21;01mmatching_engine\u001b[39;00m\u001b[38;5;21;01m.\u001b[39;00m\u001b[38;5;21;01mmatching_engine_index\u001b[39;00m \u001b[38;5;28;01mimport\u001b[39;00m (\n\u001b[1;32m     19\u001b[0m     MatchingEngineIndex,\n\u001b[1;32m     20\u001b[0m )\n\u001b[1;32m     21\u001b[0m \u001b[38;5;28;01mfrom\u001b[39;00m \u001b[38;5;21;01mgoogle\u001b[39;00m\u001b[38;5;21;01m.\u001b[39;00m\u001b[38;5;21;01mcloud\u001b[39;00m\u001b[38;5;21;01m.\u001b[39;00m\u001b[38;5;21;01maiplatform\u001b[39;00m\u001b[38;5;21;01m.\u001b[39;00m\u001b[38;5;21;01mmatching_engine\u001b[39;00m\u001b[38;5;21;01m.\u001b[39;00m\u001b[38;5;21;01mmatching_engine_index_config\u001b[39;00m \u001b[38;5;28;01mimport\u001b[39;00m (\n\u001b[1;32m     22\u001b[0m     BruteForceConfig \u001b[38;5;28;01mas\u001b[39;00m MatchingEngineBruteForceAlgorithmConfig,\n\u001b[1;32m     23\u001b[0m     MatchingEngineIndexConfig \u001b[38;5;28;01mas\u001b[39;00m MatchingEngineIndexConfig,\n\u001b[1;32m     24\u001b[0m     TreeAhConfig \u001b[38;5;28;01mas\u001b[39;00m MatchingEngineTreeAhAlgorithmConfig,\n\u001b[1;32m     25\u001b[0m )\n\u001b[0;32m---> 26\u001b[0m \u001b[38;5;28;01mfrom\u001b[39;00m \u001b[38;5;21;01mgoogle\u001b[39;00m\u001b[38;5;21;01m.\u001b[39;00m\u001b[38;5;21;01mcloud\u001b[39;00m\u001b[38;5;21;01m.\u001b[39;00m\u001b[38;5;21;01maiplatform\u001b[39;00m\u001b[38;5;21;01m.\u001b[39;00m\u001b[38;5;21;01mmatching_engine\u001b[39;00m\u001b[38;5;21;01m.\u001b[39;00m\u001b[38;5;21;01mmatching_engine_index_endpoint\u001b[39;00m \u001b[38;5;28;01mimport\u001b[39;00m (\n\u001b[1;32m     27\u001b[0m     MatchingEngineIndexEndpoint,\n\u001b[1;32m     28\u001b[0m )\n\u001b[1;32m     30\u001b[0m __all__ \u001b[38;5;241m=\u001b[39m (\n\u001b[1;32m     31\u001b[0m     \u001b[38;5;124m\"\u001b[39m\u001b[38;5;124mMatchingEngineIndex\u001b[39m\u001b[38;5;124m\"\u001b[39m,\n\u001b[1;32m     32\u001b[0m     \u001b[38;5;124m\"\u001b[39m\u001b[38;5;124mMatchingEngineIndexEndpoint\u001b[39m\u001b[38;5;124m\"\u001b[39m,\n\u001b[0;32m   (...)\u001b[0m\n\u001b[1;32m     35\u001b[0m     \u001b[38;5;124m\"\u001b[39m\u001b[38;5;124mMatchingEngineTreeAhAlgorithmConfig\u001b[39m\u001b[38;5;124m\"\u001b[39m,\n\u001b[1;32m     36\u001b[0m )\n",
      "File \u001b[0;32m~/internal_knowledge_chatbot/venv/lib/python3.10/site-packages/google/cloud/aiplatform/matching_engine/matching_engine_index_endpoint.py:34\u001b[0m\n\u001b[1;32m     25\u001b[0m \u001b[38;5;28;01mfrom\u001b[39;00m \u001b[38;5;21;01mgoogle\u001b[39;00m\u001b[38;5;21;01m.\u001b[39;00m\u001b[38;5;21;01mcloud\u001b[39;00m\u001b[38;5;21;01m.\u001b[39;00m\u001b[38;5;21;01maiplatform\u001b[39;00m \u001b[38;5;28;01mimport\u001b[39;00m utils\n\u001b[1;32m     26\u001b[0m \u001b[38;5;28;01mfrom\u001b[39;00m \u001b[38;5;21;01mgoogle\u001b[39;00m\u001b[38;5;21;01m.\u001b[39;00m\u001b[38;5;21;01mcloud\u001b[39;00m\u001b[38;5;21;01m.\u001b[39;00m\u001b[38;5;21;01maiplatform\u001b[39;00m\u001b[38;5;21;01m.\u001b[39;00m\u001b[38;5;21;01mcompat\u001b[39;00m\u001b[38;5;21;01m.\u001b[39;00m\u001b[38;5;21;01mtypes\u001b[39;00m \u001b[38;5;28;01mimport\u001b[39;00m (\n\u001b[1;32m     27\u001b[0m     machine_resources \u001b[38;5;28;01mas\u001b[39;00m gca_machine_resources_compat,\n\u001b[1;32m     28\u001b[0m     matching_engine_index_endpoint \u001b[38;5;28;01mas\u001b[39;00m gca_matching_engine_index_endpoint,\n\u001b[0;32m   (...)\u001b[0m\n\u001b[1;32m     32\u001b[0m     encryption_spec \u001b[38;5;28;01mas\u001b[39;00m gca_encryption_spec,\n\u001b[1;32m     33\u001b[0m )\n\u001b[0;32m---> 34\u001b[0m \u001b[38;5;28;01mfrom\u001b[39;00m \u001b[38;5;21;01mgoogle\u001b[39;00m\u001b[38;5;21;01m.\u001b[39;00m\u001b[38;5;21;01mcloud\u001b[39;00m\u001b[38;5;21;01m.\u001b[39;00m\u001b[38;5;21;01maiplatform\u001b[39;00m\u001b[38;5;21;01m.\u001b[39;00m\u001b[38;5;21;01mmatching_engine\u001b[39;00m\u001b[38;5;21;01m.\u001b[39;00m\u001b[38;5;21;01m_protos\u001b[39;00m \u001b[38;5;28;01mimport\u001b[39;00m match_service_pb2\n\u001b[1;32m     35\u001b[0m \u001b[38;5;28;01mfrom\u001b[39;00m \u001b[38;5;21;01mgoogle\u001b[39;00m\u001b[38;5;21;01m.\u001b[39;00m\u001b[38;5;21;01mcloud\u001b[39;00m\u001b[38;5;21;01m.\u001b[39;00m\u001b[38;5;21;01maiplatform\u001b[39;00m\u001b[38;5;21;01m.\u001b[39;00m\u001b[38;5;21;01mmatching_engine\u001b[39;00m\u001b[38;5;21;01m.\u001b[39;00m\u001b[38;5;21;01m_protos\u001b[39;00m \u001b[38;5;28;01mimport\u001b[39;00m (\n\u001b[1;32m     36\u001b[0m     match_service_pb2_grpc,\n\u001b[1;32m     37\u001b[0m )\n\u001b[1;32m     38\u001b[0m \u001b[38;5;28;01mfrom\u001b[39;00m \u001b[38;5;21;01mgoogle\u001b[39;00m\u001b[38;5;21;01m.\u001b[39;00m\u001b[38;5;21;01mprotobuf\u001b[39;00m \u001b[38;5;28;01mimport\u001b[39;00m field_mask_pb2\n",
      "File \u001b[0;32m~/internal_knowledge_chatbot/venv/lib/python3.10/site-packages/google/cloud/aiplatform/matching_engine/_protos/match_service_pb2.py:103\u001b[0m\n\u001b[1;32m    100\u001b[0m _sym_db\u001b[38;5;241m.\u001b[39mRegisterMessage(MatchResponse)\n\u001b[1;32m    101\u001b[0m _sym_db\u001b[38;5;241m.\u001b[39mRegisterMessage(MatchResponse\u001b[38;5;241m.\u001b[39mNeighbor)\n\u001b[0;32m--> 103\u001b[0m BatchGetEmbeddingsRequest \u001b[38;5;241m=\u001b[39m \u001b[43m_reflection\u001b[49m\u001b[38;5;241;43m.\u001b[39;49m\u001b[43mGeneratedProtocolMessageType\u001b[49m\u001b[43m(\u001b[49m\n\u001b[1;32m    104\u001b[0m \u001b[43m    \u001b[49m\u001b[38;5;124;43m\"\u001b[39;49m\u001b[38;5;124;43mBatchGetEmbeddingsRequest\u001b[39;49m\u001b[38;5;124;43m\"\u001b[39;49m\u001b[43m,\u001b[49m\n\u001b[1;32m    105\u001b[0m \u001b[43m    \u001b[49m\u001b[43m(\u001b[49m\u001b[43m_message\u001b[49m\u001b[38;5;241;43m.\u001b[39;49m\u001b[43mMessage\u001b[49m\u001b[43m,\u001b[49m\u001b[43m)\u001b[49m\u001b[43m,\u001b[49m\n\u001b[1;32m    106\u001b[0m \u001b[43m    \u001b[49m\u001b[43m{\u001b[49m\n\u001b[1;32m    107\u001b[0m \u001b[43m        \u001b[49m\u001b[38;5;124;43m\"\u001b[39;49m\u001b[38;5;124;43mDESCRIPTOR\u001b[39;49m\u001b[38;5;124;43m\"\u001b[39;49m\u001b[43m:\u001b[49m\u001b[43m \u001b[49m\u001b[43m_BATCHGETEMBEDDINGSREQUEST\u001b[49m\u001b[43m,\u001b[49m\n\u001b[1;32m    108\u001b[0m \u001b[43m        \u001b[49m\u001b[38;5;124;43m\"\u001b[39;49m\u001b[38;5;124;43m__module__\u001b[39;49m\u001b[38;5;124;43m\"\u001b[39;49m\u001b[43m:\u001b[49m\u001b[43m \u001b[49m\u001b[38;5;124;43m\"\u001b[39;49m\u001b[38;5;124;43mgoogle.cloud.aiplatform.matching_engine._protos.match_service_pb2\u001b[39;49m\u001b[38;5;124;43m\"\u001b[39;49m\n\u001b[1;32m    109\u001b[0m \u001b[43m        \u001b[49m\u001b[38;5;66;43;03m# @@protoc_insertion_point(class_scope:google.cloud.aiplatform.container.v1.BatchGetEmbeddingsRequest)\u001b[39;49;00m\n\u001b[1;32m    110\u001b[0m \u001b[43m    \u001b[49m\u001b[43m}\u001b[49m\u001b[43m,\u001b[49m\n\u001b[1;32m    111\u001b[0m \u001b[43m)\u001b[49m\n\u001b[1;32m    112\u001b[0m _sym_db\u001b[38;5;241m.\u001b[39mRegisterMessage(BatchGetEmbeddingsRequest)\n\u001b[1;32m    114\u001b[0m BatchGetEmbeddingsResponse \u001b[38;5;241m=\u001b[39m _reflection\u001b[38;5;241m.\u001b[39mGeneratedProtocolMessageType(\n\u001b[1;32m    115\u001b[0m     \u001b[38;5;124m\"\u001b[39m\u001b[38;5;124mBatchGetEmbeddingsResponse\u001b[39m\u001b[38;5;124m\"\u001b[39m,\n\u001b[1;32m    116\u001b[0m     (_message\u001b[38;5;241m.\u001b[39mMessage,),\n\u001b[0;32m   (...)\u001b[0m\n\u001b[1;32m    121\u001b[0m     },\n\u001b[1;32m    122\u001b[0m )\n",
      "\u001b[0;31mKeyboardInterrupt\u001b[0m: "
     ]
    }
   ],
   "source": [
    "import sys\n",
    "\n",
    "# Add the directory to sys.path\n",
    "sys.path.append('/home/qianyucazelles/chatbot_rag/src')\n",
    "from utils.doc_to_vertex_search import *\n",
    "\n",
    "from langchain.document_loaders import PyPDFLoader\n",
    "from langchain_community.document_loaders import UnstructuredPDFLoader\n",
    "import os"
   ]
  },
  {
   "cell_type": "code",
   "execution_count": null,
   "id": "8ce3655b",
   "metadata": {},
   "outputs": [],
   "source": [
    "from datetime import datetime\n",
    "def print_with_time(message):\n",
    "    current_time = datetime.now()\n",
    "    formatted_time = current_time.strftime(\"%Y-%m-%d %H:%M:%S\")\n",
    "    print(f\"[{formatted_time}] {message}\")"
   ]
  },
  {
   "cell_type": "code",
   "execution_count": null,
   "id": "957205f7",
   "metadata": {},
   "outputs": [],
   "source": [
    "def read_txt_to_list(input_file):\n",
    "    # Initialize an empty list to store the item paths\n",
    "    item_paths = []\n",
    "\n",
    "    # Open the file in read mode\n",
    "    with open(input_file, \"r\") as f:\n",
    "        # Read each line in the file\n",
    "        for line in f:\n",
    "            # Remove trailing whitespace and newline characters\n",
    "            line = line.strip()\n",
    "            # Append the cleaned line to the list\n",
    "            item_paths.append(line)\n",
    "    return item_paths"
   ]
  },
  {
   "cell_type": "code",
   "execution_count": null,
   "id": "d6a96952",
   "metadata": {},
   "outputs": [],
   "source": [
    "def print_with_line(message):\n",
    "    print(\"-\"*100)\n",
    "    print_with_time(message)\n",
    "    \n",
    "def print_with_star(message):\n",
    "    print(\"*\"*100)\n",
    "    print_with_time(message)\n",
    "    "
   ]
  },
  {
   "cell_type": "code",
   "execution_count": null,
   "id": "e5746eb7",
   "metadata": {},
   "outputs": [],
   "source": [
    "def pdf_to_vector_search(\n",
    "    pdf_path,\n",
    "    me,\n",
    "    unstructure_loader: bool=True,\n",
    "    split_to_article: bool=False\n",
    "):\n",
    "    print_with_time(f\"Process file:{pdf_path} \")\n",
    "    \n",
    "    #load pages\n",
    "    if unstructure_loader:\n",
    "        print(\"Using unstrucure loader\")\n",
    "        loader = UnstructuredPDFLoader(f'{pdf_path}')\n",
    "    else:\n",
    "        loader = PyPDFLoader(f'{pdf_path}')\n",
    "    pages = loader.load()\n",
    "    \n",
    "    print_with_line(f\"len of pages:len(pages)\")\n",
    "    \n",
    "    #split to article\n",
    "    if split_to_article:\n",
    "        articles = split_pages_into_artiles(pages)\n",
    "        doc_splits = text_to_chunk(articles)\n",
    "    else:\n",
    "        doc_splits = text_to_chunk(pages)\n",
    "        \n",
    "\n",
    "    print_with_line(f\"n splits:len(doc_splits)\")\n",
    "    \n",
    "    #add to vector store\n",
    "    doc_ids = add_splits_to_vector_store(doc_splits,me)\n",
    "    \n",
    "    \n",
    "    if len(doc_ids)>0:\n",
    "        \n",
    "        print_with_line(f\"Added to vector store with {len(doc_ids)} ids.\")\n",
    "        \n",
    "        with open(\"../add_docs_to_vectorstore_logs/processed_pdfs.txt\", \"a\") as f:\n",
    "            f.write(f\"'{pdf_path}',\\n\")\n",
    "        with open(\"../add_docs_to_vectorstore_logs/processed_pdfs_doc_ids.txt\", \"a\") as f:\n",
    "            f.write(f\"'{pdf_path}': {doc_ids},\\n\")\n",
    "        \n",
    "    else:\n",
    "        \n",
    "        print_with_star(\"No doc ids returned\")\n",
    "        \n",
    "        with open(f\"../add_docs_to_vectorstore_logs/unprocessed_pdfs.txt\", \"a\") as f:\n",
    "            f.write(f\"'{pdf_path}',\" + \"\\n\")\n",
    "            \n",
    "    return doc_ids"
   ]
  },
  {
   "cell_type": "code",
   "execution_count": null,
   "id": "3b54c2b5",
   "metadata": {},
   "outputs": [],
   "source": [
    "def process_folder(me,CHATBOT_ID, folder_path, pdf_doc_ids, other_files):\n",
    "    processed_pdfs = read_txt_to_list(\"../add_docs_to_vectorstore_logs/processed_pdfs.txt\")     \n",
    "    for item in os.listdir(folder_path):\n",
    "        \n",
    "        item_path = os.path.join(folder_path, item)\n",
    "        print_with_time(f\"Scanning {item_path}\")\n",
    "        \n",
    "        if os.path.isdir(item_path):\n",
    "            \n",
    "            print_with_time(f\"{item_path} is folder, now go to new level\")\n",
    "            process_folder(me,CHATBOT_ID,item_path,pdf_doc_ids, other_files)\n",
    "            \n",
    "        elif item.lower().endswith('.pdf'):\n",
    "            if item not in processed_pdfs:\n",
    "                \n",
    "                print_with_time(f\"{item_path} is pdf, now process to vector store\")\n",
    "                try:\n",
    "                    \n",
    "                    doc_ids = pdf_to_vector_search(item_path,me)\n",
    "                    \n",
    "                except Exception as e:\n",
    "                    with open(f\"../add_docs_to_vectorstore_logs/unprocessed_pdfs.txt\", \"a\") as f:\n",
    "                        f.write(f\"'{item_path}',\" + \"\\n\")\n",
    "                    print(f\"An error occurred while processing {item_path}: {e}\")\n",
    "                    doc_ids=[]\n",
    "                pdf_doc_ids[item_path]=doc_ids\n",
    "            \n",
    "        else:\n",
    "            other_files.append(item_path)"
   ]
  },
  {
   "cell_type": "code",
   "execution_count": null,
   "id": "9ea086f2",
   "metadata": {},
   "outputs": [],
   "source": [
    "def main(me,\n",
    "         CHATBOT_ID: str,\n",
    "         root_folder: str\n",
    "         ):\n",
    "    \n",
    "    pdf_data = {}\n",
    "    other_files = []\n",
    "    \n",
    "    process_folder(me,CHATBOT_ID,root_folder, pdf_data, other_files)\n",
    "    \n",
    "    # Writing PDF data to JSON file\n",
    "    pdf_output_file = f\"../vector_store_me_parameters/{CHATBOT_ID}_pdf_doc_ids.json\"\n",
    "    with open(pdf_output_file, \"w\") as json_file:\n",
    "        json.dump(pdf_data, json_file, indent=4)\n",
    "    print(f\"PDF data has been written to {pdf_output_file}\")\n",
    "    \n",
    "    # Writing other files list to JSON file\n",
    "    other_output_file = f\"../vector_store_me_parameters/{CHATBOT_ID}_non_pdf_files.json\"\n",
    "    with open(other_output_file, \"w\") as json_file:\n",
    "        json.dump(other_files, json_file, indent=4)\n",
    "    print(f\"Non-PDF files list has been written to {other_output_file}\")\n",
    "\n"
   ]
  },
  {
   "cell_type": "code",
   "execution_count": null,
   "id": "ed4277e3",
   "metadata": {},
   "outputs": [
    {
     "name": "stderr",
     "output_type": "stream",
     "text": [
      "2024-04-17 19:37:35.964096: I tensorflow/core/platform/cpu_feature_guard.cc:210] This TensorFlow binary is optimized to use available CPU instructions in performance-critical operations.\n",
      "To enable the following instructions: AVX2 FMA, in other operations, rebuild TensorFlow with the appropriate compiler flags.\n",
      "Model_name will become a required arg for VertexAIEmbeddings starting from Feb-01-2024. Currently the default is set to textembedding-gecko@001\n"
     ]
    },
    {
     "name": "stdout",
     "output_type": "stream",
     "text": [
      "[2024-04-17 19:37:41] Scanning ../documents/ecg_assurance/Contrats 2024\n",
      "[2024-04-17 19:37:41] ../documents/ecg_assurance/Contrats 2024 is folder, now go to new level\n",
      "[2024-04-17 19:37:41] Scanning ../documents/ecg_assurance/Contrats 2024/LOCAUX DE STOCKAGE\n",
      "[2024-04-17 19:37:41] ../documents/ecg_assurance/Contrats 2024/LOCAUX DE STOCKAGE is folder, now go to new level\n",
      "[2024-04-17 19:37:41] Scanning ../documents/ecg_assurance/Contrats 2024/LOCAUX DE STOCKAGE/NEW Contratto polizza magazzino Manerba.pdf\n",
      "[2024-04-17 19:37:41] ../documents/ecg_assurance/Contrats 2024/LOCAUX DE STOCKAGE/NEW Contratto polizza magazzino Manerba.pdf is pdf, now process to vector store\n",
      "[2024-04-17 19:37:41] Process file:../documents/ecg_assurance/Contrats 2024/LOCAUX DE STOCKAGE/NEW Contratto polizza magazzino Manerba.pdf \n",
      "Using unstrucure loader\n"
     ]
    },
    {
     "name": "stderr",
     "output_type": "stream",
     "text": [
      "/home/qianyucazelles/internal_knowledge_chatbot/venv/lib/python3.10/site-packages/tqdm/auto.py:21: TqdmWarning: IProgress not found. Please update jupyter and ipywidgets. See https://ipywidgets.readthedocs.io/en/stable/user_install.html\n",
      "  from .autonotebook import tqdm as notebook_tqdm\n"
     ]
    },
    {
     "name": "stdout",
     "output_type": "stream",
     "text": [
      "----------------------------------------------------------------------------------------------------\n",
      "[2024-04-17 19:38:19] len of pages:len(pages)\n",
      "----------------------------------------------------------------------------------------------------\n",
      "[2024-04-17 19:38:19] n splits:len(doc_splits)\n",
      "Waiting\n",
      "...successfully added to vector store with 19 new doc ids\n",
      "----------------------------------------------------------------------------------------------------\n",
      "[2024-04-17 19:38:24] Added to vector store with 19 ids.\n",
      "[2024-04-17 19:38:24] Scanning ../documents/ecg_assurance/Contrats 2024/LOCAUX DE STOCKAGE/Avenant police LOCAUX DE STOCKAGE Allianz 2024.pdf\n",
      "[2024-04-17 19:38:24] ../documents/ecg_assurance/Contrats 2024/LOCAUX DE STOCKAGE/Avenant police LOCAUX DE STOCKAGE Allianz 2024.pdf is pdf, now process to vector store\n",
      "[2024-04-17 19:38:24] Process file:../documents/ecg_assurance/Contrats 2024/LOCAUX DE STOCKAGE/Avenant police LOCAUX DE STOCKAGE Allianz 2024.pdf \n",
      "Using unstrucure loader\n"
     ]
    }
   ],
   "source": [
    "if __name__ == \"__main__\":\n",
    "    CHATBOT_ID = \"ecg_assurance\"\n",
    "    root_folder = f\"../documents/{CHATBOT_ID}/\"\n",
    "    # get embeddings\n",
    "    embeddings = get_embeddings()\n",
    "\n",
    "    #get parameters\n",
    "    parameters = get_me_parameters(f'../vector_store_me_parameters/{CHATBOT_ID}_me.json')\n",
    "\n",
    "    #get vector store\n",
    "    me = get_vector_store(parameters, embeddings)\n",
    "    \n",
    "    main(me,CHATBOT_ID,root_folder)"
   ]
  },
  {
   "cell_type": "code",
   "execution_count": null,
   "id": "31cc2459",
   "metadata": {},
   "outputs": [],
   "source": [
    "# pdf_path = \"/home/qianyucazelles/internal_knowledge_chatbot/src/documents/ecg_assurance/Contrats 2024/LOCAUX DE STOCKAGE/NEW Contratto polizza magazzino Manerba.pdf\",\"ecg_assurance\"\n",
    "# CHATBOT_ID = \"ecg_assurance\"\n",
    "# root_folder = f\"/home/qianyucazelles/chatbot_rag/src/documents/{CHATBOT_ID}/\"\n",
    "# # get embeddings\n",
    "# embeddings = get_embeddings()\n",
    "\n",
    "# #get parameters\n",
    "# parameters = get_me_parameters(f'../vector_store_me_parameters/{CHATBOT_ID}_me.json')\n",
    "\n",
    "# #get vector store\n",
    "# me = get_vector_store(parameters, embeddings)\n",
    "# # pdf_to_vector_search(pdf_path,me)"
   ]
  },
  {
   "cell_type": "code",
   "execution_count": null,
   "id": "4b1ad7a2",
   "metadata": {},
   "outputs": [],
   "source": [
    "# pdf_to_vector_search(\"../documents/ecg_assurance/Contrats 2024/SIEGES/Generali - Si\\u00e8ge Montpellier.pdf\",me)"
   ]
  },
  {
   "cell_type": "code",
   "execution_count": null,
   "id": "cc936673",
   "metadata": {},
   "outputs": [],
   "source": [
    "# loader = UnstructuredPDFLoader(\"../documents/ecg_assurance/Contrats 2024/LOCAUX DE STOCKAGE/NEW Contratto polizza magazzino Manerba.pdf\")"
   ]
  },
  {
   "cell_type": "code",
   "execution_count": null,
   "id": "997c4b90",
   "metadata": {},
   "outputs": [],
   "source": [
    "# pages = loader.load()\n"
   ]
  },
  {
   "cell_type": "code",
   "execution_count": null,
   "id": "ee745606",
   "metadata": {},
   "outputs": [],
   "source": [
    "# #split to article\n",
    "# split_to_article= False\n",
    "# if split_to_article:\n",
    "#     articles = split_pages_into_artiles(pages)\n",
    "#     doc_splits = text_to_chunk(articles)\n",
    "# else:\n",
    "#     doc_splits = text_to_chunk(pages)\n",
    "    \n",
    "\n",
    "\n",
    "# #add to vector store\n",
    "# doc_ids = add_splits_to_vector_store(doc_splits,me)"
   ]
  },
  {
   "cell_type": "code",
   "execution_count": null,
   "id": "6145feb3",
   "metadata": {},
   "outputs": [],
   "source": [
    "# parameters = get_me_parameters(f'../vector_store_me_parameters/{CHATBOT_ID}_me.json')"
   ]
  },
  {
   "cell_type": "code",
   "execution_count": null,
   "id": "e318b1f1",
   "metadata": {},
   "outputs": [],
   "source": [
    "# # init the aiplatform package\n",
    "# from google.cloud import aiplatform\n",
    "\n",
    "# aiplatform.init(project=parameters['PROJECT_ID'], location=parameters['LOCATION'])"
   ]
  },
  {
   "cell_type": "code",
   "execution_count": null,
   "id": "cb714dd3",
   "metadata": {},
   "outputs": [],
   "source": [
    "# my_index_endpoint = aiplatform.MatchingEngineIndexEndpoint(parameters['ME_INDEX_ENDPOINT_ID'])"
   ]
  },
  {
   "cell_type": "code",
   "execution_count": null,
   "id": "36a11c07",
   "metadata": {},
   "outputs": [],
   "source": [
    "# my_index_endpoint.undeploy_all()\n",
    "# my_index_endpoint.delete(force=True)"
   ]
  },
  {
   "cell_type": "code",
   "execution_count": null,
   "id": "b91ef5e6-0ff4-43b8-ae53-c867bcd6145d",
   "metadata": {
    "tags": []
   },
   "outputs": [],
   "source": [
    "# me.similarity_search(\"way to reserve a booking\", k=4)"
   ]
  }
 ],
 "metadata": {
  "environment": {
   "kernel": "conda-root-py",
   "name": "workbench-notebooks.m119",
   "type": "gcloud",
   "uri": "us-docker.pkg.dev/deeplearning-platform-release/gcr.io/workbench-notebooks:m119"
  },
  "kernelspec": {
   "display_name": "Python 3 (ipykernel)",
   "language": "python",
   "name": "python3"
  },
  "language_info": {
   "codemirror_mode": {
    "name": "ipython",
    "version": 3
   },
   "file_extension": ".py",
   "mimetype": "text/x-python",
   "name": "python",
   "nbconvert_exporter": "python",
   "pygments_lexer": "ipython3",
   "version": "3.10.13"
  }
 },
 "nbformat": 4,
 "nbformat_minor": 5
}
