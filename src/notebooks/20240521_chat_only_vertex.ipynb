{
 "cells": [
  {
   "cell_type": "markdown",
   "id": "a522b955-ee68-4522-8177-15035d59b09d",
   "metadata": {},
   "source": [
    "# Get Retriver"
   ]
  },
  {
   "cell_type": "code",
   "execution_count": 1,
   "id": "cad56f00-b908-4dbb-ac5a-518d8ef36984",
   "metadata": {},
   "outputs": [],
   "source": [
    "import sys\n",
    "\n",
    "# Add the directory to sys.path\n",
    "sys.path.append('/home/qianyucazelles/internal_knowledge_chatbot/src/utils')\n",
    "from doc_to_vertex_search import *"
   ]
  },
  {
   "cell_type": "code",
   "execution_count": 2,
   "id": "a80b01fa-b7ff-42d9-83c9-aa2e4a765c6e",
   "metadata": {},
   "outputs": [],
   "source": [
    "parameters = get_me_parameters('../vector_store_me_parameters/ecg_all_me.json')"
   ]
  },
  {
   "cell_type": "code",
   "execution_count": 3,
   "id": "6b1e33ee-622e-4a76-bb44-bcf0ff1da961",
   "metadata": {},
   "outputs": [],
   "source": [
    "embeddings = get_embeddings()"
   ]
  },
  {
   "cell_type": "code",
   "execution_count": 4,
   "id": "e211639c-e954-41f2-80c8-1194bee57552",
   "metadata": {},
   "outputs": [],
   "source": [
    "db = get_vector_store(parameters, embeddings)"
   ]
  },
  {
   "cell_type": "code",
   "execution_count": 5,
   "id": "98f7e621-29b1-4691-96fb-4eaec134e168",
   "metadata": {},
   "outputs": [],
   "source": [
    "from google.cloud.aiplatform.matching_engine.matching_engine_index_endpoint import (\n",
    "    Namespace,\n",
    "    NumericNamespace,\n",
    ")\n",
    "filters = [Namespace(name=\"department\", allow_tokens=[\"dpo\"]),\n",
    "           Namespace(name=\"loader_method\", allow_tokens=[\"unstructured\"])\n",
    "          ]\n",
    "\n",
    "\n",
    "numeric_filters = [NumericNamespace(name=\"chunk_size\", value_float=2000.0, op=\"EQUAL\")]\n"
   ]
  },
  {
   "cell_type": "code",
   "execution_count": 6,
   "id": "e741dbdf-7f80-4f2d-996b-aa51bf9ddf82",
   "metadata": {},
   "outputs": [],
   "source": [
    "retriever = db.as_retriever()"
   ]
  },
  {
   "cell_type": "code",
   "execution_count": 7,
   "id": "b528dbf8-c72a-4c89-83e6-bf8dc9d6faba",
   "metadata": {},
   "outputs": [],
   "source": [
    "retriever.search_kwargs = {\"filter\": filters, \"numeric_filter\": numeric_filters}"
   ]
  },
  {
   "cell_type": "code",
   "execution_count": 8,
   "id": "c9b19fd0-31eb-42c6-a2f5-10c02111416b",
   "metadata": {},
   "outputs": [],
   "source": [
    "q = \"Je n'aurai pas le temps de traiter la demande de droit à l'oubli d'un utilisateur dans le mois règlementaire imposé par la CNIL. Ai-je un recours ?\""
   ]
  },
  {
   "cell_type": "code",
   "execution_count": 9,
   "id": "6bd9bffd-71b0-45c2-8a3d-0a21479216eb",
   "metadata": {},
   "outputs": [],
   "source": [
    "q2 = \"J'ai des difficultés à comprendre les différentes obligations que j'ai vis-à-vis des sous-traitants qui travaillent pour moi. Pourrais-tu me faire un résumé ?\""
   ]
  },
  {
   "cell_type": "code",
   "execution_count": 33,
   "id": "2730bea8-2b5d-476b-bb4f-01fe622b944a",
   "metadata": {},
   "outputs": [],
   "source": [
    "retrieved_documents = retriever.invoke(q)"
   ]
  },
  {
   "cell_type": "code",
   "execution_count": 11,
   "id": "78e9b375-e1f4-402c-8abd-9e406e426681",
   "metadata": {},
   "outputs": [],
   "source": [
    "retrieved_documents = retriever.invoke(q2)"
   ]
  },
  {
   "cell_type": "markdown",
   "id": "ff5cb06a",
   "metadata": {},
   "source": [
    "## chat model"
   ]
  },
  {
   "cell_type": "code",
   "execution_count": 22,
   "id": "c45e6896-eb02-40f9-9f91-9562f315ec86",
   "metadata": {},
   "outputs": [],
   "source": [
    "def format_prompt(SYS_PROMPT, prompt,retrieved_documents):\n",
    "  \"\"\"using the retrieved documents we will prompt the model to generate our responses\"\"\"\n",
    "  formatted_prompt = f\"{SYS_PROMPT} \\n Question:{prompt}\\nContext: \\n\"\n",
    "  separated_line = \"-\"*50+\"\\n\"\n",
    "  for idx,doc in enumerate(retrieved_documents) :\n",
    "    formatted_prompt+= f\"{separated_line} Ranked Document: {idx+1} \\nName: {doc.metadata['document_name']}\\nContent: {doc.page_content} \\n\"\n",
    "  return formatted_prompt"
   ]
  },
  {
   "cell_type": "code",
   "execution_count": 20,
   "id": "69e6eab8-085f-4036-94ed-e0d2e2b0d134",
   "metadata": {},
   "outputs": [],
   "source": [
    "SYS_PROMPT = \"\"\"You are an assistant for answering questions.\n",
    "You are given the extracted parts of several documents rank by relevance with document name and a question. Please pick the most relevant document related to the question then \n",
    "provide a conversational answer in the same language as the question. Always cite the referred document in your response.\n",
    "If you don't know the answer, just say \"I do not know.\" Don't make up an answer.\"\"\""
   ]
  },
  {
   "cell_type": "code",
   "execution_count": 35,
   "id": "0442d469-adf7-42ec-8cdc-34d9298bee42",
   "metadata": {},
   "outputs": [],
   "source": [
    "formatted_prompt = format_prompt(SYS_PROMPT,q,retrieved_documents)"
   ]
  },
  {
   "cell_type": "code",
   "execution_count": 25,
   "id": "596b0f47-77d9-46d0-8afd-96d4b6b4184f",
   "metadata": {},
   "outputs": [
    {
     "data": {
      "text/plain": [
       "En tant que responsable du traitement, vous devez veiller à ce que les sous-traitants que vous engagez présentent des garanties suffisantes quant à la mise en œuvre de mesures techniques et organisationnelles appropriées de manière à ce que le traitement réponde aux exigences du présent règlement et garantisse la protection des droits de la personne concernée.\n",
       "\n",
       "Vous devez également conclure un contrat ou un autre acte juridique avec le sous-traitant qui définit l'objet et la durée du traitement, la nature et la finalité du traitement, le type de données à caractère personnel et les catégories de personnes concernées, et les obligations et les droits du responsable du traitement. Ce contrat ou cet autre acte juridique doit prévoir notamment que le sous-traitant ne traite les données à caractère personnel que sur instruction documentée du responsable du traitement, qu'il veille à ce que les personnes autorisées à traiter les données à caractère personnel s'engagent à respecter la confidentialité ou soient soumises à une obligation légale appropriée de confidentialité, qu'il prenne toutes les mesures requises en vertu de l'article 32, qu'il respecte les conditions visées aux paragraphes 2 et 4 pour recruter un autre sous-traitant, qu'il aide le responsable du traitement, par des mesures techniques et organisationnelles appropriées, dans toute la mesure du possible, à s'acquitter de son obligation de donner suite aux demandes dont les personnes concernées le saisissent en vue d'exercer leurs droits prévus au chapitre III, qu'il aide le responsable du traitement à garantir le respect des obligations prévues aux articles 32 à 36, compte tenu de la nature du traitement et des informations à la disposition du sous-traitant, et qu'il informe immédiatement le responsable du traitement si, selon lui, une instruction constitue une violation du présent règlement ou d'autres dispositions du droit de l'Union ou du droit des États membres relatives à la protection des données."
      ]
     },
     "execution_count": 25,
     "metadata": {},
     "output_type": "execute_result"
    }
   ],
   "source": [
    "chat.send_message(formatted_prompt, **parameters)"
   ]
  },
  {
   "cell_type": "code",
   "execution_count": 45,
   "id": "7613389c-0c63-40d1-9957-7aad3eda32b0",
   "metadata": {},
   "outputs": [],
   "source": [
    "from langchain_google_vertexai import VertexAI\n",
    "model = VertexAI(\n",
    "    model_name=\"gemini-1.0-pro\", #\"gemini-1.0-pro\", #\"text-bison@002\",\n",
    "    max_output_tokens=1024,\n",
    "    temperature=0.0,\n",
    "    verbose=True,\n",
    "    streaming = True\n",
    ")"
   ]
  },
  {
   "cell_type": "code",
   "execution_count": 48,
   "id": "aa42ee9e-cbad-4b34-adcb-7b41cf22e543",
   "metadata": {},
   "outputs": [
    {
     "data": {
      "text/plain": [
       "\"Je n'aurai pas le temps de traiter la demande de droit à l'oubli d'un utilisateur dans le mois règlementaire imposé par la CNIL. Ai-je un recours ?\""
      ]
     },
     "execution_count": 48,
     "metadata": {},
     "output_type": "execute_result"
    }
   ],
   "source": [
    "q"
   ]
  },
  {
   "cell_type": "code",
   "execution_count": 47,
   "id": "ee1681d8-e53d-4924-9b0e-a13ddfa2822c",
   "metadata": {},
   "outputs": [
    {
     "name": "stdout",
     "output_type": "stream",
     "text": [
      "## Oui, vous avez un recours si vous n'aurez pas le temps de traiter la demande de droit à l'oubli d'un utilisateur dans le mois règlementaire imposé par la CNIL.\n",
      "\n",
      "**Voici les options qui s'offrent à vous :**\n",
      "\n",
      "* **Demander une prolongation du délai.** Selon l'article 12 du RGPD, vous pouvez demander une prolongation de deux mois si la demande est complexe ou si vous avez reçu un nombre important de demandes. Vous devez informer la personne concernée de cette prolongation et des motifs du report dans un délai d'un mois à compter de la réception de la demande.\n",
      "* **Déléguer la tâche à un tiers.** Vous pouvez déléguer la tâche de traitement de la demande de droit à l'oubli à un tiers, tel qu'un prestataire spécialisé. Assurez-vous que le tiers est soumis aux mêmes obligations que vous en matière de protection des données.\n",
      "* **Informer la CNIL de l'impossibilité de respecter le délai.** Si vous ne pouvez pas respecter le délai, même en demandant une prolongation, vous devez en informer la CNIL dans les meilleurs délais. Vous devez également informer la personne concernée de la situation et lui expliquer les raisons du retard.\n",
      "\n",
      "**Important :**\n",
      "\n",
      "* Vous devez toujours respecter les droits de la personne concernée, même si vous ne pouvez pas traiter sa demande dans le délai imparti.\n",
      "* Vous devez être en mesure de justifier le retard auprès de la CNIL.\n",
      "\n",
      "**Source :**\n",
      "\n",
      "* **Chapitre III - Droits de la personne concernée** du site de la CNIL : https://www.cnil.fr/fr/reglement-europeen-protection-donnees/chapitre3\n",
      "\n",
      "**N'hésitez pas à me poser d'autres questions si vous en avez.**\n",
      "\n"
     ]
    }
   ],
   "source": [
    "from langchain_core.prompts import PromptTemplate\n",
    "\n",
    "template = \"\"\"{question}\n",
    "\n",
    "Answer: Let's think step by step.\"\"\"\n",
    "prompt = PromptTemplate.from_template(template)\n",
    "\n",
    "chain = prompt | model\n",
    "\n",
    "print(chain.invoke({\"question\": formatted_prompt}))"
   ]
  },
  {
   "cell_type": "markdown",
   "id": "9fa5b553-92d0-49c7-b697-ece671e97128",
   "metadata": {},
   "source": [
    "# Test question refiner"
   ]
  },
  {
   "cell_type": "code",
   "execution_count": 49,
   "id": "c3f5b677-c33a-4f10-98c5-84015b652990",
   "metadata": {},
   "outputs": [],
   "source": [
    "refiner_template = \"Given the following user query and conversation log, formulate a question that includes all the entities or subject mentioned would be the most relevant to provide the user with an answer from a knowledge base specifying the subject if it's mentioned.\\n\\nCONVERSATION LOG: \\n{conversation}\\n\\nQuery: {query}\\n\\nRefined Query:\"\n",
    "refiner_prompt = PromptTemplate.from_template(refiner_template)"
   ]
  },
  {
   "cell_type": "code",
   "execution_count": 50,
   "id": "7969f98d-98a3-4bab-ba26-bed524d1a5a6",
   "metadata": {},
   "outputs": [],
   "source": [
    "refiner_chain = refiner_prompt | model"
   ]
  },
  {
   "cell_type": "code",
   "execution_count": 51,
   "id": "844a130c-f71c-4bca-b3f2-109deb721467",
   "metadata": {},
   "outputs": [],
   "source": [
    "conversation_string = \"\"\n",
    "query = '''Je n'aurai pas le temps de traiter la demande de droit à l'oubli d'un utilisateur dans le mois règlementaire imposé par la CNIL. Ai-je un recours ?'''\n",
    "response = '''1 month'''\n",
    "conversation_string += \"Human: \"+query+ \"\\n\"\n",
    "conversation_string += \"Bot: \"+ response + \"\\n\""
   ]
  },
  {
   "cell_type": "code",
   "execution_count": 54,
   "id": "1ae49fe3-a027-4144-ac57-9028aefbc2d8",
   "metadata": {},
   "outputs": [
    {
     "data": {
      "text/plain": [
       "\"## Refined Query:\\n\\n**Est-il possible de demander un délai supplémentaire à la CNIL pour traiter une demande de droit à l'oubli, si l'on ne peut pas la traiter dans le délai réglementaire d'un mois ?** \\n\\nThis refined query incorporates the following elements from the conversation log:\\n\\n* **Subject:** Droit à l'oubli (right to be forgotten)\\n* **Entity:** CNIL (French data protection authority)\\n* **Timeframe:** 1 month\\n* **User's concern:** Inability to meet the deadline\\n* **User's question:** Seeking a solution\\n\\nBy combining these elements, the refined query directly addresses the user's concern and seeks information about potential solutions within the context of the right to be forgotten and the CNIL's regulations. \\n\""
      ]
     },
     "execution_count": 54,
     "metadata": {},
     "output_type": "execute_result"
    }
   ],
   "source": [
    "refiner_chain.invoke({\"conversation\": conversation_string,\"query\":\"can you give more details\"})"
   ]
  }
 ],
 "metadata": {
  "environment": {
   "kernel": "conda-root-py",
   "name": "workbench-notebooks.m119",
   "type": "gcloud",
   "uri": "us-docker.pkg.dev/deeplearning-platform-release/gcr.io/workbench-notebooks:m119"
  },
  "kernelspec": {
   "display_name": "venv",
   "language": "python",
   "name": "venv"
  },
  "language_info": {
   "codemirror_mode": {
    "name": "ipython",
    "version": 3
   },
   "file_extension": ".py",
   "mimetype": "text/x-python",
   "name": "python",
   "nbconvert_exporter": "python",
   "pygments_lexer": "ipython3",
   "version": "3.10.13"
  }
 },
 "nbformat": 4,
 "nbformat_minor": 5
}
