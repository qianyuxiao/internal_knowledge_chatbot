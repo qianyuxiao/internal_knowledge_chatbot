{
 "cells": [
  {
   "cell_type": "markdown",
   "id": "f444f39e-9555-4f01-b835-91d512c8c825",
   "metadata": {},
   "source": [
    "Steps:\n",
    "- Load pdfs\n",
    "- Split text\n",
    "- Embeddings\n",
    "- Build Index\n",
    "- Deploy index to endpoint/Store chunks in cloud\n",
    "- QA chain\n"
   ]
  },
  {
   "cell_type": "code",
   "execution_count": 1,
   "id": "eac1364e-d05c-410f-a45c-69eb62570c9d",
   "metadata": {
    "tags": []
   },
   "outputs": [],
   "source": [
    "import numpy as np\n",
    "import json"
   ]
  },
  {
   "cell_type": "markdown",
   "id": "b170f20e-a364-45a7-87c0-a99d99f0c332",
   "metadata": {},
   "source": [
    "# Vertex parameters settings"
   ]
  },
  {
   "cell_type": "code",
   "execution_count": 2,
   "id": "0bd95460-a02e-48c1-b1e7-5b59b002c80b",
   "metadata": {
    "tags": []
   },
   "outputs": [],
   "source": [
    "# get project ID\n",
    "PROJECT_ID = ! gcloud config get project\n",
    "PROJECT_ID = PROJECT_ID[0]\n",
    "\n",
    "LOCATION = ! gcloud config get-value compute/region\n",
    "LOCATION = LOCATION[0]"
   ]
  },
  {
   "cell_type": "code",
   "execution_count": 30,
   "id": "67ab37ab-36eb-4000-bb89-c448c70a172f",
   "metadata": {
    "tags": []
   },
   "outputs": [
    {
     "name": "stdout",
     "output_type": "stream",
     "text": [
      "ecg-ai-416210 europe-west1\n"
     ]
    }
   ],
   "source": [
    "print(PROJECT_ID, LOCATION)"
   ]
  },
  {
   "cell_type": "code",
   "execution_count": 3,
   "id": "926a2649-68cd-4a6a-855e-0f05c8cceb92",
   "metadata": {
    "tags": []
   },
   "outputs": [],
   "source": [
    "# matching engine\n",
    "CHATBOT_NAME = \"legal-chatbot\"\n",
    "ME_INDEX_NAME = f\"{PROJECT_ID}-{CHATBOT_NAME}-me-index\"  # @param {type:\"string\"}\n",
    "ME_EMBEDDING_DIR = f\"{PROJECT_ID}-{CHATBOT_NAME}-me-bucket\"  # @param {type:\"string\"}\n",
    "ME_DIMENSIONS = 768  # when using Vertex PaLM Embedding"
   ]
  },
  {
   "cell_type": "markdown",
   "id": "eed6753c-5e19-4de6-b8a4-ea49e669f4c9",
   "metadata": {},
   "source": [
    "# Load pdfs"
   ]
  },
  {
   "cell_type": "code",
   "execution_count": 4,
   "id": "4f23f4d3-be26-4e99-9fea-e22b7f644462",
   "metadata": {
    "tags": []
   },
   "outputs": [],
   "source": [
    "# !pip install langchain"
   ]
  },
  {
   "cell_type": "code",
   "execution_count": 5,
   "id": "2a98442e-7150-43b3-8c20-2650cf013ba9",
   "metadata": {
    "tags": []
   },
   "outputs": [],
   "source": [
    "# !pip install pypdf"
   ]
  },
  {
   "cell_type": "code",
   "execution_count": 6,
   "id": "da689665-bb76-44d3-8efb-f5ea301d0b17",
   "metadata": {
    "tags": []
   },
   "outputs": [],
   "source": [
    "from langchain.document_loaders import PyPDFLoader"
   ]
  },
  {
   "cell_type": "code",
   "execution_count": 7,
   "id": "5ac9252c-d865-4be4-b25a-24447f934368",
   "metadata": {
    "tags": []
   },
   "outputs": [],
   "source": [
    "local_pdf_path = \"pdfs/Homair-FR.pdf\"\n",
    "loader = PyPDFLoader(local_pdf_path)\n",
    "pages = loader.load()"
   ]
  },
  {
   "cell_type": "code",
   "execution_count": 8,
   "id": "7cd2f159-aadf-4558-8cf1-345c0940a993",
   "metadata": {
    "tags": []
   },
   "outputs": [],
   "source": [
    "# pages[0]"
   ]
  },
  {
   "cell_type": "markdown",
   "id": "b978b988-8d60-43a0-8396-7f9284daaa8f",
   "metadata": {},
   "source": [
    "# Split documents"
   ]
  },
  {
   "cell_type": "markdown",
   "id": "e63eecd9-9555-48ef-8c88-019d4f49f8ab",
   "metadata": {
    "tags": []
   },
   "source": [
    "##### - Split page by header \"ARTICLE\" and add title"
   ]
  },
  {
   "cell_type": "code",
   "execution_count": 9,
   "id": "6c286db8-14ed-4a00-8b06-e46b51175106",
   "metadata": {
    "tags": []
   },
   "outputs": [],
   "source": [
    "import re\n",
    "from langchain_core.documents.base import Document\n",
    "\n",
    "articles = []\n",
    "title_ = ''\n",
    "for pn_, page in enumerate(pages):\n",
    "\n",
    "    page_content = page.page_content\n",
    "    metadata = page.metadata.copy()\n",
    "    metadata['page']+=1\n",
    "    header_spliter = \"ARTICLE\"\n",
    "    \n",
    "    \n",
    "    for i,s_ in enumerate(page_content.split(header_spliter)):\n",
    "        \n",
    "        first_line = s_.split(\"\\n\")[0]\n",
    "        len_first_line = len(first_line)\n",
    "     \n",
    "        \n",
    "        if pn_+i==0: # if first page first split\n",
    "            title_dict = {\"title\":s_.split(\"\\n\")[3]} #TBU\n",
    "        elif i==0 & len_first_line<10: # if an article is splitted into 2 pages, combine previous content together           \n",
    "            title_dict = {\"title\":f'{header_spliter}{title_}'}\n",
    "            previous_part = articles[-1].page_content\n",
    "            s_ = f\"{previous_part} \\n\\n {s_}\"\n",
    "            articles = articles[:-1]\n",
    "        else:\n",
    "            title_ = first_line\n",
    "            title_dict = {\"title\":f'{header_spliter}{title_}'}\n",
    "            s_ = f\"{header_spliter}{s_}\"\n",
    "        metadata_article = {**metadata,**title_dict}\n",
    "        article = Document(page_content=s_, metadata=metadata_article)\n",
    "        # print(metadata_article )\n",
    "        articles.append(article)"
   ]
  },
  {
   "cell_type": "code",
   "execution_count": 10,
   "id": "8b129c0f-7f86-463d-bad1-be3ccf7def1c",
   "metadata": {
    "tags": []
   },
   "outputs": [
    {
     "data": {
      "text/plain": [
       "Document(page_content=' \\n \\n1/7 \\n CONDITIONS GENERALES DE LOCATION  \\n \\nAfin de pouvoir bénéficier des prestations proposées par la société Homair Vacances au travers de  \\nses marques commerciales , nous vous demandons de lire attentivement les présentes Conditions \\nGénérales de Location.  \\n \\nAfin de faciliter la lecture du présent texte, nous avons employé le masculin comme genre neutre, \\nsans discrimination, pour désigner aussi bien les femmes que les hommes.  \\n \\nVersion publiée le 23/01/202 4 \\n \\n', metadata={'source': 'pdfs/Homair-FR.pdf', 'page': 1, 'title': ' CONDITIONS GENERALES DE LOCATION  '})"
      ]
     },
     "execution_count": 10,
     "metadata": {},
     "output_type": "execute_result"
    }
   ],
   "source": [
    "articles[0]"
   ]
  },
  {
   "cell_type": "code",
   "execution_count": 11,
   "id": "68d4d9e0-1178-4240-89c6-123eb8b19b8c",
   "metadata": {
    "tags": []
   },
   "outputs": [
    {
     "data": {
      "text/plain": [
       "Document(page_content=\"ARTICLE 2 - LEXIQUE  \\n• « Camping »  : Etablissement touristique exploité en tout ou partie (uniquement location \\nd’Hébergements) par la Société  ; \\n• « Catalogue »  : tous les supports de communication en version papier (et en version \\nnumérique ) présentant tout ou partie des  Campings  et des Hébergements proposés par la \\nSociété.   \\n• « Client »  : personne physique assimilée à un particulier qui effectue et est à l’origine du \\npaiement d’une réservation pour son propre compte. Le Client peut également être un \\npartenaire (par exemple, un Comité Social Economique) qui effectue une réservation pour l e \\ncompte d'un ayant droit. La notion de Client s’oppose, entre autres, aux notions de participant \\nau séjour, groupe, occupant, visiteur, résident ou collectivité.  \\n• « Conditions Générales » ou «  CGL »  : les présentes conditions générales de location.  \\n• « Contrat de location  » : la confirmation de réservation et les CG L constituent ensemble le \\nContrat de location . \\n• « Emplacement »  : superficie dépourvue de tout  Hébergement mise à disposition d’une \\nclientèle venant avec son propre Hébergement  sous réserve que ce dernier soit autorisé (ex: \\ntente, caravane, camping car …). Les prix de location d’un Emplacement inclus une base de 2 \\npersonnes. Au -delà de 2 personnes et en fonction de leur âge, le prix variera.  \\n• « Equipements et Services optionnel s » : désignent les équipements ou services \\nsupplémentaires pouvant être ajoutés lors de la Réservation du séjour par le Client ou \\ndirectement sur le Camping. La disponibilité de ces Equipements et Services optionnels \\ndépend de chaque Hébergement ou de l'Empl acement, de leur configuration, du Camping, et \\nde l’état des stocks. Elle ne peut être garantie.  \\n• « Hébergement (s) » : ensemble des locatifs (mobil -home, lodge, chalets…) proposés  au Client \\nà la location  par la Société.  \\n• « Réservation »  : Etat d’une commande effectuée par le Client auprès de la Société. La \\nRéservation acte définitivement la vente d’un séjour en Camping et la location d’un \\nHébergement ou d’un Emplacement sur ce même  Camping, dès lors que la commande a été \\nacceptée par la Société ayant  reçu un paiement, y compris partiel, de la part du Client .  \\n• « Saison touristique  » : période d’ouverture des Campings et composée des périodes \\nsuivantes  : \\n•  « Basse saison » : désigne la période allant de l’ouverture des Campings jusqu’au 05.07.2024  \\net du 02.09.2024  jusqu’à la fermeture des Campings. Selon les pays de destination, ces dates \\npeuvent différer. Il est précisé que  les dates d’ouverture et de fermeture des Campings \\npourront être modifiées du fait de la Société.  \\n•  « Haute saison »  : désigne la période du  06.07.2024 au 01.09.2024  inclus. Selon les pays de \\ndestination, ces dates peuvent différer.  \\n• « Services du Camping »  : désignent les différentes activités, animations, équipements,  \\ninfrastructures et/ou facilités gratuits ou payants proposés par le Camping. L’attention du \\nClient est portée sur le fait que :  \\no Certains services ne sont pas ouverts toute l’année ;  \\no Les espaces aquatiques et piscines des Campings ne sont pas tous chauffés et les \\npoints d’eau indiqués sur les Catalogues  et les Sites internet ne sont pas tous \\nouverts à la baignade.  \\nIl appartient donc au Client de se renseigner avant de réserver sur les conditions d’accès à ces \\nservices et leurs dates d’ouverture via les Sites internet  ou le service client de la Société . \\n• « Sites internet »  : désigne le(s) site(s) Internet de la Société dont homair.com , tohapi.fr, \\nmarvilla -parks.com…  \\n• « Société »  : Homair Vacances SAS  \\n• « Supports Publicitaires »  : tous les supports de communication mis à disposition par la Société \\nafin de promouvoir ses produits et services dont le(s) Site(s) internet, Catalogue, applications \\nmobile…  \\n• « Visiteur »  : Un visiteur est une personne ne faisant pas partie des participants mentionnés \\nsur la Réservation et venant rendre visite au Client sur le Camping.  \\n \\n\", metadata={'source': 'pdfs/Homair-FR.pdf', 'page': 1, 'title': 'ARTICLE 2 - LEXIQUE  '})"
      ]
     },
     "execution_count": 11,
     "metadata": {},
     "output_type": "execute_result"
    }
   ],
   "source": [
    "articles[2]"
   ]
  },
  {
   "cell_type": "code",
   "execution_count": 12,
   "id": "83b478a4-11f2-4c54-97c1-b975e187f2d1",
   "metadata": {
    "tags": []
   },
   "outputs": [
    {
     "data": {
      "text/plain": [
       "Document(page_content='ARTICLE 18- SERVICES DU CAMPING  \\nLa Société fait ses meilleurs efforts pour maintenir à jour les informations et descriptifs relatifs aux \\nServices du Camping qu’elle propose sur l’ensemble des Sites internet et Catalogue . Il peut arriver \\nque certaines activités et installations proposées par les Campings des Sociétés  exploitantes, et \\nindiquées dans le descriptif, soient supprimées ou modifiées, notamment pour des raisons \\nclimatiques, en cas de force majeure, ou de dysfonctionnement en avant ou arrière -saison. La Société \\ninformera dans la m esure du possible le Client des travaux ou aménagements entrepris sur les \\nCampings lors de son séjour.  \\n \\n', metadata={'source': 'pdfs/Homair-FR.pdf', 'page': 7, 'title': 'ARTICLE 18- SERVICES DU CAMPING  '})"
      ]
     },
     "execution_count": 12,
     "metadata": {},
     "output_type": "execute_result"
    }
   ],
   "source": [
    "articles[18]"
   ]
  },
  {
   "cell_type": "markdown",
   "id": "6acec676-bd6b-4c19-a60e-ab6ae30f6c7a",
   "metadata": {},
   "source": [
    "##### - split articles to chunk"
   ]
  },
  {
   "cell_type": "code",
   "execution_count": 13,
   "id": "ac3e25fe-ea61-4296-99a7-56118add7c5b",
   "metadata": {
    "tags": []
   },
   "outputs": [],
   "source": [
    "from langchain.text_splitter import RecursiveCharacterTextSplitter"
   ]
  },
  {
   "cell_type": "code",
   "execution_count": 14,
   "id": "bcf81bca-38ad-4912-8aac-97d04b66b5b0",
   "metadata": {
    "tags": []
   },
   "outputs": [],
   "source": [
    "text_splitter = RecursiveCharacterTextSplitter(\n",
    "    chunk_size=1500,\n",
    "    chunk_overlap=50,\n",
    "    separators=[\"\\n\\n\", \".\", \"!\", \"?\"] #, \".\", \"!\", \"?\", \",\", \" \", \"\"\n",
    ")"
   ]
  },
  {
   "cell_type": "code",
   "execution_count": 15,
   "id": "d6423791-4dba-4804-a6eb-4ea356366cfa",
   "metadata": {
    "tags": []
   },
   "outputs": [
    {
     "name": "stdout",
     "output_type": "stream",
     "text": [
      "# of documents = 73\n"
     ]
    }
   ],
   "source": [
    "doc_splits = text_splitter.split_documents(articles)\n",
    "\n",
    "# Add chunk number to metadata\n",
    "for idx, split in enumerate(doc_splits):\n",
    "    split.metadata[\"chunk\"] = idx\n",
    "\n",
    "print(f\"# of documents = {len(doc_splits)}\")"
   ]
  },
  {
   "cell_type": "markdown",
   "id": "fd2b721f-cb62-4f6e-84df-14a7f91ca499",
   "metadata": {
    "tags": []
   },
   "source": [
    "# Vectorstore and Embeddings"
   ]
  },
  {
   "cell_type": "code",
   "execution_count": 16,
   "id": "3dd72ba1-cd78-4fee-82c2-50f14145ce64",
   "metadata": {
    "tags": []
   },
   "outputs": [],
   "source": [
    "from utils.matching_engine import MatchingEngine\n",
    "from utils.matching_engine_utils import MatchingEngineUtils"
   ]
  },
  {
   "cell_type": "code",
   "execution_count": 17,
   "id": "9124b5ce-4c00-4750-9156-6ffc50f6c71d",
   "metadata": {
    "tags": []
   },
   "outputs": [],
   "source": [
    "mengine = MatchingEngineUtils(PROJECT_ID, LOCATION, ME_INDEX_NAME)"
   ]
  },
  {
   "cell_type": "markdown",
   "id": "b4e32e0b-bd80-4104-b4b5-53c059ff3829",
   "metadata": {
    "tags": []
   },
   "source": [
    "## - Create index and deploy end point if first usage"
   ]
  },
  {
   "cell_type": "markdown",
   "id": "7fef8bb5-25f5-4b9d-b1bc-e51d5135d0fc",
   "metadata": {
    "tags": []
   },
   "source": [
    "##### - Vector Store parameters"
   ]
  },
  {
   "cell_type": "markdown",
   "id": "6ba74126-cb9e-487a-be94-3c8d25bddb63",
   "metadata": {},
   "source": [
    "##### - create bucket and dummy init file"
   ]
  },
  {
   "cell_type": "code",
   "execution_count": 47,
   "id": "f870b9d1-999c-4d9c-9a30-49e5c0403658",
   "metadata": {
    "tags": []
   },
   "outputs": [
    {
     "name": "stdout",
     "output_type": "stream",
     "text": [
      "+ gsutil mb -p ecg-ai-416210 -l europe-west1 gs://ecg-ai-416210-legal-chatbot-me-bucket\n",
      "Creating gs://ecg-ai-416210-legal-chatbot-me-bucket/...\n"
     ]
    }
   ],
   "source": [
    "# Make a Google Cloud Storage bucket for your Matching Engine index\n",
    "! set -x && gsutil mb -p $PROJECT_ID -l $LOCATION gs://$ME_EMBEDDING_DIR"
   ]
  },
  {
   "cell_type": "code",
   "execution_count": 53,
   "id": "9886253e-96c5-4f54-a529-a84d1fac8986",
   "metadata": {
    "tags": []
   },
   "outputs": [
    {
     "name": "stdout",
     "output_type": "stream",
     "text": [
      "+ gsutil cp embeddings_0.json gs://ecg-ai-416210-legal-chatbot-me-bucket/init_index/embeddings_0.json\n",
      "Copying file://embeddings_0.json [Content-Type=application/json]...\n",
      "/ [1 files][  3.8 KiB/  3.8 KiB]                                                \n",
      "Operation completed over 1 objects/3.8 KiB.                                      \n"
     ]
    }
   ],
   "source": [
    "# Create a dummy embeddings file to initialize when creating the index\n",
    "import uuid\n",
    "# dummy embedding\n",
    "init_embedding = {\"id\": str(uuid.uuid4()), \"embedding\": list(np.zeros(ME_DIMENSIONS))}\n",
    "\n",
    "# dump embedding to a local file\n",
    "with open(\"embeddings_0.json\", \"w\") as f:\n",
    "    json.dump(init_embedding, f)\n",
    "\n",
    "# write embedding to Cloud Storage\n",
    "! set -x && gsutil cp embeddings_0.json gs://{ME_EMBEDDING_DIR}/init_index/embeddings_0.json"
   ]
  },
  {
   "cell_type": "markdown",
   "id": "088db4f7-aba8-4a0b-ae6f-a6a8809c4e63",
   "metadata": {},
   "source": [
    "##### - create index"
   ]
  },
  {
   "cell_type": "code",
   "execution_count": 58,
   "id": "252cf701-b0b1-4f32-b62f-a2f1822d80b5",
   "metadata": {
    "tags": []
   },
   "outputs": [
    {
     "name": "stderr",
     "output_type": "stream",
     "text": [
      "INFO:root:Index ecg-ai-416210-legal-chatbot-me-index does not exists. Creating index ...\n",
      "INFO:root:Creating index with long running operation projects/500033913879/locations/europe-west1/indexes/1183584684882264064/operations/3123674601360457728\n",
      "INFO:root:Poll the operation to create index ...\n",
      "INFO:root:Index ecg-ai-416210-legal-chatbot-me-index created with resource name as projects/500033913879/locations/europe-west1/indexes/1183584684882264064\n"
     ]
    },
    {
     "name": "stdout",
     "output_type": "stream",
     "text": [
      ".projects/500033913879/locations/europe-west1/indexes/1183584684882264064\n"
     ]
    }
   ],
   "source": [
    "index = mengine.create_index(\n",
    "    embedding_gcs_uri=f\"gs://{ME_EMBEDDING_DIR}/init_index\",\n",
    "    dimensions=ME_DIMENSIONS,\n",
    "    index_update_method=\"streaming\",\n",
    "    index_algorithm=\"tree-ah\",\n",
    ")\n",
    "if index:\n",
    "    print(index.name)"
   ]
  },
  {
   "cell_type": "markdown",
   "id": "1b3cb9c9-8633-4811-bf8b-1ecc8c641e76",
   "metadata": {},
   "source": [
    "##### - deploy index to endpoint"
   ]
  },
  {
   "cell_type": "code",
   "execution_count": null,
   "id": "edfc53f6-7db2-4e94-ad18-a6c4d5212d5a",
   "metadata": {
    "tags": []
   },
   "outputs": [
    {
     "name": "stderr",
     "output_type": "stream",
     "text": [
      "INFO:root:Index endpoint ecg-ai-416210-legal-chatbot-me-index-endpoint does not exists. Creating index endpoint...\n",
      "INFO:root:Deploying index to endpoint with long running operation projects/500033913879/locations/europe-west1/indexEndpoints/5425227865958383616/operations/1970753096753610752\n",
      "INFO:root:Poll the operation to create index endpoint ...\n",
      "INFO:root:Index endpoint ecg-ai-416210-legal-chatbot-me-index-endpoint created with resource name as projects/500033913879/locations/europe-west1/indexEndpoints/5425227865958383616 and endpoint domain name as \n",
      "INFO:root:Deploying index with request = id: \"ecg_ai_416210_legal_chatbot_me_index_20240327140725\"\n",
      "index: \"projects/500033913879/locations/europe-west1/indexes/1183584684882264064\"\n",
      "display_name: \"ecg_ai_416210_legal_chatbot_me_index_20240327140725\"\n",
      "dedicated_resources {\n",
      "  machine_spec {\n",
      "    machine_type: \"e2-standard-2\"\n",
      "  }\n",
      "  min_replica_count: 2\n",
      "  max_replica_count: 10\n",
      "}\n",
      "\n",
      "INFO:root:Poll the operation to deploy index ...\n"
     ]
    },
    {
     "name": "stdout",
     "output_type": "stream",
     "text": [
      "......................"
     ]
    },
    {
     "name": "stderr",
     "output_type": "stream",
     "text": [
      "INFO:root:Deployed index ecg-ai-416210-legal-chatbot-me-index to endpoint ecg-ai-416210-legal-chatbot-me-index-endpoint\n"
     ]
    },
    {
     "name": "stdout",
     "output_type": "stream",
     "text": [
      ".Index endpoint resource name: projects/500033913879/locations/europe-west1/indexEndpoints/5425227865958383616\n",
      "Index endpoint public domain name: \n",
      "Deployed indexes on the index endpoint:\n"
     ]
    }
   ],
   "source": [
    "index_endpoint = mengine.deploy_index()\n",
    "if index_endpoint:\n",
    "    print(f\"Index endpoint resource name: {index_endpoint.name}\")\n",
    "    print(\n",
    "        f\"Index endpoint public domain name: {index_endpoint.public_endpoint_domain_name}\"\n",
    "    )\n",
    "    print(\"Deployed indexes on the index endpoint:\")\n",
    "    for d in index_endpoint.deployed_indexes:\n",
    "        print(f\"    {d.id}\")"
   ]
  },
  {
   "cell_type": "markdown",
   "id": "94b1ac60-e64b-49d9-b6cb-eaf5a0e6592f",
   "metadata": {},
   "source": [
    "https://console.cloud.google.com/vertex-ai/matching-engine/indexes?project=ecg-ai-416210"
   ]
  },
  {
   "cell_type": "markdown",
   "id": "8e1d8e32-89b3-476a-abf7-935537b17711",
   "metadata": {},
   "source": [
    "## - Configure Matching Engine as Vector Store"
   ]
  },
  {
   "cell_type": "code",
   "execution_count": 18,
   "id": "7429efa5-7b41-4459-bc5d-11eb6cfd5d9f",
   "metadata": {
    "tags": []
   },
   "outputs": [
    {
     "name": "stdout",
     "output_type": "stream",
     "text": [
      "ME_INDEX_ID=projects/500033913879/locations/europe-west1/indexes/1183584684882264064\n",
      "ME_INDEX_ENDPOINT_ID=projects/500033913879/locations/europe-west1/indexEndpoints/5425227865958383616\n"
     ]
    }
   ],
   "source": [
    "ME_INDEX_ID, ME_INDEX_ENDPOINT_ID = mengine.get_index_and_endpoint()\n",
    "print(f\"ME_INDEX_ID={ME_INDEX_ID}\")\n",
    "print(f\"ME_INDEX_ENDPOINT_ID={ME_INDEX_ENDPOINT_ID}\")"
   ]
  },
  {
   "cell_type": "code",
   "execution_count": 19,
   "id": "73440764-e9e9-4937-a611-5face1ac9339",
   "metadata": {
    "tags": []
   },
   "outputs": [
    {
     "name": "stdout",
     "output_type": "stream",
     "text": [
      "Parameters have been written to me_parameters.json\n"
     ]
    }
   ],
   "source": [
    "# Create a dictionary with the parameter names and their values\n",
    "me_parameters = {\n",
    "    \"PROJECT_ID\": PROJECT_ID,\n",
    "    \"LOCATION\": LOCATION,\n",
    "    \"CHATBOT_NAME\": CHATBOT_NAME,\n",
    "    \"ME_INDEX_ID\": ME_INDEX_ID,\n",
    "    \"ME_INDEX_ENDPOINT_ID\": ME_INDEX_ENDPOINT_ID,\n",
    "    \"ME_INDEX_NAME\": ME_INDEX_NAME,\n",
    "    \"ME_EMBEDDING_DIR\": ME_EMBEDDING_DIR,\n",
    "    \"ME_DIMENSIONS\": ME_DIMENSIONS\n",
    "    }\n",
    "# Specify the file path where you want to save the JSON data\n",
    "file_path = \"me_parameters.json\"\n",
    "\n",
    "# Write the dictionary to a JSON file\n",
    "with open(file_path, \"w\") as json_file:\n",
    "    json.dump(me_parameters, json_file, indent=4)"
   ]
  },
  {
   "cell_type": "markdown",
   "id": "ed9f5ffb-0776-4d00-bf6d-8020146b123e",
   "metadata": {
    "tags": []
   },
   "source": [
    "##### - set embeddings"
   ]
  },
  {
   "cell_type": "code",
   "execution_count": 22,
   "id": "c48bc589-6449-4d8b-833d-916aad07e9a9",
   "metadata": {
    "tags": []
   },
   "outputs": [
    {
     "data": {
      "text/plain": [
       "<module 'utils' from '/home/jupyter/chatbot_rag/src/utils/__init__.py'>"
      ]
     },
     "execution_count": 22,
     "metadata": {},
     "output_type": "execute_result"
    }
   ],
   "source": [
    "import importlib\n",
    "import utils\n",
    "importlib.reload(utils)"
   ]
  },
  {
   "cell_type": "code",
   "execution_count": 23,
   "id": "f9c64e25-08ea-49f7-90dc-8d051595a8a3",
   "metadata": {
    "tags": []
   },
   "outputs": [],
   "source": [
    "from utils.custom_vertexai_embeddings import CustomVertexAIEmbeddings"
   ]
  },
  {
   "cell_type": "code",
   "execution_count": 24,
   "id": "bb39dc30-f140-43e3-983c-e8fb8387c266",
   "metadata": {
    "tags": []
   },
   "outputs": [
    {
     "name": "stderr",
     "output_type": "stream",
     "text": [
      "WARNING:langchain_community.embeddings.vertexai:Model_name will become a required arg for VertexAIEmbeddings starting from Feb-01-2024. Currently the default is set to textembedding-gecko@001\n"
     ]
    }
   ],
   "source": [
    "# Embeddings API integrated with langChain\n",
    "EMBEDDING_QPM = 100\n",
    "EMBEDDING_NUM_BATCH = 5\n",
    "embeddings = CustomVertexAIEmbeddings(\n",
    "    requests_per_minute=EMBEDDING_QPM,\n",
    "    num_instances_per_batch=EMBEDDING_NUM_BATCH,\n",
    ")"
   ]
  },
  {
   "cell_type": "markdown",
   "id": "63968a34-cf88-4492-bc2c-b33c133943b2",
   "metadata": {},
   "source": [
    "##### - initialize vector store"
   ]
  },
  {
   "cell_type": "code",
   "execution_count": 25,
   "id": "a4bc2bb1-2596-4abb-8794-f345b0008fc5",
   "metadata": {
    "tags": []
   },
   "outputs": [],
   "source": [
    "me = MatchingEngine.from_components(\n",
    "    project_id=PROJECT_ID,\n",
    "    region=LOCATION,\n",
    "    gcs_bucket_name=f\"gs://{ME_EMBEDDING_DIR}\".split(\"/\")[2],\n",
    "    embedding=embeddings,\n",
    "    index_id=ME_INDEX_ID,\n",
    "    endpoint_id=ME_INDEX_ENDPOINT_ID,\n",
    ")"
   ]
  },
  {
   "cell_type": "markdown",
   "id": "0386dfb4-3eae-486b-b70e-eceddbbc5187",
   "metadata": {},
   "source": [
    "##### - Add documents splits as embeddings in Matching Engine as index"
   ]
  },
  {
   "cell_type": "code",
   "execution_count": 26,
   "id": "dd1da204-79e3-4511-afaa-b0a924f44eff",
   "metadata": {
    "tags": []
   },
   "outputs": [],
   "source": [
    "texts = [doc.page_content for doc in doc_splits]\n",
    "metadatas = [\n",
    "    [\n",
    "        {\"namespace\": \"source\", \"allow_list\": [doc.metadata[\"source\"]]},\n",
    "        {\"namespace\": \"page\", \"allow_list\": [str(doc.metadata[\"page\"])]},\n",
    "        {\"namespace\": \"title\", \"allow_list\": [str(doc.metadata[\"title\"])]},\n",
    "        {\"namespace\": \"chunk\", \"allow_list\": [str(doc.metadata[\"chunk\"])]},\n",
    "    ]\n",
    "    for doc in doc_splits\n",
    "]"
   ]
  },
  {
   "cell_type": "code",
   "execution_count": 27,
   "id": "76c0368c-7827-4ed8-8a2d-f29289f1abd2",
   "metadata": {
    "tags": []
   },
   "outputs": [
    {
     "name": "stdout",
     "output_type": "stream",
     "text": [
      "Waiting\n",
      "............."
     ]
    },
    {
     "name": "stderr",
     "output_type": "stream",
     "text": [
      "INFO:root:Indexed 73 documents to Matching Engine.\n"
     ]
    }
   ],
   "source": [
    "doc_ids = me.add_texts(texts=texts, metadatas=metadatas)"
   ]
  },
  {
   "cell_type": "markdown",
   "id": "cf0ed05a-84d1-4bd7-a236-3dce66be1aba",
   "metadata": {},
   "source": [
    "##### - test similarity search"
   ]
  },
  {
   "cell_type": "code",
   "execution_count": 28,
   "id": "7bd61e11-f718-4c9b-ae09-b020827ac66a",
   "metadata": {
    "tags": []
   },
   "outputs": [
    {
     "name": "stdout",
     "output_type": "stream",
     "text": [
      "Waiting\n"
     ]
    },
    {
     "data": {
      "text/plain": [
       "[Document(page_content='.  \\n \\nModalités de Réservation  Il existe quatre moyens de réserver un séjour :  \\n \\n• -Par téléphone  : auprès de nos équipes de réservation et via les numéros suivants (coût d’un appel \\nlocal) :  \\n• pour Homair Vacances  au 04.84.39.08.60  \\n• pour Tohapi au 04.48.20.20.20  ou +33 4 48 20 20 20 (depuis l’étranger)  \\n \\n• -Par Internet  : sur les Sites internet de la Société.  \\n \\n• -Par mail  : via les formulaire s de contact suivants  : \\n• pour Homair Vacances  : https://contact.homair.com/hc/fr/requests/new  \\n• pour Tohapi  :  reservations@tohapi.fr   \\n• pour Marvilla Parks  : https://contact.marvilla -parks.com/hc/fr/requests/new   \\n \\n• Sur place  : exclusivement pour les Campings Homair Vacances , auprès de l’accueil du Camping.  \\n \\nLa Réservation d’un séjour s’effectue selon les étapes  suivantes :  \\n \\n1)  Le Client sélectionne le Camping de son choix selon son descriptif.  \\n2) Le Client sélectionne la durée du séjour, la date de départ, le nombre de participants/occupants \\net le type d’Hébergement ou Emplacement.  \\n3) Le Client a la possibilité de renseigner les avantages, s’il en a reçu, en indiquant les codes \\ncorrespondant (code partenaire/code promotion).  \\n4) Le Client indique également s’il souhaite souscrire à l’assurance annulation et réserver d’autres \\noptions proposées par la Société', metadata={'source': 'pdfs/Homair-FR.pdf', 'page': '2', 'title': 'ARTICLE 6 - COMMANDE ET RÉSERVATION  ', 'chunk': '12', 'score': 0.7982754707336426}),\n",
       " Document(page_content=\"ARTICLE 8 - PAIEMENTS  \\nDispositions Générales concernant les paiements   \\nDispositions Générales concernant les paiements . La Société met à disposition du Client différentes  \\nméthodes de paiement.  \\n \\nSi la commande a lieu 30 jours ou moins avant le début du séjour, l’intégralité des sommes dues \\ndoit être réglée immédiatement au moment de la commande.  \\n \\nSi la commande a lieu plus de 30 jours avant le début du séjour et que le Client choisit de payer en  \\nplusieurs fois, l’intégralité des sommes dues doit être réglée dans un délai maximum de 30 jours  \\navant la date d'arrivée. La Société se réserve le droit d’annuler la Réservation dans les conditions  \\nd’annulation décrites dans l’article “Annulation” des présentes Conditions Générales si l’intégralité  \\ndes sommes dues ne sont pas versées dans les délais impartis.  \\n Selon le mode de Réservation choisi, les moyens de paiement suivants sont acceptés :  \\n \\n- Carte bancaire  (CB) pour tous les types de Réservations.  \\n \\n- Chèque bancaire  libellé à l’ordre de « HOMAIR VACANCES » à transmettre par courrier à l’adresse \\nsuivante  : Homair Vacances,  Service  ADV -Immeuble Le Derby, 570 avenue  du Club Hippique, CS \\n20405, 13097 Aix -en-Provence cedex 02, FRANCE;  \\nJoindre au courrier le papillon présent sur la confirmation de Réservation reçue.   \\n \\n- Chèques -Vacances Connect (CV Connect)  : ce mode de paiement est accessible via l’application \\nmobile de paiement Chèque -Vacances\", metadata={'source': 'pdfs/Homair-FR.pdf', 'page': '4', 'title': 'ARTICLE 8 - PAIEMENTS  ', 'chunk': '27', 'score': 0.781256914138794}),\n",
       " Document(page_content='ARTICLE 1 0- MODIFICATION  \\nDispositions générales  La Société rappelle que le Client ayant procédé à la commande ou à la \\nRéservation est le seul interlocuteur responsable vis -à-vis de la Société.  \\nLes Clients ayant réservé avec une offre de leur CSE sont invités à se rapprocher de ce dernier afin \\nde connaître les modalités de modifications de séjour.  \\n \\nModification émanant du Client  Toute demande de modification d’une commande ou d’une \\nRéservation doit être  effectuée : \\n• - Par téléphone  : auprès de nos équipes de réservation et via les numéros suivants (coût d’un appel \\nlocal) :  \\npour Homair Vacances  au 04.84.39.08.60  ou +33 4 84 39 08 60 (depuis l’étranger)  \\npour Tohapi au 04. 30.63.38.71  ou +33 4 30 63 38 71 (depuis l’étranger)  \\n• - Par email à l’adresse email annulations@tohapi.fr  \\n● - Par notre formulaire de contact  : disponible sur nos Sites Internet . \\n \\nTout séjour commencé est dû en totalité. Aucun dédommagement n’est consenti en cas d’arrivée \\ndifférée ou de départ anticipé.  \\n \\nToute demande de modification d’une Réservation est étudiée par la Société et peut être acceptée \\nou refusée dans la mesure des disponibilités au cours de la même année civile que le séjour initial.  \\n \\nSi la modification n’est pas acceptée, le Client doit effectuer son séjour dans les conditions initiales \\nou l’annuler', metadata={'source': 'pdfs/Homair-FR.pdf', 'page': '5', 'title': 'ARTICLE 1 0- MODIFICATION  ', 'chunk': '40', 'score': 0.7468421459197998}),\n",
       " Document(page_content='.  \\n• les frais de dossiers  \\no réduits dans le cadre d’un paiement “digital”;  \\no standards pour tous les autres modes de paiement;  \\n• les activités payantes proposées par le Camping (à régler sur place) ;  les frais appliqués à \\ncertains participants au séjour :  \\no Animaux (selon les règles et tarifs appliqués par les Campings);  \\no Visiteurs (selon les règles et tarifs appliqués par les Campings);  \\n• les frais de transport / de déplacement  ; \\n• les é quipements pour bébé . \\n \\nDéfinition des prix et du tarif du séjour  Les prix des Hébergements ou Emplacements, des options, \\ndes services additionnels et des frais sont librement fixés par la Société. Ils peuvent être différents \\npour des prestations semblables, selon les dates de séjour, les Campings, les dates à laquelle le Client \\neffectue sa commande , les Supports Publicitaires…  \\n \\nLe “montant total du séjour” est celui qui est communiqué au Client au moment de sa Réservation , \\nsous réserve de validation de la disponibilité de la prestation, sur le Site i nternet ou lors de la prise \\nd’une Réservation  par notre centrale de réservations. Tout prix défini antérieurement à la \\nRéservation  (par exemple sur le Catalogue) et tout changement de prix postérieur à la Réservation  \\n(par exemple lors de campagnes promotionnelles) sont sans effet sur le “montant total du séjour”.  \\n \\nLorsque le Client demande un devis, la validité de ce dernier est indiquée sur le devis  sous réserves \\nde disponibilités', metadata={'source': 'pdfs/Homair-FR.pdf', 'page': '3', 'title': 'ARTICLE 7 - PRIX  ', 'chunk': '23', 'score': 0.7465106248855591})]"
      ]
     },
     "execution_count": 28,
     "metadata": {},
     "output_type": "execute_result"
    }
   ],
   "source": [
    "# Test whether search from vector store is working\n",
    "me.similarity_search(\"moyens de réserver un séjour\", k=4)"
   ]
  },
  {
   "cell_type": "markdown",
   "id": "502b3c14-0bfe-4c3b-93c1-a0e9697175ce",
   "metadata": {},
   "source": [
    "# Set chatbot"
   ]
  },
  {
   "cell_type": "markdown",
   "id": "059cd99e-0462-4b8f-99b0-9c106d77e8e9",
   "metadata": {},
   "source": [
    "##### - set template"
   ]
  },
  {
   "cell_type": "code",
   "execution_count": 29,
   "id": "caa2e77d-aa45-4a11-8f5f-b3cdb22b4750",
   "metadata": {
    "tags": []
   },
   "outputs": [],
   "source": [
    "from langchain.prompts import PromptTemplate\n",
    "template = \"\"\"SYSTEM: You are an intelligent assistant helping the users with their questions on papers related to laws conditions and always cite the article that you're referring to.\n",
    "\n",
    "Question: {question}\n",
    "\n",
    "Strictly Use ONLY the following pieces of context to answer the question at the end. Think step-by-step and then answer.\n",
    "\n",
    "Do not try to make up an answer:\n",
    " - If the answer to the question cannot be determined from the context alone, say \"I cannot determine the answer to that.\"\n",
    " - If the context is empty, just say \"I do not know the answer to that.\"\n",
    "\n",
    "=============\n",
    "{context}\n",
    "=============\n",
    "\n",
    "Question: {question}\n",
    "Helpful Answer:\"\"\""
   ]
  },
  {
   "cell_type": "code",
   "execution_count": 30,
   "id": "c3106429-4f6e-496f-8947-c93258e16d2a",
   "metadata": {
    "tags": []
   },
   "outputs": [],
   "source": [
    "QA_CHAIN_PROMPT = PromptTemplate.from_template(template)"
   ]
  },
  {
   "cell_type": "markdown",
   "id": "5050e371-02c4-40af-9be7-24dfc9c62948",
   "metadata": {},
   "source": [
    "##### - set memory"
   ]
  },
  {
   "cell_type": "code",
   "execution_count": 31,
   "id": "a66224c9-fa55-4da5-a8c9-99fd3b202e71",
   "metadata": {
    "tags": []
   },
   "outputs": [],
   "source": [
    "# Set memory\n",
    "from langchain.memory import ConversationBufferMemory\n",
    "memory = ConversationBufferMemory(\n",
    "    memory_key=f\"chat_history\",\n",
    "    return_messages=True,\n",
    "     output_key='answer'\n",
    ")"
   ]
  },
  {
   "cell_type": "markdown",
   "id": "5a8eebb1-8645-4e59-82b9-8a0b9e957181",
   "metadata": {},
   "source": [
    "##### - set vertex matching engine as retriever"
   ]
  },
  {
   "cell_type": "code",
   "execution_count": 32,
   "id": "fe423ea2-3cfb-4728-b29d-86351dba0ba9",
   "metadata": {
    "tags": []
   },
   "outputs": [],
   "source": [
    "# Create chain to answer questions\n",
    "NUMBER_OF_RESULTS = 5\n",
    "SEARCH_DISTANCE_THRESHOLD = 0.6\n",
    "\n",
    "# Expose index to the retriever\n",
    "retriever = me.as_retriever(\n",
    "    search_type=\"similarity\",\n",
    "    search_kwargs={\n",
    "        \"k\": NUMBER_OF_RESULTS,\n",
    "        \"search_distance\": SEARCH_DISTANCE_THRESHOLD,\n",
    "    },\n",
    "    filters=None,\n",
    ")"
   ]
  },
  {
   "cell_type": "markdown",
   "id": "6e0ecfe1-48f6-47c2-931c-4c5598af5326",
   "metadata": {},
   "source": [
    "##### - set llm"
   ]
  },
  {
   "cell_type": "code",
   "execution_count": 38,
   "id": "494faf87-62a2-49ba-813a-d47c940bd674",
   "metadata": {
    "tags": []
   },
   "outputs": [],
   "source": [
    "from langchain.llms import VertexAI"
   ]
  },
  {
   "cell_type": "code",
   "execution_count": 40,
   "id": "5cd7647e-3341-413b-9627-070042455fa2",
   "metadata": {
    "tags": []
   },
   "outputs": [],
   "source": [
    "llm = VertexAI(\n",
    "    model_name=\"text-bison@002\",\n",
    "    max_output_tokens=1024,\n",
    "    temperature=0.2,\n",
    "    top_p=0.8,\n",
    "    top_k=40,\n",
    "    verbose=True,\n",
    ")"
   ]
  },
  {
   "cell_type": "markdown",
   "id": "b4399bfe-00ad-4e31-b904-c97161f65509",
   "metadata": {},
   "source": [
    "##### - chatbot"
   ]
  },
  {
   "cell_type": "code",
   "execution_count": 34,
   "id": "e34c9bdc-b50f-432c-9179-74c7593543c4",
   "metadata": {
    "tags": []
   },
   "outputs": [],
   "source": [
    "from langchain.chains import ConversationalRetrievalChain"
   ]
  },
  {
   "cell_type": "code",
   "execution_count": 44,
   "id": "6fa4ce90-5355-4aa0-b9ab-54d9631eb95a",
   "metadata": {
    "tags": []
   },
   "outputs": [],
   "source": [
    "qa = ConversationalRetrievalChain.from_llm(\n",
    "        llm=llm, \n",
    "        retriever=retriever,\n",
    "        memory=memory,\n",
    "        combine_docs_chain_kwargs={\"prompt\": QA_CHAIN_PROMPT},\n",
    "        return_source_documents=True,\n",
    "        return_generated_question=True #to solve error\n",
    "    )"
   ]
  },
  {
   "cell_type": "markdown",
   "id": "25aa1a71-390b-4f0c-aae6-1c691c17d81d",
   "metadata": {},
   "source": [
    "##### - test"
   ]
  },
  {
   "cell_type": "code",
   "execution_count": null,
   "id": "6d5dce8a-cce7-4ae6-9cbf-8bccc43f7c75",
   "metadata": {
    "tags": []
   },
   "outputs": [],
   "source": [
    "qa({\"question\": \"What are the methods to reserve a stay?\"})['answer']"
   ]
  }
 ],
 "metadata": {
  "environment": {
   "kernel": "conda-root-py",
   "name": "workbench-notebooks.m119",
   "type": "gcloud",
   "uri": "us-docker.pkg.dev/deeplearning-platform-release/gcr.io/workbench-notebooks:m119"
  },
  "kernelspec": {
   "display_name": "Python 3 (ipykernel) (Local)",
   "language": "python",
   "name": "conda-root-py"
  },
  "language_info": {
   "codemirror_mode": {
    "name": "ipython",
    "version": 3
   },
   "file_extension": ".py",
   "mimetype": "text/x-python",
   "name": "python",
   "nbconvert_exporter": "python",
   "pygments_lexer": "ipython3",
   "version": "3.10.14"
  }
 },
 "nbformat": 4,
 "nbformat_minor": 5
}
