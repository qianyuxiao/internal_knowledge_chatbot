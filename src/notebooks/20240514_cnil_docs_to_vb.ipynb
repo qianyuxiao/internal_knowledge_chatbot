{
 "cells": [
  {
   "cell_type": "code",
   "execution_count": 1,
   "id": "1fceac46",
   "metadata": {},
   "outputs": [
    {
     "name": "stdout",
     "output_type": "stream",
     "text": [
      "Copying gs://dpo_cnil/me_parameters/dpo_cnil_me.json...\n",
      "/ [1 files][  385.0 B/  385.0 B]                                                \n",
      "Operation completed over 1 objects/385.0 B.                                      \n"
     ]
    }
   ],
   "source": [
    "!gsutil cp gs://dpo_cnil/me_parameters/dpo_cnil_me.json ../vector_store_me_parameters/"
   ]
  },
  {
   "cell_type": "code",
   "execution_count": 1,
   "id": "9bd8be6b",
   "metadata": {},
   "outputs": [],
   "source": [
    "import sys\n",
    "\n",
    "# Add the directory to sys.path\n",
    "sys.path.append('/home/qianyucazelles/internal_knowledge_chatbot/src')\n",
    "from utils.doc_to_vertex_search import *\n",
    "from utils.general_utils import *\n",
    "\n",
    "from langchain.document_loaders import PyPDFLoader\n",
    "from langchain_community.document_loaders import UnstructuredPDFLoader\n",
    "import os"
   ]
  },
  {
   "cell_type": "code",
   "execution_count": 4,
   "id": "32b81147",
   "metadata": {},
   "outputs": [],
   "source": [
    "import nltk\n",
    "def nb_tokens(text):\n",
    "    return len(nltk.word_tokenize(text))"
   ]
  },
  {
   "cell_type": "code",
   "execution_count": 3,
   "id": "b82229b4",
   "metadata": {},
   "outputs": [],
   "source": [
    "def load_pdf_to_langchain_doc(\n",
    "    pdf_path,\n",
    "    unstructure_loader: bool=False):\n",
    "    \n",
    "    if unstructure_loader:\n",
    "        print(\"Using unstrucure loader\")\n",
    "        loader = UnstructuredPDFLoader(f'{pdf_path}')\n",
    "    else:\n",
    "        loader = PyPDFLoader(f'{pdf_path}')\n",
    "    doc = loader.load()\n",
    "    \n",
    "    return doc"
   ]
  },
  {
   "cell_type": "code",
   "execution_count": 7,
   "id": "4a47886f",
   "metadata": {},
   "outputs": [
    {
     "name": "stdout",
     "output_type": "stream",
     "text": [
      "'CHAPITRE I - Dispositions générales.pdf'\n",
      "'CHAPITRE II - Principes _ CNIL.pdf'\n",
      "'CHAPITRE III - Droits de la personne concernée _ CNIL.pdf'\n",
      "'CHAPITRE IV - Responsable du traitement et sous-traitant _ CNIL.pdf'\n",
      "'CHAPITRE IX - Dispositions relatives à des situations particulières de traitement _ CNIL.pdf'\n",
      "'CHAPITRE V - Transferts de données à caractère personnel vers des pays tiers ou à des organisations internationales _ CNIL.pdf'\n",
      "'CHAPITRE VI - Autorités de contrôle indépendantes _ CNIL.pdf'\n",
      "'CHAPITRE VII - Coopération et cohérence _ CNIL.pdf'\n",
      "'CHAPITRE VIII - Voies de recours, responsabilité et sanctions _ CNIL.pdf'\n",
      "\"CHAPITRE X - Actes délégués et actes d'exécution _ CNIL.pdf\"\n",
      "'CHAPITRE XI - Dispositions finales _ CNIL.pdf'\n"
     ]
    }
   ],
   "source": [
    "!ls ../documents/ecg_dpo/CNIL/"
   ]
  },
  {
   "cell_type": "code",
   "execution_count": 4,
   "id": "1def249e",
   "metadata": {},
   "outputs": [],
   "source": [
    "doc = load_pdf_to_langchain_doc('../documents/ecg_dpo/CNIL/CHAPITRE XI - Dispositions finales _ CNIL.pdf')"
   ]
  },
  {
   "cell_type": "code",
   "execution_count": 7,
   "id": "6c14dd56",
   "metadata": {},
   "outputs": [
    {
     "data": {
      "text/plain": [
       "3"
      ]
     },
     "execution_count": 7,
     "metadata": {},
     "output_type": "execute_result"
    }
   ],
   "source": [
    "len(doc)"
   ]
  },
  {
   "cell_type": "code",
   "execution_count": 5,
   "id": "a7a15830",
   "metadata": {},
   "outputs": [
    {
     "name": "stderr",
     "output_type": "stream",
     "text": [
      "Created a chunk of size 1569, which is longer than the specified 1500\n"
     ]
    },
    {
     "data": {
      "text/plain": [
       "[Document(page_content=\"4/15/24, 9:58 AM CHAPITRE XI - Dispositions finales | CNIL\\nhttps://www.cnil.fr/fr/reglement-europeen-protection-donnees/chapitre11 1/31.\\n2.CHAPITRE XI - Dispositions ﬁnales\\nArticle 94 - Abrogation de la directive 95/46/CE\\nLa directive 95/46/CE est abrogée avec effet au 25 mai 2018.\\nLes références faites à la directive abrogée s'entendent comme faites au présent règlement. Les références\\nfaites au groupe de protection des personnes à l'égard du traitement des données à caractère personnel\\ninstitué par l'article 29 de la directive 95/46/CE s'entendent comme faites au comité européen de la\\nprotection des données institué par le présent règlement.\\nArticle 95 - Relation avec la directive 2002/58/CEArticle 94 - Abrogation de la directive 95/46/CE \\nArticle 95 - Relation avec la directive 2002/58/CE \\nArticle 96 - Relation avec les accords conclus antérieurement \\nArticle 97 - Rapports de la Commission. \\nArticle 98 - Réexamen d'autres actes juridiques de l'Union relatifs à la\\nprotection des données \\nArticle 99 - Entrée en vigueur et application\\n \\n \\nLe présent règlement n'impose pas d'obligations supplémentaires aux personnes physiques ou morales quant\\nau traitement dans le cadre de la fourniture de services de communications électroniques accessibles au public\\nsur les réseaux publics de communications dans l'Union en ce qui concerne les aspects pour lesquels elles sont\\nsoumises à des obligations spécifiques ayant le même objectif énoncées dans la directive 2002/58/CE.\", metadata={'source': '../documents/ecg_dpo/CNIL/CHAPITRE XI - Dispositions finales _ CNIL.pdf', 'page': 0, 'chunk': 0}),\n",
       " Document(page_content=\"4/15/24, 9:58 AM CHAPITRE XI - Dispositions finales | CNIL\\nhttps://www.cnil.fr/fr/reglement-europeen-protection-donnees/chapitre11 2/31.\\n2.\\n3.\\n4.\\n5.Article 96 - Relation avec les accords conclus antérieurement\\nArticle 97 - Rapports de la Commission\\nAu plus tard le 25 mai 2020 et tous les quatre ans par la suite, la Commission présente au Parlement\\neuropéen et au Conseil un rapport sur l'évaluation et le réexamen du présent règlement. Ces rapports sont\\npubliés.\\nDans le cadre des évaluations et réexamens visés au paragraphe 1, la Commission examine, en particulier,\\nl'application et le fonctionnement du:\\nAux fins du paragraphe 1, la Commission peut demander des informations aux États membres et aux\\nautorités de contrôle.\\nLorsqu'elle procède aux évaluations et réexamens visés aux paragraphes 1 et 2, la Commission tient\\ncompte des positions et des conclusions du Parlement européen, du Conseil, et d'autres organismes ou\\nsources pertinents.\\nLa Commission soumet, si nécessaire, des propositions appropriées visant à modifier le présent règlement,\\nnotamment en tenant compte de l'évolution des technologies de l'information et à la lumière de l'état\\nd'avancement de la société de l'information.Les accords internationaux impliquant le transfert de données à caractère personnel vers des pays tiers ou à\\ndes organisations internationales qui ont été conclus par les États membres avant le 24 mai 2016 et qui\\nrespectent le droit de l'Union tel qu'il est applicable avant cette date restent en vigueur jusqu'à leur\\nmodification, leur remplacement ou leur révocation.\", metadata={'source': '../documents/ecg_dpo/CNIL/CHAPITRE XI - Dispositions finales _ CNIL.pdf', 'page': 1, 'chunk': 0}),\n",
       " Document(page_content=\"a) chapitre V sur le transfert de données à caractère personnel vers des pays tiers ou à des\\norganisations internationales, en particulier en ce qui concerne les décisions adoptées en vertu de\\nl'article 45, paragraphe 3 du présent règlement, et des décisions adoptées sur la base de l'article 25,\\nparagraphe 6, de la directive 95/46/CE;\\nb) chapitre VII sur la coopération et la cohérence.\", metadata={'source': '../documents/ecg_dpo/CNIL/CHAPITRE XI - Dispositions finales _ CNIL.pdf', 'page': 1, 'chunk': 1}),\n",
       " Document(page_content=\"4/15/24, 9:58 AM CHAPITRE XI - Dispositions finales | CNIL\\nhttps://www.cnil.fr/fr/reglement-europeen-protection-donnees/chapitre11 3/31.\\n2.Article 98 - Réexamen d'autres actes juridiques de l'Union relatifs à la protection des\\ndonnées\\nArticle 99 - Entrée en vigueur et application\\nLe présent règlement entre en vigueur le vingtième jour suivant celui de sa publication au Journal officiel\\nde l'Union européenne.\\nIl est applicable à partir du 25 mai 2018.La Commission présente, au besoin, des propositions législatives en vue de modifier d'autres actes juridiques\\nde l'Union relatifs à la protection des données à caractère personnel, afin d'assurer une protection uniforme et\\ncohérente des personnes physiques à l'égard du traitement. Cela concerne en particulier les règles relatives à la\\nprotection des personnes physiques à l'égard du traitement par des institutions, organes et organismes de\\nl'Union et à la libre circulation de ces données.\\n \\n \\nLe présent règlement est obligatoire dans tous ses éléments et directement applicable dans tout État membre.\\n \\n \\nFait à Bruxelles, le 27 avril 2016.\\nPar le Parlement européen\\nLe président\\nM. SCHULZ\\nPar le Conseil\\nLe président\\nJ.A. HENNIS-PLASSCHAERT\", metadata={'source': '../documents/ecg_dpo/CNIL/CHAPITRE XI - Dispositions finales _ CNIL.pdf', 'page': 2, 'chunk': 0})]"
      ]
     },
     "execution_count": 5,
     "metadata": {},
     "output_type": "execute_result"
    }
   ],
   "source": [
    "doc_to_chunk(doc, recusive=False)"
   ]
  },
  {
   "cell_type": "code",
   "execution_count": 8,
   "id": "78dc1244",
   "metadata": {},
   "outputs": [
    {
     "data": {
      "text/plain": [
       "[Document(page_content=\"4/15/24, 9:58 AM CHAPITRE XI - Dispositions finales | CNIL\\nhttps://www.cnil.fr/fr/reglement-europeen-protection-donnees/chapitre11 1/31.\\n2.CHAPITRE XI - Dispositions ﬁnales\\nArticle 94 - Abrogation de la directive 95/46/CE\\nLa directive 95/46/CE est abrogée avec effet au 25 mai 2018.\\nLes références faites à la directive abrogée s'entendent comme faites au présent règlement\", metadata={'source': '../documents/ecg_dpo/CNIL/CHAPITRE XI - Dispositions finales _ CNIL.pdf', 'page': 0, 'chunk': 0}),\n",
       " Document(page_content=\". Les références\\nfaites au groupe de protection des personnes à l'égard du traitement des données à caractère personnel\\ninstitué par l'article 29 de la directive 95/46/CE s'entendent comme faites au comité européen de la\\nprotection des données institué par le présent règlement.\\nArticle 95 - Relation avec la directive 2002/58/CEArticle 94 - Abrogation de la directive 95/46/CE\", metadata={'source': '../documents/ecg_dpo/CNIL/CHAPITRE XI - Dispositions finales _ CNIL.pdf', 'page': 0, 'chunk': 1}),\n",
       " Document(page_content=\"Article 95 - Relation avec la directive 2002/58/CE \\nArticle 96 - Relation avec les accords conclus antérieurement \\nArticle 97 - Rapports de la Commission. \\nArticle 98 - Réexamen d'autres actes juridiques de l'Union relatifs à la\\nprotection des données \\nArticle 99 - Entrée en vigueur et application\", metadata={'source': '../documents/ecg_dpo/CNIL/CHAPITRE XI - Dispositions finales _ CNIL.pdf', 'page': 0, 'chunk': 2}),\n",
       " Document(page_content=\"Le présent règlement n'impose pas d'obligations supplémentaires aux personnes physiques ou morales quant\\nau traitement dans le cadre de la fourniture de services de communications électroniques accessibles au public\\nsur les réseaux publics de communications dans l'Union en ce qui concerne les aspects pour lesquels elles sont\\nsoumises à des obligations spécifiques ayant le même objectif énoncées dans la directive 2002/58/CE.\", metadata={'source': '../documents/ecg_dpo/CNIL/CHAPITRE XI - Dispositions finales _ CNIL.pdf', 'page': 0, 'chunk': 3}),\n",
       " Document(page_content=\"4/15/24, 9:58 AM CHAPITRE XI - Dispositions finales | CNIL\\nhttps://www.cnil.fr/fr/reglement-europeen-protection-donnees/chapitre11 2/31.\\n2.\\n3.\\n4.\\n5.Article 96 - Relation avec les accords conclus antérieurement\\nArticle 97 - Rapports de la Commission\\nAu plus tard le 25 mai 2020 et tous les quatre ans par la suite, la Commission présente au Parlement\\neuropéen et au Conseil un rapport sur l'évaluation et le réexamen du présent règlement. Ces rapports sont\\npubliés\", metadata={'source': '../documents/ecg_dpo/CNIL/CHAPITRE XI - Dispositions finales _ CNIL.pdf', 'page': 1, 'chunk': 0}),\n",
       " Document(page_content=\".\\nDans le cadre des évaluations et réexamens visés au paragraphe 1, la Commission examine, en particulier,\\nl'application et le fonctionnement du:\\nAux fins du paragraphe 1, la Commission peut demander des informations aux États membres et aux\\nautorités de contrôle.\\nLorsqu'elle procède aux évaluations et réexamens visés aux paragraphes 1 et 2, la Commission tient\\ncompte des positions et des conclusions du Parlement européen, du Conseil, et d'autres organismes ou\\nsources pertinents\", metadata={'source': '../documents/ecg_dpo/CNIL/CHAPITRE XI - Dispositions finales _ CNIL.pdf', 'page': 1, 'chunk': 1}),\n",
       " Document(page_content=\".\\nLa Commission soumet, si nécessaire, des propositions appropriées visant à modifier le présent règlement,\\nnotamment en tenant compte de l'évolution des technologies de l'information et à la lumière de l'état\\nd'avancement de la société de l'information\", metadata={'source': '../documents/ecg_dpo/CNIL/CHAPITRE XI - Dispositions finales _ CNIL.pdf', 'page': 1, 'chunk': 2}),\n",
       " Document(page_content=\".Les accords internationaux impliquant le transfert de données à caractère personnel vers des pays tiers ou à\\ndes organisations internationales qui ont été conclus par les États membres avant le 24 mai 2016 et qui\\nrespectent le droit de l'Union tel qu'il est applicable avant cette date restent en vigueur jusqu'à leur\\nmodification, leur remplacement ou leur révocation.\", metadata={'source': '../documents/ecg_dpo/CNIL/CHAPITRE XI - Dispositions finales _ CNIL.pdf', 'page': 1, 'chunk': 3}),\n",
       " Document(page_content=\"a) chapitre V sur le transfert de données à caractère personnel vers des pays tiers ou à des\\norganisations internationales, en particulier en ce qui concerne les décisions adoptées en vertu de\\nl'article 45, paragraphe 3 du présent règlement, et des décisions adoptées sur la base de l'article 25,\\nparagraphe 6, de la directive 95/46/CE;\\nb) chapitre VII sur la coopération et la cohérence.\", metadata={'source': '../documents/ecg_dpo/CNIL/CHAPITRE XI - Dispositions finales _ CNIL.pdf', 'page': 1, 'chunk': 4}),\n",
       " Document(page_content=\"4/15/24, 9:58 AM CHAPITRE XI - Dispositions finales | CNIL\\nhttps://www.cnil.fr/fr/reglement-europeen-protection-donnees/chapitre11 3/31.\\n2.Article 98 - Réexamen d'autres actes juridiques de l'Union relatifs à la protection des\\ndonnées\\nArticle 99 - Entrée en vigueur et application\\nLe présent règlement entre en vigueur le vingtième jour suivant celui de sa publication au Journal officiel\\nde l'Union européenne.\\nIl est applicable à partir du 25 mai 2018\", metadata={'source': '../documents/ecg_dpo/CNIL/CHAPITRE XI - Dispositions finales _ CNIL.pdf', 'page': 2, 'chunk': 0}),\n",
       " Document(page_content=\".La Commission présente, au besoin, des propositions législatives en vue de modifier d'autres actes juridiques\\nde l'Union relatifs à la protection des données à caractère personnel, afin d'assurer une protection uniforme et\\ncohérente des personnes physiques à l'égard du traitement. Cela concerne en particulier les règles relatives à la\\nprotection des personnes physiques à l'égard du traitement par des institutions, organes et organismes de\\nl'Union et à la libre circulation de ces données.\", metadata={'source': '../documents/ecg_dpo/CNIL/CHAPITRE XI - Dispositions finales _ CNIL.pdf', 'page': 2, 'chunk': 1}),\n",
       " Document(page_content='Le présent règlement est obligatoire dans tous ses éléments et directement applicable dans tout État membre.\\n \\n \\nFait à Bruxelles, le 27 avril 2016.\\nPar le Parlement européen\\nLe président\\nM. SCHULZ\\nPar le Conseil\\nLe président\\nJ.A. HENNIS-PLASSCHAERT', metadata={'source': '../documents/ecg_dpo/CNIL/CHAPITRE XI - Dispositions finales _ CNIL.pdf', 'page': 2, 'chunk': 2})]"
      ]
     },
     "execution_count": 8,
     "metadata": {},
     "output_type": "execute_result"
    }
   ],
   "source": [
    "doc_to_chunk(doc, recusive=True, chunk_size= 500,chunk_overlap=20)"
   ]
  },
  {
   "cell_type": "code",
   "execution_count": 19,
   "id": "e5746eb7",
   "metadata": {},
   "outputs": [],
   "source": [
    "def pdf_to_vector_search(\n",
    "    pdf_path,\n",
    "    me,\n",
    "    unstructure_loader: bool=False,\n",
    "    split_to_article: bool=False\n",
    "):\n",
    "    print_with_time(f\"Process file:{pdf_path} \")\n",
    "    \n",
    "    #load pages\n",
    "    pages = load_pdf_to_langchain_doc(pdf_path,unstructure_loader)\n",
    "    \n",
    "    print_with_line(f\"len of pages:{len(pages)}\")\n",
    "    \n",
    "    #split to article\n",
    "    if split_to_article:\n",
    "        articles = split_pages_into_artiles(pages)\n",
    "        doc_splits = doc_to_chunk(articles, recusive=True, chunk_size= 500,chunk_overlap=20)\n",
    "    else:\n",
    "        doc_splits = doc_to_chunk(pages, recusive=True, chunk_size= 500,chunk_overlap=20)\n",
    "        \n",
    "\n",
    "    print_with_line(f\"n splits:{len(doc_splits)}\")\n",
    "    \n",
    "    #add to vector store\n",
    "    doc_ids = add_splits_to_vector_store(doc_splits,me)\n",
    "    \n",
    "    \n",
    "    #log process\n",
    "    if len(doc_ids)>0:\n",
    "        \n",
    "        print_with_line(f\"Added to vector store with {len(doc_ids)} ids.\")\n",
    "        \n",
    "        with open(\"../add_docs_to_vectorstore_logs/processed_pdfs.txt\", \"a\") as f:\n",
    "            f.write(f\"'{pdf_path}',\\n\")\n",
    "        with open(\"../add_docs_to_vectorstore_logs/processed_pdfs_doc_ids.txt\", \"a\") as f:\n",
    "            f.write(f\"'{pdf_path}': {doc_ids},\\n\")\n",
    "        \n",
    "    else:\n",
    "        \n",
    "        print_with_star(\"No doc ids returned\")\n",
    "        \n",
    "        with open(f\"../add_docs_to_vectorstore_logs/unprocessed_pdfs.txt\", \"a\") as f:\n",
    "            f.write(f\"'{pdf_path}',\" + \"\\n\")\n",
    "            \n",
    "    return doc_ids"
   ]
  },
  {
   "cell_type": "code",
   "execution_count": 16,
   "id": "3b54c2b5",
   "metadata": {},
   "outputs": [],
   "source": [
    "def process_folder(me,CHATBOT_ID, folder_path, pdf_doc_ids, other_files):\n",
    "    try:\n",
    "        processed_pdfs = read_txt_to_list(\"../add_docs_to_vectorstore_logs/processed_pdfs.txt\") \n",
    "    except:\n",
    "        processed_pdfs = []    \n",
    "    for item in os.listdir(folder_path):\n",
    "        \n",
    "        item_path = os.path.join(folder_path, item)\n",
    "        print_with_time(f\"Scanning {item_path}\")\n",
    "        \n",
    "        if os.path.isdir(item_path):\n",
    "            \n",
    "            print_with_time(f\"{item_path} is folder, now go to new level\")\n",
    "            process_folder(me,CHATBOT_ID,item_path,pdf_doc_ids, other_files)\n",
    "            \n",
    "        elif item.lower().endswith('.pdf'):\n",
    "            if item not in processed_pdfs:\n",
    "                \n",
    "                print_with_time(f\"{item_path} is pdf, now process to vector store\")\n",
    "                try:\n",
    "                    \n",
    "                    doc_ids = pdf_to_vector_search(item_path,me)\n",
    "                    \n",
    "                except Exception as e:\n",
    "                    with open(f\"../add_docs_to_vectorstore_logs/unprocessed_pdfs.txt\", \"a\") as f:\n",
    "                        f.write(f\"'{item_path}',\" + \"\\n\")\n",
    "                    print_with_star(f\"An error occurred while processing {item_path}: {e}\")\n",
    "                    doc_ids=[]\n",
    "                pdf_doc_ids[item_path]=doc_ids\n",
    "            \n",
    "        else:\n",
    "            other_files.append(item_path)"
   ]
  },
  {
   "cell_type": "code",
   "execution_count": 17,
   "id": "9ea086f2",
   "metadata": {},
   "outputs": [],
   "source": [
    "def main(me,\n",
    "         CHATBOT_ID: str,\n",
    "         root_folder: str\n",
    "         ):\n",
    "    \n",
    "    pdf_data = {}\n",
    "    other_files = []\n",
    "    \n",
    "    process_folder(me,CHATBOT_ID,root_folder, pdf_data, other_files)\n",
    "    \n",
    "    # Writing PDF data to JSON file\n",
    "    pdf_output_file = f\"../add_docs_to_vectorstore_logs/{CHATBOT_ID}_pdf_doc_ids.json\"\n",
    "    with open(pdf_output_file, \"w\") as json_file:\n",
    "        json.dump(pdf_data, json_file, indent=4)\n",
    "    print(f\"PDF data has been written to {pdf_output_file}\")\n",
    "    \n",
    "    # Writing other files list to JSON file\n",
    "    other_output_file = f\"../add_docs_to_vectorstore_logs/{CHATBOT_ID}_non_pdf_files.json\"\n",
    "    with open(other_output_file, \"w\") as json_file:\n",
    "        json.dump(other_files, json_file, indent=4)\n",
    "    print(f\"Non-PDF files list has been written to {other_output_file}\")\n",
    "\n"
   ]
  },
  {
   "cell_type": "code",
   "execution_count": 13,
   "id": "b0a00153",
   "metadata": {},
   "outputs": [],
   "source": [
    "root_folder = f\"../documents/ecg_dpo/CNIL\""
   ]
  },
  {
   "cell_type": "code",
   "execution_count": 20,
   "id": "5b0d30dc",
   "metadata": {},
   "outputs": [
    {
     "name": "stdout",
     "output_type": "stream",
     "text": [
      "rm: cannot remove '../add_docs_to_vectorstore_logs/processed_pdfs.txt': No such file or directory\n"
     ]
    }
   ],
   "source": [
    "!rm ../add_docs_to_vectorstore_logs/processed_pdfs.txt"
   ]
  },
  {
   "cell_type": "code",
   "execution_count": 21,
   "id": "4f0b3842",
   "metadata": {},
   "outputs": [],
   "source": [
    "!rm ../add_docs_to_vectorstore_logs/unprocessed_pdfs.txt"
   ]
  },
  {
   "cell_type": "code",
   "execution_count": 22,
   "id": "ed4277e3",
   "metadata": {},
   "outputs": [
    {
     "name": "stderr",
     "output_type": "stream",
     "text": [
      "Model_name will become a required arg for VertexAIEmbeddings starting from Feb-01-2024. Currently the default is set to textembedding-gecko@001\n"
     ]
    },
    {
     "name": "stdout",
     "output_type": "stream",
     "text": [
      "[2024-05-14 12:39:03] Scanning ../documents/ecg_dpo/CNIL/CHAPITRE II - Principes _ CNIL.pdf\n",
      "[2024-05-14 12:39:03] ../documents/ecg_dpo/CNIL/CHAPITRE II - Principes _ CNIL.pdf is pdf, now process to vector store\n",
      "[2024-05-14 12:39:03] Process file:../documents/ecg_dpo/CNIL/CHAPITRE II - Principes _ CNIL.pdf \n",
      "----------------------------------------------------------------------------------------------------\n",
      "[2024-05-14 12:39:03] len of pages:7\n",
      "----------------------------------------------------------------------------------------------------\n",
      "[2024-05-14 12:39:03] n splits:33\n",
      "Waiting\n",
      "......successfully added to vector store with 33 new doc ids\n",
      "----------------------------------------------------------------------------------------------------\n",
      "[2024-05-14 12:39:11] Added to vector store with 33 ids.\n",
      "[2024-05-14 12:39:11] Scanning ../documents/ecg_dpo/CNIL/CHAPITRE I - Dispositions générales.pdf\n",
      "[2024-05-14 12:39:11] ../documents/ecg_dpo/CNIL/CHAPITRE I - Dispositions générales.pdf is pdf, now process to vector store\n",
      "[2024-05-14 12:39:11] Process file:../documents/ecg_dpo/CNIL/CHAPITRE I - Dispositions générales.pdf \n",
      "----------------------------------------------------------------------------------------------------\n",
      "[2024-05-14 12:39:12] len of pages:6\n",
      "----------------------------------------------------------------------------------------------------\n",
      "[2024-05-14 12:39:12] n splits:20\n",
      "Waiting\n",
      "...successfully added to vector store with 20 new doc ids\n",
      "----------------------------------------------------------------------------------------------------\n",
      "[2024-05-14 12:39:16] Added to vector store with 20 ids.\n",
      "[2024-05-14 12:39:16] Scanning ../documents/ecg_dpo/CNIL/CHAPITRE XI - Dispositions finales _ CNIL.pdf\n",
      "[2024-05-14 12:39:16] ../documents/ecg_dpo/CNIL/CHAPITRE XI - Dispositions finales _ CNIL.pdf is pdf, now process to vector store\n",
      "[2024-05-14 12:39:16] Process file:../documents/ecg_dpo/CNIL/CHAPITRE XI - Dispositions finales _ CNIL.pdf \n",
      "----------------------------------------------------------------------------------------------------\n",
      "[2024-05-14 12:39:16] len of pages:3\n",
      "----------------------------------------------------------------------------------------------------\n",
      "[2024-05-14 12:39:16] n splits:12\n",
      "Waiting\n",
      "..successfully added to vector store with 12 new doc ids\n",
      "----------------------------------------------------------------------------------------------------\n",
      "[2024-05-14 12:39:19] Added to vector store with 12 ids.\n",
      "[2024-05-14 12:39:19] Scanning ../documents/ecg_dpo/CNIL/CHAPITRE V - Transferts de données à caractère personnel vers des pays tiers ou à des organisations internationales _ CNIL.pdf\n",
      "[2024-05-14 12:39:19] ../documents/ecg_dpo/CNIL/CHAPITRE V - Transferts de données à caractère personnel vers des pays tiers ou à des organisations internationales _ CNIL.pdf is pdf, now process to vector store\n",
      "[2024-05-14 12:39:19] Process file:../documents/ecg_dpo/CNIL/CHAPITRE V - Transferts de données à caractère personnel vers des pays tiers ou à des organisations internationales _ CNIL.pdf \n",
      "----------------------------------------------------------------------------------------------------\n",
      "[2024-05-14 12:39:19] len of pages:9\n",
      "----------------------------------------------------------------------------------------------------\n",
      "[2024-05-14 12:39:19] n splits:48\n",
      "Waiting\n",
      ".........successfully added to vector store with 48 new doc ids\n",
      "----------------------------------------------------------------------------------------------------\n",
      "[2024-05-14 12:39:29] Added to vector store with 48 ids.\n",
      "[2024-05-14 12:39:29] Scanning ../documents/ecg_dpo/CNIL/CHAPITRE VII - Coopération et cohérence _ CNIL.pdf\n",
      "[2024-05-14 12:39:29] ../documents/ecg_dpo/CNIL/CHAPITRE VII - Coopération et cohérence _ CNIL.pdf is pdf, now process to vector store\n",
      "[2024-05-14 12:39:29] Process file:../documents/ecg_dpo/CNIL/CHAPITRE VII - Coopération et cohérence _ CNIL.pdf \n",
      "----------------------------------------------------------------------------------------------------\n",
      "[2024-05-14 12:39:30] len of pages:15\n",
      "----------------------------------------------------------------------------------------------------\n",
      "[2024-05-14 12:39:30] n splits:86\n",
      "Waiting\n",
      ".................successfully added to vector store with 86 new doc ids\n",
      "----------------------------------------------------------------------------------------------------\n",
      "[2024-05-14 12:39:47] Added to vector store with 86 ids.\n",
      "[2024-05-14 12:39:47] Scanning ../documents/ecg_dpo/CNIL/CHAPITRE VI - Autorités de contrôle indépendantes _ CNIL.pdf\n",
      "[2024-05-14 12:39:47] ../documents/ecg_dpo/CNIL/CHAPITRE VI - Autorités de contrôle indépendantes _ CNIL.pdf is pdf, now process to vector store\n",
      "[2024-05-14 12:39:47] Process file:../documents/ecg_dpo/CNIL/CHAPITRE VI - Autorités de contrôle indépendantes _ CNIL.pdf \n",
      "----------------------------------------------------------------------------------------------------\n",
      "[2024-05-14 12:39:48] len of pages:11\n",
      "----------------------------------------------------------------------------------------------------\n",
      "[2024-05-14 12:39:48] n splits:46\n",
      "Waiting\n",
      "........successfully added to vector store with 46 new doc ids\n",
      "----------------------------------------------------------------------------------------------------\n",
      "[2024-05-14 12:39:57] Added to vector store with 46 ids.\n",
      "[2024-05-14 12:39:57] Scanning ../documents/ecg_dpo/CNIL/CHAPITRE III - Droits de la personne concernée _ CNIL.pdf\n",
      "[2024-05-14 12:39:57] ../documents/ecg_dpo/CNIL/CHAPITRE III - Droits de la personne concernée _ CNIL.pdf is pdf, now process to vector store\n",
      "[2024-05-14 12:39:57] Process file:../documents/ecg_dpo/CNIL/CHAPITRE III - Droits de la personne concernée _ CNIL.pdf \n",
      "----------------------------------------------------------------------------------------------------\n",
      "[2024-05-14 12:39:58] len of pages:14\n",
      "----------------------------------------------------------------------------------------------------\n",
      "[2024-05-14 12:39:58] n splits:68\n",
      "Waiting\n",
      ".............successfully added to vector store with 68 new doc ids\n",
      "----------------------------------------------------------------------------------------------------\n",
      "[2024-05-14 12:40:12] Added to vector store with 68 ids.\n",
      "[2024-05-14 12:40:12] Scanning ../documents/ecg_dpo/CNIL/CHAPITRE VIII - Voies de recours, responsabilité et sanctions _ CNIL.pdf\n",
      "[2024-05-14 12:40:12] ../documents/ecg_dpo/CNIL/CHAPITRE VIII - Voies de recours, responsabilité et sanctions _ CNIL.pdf is pdf, now process to vector store\n",
      "[2024-05-14 12:40:12] Process file:../documents/ecg_dpo/CNIL/CHAPITRE VIII - Voies de recours, responsabilité et sanctions _ CNIL.pdf \n",
      "----------------------------------------------------------------------------------------------------\n",
      "[2024-05-14 12:40:12] len of pages:7\n",
      "----------------------------------------------------------------------------------------------------\n",
      "[2024-05-14 12:40:12] n splits:41\n",
      "Waiting\n",
      "........successfully added to vector store with 41 new doc ids\n",
      "----------------------------------------------------------------------------------------------------\n",
      "[2024-05-14 12:40:20] Added to vector store with 41 ids.\n",
      "[2024-05-14 12:40:20] Scanning ../documents/ecg_dpo/CNIL/CHAPITRE IX - Dispositions relatives à des situations particulières de traitement _ CNIL.pdf\n",
      "[2024-05-14 12:40:20] ../documents/ecg_dpo/CNIL/CHAPITRE IX - Dispositions relatives à des situations particulières de traitement _ CNIL.pdf is pdf, now process to vector store\n",
      "[2024-05-14 12:40:20] Process file:../documents/ecg_dpo/CNIL/CHAPITRE IX - Dispositions relatives à des situations particulières de traitement _ CNIL.pdf \n",
      "----------------------------------------------------------------------------------------------------\n",
      "[2024-05-14 12:40:21] len of pages:4\n",
      "----------------------------------------------------------------------------------------------------\n",
      "[2024-05-14 12:40:21] n splits:24\n",
      "Waiting\n",
      "....successfully added to vector store with 24 new doc ids\n",
      "----------------------------------------------------------------------------------------------------\n",
      "[2024-05-14 12:40:25] Added to vector store with 24 ids.\n",
      "[2024-05-14 12:40:25] Scanning ../documents/ecg_dpo/CNIL/CHAPITRE X - Actes délégués et actes d'exécution _ CNIL.pdf\n",
      "[2024-05-14 12:40:25] ../documents/ecg_dpo/CNIL/CHAPITRE X - Actes délégués et actes d'exécution _ CNIL.pdf is pdf, now process to vector store\n",
      "[2024-05-14 12:40:25] Process file:../documents/ecg_dpo/CNIL/CHAPITRE X - Actes délégués et actes d'exécution _ CNIL.pdf \n",
      "----------------------------------------------------------------------------------------------------\n",
      "[2024-05-14 12:40:25] len of pages:2\n",
      "----------------------------------------------------------------------------------------------------\n",
      "[2024-05-14 12:40:25] n splits:6\n",
      "Waiting\n",
      ".successfully added to vector store with 6 new doc ids\n",
      "----------------------------------------------------------------------------------------------------\n",
      "[2024-05-14 12:40:27] Added to vector store with 6 ids.\n",
      "[2024-05-14 12:40:27] Scanning ../documents/ecg_dpo/CNIL/CHAPITRE IV - Responsable du traitement et sous-traitant _ CNIL.pdf\n",
      "[2024-05-14 12:40:27] ../documents/ecg_dpo/CNIL/CHAPITRE IV - Responsable du traitement et sous-traitant _ CNIL.pdf is pdf, now process to vector store\n",
      "[2024-05-14 12:40:27] Process file:../documents/ecg_dpo/CNIL/CHAPITRE IV - Responsable du traitement et sous-traitant _ CNIL.pdf \n",
      "----------------------------------------------------------------------------------------------------\n",
      "[2024-05-14 12:40:29] len of pages:23\n",
      "----------------------------------------------------------------------------------------------------\n",
      "[2024-05-14 12:40:29] n splits:146\n",
      "Waiting\n",
      ".............................successfully added to vector store with 146 new doc ids\n",
      "----------------------------------------------------------------------------------------------------\n",
      "[2024-05-14 12:40:58] Added to vector store with 146 ids.\n",
      "PDF data has been written to ../add_docs_to_vectorstore_logs/ecg_cnil_pdf_doc_ids.json\n",
      "Non-PDF files list has been written to ../add_docs_to_vectorstore_logs/ecg_cnil_non_pdf_files.json\n"
     ]
    }
   ],
   "source": [
    "if __name__ == \"__main__\":\n",
    "    CHATBOT_ID = \"ecg_cnil\"\n",
    "    # root_folder = f\"../documents/{CHATBOT_ID}/\"\n",
    "    # get embeddings\n",
    "    embeddings = get_embeddings()\n",
    "\n",
    "    #get parameters\n",
    "    parameters = get_me_parameters(f'../vector_store_me_parameters/{CHATBOT_ID}_me.json')\n",
    "\n",
    "    #get vector store\n",
    "    me = get_vector_store(parameters, embeddings)\n",
    "    \n",
    "    main(me,CHATBOT_ID,root_folder)"
   ]
  },
  {
   "cell_type": "code",
   "execution_count": 1,
   "id": "de2f4a3e",
   "metadata": {},
   "outputs": [
    {
     "data": {
      "text/plain": [
       "'textembedding-gecko-multilingual@001'"
      ]
     },
     "execution_count": 1,
     "metadata": {},
     "output_type": "execute_result"
    }
   ],
   "source": [
    "\"textembedding-gecko-multilingual@001\""
   ]
  },
  {
   "cell_type": "code",
   "execution_count": 2,
   "id": "24d75f35",
   "metadata": {},
   "outputs": [],
   "source": [
    "from langchain.embeddings import VertexAIEmbeddings"
   ]
  },
  {
   "cell_type": "code",
   "execution_count": 3,
   "id": "20ef7838",
   "metadata": {},
   "outputs": [
    {
     "name": "stderr",
     "output_type": "stream",
     "text": [
      "/home/qianyucazelles/internal_knowledge_chatbot/venv/lib/python3.10/site-packages/langchain_core/_api/deprecation.py:117: LangChainDeprecationWarning: The class `langchain_community.embeddings.vertexai.VertexAIEmbeddings` was deprecated in langchain-community 0.0.12 and will be removed in 0.2.0. An updated version of the class exists in the langchain-google-vertexai package and should be used instead. To use it run `pip install -U langchain-google-vertexai` and import as `from langchain_google_vertexai import VertexAIEmbeddings`.\n",
      "  warn_deprecated(\n",
      "2024-05-14 13:27:06.111763: I tensorflow/core/platform/cpu_feature_guard.cc:210] This TensorFlow binary is optimized to use available CPU instructions in performance-critical operations.\n",
      "To enable the following instructions: AVX2 FMA, in other operations, rebuild TensorFlow with the appropriate compiler flags.\n"
     ]
    },
    {
     "data": {
      "text/plain": [
       "VertexAIEmbeddings(project=None, location='us-central1', request_parallelism=5, max_retries=6, stop=None, model_name='textembedding-gecko-multilingual@001', client=<vertexai.language_models.TextEmbeddingModel object at 0x7fa37b426950>, client_preview=None, temperature=0.0, max_output_tokens=128, top_p=0.95, top_k=40, credentials=None, n=1, streaming=False, instance={'max_batch_size': 250, 'batch_size': 250, 'min_batch_size': 5, 'min_good_batch_size': 5, 'lock': <unlocked _thread.lock object at 0x7fa3a53cc540>, 'batch_size_validated': False, 'task_executor': <concurrent.futures.thread.ThreadPoolExecutor object at 0x7fa3799e6140>, 'embeddings_task_type_supported': True}, show_progress_bar=False)"
      ]
     },
     "execution_count": 3,
     "metadata": {},
     "output_type": "execute_result"
    }
   ],
   "source": []
  }
 ],
 "metadata": {
  "environment": {
   "kernel": "conda-root-py",
   "name": "workbench-notebooks.m119",
   "type": "gcloud",
   "uri": "us-docker.pkg.dev/deeplearning-platform-release/gcr.io/workbench-notebooks:m119"
  },
  "kernelspec": {
   "display_name": "Python 3 (ipykernel)",
   "language": "python",
   "name": "python3"
  },
  "language_info": {
   "codemirror_mode": {
    "name": "ipython",
    "version": 3
   },
   "file_extension": ".py",
   "mimetype": "text/x-python",
   "name": "python",
   "nbconvert_exporter": "python",
   "pygments_lexer": "ipython3",
   "version": "3.10.13"
  }
 },
 "nbformat": 4,
 "nbformat_minor": 5
}
