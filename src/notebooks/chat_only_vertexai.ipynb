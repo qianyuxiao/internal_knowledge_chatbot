{
 "cells": [
  {
   "cell_type": "code",
   "execution_count": 1,
   "id": "78cff29f-1fe2-4ce3-8306-b1a97903b7dc",
   "metadata": {
    "tags": []
   },
   "outputs": [],
   "source": [
    "import numpy as np\n",
    "import json"
   ]
  },
  {
   "cell_type": "code",
   "execution_count": 27,
   "id": "95dec805",
   "metadata": {},
   "outputs": [],
   "source": [
    "# Set credentials\n",
    "# gcloud auth application-default login"
   ]
  },
  {
   "cell_type": "markdown",
   "id": "7e551f47-f620-4b69-bbf4-c24a6e2c9e76",
   "metadata": {},
   "source": [
    "# Vertex parameters"
   ]
  },
  {
   "cell_type": "code",
   "execution_count": 1,
   "id": "025d33b8-0d34-457b-97c2-06faaff41733",
   "metadata": {},
   "outputs": [],
   "source": [
    "from utils.doc_to_vertex_search import get_me_parameters\n",
    "file_path = \"me_parameters.json\"\n",
    "parameters =  get_me_parameters(file_path)"
   ]
  },
  {
   "cell_type": "code",
   "execution_count": 2,
   "id": "019fbf30",
   "metadata": {},
   "outputs": [],
   "source": [
    "PROJECT_ID = parameters['PROJECT_ID']\n",
    "LOCATION = parameters['LOCATION']\n",
    "CHATBOT_NAME = parameters['CHATBOT_NAME']\n",
    "ME_INDEX_ID = parameters['ME_INDEX_ID']\n",
    "ME_INDEX_ENDPOINT_ID = parameters['ME_INDEX_ENDPOINT_ID']\n",
    "ME_INDEX_NAME = parameters['ME_INDEX_NAME']\n",
    "ME_EMBEDDING_DIR = parameters['ME_EMBEDDING_DIR']\n",
    "ME_DIMENSIONS = parameters['ME_DIMENSIONS']"
   ]
  },
  {
   "cell_type": "code",
   "execution_count": 34,
   "id": "f82ebf7e",
   "metadata": {},
   "outputs": [
    {
     "data": {
      "text/plain": [
       "'ecg-ai-416210'"
      ]
     },
     "execution_count": 34,
     "metadata": {},
     "output_type": "execute_result"
    }
   ],
   "source": [
    "PROJECT_ID"
   ]
  },
  {
   "cell_type": "code",
   "execution_count": 35,
   "id": "8c498635",
   "metadata": {},
   "outputs": [
    {
     "data": {
      "text/plain": [
       "'europe-west1'"
      ]
     },
     "execution_count": 35,
     "metadata": {},
     "output_type": "execute_result"
    }
   ],
   "source": [
    "LOCATION"
   ]
  },
  {
   "cell_type": "markdown",
   "id": "b1f439b6-0930-4f0f-9e27-00808b29d52f",
   "metadata": {},
   "source": [
    "# Initiate Embeddings, vector store and retriever"
   ]
  },
  {
   "cell_type": "code",
   "execution_count": 3,
   "id": "7185e0b5-9391-4821-bf88-c2a21e13bdd5",
   "metadata": {
    "tags": []
   },
   "outputs": [
    {
     "name": "stderr",
     "output_type": "stream",
     "text": [
      "2024-04-04 09:52:31.758833: I tensorflow/core/platform/cpu_feature_guard.cc:210] This TensorFlow binary is optimized to use available CPU instructions in performance-critical operations.\n",
      "To enable the following instructions: AVX2 FMA, in other operations, rebuild TensorFlow with the appropriate compiler flags.\n",
      "Model_name will become a required arg for VertexAIEmbeddings starting from Feb-01-2024. Currently the default is set to textembedding-gecko@001\n"
     ]
    }
   ],
   "source": [
    "# initiate embeddings\n",
    "from utils.custom_vertexai_embeddings import CustomVertexAIEmbeddings\n",
    "# Embeddings API integrated with langChain\n",
    "EMBEDDING_QPM = 100\n",
    "EMBEDDING_NUM_BATCH = 5\n",
    "embeddings = CustomVertexAIEmbeddings(\n",
    "    requests_per_minute=EMBEDDING_QPM,\n",
    "    num_instances_per_batch=EMBEDDING_NUM_BATCH,\n",
    ")"
   ]
  },
  {
   "cell_type": "code",
   "execution_count": 4,
   "id": "5fddb982-8d17-4ab9-81d9-77ef2a7ae7af",
   "metadata": {
    "tags": []
   },
   "outputs": [],
   "source": [
    "# initiate vector store\n",
    "from utils.matching_engine import MatchingEngine\n",
    "me = MatchingEngine.from_components(\n",
    "    project_id=PROJECT_ID,\n",
    "    region=LOCATION,\n",
    "    gcs_bucket_name=f\"gs://{ME_EMBEDDING_DIR}\".split(\"/\")[2],\n",
    "    embedding=embeddings,\n",
    "    index_id=ME_INDEX_ID,\n",
    "    endpoint_id=ME_INDEX_ENDPOINT_ID,\n",
    "    # credentials_path=credentials_path\n",
    ")"
   ]
  },
  {
   "cell_type": "code",
   "execution_count": 6,
   "id": "b506a427-5829-432b-92b2-7a51ddd2b79c",
   "metadata": {},
   "outputs": [],
   "source": [
    "# # Test whether search from vector store is working\n",
    "# me.similarity_search(\"moyens de réserver un séjour\", k=4)"
   ]
  },
  {
   "cell_type": "code",
   "execution_count": 5,
   "id": "23cad3f4-0020-4686-a257-0515baf3dd0f",
   "metadata": {
    "tags": []
   },
   "outputs": [],
   "source": [
    "# Expose index to the retriever\n",
    "NUMBER_OF_RESULTS = 2\n",
    "SEARCH_DISTANCE_THRESHOLD = 0.6\n",
    "\n",
    "retriever = me.as_retriever(\n",
    "    search_type=\"similarity\",\n",
    "    search_kwargs={\n",
    "        \"k\": NUMBER_OF_RESULTS,\n",
    "        \"search_distance\": SEARCH_DISTANCE_THRESHOLD,\n",
    "    },\n",
    "    filters=None,\n",
    ")"
   ]
  },
  {
   "cell_type": "code",
   "execution_count": 8,
   "id": "6cdcb5c0-8262-4ade-9679-177762930818",
   "metadata": {
    "tags": []
   },
   "outputs": [],
   "source": [
    "# qn = \"What're the methods to reserve a stay?\""
   ]
  },
  {
   "cell_type": "code",
   "execution_count": 9,
   "id": "c0ddfc1c-5483-4091-b808-057d42e07f78",
   "metadata": {
    "tags": []
   },
   "outputs": [],
   "source": [
    "# retriever.get_relevant_documents(qn)"
   ]
  },
  {
   "cell_type": "markdown",
   "id": "523e85ff-8606-4508-b8ce-7cb27dbeab1c",
   "metadata": {},
   "source": [
    "# Initiate llm"
   ]
  },
  {
   "cell_type": "markdown",
   "id": "55229255-9674-477f-9ebd-f789e1e70c34",
   "metadata": {},
   "source": [
    "https://python.langchain.com/docs/integrations/llms/google_vertex_ai_palm"
   ]
  },
  {
   "cell_type": "markdown",
   "id": "3322afe3-d7de-4e87-b94b-ad16c4e79276",
   "metadata": {},
   "source": [
    "https://cloud.google.com/vertex-ai/generative-ai/docs/model-reference/text-chat"
   ]
  },
  {
   "cell_type": "markdown",
   "id": "99bb1b76",
   "metadata": {},
   "source": [
    "## vertex llm"
   ]
  },
  {
   "cell_type": "code",
   "execution_count": 19,
   "id": "c7da337d-e0e3-4694-a50f-6dc8e874fa4f",
   "metadata": {
    "tags": []
   },
   "outputs": [],
   "source": [
    "from langchain.llms import VertexAI\n",
    "llm_vta = VertexAI(\n",
    "    model_name=\"text-bison@002\", # \"chat-bison-32k\", \"chat-bison@001\"\n",
    "    max_output_tokens=1024,\n",
    "    temperature=0.2,\n",
    "    top_p=0.8,\n",
    "    top_k=40,\n",
    "    verbose=True,\n",
    "    streaming = True\n",
    ")"
   ]
  },
  {
   "cell_type": "code",
   "execution_count": 7,
   "id": "251fa861",
   "metadata": {},
   "outputs": [],
   "source": [
    "# #https://python.langchain.com/docs/integrations/llms/google_vertex_ai_palm\n",
    "# from langchain_google_vertexai import VertexAIModelGarden\n",
    "# VERTEX_GARDEN_ENDPOINT_ID = \"5163099895850074112\"\n",
    "# llm_vertex_garden = VertexAIModelGarden(project=PROJECT_ID , endpoint_id=VERTEX_GARDEN_ENDPOINT_ID,location=LOCATION)"
   ]
  },
  {
   "cell_type": "code",
   "execution_count": 22,
   "id": "6698033b",
   "metadata": {},
   "outputs": [],
   "source": [
    "# from vertexai.preview.language_models import ChatModel\n",
    "# chat_model = ChatModel.from_pretrained(\"chat-bison@001\")\n"
   ]
  },
  {
   "cell_type": "markdown",
   "id": "c15205df-f2d0-420b-a0d4-2733bf064452",
   "metadata": {
    "tags": []
   },
   "source": [
    "# Initiate template"
   ]
  },
  {
   "cell_type": "code",
   "execution_count": 18,
   "id": "6d4b66f3-482d-41d3-b8ea-7c63e6ccfc1f",
   "metadata": {
    "tags": []
   },
   "outputs": [],
   "source": [
    "# from langchain.prompts import PromptTemplate\n",
    "# template = \"\"\"SYSTEM: You are an intelligent assistant helping the users with their questions on papers related to laws conditions and always cite the article that you're referring to.\n",
    "# Please alway reply at the same language that question uses.\n",
    "\n",
    "# Question: {question}\n",
    "\n",
    "# Strictly Use ONLY the following pieces of context to answer the question at the end. Think step-by-step and then answer.\n",
    "\n",
    "# Do not try to make up an answer:\n",
    "#  - If the answer to the question cannot be determined from the context alone, say \"I cannot determine the answer to that.\"\n",
    "#  - If the context is empty, just say \"I do not know the answer to that.\"\n",
    "\n",
    "# =============\n",
    "# {context}\n",
    "# =============\n",
    "\n",
    "# Question: {question}\n",
    "# Helpful Answer:\"\"\"\n",
    "# QA_CHAIN_PROMPT = PromptTemplate.from_template(template)"
   ]
  },
  {
   "cell_type": "code",
   "execution_count": 27,
   "id": "71d7f46e-e114-4cd2-94ce-1a79d9d7a812",
   "metadata": {
    "tags": []
   },
   "outputs": [],
   "source": [
    "# # Build prompt\n",
    "# from langchain.prompts import PromptTemplate\n",
    "# template = \"\"\"Use the following pieces of context to answer the question at the end. If you don't know the answer, just say that you don't know, don't try to make up an answer, and ask user to try to ask in another way. Use three sentences maximum. Keep the answer as concise as possible.  \n",
    "# {context}\n",
    "# Question: {question}\n",
    "# Helpful Answer:\"\"\"\n",
    "# QA_CHAIN_PROMPT = PromptTemplate(input_variables=[\"context\", \"question\"],template=template,)"
   ]
  },
  {
   "cell_type": "code",
   "execution_count": 90,
   "id": "58f483e1",
   "metadata": {},
   "outputs": [],
   "source": [
    "#ref: https://github.com/ArmaanSeth/ChatPDF/blob/main/app.py\n",
    "from langchain.prompts import PromptTemplate\n",
    "custom_template = \"\"\"Given the following conversation and a follow up question, if the follow up question is a question and is relevant to chat history, rephrase the follow up question to be a standalone question, in its original language. \n",
    "If the follow up question is not a question or not relevant to chat history, please keep original question as Standalone question instead.\n",
    "\n",
    "Chat History:\n",
    "{chat_history}\n",
    "Follow Up Input: {question}\n",
    "Standalone question:\"\"\"\n",
    "\n",
    "QA_CHAIN_PROMPT = PromptTemplate.from_template(custom_template)\n",
    "\n",
    "#If the follow up question is not a question or not relevant to previous conversation, please keep original question as Standalone question instead."
   ]
  },
  {
   "cell_type": "markdown",
   "id": "670061d7-9631-421e-91f1-1e45550a321c",
   "metadata": {},
   "source": [
    "# Initiate memory"
   ]
  },
  {
   "cell_type": "code",
   "execution_count": 91,
   "id": "94cbe334-6ba9-4150-b604-00423cc3da39",
   "metadata": {
    "tags": []
   },
   "outputs": [],
   "source": [
    "# Set memory\n",
    "from langchain.memory import ConversationBufferMemory\n",
    "memory = ConversationBufferMemory(\n",
    "    memory_key=f\"chat_history\",\n",
    "    return_messages=True,\n",
    "    output_key='answer'\n",
    ")"
   ]
  },
  {
   "cell_type": "markdown",
   "id": "5eaa19a4-5485-4db0-b8ad-c597917dc73d",
   "metadata": {},
   "source": [
    "# Set chatbot"
   ]
  },
  {
   "cell_type": "code",
   "execution_count": 92,
   "id": "0b80f569-d774-488a-a948-d4e782850e57",
   "metadata": {
    "tags": []
   },
   "outputs": [],
   "source": [
    "from langchain.chains import ConversationalRetrievalChain"
   ]
  },
  {
   "cell_type": "code",
   "execution_count": 15,
   "id": "300cbb25",
   "metadata": {},
   "outputs": [],
   "source": [
    "# from langchain.prompts import PromptTemplate\n",
    "# template = \"\"\"Given the following conversation and a follow-up question, rephrase the follow-up question to be a standalone question, in its original English.\n",
    "#                         Chat History:\n",
    "#                         {chat_history}\n",
    "#                         Follow-Up Input: {question}\n",
    "#                         Standalone question:\"\"\"\n",
    "# CUSTOM_QUESTION_PROMPT = PromptTemplate(input_variables=[\"question\", \"chat_history\"],template=template)"
   ]
  },
  {
   "cell_type": "code",
   "execution_count": 93,
   "id": "ba3c6d0b-f08d-4399-879a-0600dc541f90",
   "metadata": {
    "tags": []
   },
   "outputs": [],
   "source": [
    "qa = ConversationalRetrievalChain.from_llm(\n",
    "        llm=llm_vta, #llm_vta, \n",
    "        retriever=retriever,\n",
    "        memory=memory,\n",
    "        condense_question_prompt=QA_CHAIN_PROMPT ,\n",
    "        # combine_docs_chain_kwargs={\"prompt\": QA_CHAIN_PROMPT}, #QA_CHAIN_PROMPT \n",
    "        return_source_documents=True,\n",
    "        return_generated_question=True #to solve error\n",
    "    )"
   ]
  },
  {
   "cell_type": "markdown",
   "id": "aac2fc00-ece1-481b-9b78-33874e112e04",
   "metadata": {},
   "source": [
    "# Test"
   ]
  },
  {
   "cell_type": "code",
   "execution_count": 94,
   "id": "608e961e-e816-423f-a215-b13da8719560",
   "metadata": {
    "tags": []
   },
   "outputs": [],
   "source": [
    "memory.clear()"
   ]
  },
  {
   "cell_type": "code",
   "execution_count": 95,
   "id": "bbd43e6c-3589-4c13-b4ac-ee708de4e238",
   "metadata": {
    "tags": []
   },
   "outputs": [
    {
     "name": "stdout",
     "output_type": "stream",
     "text": [
      "Waiting\n"
     ]
    },
    {
     "data": {
      "text/plain": [
       "{'question': 'What are the methods to reserve a stay?',\n",
       " 'chat_history': [HumanMessage(content='What are the methods to reserve a stay?'),\n",
       "  AIMessage(content=' The four ways to reserve a stay are:\\n- By phone\\n- Online\\n- By email\\n- On-site (only for Homair Vacances campsites)')],\n",
       " 'answer': ' The four ways to reserve a stay are:\\n- By phone\\n- Online\\n- By email\\n- On-site (only for Homair Vacances campsites)',\n",
       " 'source_documents': [Document(page_content='.  \\n \\nModalités de Réservation  Il existe quatre moyens de réserver un séjour :  \\n \\n• -Par téléphone  : auprès de nos équipes de réservation et via les numéros suivants (coût d’un appel \\nlocal) :  \\n• pour Homair Vacances  au 04.84.39.08.60  \\n• pour Tohapi au 04.48.20.20.20  ou +33 4 48 20 20 20 (depuis l’étranger)  \\n \\n• -Par Internet  : sur les Sites internet de la Société.  \\n \\n• -Par mail  : via les formulaire s de contact suivants  : \\n• pour Homair Vacances  : https://contact.homair.com/hc/fr/requests/new  \\n• pour Tohapi  :  reservations@tohapi.fr   \\n• pour Marvilla Parks  : https://contact.marvilla -parks.com/hc/fr/requests/new   \\n \\n• Sur place  : exclusivement pour les Campings Homair Vacances , auprès de l’accueil du Camping.  \\n \\nLa Réservation d’un séjour s’effectue selon les étapes  suivantes :  \\n \\n1)  Le Client sélectionne le Camping de son choix selon son descriptif.  \\n2) Le Client sélectionne la durée du séjour, la date de départ, le nombre de participants/occupants \\net le type d’Hébergement ou Emplacement.  \\n3) Le Client a la possibilité de renseigner les avantages, s’il en a reçu, en indiquant les codes \\ncorrespondant (code partenaire/code promotion).  \\n4) Le Client indique également s’il souhaite souscrire à l’assurance annulation et réserver d’autres \\noptions proposées par la Société', metadata={'source': 'pdfs/Homair-FR.pdf', 'page': '2', 'title': 'ARTICLE 6 - COMMANDE ET RÉSERVATION  ', 'chunk': '12', 'score': 0.8124911785125732}),\n",
       "  Document(page_content=\"2/7 \\n • for Homair Vacances on 04.84.39.08.60  \\n• for Tohapi on 04.48.20.20.20 or +33 4 48 20 20 20 (from abroad)  \\n \\n• - Internet : on the Company's websites.  \\n \\n• - By email: via the following contact forms:  \\n• for Homair Vacances: https://contact.homair.com/hc/fr/requests/new  \\n• for Tohapi:   reservations@tohapi.fr   \\n• for Marvilla Parks:  https://contact.marvilla -parks.com/hc/fr/requests/new   \\n \\n• On site : exclusively for Homair Vacances Campsites, at the Campsite reception desk.  \\n \\nThe Reservation of a holiday involves the following steps:  \\n \\n1)  The Customer selects the Campsite of their choice according to its description.  \\n2) The Customer selects the length of stay, the departure date, the number of participants/occupants \\nand the type of Accommodation or Pitch.  \\n3) The Customer can enter the benefits they have received, if any, by entering the corresponding \\ncodes (partner code/promotion code).  \\n4) The Customer may also indicate whether they wish to take out cancellation insurance and reserve \\nother options offered by the Company.  \\n5) The Customer must provide all the information required:  \\n- To the telephone advisor for telephone bookings.  \\n- By completing the mandatory fields (marked with an asterisk) on the Reservation form on the \\nWebsites in the case of online Reservations.  \\n6) The Customer is booking in the name and on behalf of all the beneficiaries (participants in the \\nholiday) that they enter\", metadata={'source': 'pdfs/en/General Terms and Conditions for Rental_en.pdf', 'page': '2', 'title': 'ARTICLE 6 - ORDERS AND RESERVATIONS  ', 'chunk': '2', 'score': 0.7650408744812012})],\n",
       " 'generated_question': 'What are the methods to reserve a stay?'}"
      ]
     },
     "execution_count": 95,
     "metadata": {},
     "output_type": "execute_result"
    }
   ],
   "source": [
    "qa({\"question\": \"What are the methods to reserve a stay?\"})"
   ]
  },
  {
   "cell_type": "code",
   "execution_count": 96,
   "id": "31f58cfa",
   "metadata": {},
   "outputs": [
    {
     "name": "stdout",
     "output_type": "stream",
     "text": [
      "Waiting\n"
     ]
    },
    {
     "data": {
      "text/plain": [
       "{'question': 'can you reply above in french?',\n",
       " 'chat_history': [HumanMessage(content='What are the methods to reserve a stay?'),\n",
       "  AIMessage(content=' The four ways to reserve a stay are:\\n- By phone\\n- Online\\n- By email\\n- On-site (only for Homair Vacances campsites)'),\n",
       "  HumanMessage(content='can you reply above in french?'),\n",
       "  AIMessage(content=\" ARTICLE 3 - LOI APPLICABLE ET JURIDICTION COMPÉTENTE\\n\\nLes présentes Conditions Générales et plus généralement le Contrat de location sont régis par la loi française.\\n\\nLes présentes Conditions Générales ont été rédigées en langue française puis traduites dans différentes versions linguistiques. Pour leur interprétation en cas de litige, seul le texte en langue française fait foi, les versions traduites étant produites à titre informatif.\\n\\nDans l'hypothèse où l'une des clauses des présentes Conditions Générales serait déclarée nulle et non avenue cela ne saurait en aucun cas affecter la validité et le respect des autres clauses qui demeureront pleinement applicables\\n\\nTout litige ou toute contestation auxquels elles pourraient donner lieu, tant pour leur validité, que pour leur interprétation, leur exécution ou leur résiliation, sera porté par la partie la plus diligente devant les Tribunaux d’Aix-en-Provence (France) quel que soit le pays d’origine du Client, sauf dispositions d’ordre public, nonobstant pluralité de défendeurs ou appels en garantie, et ce même en cas de référé.\\n\\nToute demande de médiation doit être adressée dans les meilleurs délais à CM2C, soit en ligne sur le site internet www.cm2c.net, soit par courrier à l'adresse suivante : CM2C - 14 rue Saint Jean 75017 PARIS.\\n\\nEn application des dispositions de l’article 1368 du Code civil, il est expressément convenu que les données conservées dans le système d’information de la Société et/ou de ses partenaires ont force probante. Ainsi, les données sur support informatique ou électronique conservées, si elles sont produites comme moyen de preuve par la Société dans toute procédure contentieuse ou autre, seront recevables, valables et opposables entre les parties.\\n\\nAfin de pouvoir améliorer la qualité d’accueil de notre clientèle, nous vous informons que vos communications téléphoniques, avec nos collaborateurs, seront susceptibles d’être enregistrées.\")],\n",
       " 'answer': \" ARTICLE 3 - LOI APPLICABLE ET JURIDICTION COMPÉTENTE\\n\\nLes présentes Conditions Générales et plus généralement le Contrat de location sont régis par la loi française.\\n\\nLes présentes Conditions Générales ont été rédigées en langue française puis traduites dans différentes versions linguistiques. Pour leur interprétation en cas de litige, seul le texte en langue française fait foi, les versions traduites étant produites à titre informatif.\\n\\nDans l'hypothèse où l'une des clauses des présentes Conditions Générales serait déclarée nulle et non avenue cela ne saurait en aucun cas affecter la validité et le respect des autres clauses qui demeureront pleinement applicables\\n\\nTout litige ou toute contestation auxquels elles pourraient donner lieu, tant pour leur validité, que pour leur interprétation, leur exécution ou leur résiliation, sera porté par la partie la plus diligente devant les Tribunaux d’Aix-en-Provence (France) quel que soit le pays d’origine du Client, sauf dispositions d’ordre public, nonobstant pluralité de défendeurs ou appels en garantie, et ce même en cas de référé.\\n\\nToute demande de médiation doit être adressée dans les meilleurs délais à CM2C, soit en ligne sur le site internet www.cm2c.net, soit par courrier à l'adresse suivante : CM2C - 14 rue Saint Jean 75017 PARIS.\\n\\nEn application des dispositions de l’article 1368 du Code civil, il est expressément convenu que les données conservées dans le système d’information de la Société et/ou de ses partenaires ont force probante. Ainsi, les données sur support informatique ou électronique conservées, si elles sont produites comme moyen de preuve par la Société dans toute procédure contentieuse ou autre, seront recevables, valables et opposables entre les parties.\\n\\nAfin de pouvoir améliorer la qualité d’accueil de notre clientèle, nous vous informons que vos communications téléphoniques, avec nos collaborateurs, seront susceptibles d’être enregistrées.\",\n",
       " 'source_documents': [Document(page_content=\"ARTICLE 3 - LOI APPLICABLE ET JURIDICTION COMPÉTENTE   \\nLes présentes Conditions Générales et plus généralement le Contrat de location  sont régis par l a loi \\nfrançaise.  \\n \\nLes présentes Conditions Générales ont été rédigées en langue française puis traduites dans \\ndifférentes versions linguistiques. Pour leur interprétation en cas de litige, seul le texte en langue \\nfrançaise fait foi , les versions traduites étant produites à titre informatif.  \\n Dans l'hypothèse où l'une des clauses d es présentes Conditions Générales  serait déclarée nulle et \\nnon avenue cela ne saurait en aucun cas affecter la validité et le respect des autres clauses qui \\ndemeureront pleinement applicables  \\n \\nTout litige ou toute contestation auxquels elles pourraient donner lieu, tant pour leur validité, que \\npour leur interprétation, leur exécution ou leur ré siliation , sera porté par la partie la plus diligente \\ndevant les Tribunaux d’Aix -en-Provence (France)  quel  que soit le pays d’origine du Client , sauf \\ndispositions d’ordre public, nonobstant pluralité de défendeurs ou appels en garantie, et ce même \\nen cas de référé .\", metadata={'source': 'pdfs/Homair-FR.pdf', 'page': '1', 'title': 'ARTICLE 3 - LOI APPLICABLE ET JURIDICTION COMPÉTENTE   ', 'chunk': '5', 'score': 0.7084746360778809}),\n",
       "  Document(page_content=\". Toute demande de médiation doit ê tre adressée dans les meilleurs délais \\nà CM2C, soit en ligne sur le site internet www.cm2c.net, soit par courrier à l'adresse suivante : CM2C \\n- 14 rue Saint Jean 75017 PARIS.  \\n \\nEn application des dispositions de l’article 1368 du Code civil, il est expressément convenu que les \\ndonnées conservées dans le système d’information de la Société et/ou de ses partenaires ont force \\nprobante. Ainsi, les données sur support informatique ou électronique conservées, si elles sont \\nproduites comme moyen de preuve par la Société dans toute procédure contentieuse ou autre, \\nseront recevables, valables et opposables entre les parties.  \\n \\nAfin de pouvoir améliorer la qualité d’accueil de notre clientèle, nous vous informons que vos \\ncommunications téléphoniques, avec nos collaborateurs, seront susceptibles d’être enregistrées.\", metadata={'source': 'pdfs/Homair-FR.pdf', 'page': '7', 'title': 'ARTICLE 1 6 - RÉCLAMATION ET MÉDIATION  ', 'chunk': '68', 'score': 0.6847065091133118})],\n",
       " 'generated_question': ' Pouvez-vous répéter ce qui précède en français\\xa0?'}"
      ]
     },
     "execution_count": 96,
     "metadata": {},
     "output_type": "execute_result"
    }
   ],
   "source": [
    "qa({\"question\": \"can you reply above in french?\"})"
   ]
  },
  {
   "cell_type": "code",
   "execution_count": 50,
   "id": "8271cf82-96d4-4f7c-822b-35cc0667f93f",
   "metadata": {
    "tags": []
   },
   "outputs": [],
   "source": [
    "# memory.load_memory_variables({})"
   ]
  },
  {
   "cell_type": "code",
   "execution_count": 97,
   "id": "4e4682ed",
   "metadata": {},
   "outputs": [
    {
     "name": "stdout",
     "output_type": "stream",
     "text": [
      "Waiting\n"
     ]
    },
    {
     "data": {
      "text/plain": [
       "{'question': 'can you give more details?',\n",
       " 'chat_history': [HumanMessage(content='What are the methods to reserve a stay?'),\n",
       "  AIMessage(content=' The four ways to reserve a stay are:\\n- By phone\\n- Online\\n- By email\\n- On-site (only for Homair Vacances campsites)'),\n",
       "  HumanMessage(content='can you reply above in french?'),\n",
       "  AIMessage(content=\" ARTICLE 3 - LOI APPLICABLE ET JURIDICTION COMPÉTENTE\\n\\nLes présentes Conditions Générales et plus généralement le Contrat de location sont régis par la loi française.\\n\\nLes présentes Conditions Générales ont été rédigées en langue française puis traduites dans différentes versions linguistiques. Pour leur interprétation en cas de litige, seul le texte en langue française fait foi, les versions traduites étant produites à titre informatif.\\n\\nDans l'hypothèse où l'une des clauses des présentes Conditions Générales serait déclarée nulle et non avenue cela ne saurait en aucun cas affecter la validité et le respect des autres clauses qui demeureront pleinement applicables\\n\\nTout litige ou toute contestation auxquels elles pourraient donner lieu, tant pour leur validité, que pour leur interprétation, leur exécution ou leur résiliation, sera porté par la partie la plus diligente devant les Tribunaux d’Aix-en-Provence (France) quel que soit le pays d’origine du Client, sauf dispositions d’ordre public, nonobstant pluralité de défendeurs ou appels en garantie, et ce même en cas de référé.\\n\\nToute demande de médiation doit être adressée dans les meilleurs délais à CM2C, soit en ligne sur le site internet www.cm2c.net, soit par courrier à l'adresse suivante : CM2C - 14 rue Saint Jean 75017 PARIS.\\n\\nEn application des dispositions de l’article 1368 du Code civil, il est expressément convenu que les données conservées dans le système d’information de la Société et/ou de ses partenaires ont force probante. Ainsi, les données sur support informatique ou électronique conservées, si elles sont produites comme moyen de preuve par la Société dans toute procédure contentieuse ou autre, seront recevables, valables et opposables entre les parties.\\n\\nAfin de pouvoir améliorer la qualité d’accueil de notre clientèle, nous vous informons que vos communications téléphoniques, avec nos collaborateurs, seront susceptibles d’être enregistrées.\"),\n",
       "  HumanMessage(content='can you give more details?'),\n",
       "  AIMessage(content=\" Oui, il existe quatre moyens de réserver un séjour :\\n\\n- Par téléphone : auprès des équipes de réservation aux numéros suivants (coût d'un appel local) :\\n  - pour Homair Vacances : 04.84.39.08.60\\n  - pour Tohapi : 04.48.20.20.20 ou +33 4 48 20 20 20 (depuis l'étranger)\\n\\n- Par Internet : sur les sites internet de la Société.\\n\\n- Par mail : via les formulaires de contact suivants :\\n  - pour Homair Vacances : https://contact.homair.com/hc/fr/requests/new\\n  - pour Tohapi : reservations@tohapi.fr\\n  - pour Marvilla Parks : https://contact.marvilla-parks.com/hc/fr/requests/new\\n\\n- Sur place : exclusivement pour les Campings Homair Vacances, auprès de l'accueil du Camping.\")],\n",
       " 'answer': \" Oui, il existe quatre moyens de réserver un séjour :\\n\\n- Par téléphone : auprès des équipes de réservation aux numéros suivants (coût d'un appel local) :\\n  - pour Homair Vacances : 04.84.39.08.60\\n  - pour Tohapi : 04.48.20.20.20 ou +33 4 48 20 20 20 (depuis l'étranger)\\n\\n- Par Internet : sur les sites internet de la Société.\\n\\n- Par mail : via les formulaires de contact suivants :\\n  - pour Homair Vacances : https://contact.homair.com/hc/fr/requests/new\\n  - pour Tohapi : reservations@tohapi.fr\\n  - pour Marvilla Parks : https://contact.marvilla-parks.com/hc/fr/requests/new\\n\\n- Sur place : exclusivement pour les Campings Homair Vacances, auprès de l'accueil du Camping.\",\n",
       " 'source_documents': [Document(page_content='.  \\n \\nModalités de Réservation  Il existe quatre moyens de réserver un séjour :  \\n \\n• -Par téléphone  : auprès de nos équipes de réservation et via les numéros suivants (coût d’un appel \\nlocal) :  \\n• pour Homair Vacances  au 04.84.39.08.60  \\n• pour Tohapi au 04.48.20.20.20  ou +33 4 48 20 20 20 (depuis l’étranger)  \\n \\n• -Par Internet  : sur les Sites internet de la Société.  \\n \\n• -Par mail  : via les formulaire s de contact suivants  : \\n• pour Homair Vacances  : https://contact.homair.com/hc/fr/requests/new  \\n• pour Tohapi  :  reservations@tohapi.fr   \\n• pour Marvilla Parks  : https://contact.marvilla -parks.com/hc/fr/requests/new   \\n \\n• Sur place  : exclusivement pour les Campings Homair Vacances , auprès de l’accueil du Camping.  \\n \\nLa Réservation d’un séjour s’effectue selon les étapes  suivantes :  \\n \\n1)  Le Client sélectionne le Camping de son choix selon son descriptif.  \\n2) Le Client sélectionne la durée du séjour, la date de départ, le nombre de participants/occupants \\net le type d’Hébergement ou Emplacement.  \\n3) Le Client a la possibilité de renseigner les avantages, s’il en a reçu, en indiquant les codes \\ncorrespondant (code partenaire/code promotion).  \\n4) Le Client indique également s’il souhaite souscrire à l’assurance annulation et réserver d’autres \\noptions proposées par la Société', metadata={'source': 'pdfs/Homair-FR.pdf', 'page': '2', 'title': 'ARTICLE 6 - COMMANDE ET RÉSERVATION  ', 'chunk': '12', 'score': 0.8090395927429199}),\n",
       "  Document(page_content=\"ARTICLE 8 - PAIEMENTS  \\nDispositions Générales concernant les paiements   \\nDispositions Générales concernant les paiements . La Société met à disposition du Client différentes  \\nméthodes de paiement.  \\n \\nSi la commande a lieu 30 jours ou moins avant le début du séjour, l’intégralité des sommes dues \\ndoit être réglée immédiatement au moment de la commande.  \\n \\nSi la commande a lieu plus de 30 jours avant le début du séjour et que le Client choisit de payer en  \\nplusieurs fois, l’intégralité des sommes dues doit être réglée dans un délai maximum de 30 jours  \\navant la date d'arrivée. La Société se réserve le droit d’annuler la Réservation dans les conditions  \\nd’annulation décrites dans l’article “Annulation” des présentes Conditions Générales si l’intégralité  \\ndes sommes dues ne sont pas versées dans les délais impartis.  \\n Selon le mode de Réservation choisi, les moyens de paiement suivants sont acceptés :  \\n \\n- Carte bancaire  (CB) pour tous les types de Réservations.  \\n \\n- Chèque bancaire  libellé à l’ordre de « HOMAIR VACANCES » à transmettre par courrier à l’adresse \\nsuivante  : Homair Vacances,  Service  ADV -Immeuble Le Derby, 570 avenue  du Club Hippique, CS \\n20405, 13097 Aix -en-Provence cedex 02, FRANCE;  \\nJoindre au courrier le papillon présent sur la confirmation de Réservation reçue.   \\n \\n- Chèques -Vacances Connect (CV Connect)  : ce mode de paiement est accessible via l’application \\nmobile de paiement Chèque -Vacances\", metadata={'source': 'pdfs/Homair-FR.pdf', 'page': '4', 'title': 'ARTICLE 8 - PAIEMENTS  ', 'chunk': '27', 'score': 0.7939835786819458})],\n",
       " 'generated_question': \" Pouvez-vous donner plus de détails sur les méthodes de réservation d'un séjour ?\"}"
      ]
     },
     "execution_count": 97,
     "metadata": {},
     "output_type": "execute_result"
    }
   ],
   "source": [
    "qa({\"question\": \"can you give more details?\"})"
   ]
  },
  {
   "cell_type": "code",
   "execution_count": 98,
   "id": "2439c4b2-bd61-4485-8e47-c05683f1c2ed",
   "metadata": {
    "tags": []
   },
   "outputs": [
    {
     "name": "stdout",
     "output_type": "stream",
     "text": [
      "Waiting\n"
     ]
    },
    {
     "data": {
      "text/plain": [
       "{'question': 'can i bring a dog?',\n",
       " 'chat_history': [HumanMessage(content='What are the methods to reserve a stay?'),\n",
       "  AIMessage(content=' The four ways to reserve a stay are:\\n- By phone\\n- Online\\n- By email\\n- On-site (only for Homair Vacances campsites)'),\n",
       "  HumanMessage(content='can you reply above in french?'),\n",
       "  AIMessage(content=\" ARTICLE 3 - LOI APPLICABLE ET JURIDICTION COMPÉTENTE\\n\\nLes présentes Conditions Générales et plus généralement le Contrat de location sont régis par la loi française.\\n\\nLes présentes Conditions Générales ont été rédigées en langue française puis traduites dans différentes versions linguistiques. Pour leur interprétation en cas de litige, seul le texte en langue française fait foi, les versions traduites étant produites à titre informatif.\\n\\nDans l'hypothèse où l'une des clauses des présentes Conditions Générales serait déclarée nulle et non avenue cela ne saurait en aucun cas affecter la validité et le respect des autres clauses qui demeureront pleinement applicables\\n\\nTout litige ou toute contestation auxquels elles pourraient donner lieu, tant pour leur validité, que pour leur interprétation, leur exécution ou leur résiliation, sera porté par la partie la plus diligente devant les Tribunaux d’Aix-en-Provence (France) quel que soit le pays d’origine du Client, sauf dispositions d’ordre public, nonobstant pluralité de défendeurs ou appels en garantie, et ce même en cas de référé.\\n\\nToute demande de médiation doit être adressée dans les meilleurs délais à CM2C, soit en ligne sur le site internet www.cm2c.net, soit par courrier à l'adresse suivante : CM2C - 14 rue Saint Jean 75017 PARIS.\\n\\nEn application des dispositions de l’article 1368 du Code civil, il est expressément convenu que les données conservées dans le système d’information de la Société et/ou de ses partenaires ont force probante. Ainsi, les données sur support informatique ou électronique conservées, si elles sont produites comme moyen de preuve par la Société dans toute procédure contentieuse ou autre, seront recevables, valables et opposables entre les parties.\\n\\nAfin de pouvoir améliorer la qualité d’accueil de notre clientèle, nous vous informons que vos communications téléphoniques, avec nos collaborateurs, seront susceptibles d’être enregistrées.\"),\n",
       "  HumanMessage(content='can you give more details?'),\n",
       "  AIMessage(content=\" Oui, il existe quatre moyens de réserver un séjour :\\n\\n- Par téléphone : auprès des équipes de réservation aux numéros suivants (coût d'un appel local) :\\n  - pour Homair Vacances : 04.84.39.08.60\\n  - pour Tohapi : 04.48.20.20.20 ou +33 4 48 20 20 20 (depuis l'étranger)\\n\\n- Par Internet : sur les sites internet de la Société.\\n\\n- Par mail : via les formulaires de contact suivants :\\n  - pour Homair Vacances : https://contact.homair.com/hc/fr/requests/new\\n  - pour Tohapi : reservations@tohapi.fr\\n  - pour Marvilla Parks : https://contact.marvilla-parks.com/hc/fr/requests/new\\n\\n- Sur place : exclusivement pour les Campings Homair Vacances, auprès de l'accueil du Camping.\"),\n",
       "  HumanMessage(content='can i bring a dog?'),\n",
       "  AIMessage(content=' Oui, vous pouvez amener un chien, mais il doit être de catégorie 3 ou 4 et le camping doit accepter les chiens.')],\n",
       " 'answer': ' Oui, vous pouvez amener un chien, mais il doit être de catégorie 3 ou 4 et le camping doit accepter les chiens.',\n",
       " 'source_documents': [Document(page_content='6/7 \\n • - dogs in French categories one and two (according to legislation on the day of the Reservation) \\nare forbidden  \\n• - the Campsite rules must include the acceptance of dogs  \\n \\nThe Company reserves the right to refuse access to the Accommodation or Pitch if the Customer \\ndoes not meet the above conditions.  \\n \\nAny dog participating in a holiday is the responsibility of the Customer, who must abide by Campsite \\nrules (e.g. show the dog\\'s vaccination record, keep them on a lead, monitor what the dog is doing, \\nonly enter dog -friendly areas, keep out of \"no dogs\" are as, etc.).  \\n \\nThe company specifies that only one (1) dog per Reservation is accepted. All other types of animal \\n(including cats) are therefore not permitted.  \\n \\nThe Campsite may charge for any pets on the holiday. The rates in force at the Campsite on the arrival \\nday apply.  \\n \\nWater Parks and Optional Facilities  The Customer undertakes to respect and to ensure that the \\nparticipants occupying the Accommodation or Pitch respect the internal rules of the water park and \\nof the Campsite on which the Accommodation or Pitch is located.  \\n \\nThe Customer is hereby informed that :  \\n• - for reasons of hygiene, unless there is medical justification, access to the water park \\n(swimming pool, pools, etc', metadata={'source': 'pdfs/en/General Terms and Conditions for Rental_en.pdf', 'page': '6', 'title': 'ARTICLE 13 - HOLIDAYS  ', 'chunk': '6', 'score': 0.6657724380493164}),\n",
       "  Document(page_content=\". Elle a pour but d'assurer la \\npromotion nationale et internationale des marques de la Société sur l'ensemble de ses sites Internet, \\nses brochures, ses réseaux sociaux, ses présentations commerciales ou dans les guides touristiques  \\nSi un client se reconnait sur l'une des photos il peut en demander immédiatement le retrait en \\ncontactant la Société.   \\n \\nAnimaux  La Société informe qu’un  (1) seul chien par Réservation sera accepté et cela accompagné \\nde 2 conditions supplémentaires :  \\n• sont interdits les chiens de 1re et 2e catégories, au sens de la législation en vigueur au jour de \\nla Réservation;  \\n• le règlement intérieur du Camping accepte la présence de chiens.  \\n \\nLa Société se réserve le droit de refuser l’accès à l’Hébergement ou l’Emplacement si le Client ne \\nrespecte pas les conditions ci -dessus.  \\n \\nTout chien  participant au séjour est sous la responsabilité du Client et ce dernier doit se conformer \\nau règlement intérieur du Camping (ex: présentation d’un carnet de vaccination  à jour , circulation \\nen laisse, surveillance, zone autorisée / interdite…).  \\n \\nLa société précise que  seuls les chiens  en nombre d’un (1)  par Réservation  sont accepté s. En ce sens  \\ntout autre  catégorie d’ animal  (chat y compris ) sont interdit de séjour.  \\n \\nDes frais pourraient être collectés par le Camping pour la participation de tout animal au séjour. Ce \\nsont les tarifs en vigueur dans le Camping le jour de l’arrivée qui sont appliqués\", metadata={'source': 'pdfs/Homair-FR.pdf', 'page': '6', 'title': 'ARTICLE 1 3 - SÉJOUR  ', 'chunk': '58', 'score': 0.6632232666015625})],\n",
       " 'generated_question': ' Puis-je amener un chien\\xa0?'}"
      ]
     },
     "execution_count": 98,
     "metadata": {},
     "output_type": "execute_result"
    }
   ],
   "source": [
    "qa({\"question\": \"can i bring a dog?\"})"
   ]
  },
  {
   "cell_type": "code",
   "execution_count": 69,
   "id": "06091890",
   "metadata": {},
   "outputs": [
    {
     "name": "stdout",
     "output_type": "stream",
     "text": [
      "Waiting\n"
     ]
    },
    {
     "data": {
      "text/plain": [
       "{'question': 'all types of dog?',\n",
       " 'chat_history': [HumanMessage(content='What are the methods to reserve a stay?'),\n",
       "  AIMessage(content=' The four ways to reserve a stay are:\\n- By phone\\n- Online\\n- By email\\n- On-site (only for Homair Vacances campsites)'),\n",
       "  HumanMessage(content='can you reply above in french?'),\n",
       "  AIMessage(content=' Il existe quatre moyens de réserver un séjour\\xa0:  \\n \\n• Par téléphone  \\n• Par Internet  \\n• Par mail  \\n• Sur place'),\n",
       "  HumanMessage(content='can you give more details?'),\n",
       "  AIMessage(content=' Le contexte ne fournit pas de détails supplémentaires.'),\n",
       "  HumanMessage(content='can i bring a dog?'),\n",
       "  AIMessage(content=' Oui, vous pouvez amener un chien, mais il doit être de catégorie 3 ou 4 et le camping doit accepter les chiens.'),\n",
       "  HumanMessage(content='all types of dog?'),\n",
       "  AIMessage(content=' Non, seuls les chiens de catégorie 1 et 2 sont interdits.')],\n",
       " 'answer': ' Non, seuls les chiens de catégorie 1 et 2 sont interdits.',\n",
       " 'source_documents': [Document(page_content=\". Elle a pour but d'assurer la \\npromotion nationale et internationale des marques de la Société sur l'ensemble de ses sites Internet, \\nses brochures, ses réseaux sociaux, ses présentations commerciales ou dans les guides touristiques  \\nSi un client se reconnait sur l'une des photos il peut en demander immédiatement le retrait en \\ncontactant la Société.   \\n \\nAnimaux  La Société informe qu’un  (1) seul chien par Réservation sera accepté et cela accompagné \\nde 2 conditions supplémentaires :  \\n• sont interdits les chiens de 1re et 2e catégories, au sens de la législation en vigueur au jour de \\nla Réservation;  \\n• le règlement intérieur du Camping accepte la présence de chiens.  \\n \\nLa Société se réserve le droit de refuser l’accès à l’Hébergement ou l’Emplacement si le Client ne \\nrespecte pas les conditions ci -dessus.  \\n \\nTout chien  participant au séjour est sous la responsabilité du Client et ce dernier doit se conformer \\nau règlement intérieur du Camping (ex: présentation d’un carnet de vaccination  à jour , circulation \\nen laisse, surveillance, zone autorisée / interdite…).  \\n \\nLa société précise que  seuls les chiens  en nombre d’un (1)  par Réservation  sont accepté s. En ce sens  \\ntout autre  catégorie d’ animal  (chat y compris ) sont interdit de séjour.  \\n \\nDes frais pourraient être collectés par le Camping pour la participation de tout animal au séjour. Ce \\nsont les tarifs en vigueur dans le Camping le jour de l’arrivée qui sont appliqués\", metadata={'source': 'pdfs/Homair-FR.pdf', 'page': '6', 'title': 'ARTICLE 1 3 - SÉJOUR  ', 'chunk': '58', 'score': 0.6616494059562683}),\n",
       "  Document(page_content='6/7 \\n • - dogs in French categories one and two (according to legislation on the day of the Reservation) \\nare forbidden  \\n• - the Campsite rules must include the acceptance of dogs  \\n \\nThe Company reserves the right to refuse access to the Accommodation or Pitch if the Customer \\ndoes not meet the above conditions.  \\n \\nAny dog participating in a holiday is the responsibility of the Customer, who must abide by Campsite \\nrules (e.g. show the dog\\'s vaccination record, keep them on a lead, monitor what the dog is doing, \\nonly enter dog -friendly areas, keep out of \"no dogs\" are as, etc.).  \\n \\nThe company specifies that only one (1) dog per Reservation is accepted. All other types of animal \\n(including cats) are therefore not permitted.  \\n \\nThe Campsite may charge for any pets on the holiday. The rates in force at the Campsite on the arrival \\nday apply.  \\n \\nWater Parks and Optional Facilities  The Customer undertakes to respect and to ensure that the \\nparticipants occupying the Accommodation or Pitch respect the internal rules of the water park and \\nof the Campsite on which the Accommodation or Pitch is located.  \\n \\nThe Customer is hereby informed that :  \\n• - for reasons of hygiene, unless there is medical justification, access to the water park \\n(swimming pool, pools, etc', metadata={'source': 'pdfs/en/General Terms and Conditions for Rental_en.pdf', 'page': '6', 'title': 'ARTICLE 13 - HOLIDAYS  ', 'chunk': '6', 'score': 0.6373205184936523})],\n",
       " 'generated_question': ' Tous types de chiens\\xa0?'}"
      ]
     },
     "execution_count": 69,
     "metadata": {},
     "output_type": "execute_result"
    }
   ],
   "source": [
    "qa({\"question\": \"all types of dog?\"})"
   ]
  },
  {
   "cell_type": "code",
   "execution_count": 70,
   "id": "89609a20",
   "metadata": {},
   "outputs": [
    {
     "name": "stdout",
     "output_type": "stream",
     "text": [
      "Waiting\n"
     ]
    },
    {
     "data": {
      "text/plain": [
       "{'question': \"what if it's red\",\n",
       " 'chat_history': [HumanMessage(content='What are the methods to reserve a stay?'),\n",
       "  AIMessage(content=' The four ways to reserve a stay are:\\n- By phone\\n- Online\\n- By email\\n- On-site (only for Homair Vacances campsites)'),\n",
       "  HumanMessage(content='can you reply above in french?'),\n",
       "  AIMessage(content=' Il existe quatre moyens de réserver un séjour\\xa0:  \\n \\n• Par téléphone  \\n• Par Internet  \\n• Par mail  \\n• Sur place'),\n",
       "  HumanMessage(content='can you give more details?'),\n",
       "  AIMessage(content=' Le contexte ne fournit pas de détails supplémentaires.'),\n",
       "  HumanMessage(content='can i bring a dog?'),\n",
       "  AIMessage(content=' Oui, vous pouvez amener un chien, mais il doit être de catégorie 3 ou 4 et le camping doit accepter les chiens.'),\n",
       "  HumanMessage(content='all types of dog?'),\n",
       "  AIMessage(content=' Non, seuls les chiens de catégorie 1 et 2 sont interdits.'),\n",
       "  HumanMessage(content=\"what if it's red\"),\n",
       "  AIMessage(content=\" I don't know.\")],\n",
       " 'answer': \" I don't know.\",\n",
       " 'source_documents': [],\n",
       " 'generated_question': \" Et si c'est rouge ?\"}"
      ]
     },
     "execution_count": 70,
     "metadata": {},
     "output_type": "execute_result"
    }
   ],
   "source": [
    "qa({\"question\": \"what if it's red\"})"
   ]
  }
 ],
 "metadata": {
  "environment": {
   "kernel": "conda-root-py",
   "name": "workbench-notebooks.m119",
   "type": "gcloud",
   "uri": "us-docker.pkg.dev/deeplearning-platform-release/gcr.io/workbench-notebooks:m119"
  },
  "kernelspec": {
   "display_name": "Python 3 (ipykernel)",
   "language": "python",
   "name": "python3"
  },
  "language_info": {
   "codemirror_mode": {
    "name": "ipython",
    "version": 3
   },
   "file_extension": ".py",
   "mimetype": "text/x-python",
   "name": "python",
   "nbconvert_exporter": "python",
   "pygments_lexer": "ipython3",
   "version": "3.10.13"
  }
 },
 "nbformat": 4,
 "nbformat_minor": 5
}
